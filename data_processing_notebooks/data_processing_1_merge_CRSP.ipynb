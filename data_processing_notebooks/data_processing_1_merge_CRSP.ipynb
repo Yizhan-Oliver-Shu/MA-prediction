{
 "cells": [
  {
   "cell_type": "code",
   "execution_count": 1,
   "id": "79cabda9",
   "metadata": {},
   "outputs": [
    {
     "data": {
      "text/html": [
       "<style>.container { width:92% !important; }</style>"
      ],
      "text/plain": [
       "<IPython.core.display.HTML object>"
      ]
     },
     "metadata": {},
     "output_type": "display_data"
    }
   ],
   "source": [
    "from IPython.display import display, HTML\n",
    "display(HTML(\"<style>.container { width:92% !important; }</style>\"))\n",
    "\n",
    "%load_ext autoreload\n",
    "%autoreload 2\n",
    "import sys, os\n",
    "from os.path import expanduser\n",
    "## actions required!!!!!!!!!!!!!!!!!!!! change your folder path \n",
    "path = \"~/Documents/G3/MA-prediction\"\n",
    "path = expanduser(path)\n",
    "sys.path.append(path)\n",
    "\n",
    "import data_science_MA_kit as dsk\n",
    "import pandas as pd\n",
    "import numpy as np\n",
    "import datetime\n",
    "from tqdm import tqdm\n",
    "import re\n",
    "import wrds\n",
    "\n",
    "pd.options.mode.chained_assignment = None"
   ]
  },
  {
   "cell_type": "code",
   "execution_count": 2,
   "id": "1bd0d4cd",
   "metadata": {
    "scrolled": false
   },
   "outputs": [
    {
     "name": "stdout",
     "output_type": "stream",
     "text": [
      "Enter your WRDS username [yizhan]:olivershu\n",
      "Enter your password:········\n",
      "WRDS recommends setting up a .pgpass file.\n",
      "Create .pgpass file now [y/n]?: y\n",
      "Created .pgpass file successfully.\n",
      "Loading library list...\n",
      "Done\n"
     ]
    }
   ],
   "source": [
    "import wrds\n",
    "db = wrds.Connection()"
   ]
  },
  {
   "cell_type": "markdown",
   "id": "fa227bd8",
   "metadata": {},
   "source": [
    "# Data processing 1: Merge with CRSP\n",
    "\n",
    "In this notebook we merge the deals dataset from SDC with CRSP database. CRSP is the database for historical prices of securities especially equities. \n",
    "\n",
    "Specifically we will do the following:\n",
    "\n",
    "- Look for the `permno` of targets and acquirors in CRSP database. `permno` is CRSP's own identifier for each equity.\n",
    "- For completed deals, look for delisting code, dates and returns in CRSP database."
   ]
  },
  {
   "cell_type": "markdown",
   "id": "f3319a82",
   "metadata": {},
   "source": [
    "## Load data"
   ]
  },
  {
   "cell_type": "code",
   "execution_count": 3,
   "id": "6316c479",
   "metadata": {},
   "outputs": [
    {
     "name": "stdout",
     "output_type": "stream",
     "text": [
      "The dataset is of size (9854, 94).\n"
     ]
    },
    {
     "data": {
      "text/html": [
       "<div>\n",
       "<style scoped>\n",
       "    .dataframe tbody tr th:only-of-type {\n",
       "        vertical-align: middle;\n",
       "    }\n",
       "\n",
       "    .dataframe tbody tr th {\n",
       "        vertical-align: top;\n",
       "    }\n",
       "\n",
       "    .dataframe thead th {\n",
       "        text-align: right;\n",
       "    }\n",
       "</style>\n",
       "<table border=\"1\" class=\"dataframe\">\n",
       "  <thead>\n",
       "    <tr style=\"text-align: right;\">\n",
       "      <th></th>\n",
       "      <th>statc</th>\n",
       "      <th>one_day</th>\n",
       "      <th>aone_day</th>\n",
       "      <th>dao</th>\n",
       "      <th>da</th>\n",
       "      <th>dateannorig_days</th>\n",
       "      <th>de</th>\n",
       "      <th>dateeffexp</th>\n",
       "      <th>dw</th>\n",
       "      <th>definitive_agt</th>\n",
       "      <th>...</th>\n",
       "      <th>pricebook</th>\n",
       "      <th>eqvalcf</th>\n",
       "      <th>eqvalsales</th>\n",
       "      <th>eqval</th>\n",
       "      <th>tlia</th>\n",
       "      <th>cass</th>\n",
       "      <th>clia</th>\n",
       "      <th>lockup</th>\n",
       "      <th>dae</th>\n",
       "      <th>vest</th>\n",
       "    </tr>\n",
       "    <tr>\n",
       "      <th>master_deal_no</th>\n",
       "      <th></th>\n",
       "      <th></th>\n",
       "      <th></th>\n",
       "      <th></th>\n",
       "      <th></th>\n",
       "      <th></th>\n",
       "      <th></th>\n",
       "      <th></th>\n",
       "      <th></th>\n",
       "      <th></th>\n",
       "      <th></th>\n",
       "      <th></th>\n",
       "      <th></th>\n",
       "      <th></th>\n",
       "      <th></th>\n",
       "      <th></th>\n",
       "      <th></th>\n",
       "      <th></th>\n",
       "      <th></th>\n",
       "      <th></th>\n",
       "      <th></th>\n",
       "    </tr>\n",
       "  </thead>\n",
       "  <tbody>\n",
       "    <tr>\n",
       "      <th>3846599020</th>\n",
       "      <td>C</td>\n",
       "      <td>2021-12-14</td>\n",
       "      <td>2021-12-14</td>\n",
       "      <td>2021-12-15</td>\n",
       "      <td>2021-12-15</td>\n",
       "      <td>0</td>\n",
       "      <td>2022-07-06</td>\n",
       "      <td>2022-07-06</td>\n",
       "      <td>NaT</td>\n",
       "      <td>Yes</td>\n",
       "      <td>...</td>\n",
       "      <td>6.389</td>\n",
       "      <td>16.389</td>\n",
       "      <td>4.750</td>\n",
       "      <td>5699.204</td>\n",
       "      <td>1265.1</td>\n",
       "      <td>535.0</td>\n",
       "      <td>205.9</td>\n",
       "      <td>No</td>\n",
       "      <td>No</td>\n",
       "      <td>No</td>\n",
       "    </tr>\n",
       "    <tr>\n",
       "      <th>3847933020</th>\n",
       "      <td>C</td>\n",
       "      <td>2021-12-16</td>\n",
       "      <td>NaT</td>\n",
       "      <td>2021-12-17</td>\n",
       "      <td>2021-12-17</td>\n",
       "      <td>0</td>\n",
       "      <td>2022-05-13</td>\n",
       "      <td>2022-06-30</td>\n",
       "      <td>NaT</td>\n",
       "      <td>Yes</td>\n",
       "      <td>...</td>\n",
       "      <td>5.573</td>\n",
       "      <td>59.340</td>\n",
       "      <td>5.089</td>\n",
       "      <td>2456.130</td>\n",
       "      <td>347.3</td>\n",
       "      <td>237.8</td>\n",
       "      <td>147.5</td>\n",
       "      <td>No</td>\n",
       "      <td>No</td>\n",
       "      <td>No</td>\n",
       "    </tr>\n",
       "    <tr>\n",
       "      <th>3848920020</th>\n",
       "      <td>C</td>\n",
       "      <td>2021-07-09</td>\n",
       "      <td>2021-12-17</td>\n",
       "      <td>2021-07-11</td>\n",
       "      <td>2021-12-19</td>\n",
       "      <td>161</td>\n",
       "      <td>2022-03-31</td>\n",
       "      <td>2022-04-01</td>\n",
       "      <td>NaT</td>\n",
       "      <td>Yes</td>\n",
       "      <td>...</td>\n",
       "      <td>1.346</td>\n",
       "      <td>13.529</td>\n",
       "      <td>0.621</td>\n",
       "      <td>784.682</td>\n",
       "      <td>400.0</td>\n",
       "      <td>433.0</td>\n",
       "      <td>201.0</td>\n",
       "      <td>No</td>\n",
       "      <td>No</td>\n",
       "      <td>No</td>\n",
       "    </tr>\n",
       "    <tr>\n",
       "      <th>3847595020</th>\n",
       "      <td>C</td>\n",
       "      <td>2021-12-15</td>\n",
       "      <td>2021-12-17</td>\n",
       "      <td>2021-12-16</td>\n",
       "      <td>2021-12-20</td>\n",
       "      <td>4</td>\n",
       "      <td>2022-06-08</td>\n",
       "      <td>2022-06-06</td>\n",
       "      <td>NaT</td>\n",
       "      <td>No</td>\n",
       "      <td>...</td>\n",
       "      <td>7.331</td>\n",
       "      <td>20.551</td>\n",
       "      <td>4.971</td>\n",
       "      <td>28373.205</td>\n",
       "      <td>3703.3</td>\n",
       "      <td>2440.2</td>\n",
       "      <td>1551.3</td>\n",
       "      <td>No</td>\n",
       "      <td>No</td>\n",
       "      <td>No</td>\n",
       "    </tr>\n",
       "    <tr>\n",
       "      <th>3851185020</th>\n",
       "      <td>C</td>\n",
       "      <td>2021-12-22</td>\n",
       "      <td>2021-12-22</td>\n",
       "      <td>2021-12-23</td>\n",
       "      <td>2021-12-23</td>\n",
       "      <td>0</td>\n",
       "      <td>2022-05-27</td>\n",
       "      <td>2022-05-27</td>\n",
       "      <td>NaT</td>\n",
       "      <td>Yes</td>\n",
       "      <td>...</td>\n",
       "      <td>14.716</td>\n",
       "      <td>11.498</td>\n",
       "      <td>2.984</td>\n",
       "      <td>6082.266</td>\n",
       "      <td>2905.9</td>\n",
       "      <td>943.8</td>\n",
       "      <td>487.7</td>\n",
       "      <td>No</td>\n",
       "      <td>No</td>\n",
       "      <td>No</td>\n",
       "    </tr>\n",
       "  </tbody>\n",
       "</table>\n",
       "<p>5 rows × 94 columns</p>\n",
       "</div>"
      ],
      "text/plain": [
       "               statc     one_day    aone_day         dao          da  \\\n",
       "master_deal_no                                                         \n",
       "3846599020         C  2021-12-14  2021-12-14  2021-12-15  2021-12-15   \n",
       "3847933020         C  2021-12-16         NaT  2021-12-17  2021-12-17   \n",
       "3848920020         C  2021-07-09  2021-12-17  2021-07-11  2021-12-19   \n",
       "3847595020         C  2021-12-15  2021-12-17  2021-12-16  2021-12-20   \n",
       "3851185020         C  2021-12-22  2021-12-22  2021-12-23  2021-12-23   \n",
       "\n",
       "                dateannorig_days          de  dateeffexp   dw definitive_agt  \\\n",
       "master_deal_no                                                                 \n",
       "3846599020                     0  2022-07-06  2022-07-06  NaT            Yes   \n",
       "3847933020                     0  2022-05-13  2022-06-30  NaT            Yes   \n",
       "3848920020                   161  2022-03-31  2022-04-01  NaT            Yes   \n",
       "3847595020                     4  2022-06-08  2022-06-06  NaT             No   \n",
       "3851185020                     0  2022-05-27  2022-05-27  NaT            Yes   \n",
       "\n",
       "                ... pricebook eqvalcf eqvalsales      eqval    tlia    cass  \\\n",
       "master_deal_no  ...                                                           \n",
       "3846599020      ...     6.389  16.389      4.750   5699.204  1265.1   535.0   \n",
       "3847933020      ...     5.573  59.340      5.089   2456.130   347.3   237.8   \n",
       "3848920020      ...     1.346  13.529      0.621    784.682   400.0   433.0   \n",
       "3847595020      ...     7.331  20.551      4.971  28373.205  3703.3  2440.2   \n",
       "3851185020      ...    14.716  11.498      2.984   6082.266  2905.9   943.8   \n",
       "\n",
       "                  clia lockup dae vest  \n",
       "master_deal_no                          \n",
       "3846599020       205.9     No  No   No  \n",
       "3847933020       147.5     No  No   No  \n",
       "3848920020       201.0     No  No   No  \n",
       "3847595020      1551.3     No  No   No  \n",
       "3851185020       487.7     No  No   No  \n",
       "\n",
       "[5 rows x 94 columns]"
      ]
     },
     "execution_count": 3,
     "metadata": {},
     "output_type": "execute_result"
    }
   ],
   "source": [
    "# read hdf file\n",
    "filepath = f\"{path}/data/df_basic_cleaning.h5\"\n",
    "df = pd.read_hdf(filepath)\n",
    "\n",
    "dsk.print_shape(df)\n",
    "df.tail()"
   ]
  },
  {
   "cell_type": "markdown",
   "id": "5ed10742",
   "metadata": {},
   "source": [
    "# Get target & acquiror permno\n",
    "`permno` is the unique identifier for each security in CRSP database. We need to match each target and (public) acquiror with CRSP, by its ticker or cusip at the announcement day, to facilitate later use of CRSP."
   ]
  },
  {
   "cell_type": "code",
   "execution_count": 4,
   "id": "5d0013be",
   "metadata": {},
   "outputs": [],
   "source": [
    "# process ticker and cusip\n",
    "df.ttic = df.ttic.str.replace(\"'\", \"\")\n",
    "df.atic = df.atic.str.replace(\"'\", \"\")\n",
    "df.tcu = df.tcu.str.upper()\n",
    "df.acu = df.acu.str.upper()"
   ]
  },
  {
   "cell_type": "code",
   "execution_count": 5,
   "id": "44d68d6d",
   "metadata": {},
   "outputs": [
    {
     "name": "stderr",
     "output_type": "stream",
     "text": [
      "100%|███████████████████████████████████████| 9854/9854 [05:46<00:00, 28.45it/s]\n"
     ]
    }
   ],
   "source": [
    "# takes 5-10 mins to run\n",
    "columns = ['tpermno', 'ttic_CRSP', 'tcu_CRSP', 'tn_CRSP']\n",
    "tpermno_match = dsk.apply_func_to_ser(df[['ttic', 'tcu', 'da', 'da']], \n",
    "                                      dsk.get_stock_permno_by_ticker_and_cusip_CRSP, \n",
    "                                      return_as_df=True, \n",
    "                                      columns=columns, \n",
    "                                      db=db, \n",
    "                                      return_id=True)"
   ]
  },
  {
   "cell_type": "code",
   "execution_count": 6,
   "id": "3de78bbb",
   "metadata": {
    "scrolled": true
   },
   "outputs": [
    {
     "name": "stderr",
     "output_type": "stream",
     "text": [
      "100%|███████████████████████████████████████| 9854/9854 [07:46<00:00, 21.11it/s]\n"
     ]
    }
   ],
   "source": [
    "# takes 5-10 mins to run\n",
    "columns = ['apermno', 'atic_CRSP', 'acu_CRSP', 'an_CRSP']\n",
    "apermno_match = dsk.apply_func_to_ser(df[['atic', 'acu', 'da', 'da']], \n",
    "                                      dsk.get_stock_permno_by_ticker_and_cusip_CRSP, \n",
    "                                      return_as_df=True, \n",
    "                                      columns=columns, \n",
    "                                      db=db, \n",
    "                                      return_id=True)"
   ]
  },
  {
   "cell_type": "markdown",
   "id": "8ad971a9",
   "metadata": {},
   "source": [
    "## save results"
   ]
  },
  {
   "cell_type": "code",
   "execution_count": 7,
   "id": "40842797",
   "metadata": {},
   "outputs": [],
   "source": [
    "# filepath = f\"{path}/data/df_tpermno.h5\"\n",
    "# df_tpermno_match.to_hdf(filepath, key='tpermno')\n",
    "\n",
    "# filepath = f\"{path}/data/df_apermno.h5\"\n",
    "# df_apermno_match.to_hdf(filepath, key='apermno')"
   ]
  },
  {
   "cell_type": "markdown",
   "id": "72b9fa53",
   "metadata": {},
   "source": [
    "# Get target delisting information"
   ]
  },
  {
   "cell_type": "code",
   "execution_count": 8,
   "id": "2e5f7d46",
   "metadata": {},
   "outputs": [
    {
     "name": "stderr",
     "output_type": "stream",
     "text": [
      "100%|███████████████████████████████████████| 7807/7807 [02:14<00:00, 57.90it/s]\n"
     ]
    }
   ],
   "source": [
    "columns = ['delist_code', 'last_trade_date', 'delist_date', 'delist_amount', 'delist_return']\n",
    "delist = dsk.apply_func_to_ser(tpermno_match.tpermno[df.statc.eq('C')], \n",
    "                               dsk.get_delisting_information, \n",
    "                               return_as_df=True, \n",
    "                               columns=columns, \n",
    "                               db=db)"
   ]
  },
  {
   "cell_type": "markdown",
   "id": "30e908d9",
   "metadata": {},
   "source": [
    "# Save results\n",
    "We combine all the three results from CRSP database, and save it as a file."
   ]
  },
  {
   "cell_type": "code",
   "execution_count": 9,
   "id": "115dda42",
   "metadata": {
    "scrolled": false
   },
   "outputs": [
    {
     "name": "stderr",
     "output_type": "stream",
     "text": [
      "/var/folders/l5/gqn1skjd0v366h5y3kbms6lh0000gn/T/ipykernel_97686/775729973.py:4: PerformanceWarning: \n",
      "your performance may suffer as PyTables will pickle object types that it cannot\n",
      "map directly to c-types [inferred_type->mixed,key->block1_values] [items->Index(['ttic_CRSP', 'tcu_CRSP', 'tn_CRSP', 'atic_CRSP', 'acu_CRSP', 'an_CRSP',\n",
      "       'last_trade_date', 'delist_date'],\n",
      "      dtype='object')]\n",
      "\n",
      "  CRSP_results.to_hdf(pathfile, key = 'CRSP', mode='w')\n"
     ]
    }
   ],
   "source": [
    "pathfile = f\"{path}/data/CRSP_results.h5\"\n",
    "# concat three files from CRSP database\n",
    "CRSP_results = pd.concat([tpermno_match, apermno_match, delist], axis=1)\n",
    "CRSP_results.to_hdf(pathfile, key = 'CRSP', mode='w')"
   ]
  },
  {
   "cell_type": "markdown",
   "id": "996235ea",
   "metadata": {},
   "source": [
    "We also save a file combining the CRSP result and the dataset after basic cleaning."
   ]
  },
  {
   "cell_type": "code",
   "execution_count": 10,
   "id": "e171757d",
   "metadata": {},
   "outputs": [
    {
     "name": "stderr",
     "output_type": "stream",
     "text": [
      "/var/folders/l5/gqn1skjd0v366h5y3kbms6lh0000gn/T/ipykernel_97686/406303818.py:10: PerformanceWarning: \n",
      "your performance may suffer as PyTables will pickle object types that it cannot\n",
      "map directly to c-types [inferred_type->mixed,key->block2_values] [items->Index(['statc', 'one_day', 'aone_day', 'dao', 'da', 'de', 'dateeffexp', 'dw',\n",
      "       'definitive_agt', 'da_date', 'dateval', 'dcom', 'dcomeff',\n",
      "       'last_trade_date', 'delist_date', 'att', 'attitude_change_yn',\n",
      "       'initial_rec', 'tn_CRSP', 'tn', 'ttic_CRSP', 'ttic', 'tcu_CRSP', 'tcu',\n",
      "       'texch', 'an_CRSP', 'an', 'apub', 'atic_CRSP', 'atic', 'acu_CRSP',\n",
      "       'acu', 'anatc', 'aexch', 'cross', 'ttf_macro_desc', 'ttf_mid_desc',\n",
      "       'atf_macro_desc', 'atf_mid_desc', 'valamend', 'consid_struct_desc',\n",
      "       'consid', 'consido', 'consids', 'cha', 'tend', 'term', 'synop', 'hdate',\n",
      "       'hosthprice', 'hval', 'hevent', 'hosthval', 'competecode', 'competeval',\n",
      "       'lbo', 'afinancial', 'alp', 'aspv', 'awk', 'hedge_fund_involv_yn',\n",
      "       'collar', 'lockup', 'dae', 'vest'],\n",
      "      dtype='object')]\n",
      "\n",
      "  df.to_hdf(filepath, key = 'df', mode='w')\n"
     ]
    }
   ],
   "source": [
    "# load dataset after basic cleaning\n",
    "filepath = f\"{path}/data/df_basic_cleaning.h5\"\n",
    "df = pd.read_hdf(filepath)\n",
    "\n",
    "# combine CRSP result with the dataset after basic cleaning\n",
    "loc_names = ['ttic', 'ttic', 'tcu', 'tn'] + ['atic', 'atic', 'acu', 'an'] + ['att'] * 5\n",
    "dsk.insert_cols(df, loc_names, CRSP_results.columns, CRSP_results)\n",
    "\n",
    "filepath = f\"{path}/data/df_merge_CRSP.h5\"\n",
    "df.to_hdf(filepath, key = 'df', mode='w')"
   ]
  },
  {
   "cell_type": "code",
   "execution_count": null,
   "id": "f7aa5159",
   "metadata": {},
   "outputs": [],
   "source": []
  }
 ],
 "metadata": {
  "kernelspec": {
   "display_name": "Python 3 (ipykernel)",
   "language": "python",
   "name": "python3"
  },
  "language_info": {
   "codemirror_mode": {
    "name": "ipython",
    "version": 3
   },
   "file_extension": ".py",
   "mimetype": "text/x-python",
   "name": "python",
   "nbconvert_exporter": "python",
   "pygments_lexer": "ipython3",
   "version": "3.9.10"
  },
  "toc": {
   "base_numbering": 1,
   "nav_menu": {},
   "number_sections": true,
   "sideBar": true,
   "skip_h1_title": false,
   "title_cell": "Table of Contents",
   "title_sidebar": "Contents",
   "toc_cell": false,
   "toc_position": {},
   "toc_section_display": true,
   "toc_window_display": false
  }
 },
 "nbformat": 4,
 "nbformat_minor": 5
}
