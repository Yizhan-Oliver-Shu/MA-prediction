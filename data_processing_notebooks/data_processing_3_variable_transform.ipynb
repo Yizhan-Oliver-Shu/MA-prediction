{
 "cells": [
  {
   "cell_type": "code",
   "execution_count": 1,
   "id": "2cbbeb29",
   "metadata": {},
   "outputs": [
    {
     "data": {
      "text/html": [
       "<style>.container { width:92% !important; }</style>"
      ],
      "text/plain": [
       "<IPython.core.display.HTML object>"
      ]
     },
     "metadata": {},
     "output_type": "display_data"
    }
   ],
   "source": [
    "from IPython.display import display, HTML\n",
    "display(HTML(\"<style>.container { width:92% !important; }</style>\"))\n",
    "\n",
    "%load_ext autoreload\n",
    "%autoreload 2\n",
    "import sys, os\n",
    "from os.path import expanduser\n",
    "## actions required!!!!!!!!!!!!!!!!!!!! change your folder path \n",
    "path = \"~/Documents/G3/MA-prediction\"\n",
    "path = expanduser(path)\n",
    "sys.path.append(path)\n",
    "\n",
    "import data_science_MA_kit as dsk\n",
    "import pandas as pd\n",
    "import numpy as np\n",
    "import datetime\n",
    "from tqdm import tqdm\n",
    "import re\n",
    "# import wrds\n",
    "\n",
    "pd.options.mode.chained_assignment = None"
   ]
  },
  {
   "cell_type": "markdown",
   "id": "bb080f6a",
   "metadata": {},
   "source": [
    "# Data preprocessing 3: Variable Transformation\n",
    "\n",
    "In this notebook we will do the following:\n",
    "\n",
    "- Create `amend` and `choice` binary variables.\n",
    "- Create competing group number and competing status code.\n",
    "- Create deal value adjusted by CPI index.\n",
    "- Create new payment type.\n",
    "- Extract cash and stock terms from consideration.\n",
    "\n",
    "## Load data"
   ]
  },
  {
   "cell_type": "code",
   "execution_count": 2,
   "id": "6627bc88",
   "metadata": {},
   "outputs": [],
   "source": [
    "filepath = f\"{path}/data/df_dates_corrected.h5\"\n",
    "df = pd.read_hdf(filepath)"
   ]
  },
  {
   "cell_type": "markdown",
   "id": "e59f5c3d",
   "metadata": {},
   "source": [
    "# Create `amend` and `choice` binary variables"
   ]
  },
  {
   "cell_type": "code",
   "execution_count": 3,
   "id": "01351cf6",
   "metadata": {},
   "outputs": [],
   "source": [
    "# create amend\n",
    "dsk.insert_cols(df, 'valamend', 'amend', dsk.create_amend(df))\n",
    "\n",
    "# create consid\n",
    "dsk.insert_cols(df, 'consid', 'choice', dsk.create_choice(df))"
   ]
  },
  {
   "cell_type": "markdown",
   "id": "4d203ea3",
   "metadata": {},
   "source": [
    "# Create competing group number and status code"
   ]
  },
  {
   "cell_type": "markdown",
   "id": "0210a152",
   "metadata": {},
   "source": [
    "## Create competing group number"
   ]
  },
  {
   "cell_type": "code",
   "execution_count": 4,
   "id": "b49ec612",
   "metadata": {},
   "outputs": [],
   "source": [
    "# change to 0/1\n",
    "df.cha = df.cha.replace({'Yes':1, 'No':0})"
   ]
  },
  {
   "cell_type": "code",
   "execution_count": 5,
   "id": "1814c984",
   "metadata": {},
   "outputs": [],
   "source": [
    "# create competing deal group numbers\n",
    "dsk.insert_cols(df, 'lbo', 'compete_group_no', dsk.create_compete_group_no(df))\n",
    "\n",
    "# update cha. Some errors in the database\n",
    "df.cha[~df.compete_group_no.isna()] = 1\n",
    "\n",
    "# check error\n",
    "if df.compete_group_no.eq(-1).any():\n",
    "    print('Different group numbers in one group.')\n",
    "if df.compete_group_no.value_counts().eq(1).any():\n",
    "    print('Group of a single deal.')"
   ]
  },
  {
   "cell_type": "markdown",
   "id": "aaaa9910",
   "metadata": {},
   "source": [
    "## Create competing status code"
   ]
  },
  {
   "cell_type": "code",
   "execution_count": 6,
   "id": "7fc6a666",
   "metadata": {},
   "outputs": [],
   "source": [
    "# create competing status code\n",
    "dsk.insert_cols(df, 'lbo', 'compete_statc_code', dsk.create_compete_status_code(df))"
   ]
  },
  {
   "cell_type": "code",
   "execution_count": 7,
   "id": "900091c6",
   "metadata": {
    "scrolled": true
   },
   "outputs": [
    {
     "data": {
      "text/plain": [
       "2.0    438\n",
       "0.0    332\n",
       "1.0     52\n",
       "3.0      1\n",
       "Name: compete_statc_code, dtype: int64"
      ]
     },
     "execution_count": 7,
     "metadata": {},
     "output_type": "execute_result"
    }
   ],
   "source": [
    "df.compete_statc_code.value_counts()"
   ]
  },
  {
   "cell_type": "markdown",
   "id": "ae9b87d5",
   "metadata": {},
   "source": [
    "# Create announced year and month. Create `val` adjusted by CPI index"
   ]
  },
  {
   "cell_type": "markdown",
   "id": "a00b7d2d",
   "metadata": {},
   "source": [
    "## Create announced year and month.\n",
    "Create announced year and month."
   ]
  },
  {
   "cell_type": "code",
   "execution_count": 8,
   "id": "92c6dbaa",
   "metadata": {
    "scrolled": true
   },
   "outputs": [],
   "source": [
    "# create announced year and month\n",
    "df['ann_year'] = df.da.map(lambda x: x.year)     # useful later\n",
    "df['ann_year_month'] = df.da.map(lambda x: pd.Period(f'{x.year}-{x.month}', 'M'))"
   ]
  },
  {
   "cell_type": "markdown",
   "id": "d97aac9c",
   "metadata": {},
   "source": [
    "## Create deal value adjusted by CPI index. Delete monthly period column.\n",
    "CPI data is downloaded from FRED [website](https://fred.stlouisfed.org/series/CPIAUCSL). We set the value of Dec 2020 as the base, and inflate all the deal values beforehand by the CPI index."
   ]
  },
  {
   "cell_type": "code",
   "execution_count": 9,
   "id": "8e1f6e35",
   "metadata": {},
   "outputs": [],
   "source": [
    "html = \"https://fred.stlouisfed.org/graph/fredgraph.csv?id=CPIAUCSL\"\n",
    "df_cpi = pd.read_csv(html)"
   ]
  },
  {
   "cell_type": "code",
   "execution_count": 10,
   "id": "1b947657",
   "metadata": {
    "scrolled": false
   },
   "outputs": [
    {
     "data": {
      "text/plain": [
       "month\n",
       "1947-01    21.48\n",
       "1947-02    21.62\n",
       "1947-03    22.00\n",
       "1947-04    22.00\n",
       "1947-05    21.95\n",
       "Freq: M, Name: CPIAUCSL, dtype: float64"
      ]
     },
     "execution_count": 10,
     "metadata": {},
     "output_type": "execute_result"
    }
   ],
   "source": [
    "cpi_ser = dsk.to_monthly_period_index(df_cpi, 'DATE').squeeze()\n",
    "cpi_ser.head()"
   ]
  },
  {
   "cell_type": "code",
   "execution_count": 11,
   "id": "cb7d8164",
   "metadata": {},
   "outputs": [],
   "source": [
    "# create deal value adjusted by CPI index, base is '2020-12'\n",
    "base = pd.Period('2020-12', 'M')\n",
    "adj_factor = cpi_ser[base] / cpi_ser\n",
    "# adjust deal value by CPI\n",
    "dsk.insert_cols(df, 'val', 'val_adj_by_cpi', adj_factor[df.ann_year_month].values * df.val)"
   ]
  },
  {
   "cell_type": "code",
   "execution_count": 12,
   "id": "ae5cfd3a",
   "metadata": {},
   "outputs": [],
   "source": [
    "# unfortunately period dtype is not supported by hdf\n",
    "df = df.drop(columns=['ann_year_month'])"
   ]
  },
  {
   "cell_type": "markdown",
   "id": "28b2c740",
   "metadata": {},
   "source": [
    "# Create new payment type `consido`"
   ]
  },
  {
   "cell_type": "code",
   "execution_count": 13,
   "id": "059cddab",
   "metadata": {},
   "outputs": [
    {
     "data": {
      "text/plain": [
       "array(['Amer. Depy. Receipt', 'American Depy Share', 'Assets', 'Bond',\n",
       "       'Capital Infusion', 'Capital Stock', 'Cash', 'Cash Dividend',\n",
       "       'Cash Only', 'Common L.P. Unit', 'Common Stock',\n",
       "       'Common Stock Type A', 'Common Stock Type B',\n",
       "       'Common Stock Type C', 'Common Stock Type H',\n",
       "       'Conting. Value Right', 'Contingent Val Pref',\n",
       "       'Convert. Debenture', 'Convert. Exch. Pfd.', 'Convert. Preferred',\n",
       "       'Convert. Preferred A', 'Convert. Preferred B',\n",
       "       'Convert. Preferred D', 'Convert. Securities',\n",
       "       'Convert. Sub. Deb.', 'Convert. Sub. Note', 'Convertible Note',\n",
       "       'Cum Cvt Exch Pfd', 'Cum. Convert. Pfd.', 'Cumulative Preferred',\n",
       "       'Cvt Cum Pfd Ser A', 'Cvt. Promissory Note', 'Debenture', 'Debt',\n",
       "       'Debt Reduction', 'Depositary Receipt', 'Depositary Share',\n",
       "       'Earnout', 'Exch Redeemable Pfd', 'Exch. Sub. Deb.',\n",
       "       'Junior Preferred Shs', 'L.P. Unit', 'Liabilities', 'Loan',\n",
       "       'Ltd. Vot. Pfd ADR', 'Newly Issued Ord Sh', 'Newly Issued Pfd Sh',\n",
       "       'Non-Voting Common B', 'Non-Voting Cvt. Ord',\n",
       "       'Non-Voting Cvt. Pfd.', 'Non-Voting Preferred', 'Not Applicable',\n",
       "       'Note', 'Notes', 'Operating Part Unit', 'Option', 'Ordinary Share',\n",
       "       'Other Consideration', 'Preference Share', 'Preferred Class A',\n",
       "       'Preferred Class B', 'Preferred Class C', 'Preferred Class D',\n",
       "       'Preferred Class E', 'Preferred Class G', 'Preferred Dividend',\n",
       "       'Preferred Stock', 'Promissory Note', 'Receivables',\n",
       "       'Redeemable Preferred', 'Restricted Common', 'Returned Cash',\n",
       "       'Returned Debt', 'Returned Equity', 'Rights', 'Royalties',\n",
       "       'Securities', 'Senior Notes', 'Senior Secured Notes',\n",
       "       'Senior Sub. Notes', 'Series 1 Preferred', 'Series 2 Preferred',\n",
       "       'Special Common Stock', 'Stock', 'Sub Voting Shs Cl A',\n",
       "       'Sub. Debenture', 'Sub. Voting Stock', 'Subordinated Common',\n",
       "       'Subordinated Debt', 'Subordinated LP Unit', 'Subordinated Note',\n",
       "       'Subscription Rights', 'Third Party Com Shs.',\n",
       "       'Third Party Ord Shs.', 'Tracking Stock', 'Unit',\n",
       "       'Unregistered Com Shs', 'Unspecified', 'Warrants',\n",
       "       'Warrants Class A', 'Warrants Class B', 'Warrants Class C'],\n",
       "      dtype='<U20')"
      ]
     },
     "execution_count": 13,
     "metadata": {},
     "output_type": "execute_result"
    }
   ],
   "source": [
    "dsk.extract_all_payment_types(df.consido)"
   ]
  },
  {
   "cell_type": "code",
   "execution_count": 14,
   "id": "20c54473",
   "metadata": {},
   "outputs": [],
   "source": [
    "lst_cash = ['Cash', 'Cash Only']\n",
    "lst_stock = ['Common Stock', 'Common Stock Type A', 'Common Stock Type B', 'Common Stock Type C', 'Common Stock Type H', 'Newly Issued Ord Sh', 'Ordinary Share', ]"
   ]
  },
  {
   "cell_type": "code",
   "execution_count": 15,
   "id": "2da1faee",
   "metadata": {},
   "outputs": [],
   "source": [
    "# # to be deal with later\n",
    "# replace_lst_more = ['Amer. Depy. Receipt', \n",
    "#                     'American Depy Share',\n",
    "#                     'Cash Dividend'\n",
    "#                     'Common L.P. Unit',\n",
    "#                    'Depositary Receipt',\n",
    "#                     'Depositary Share',\n",
    "#                    'L.P. Unit',\n",
    "#                    'Unit']"
   ]
  },
  {
   "cell_type": "code",
   "execution_count": 16,
   "id": "bf08ff75",
   "metadata": {
    "scrolled": true
   },
   "outputs": [
    {
     "data": {
      "text/plain": [
       "Cash                     5105\n",
       "Common Stock             2623\n",
       "Cash and Common Stock    1469\n",
       "No Cash or Stock          657\n",
       "Name: consido_new, dtype: int64"
      ]
     },
     "execution_count": 16,
     "metadata": {},
     "output_type": "execute_result"
    }
   ],
   "source": [
    "# new consido\n",
    "dsk.insert_cols(df, 'consido', 'consido_new', df.consido.map(lambda x: dsk.transform_payment_str(x, lst_cash, lst_stock)))\n",
    "df.consido_new.value_counts()"
   ]
  },
  {
   "cell_type": "markdown",
   "id": "2aa45eb6",
   "metadata": {},
   "source": [
    "# Extract cash and stock terms from consideration."
   ]
  },
  {
   "cell_type": "code",
   "execution_count": 17,
   "id": "832396fd",
   "metadata": {},
   "outputs": [],
   "source": [
    "# convert `consid` column to a more readable format\n",
    "df.consid = df.consid.map(dsk.convert_consid_to_readable, na_action='ignore')"
   ]
  },
  {
   "cell_type": "code",
   "execution_count": 18,
   "id": "fc3be4cb",
   "metadata": {},
   "outputs": [],
   "source": [
    "# extract terms from `consid`\n",
    "df['terms'] = dsk.extract_term_from_consid(df.consid)"
   ]
  },
  {
   "cell_type": "code",
   "execution_count": 19,
   "id": "c8df6d32",
   "metadata": {},
   "outputs": [],
   "source": [
    "#\n",
    "cash_stock_terms = df['terms'].map(dsk.extract_cash_stock_from_term, na_action='ignore')\n",
    "cash_stock_terms = pd.DataFrame(list(cash_stock_terms), index=df.index)"
   ]
  },
  {
   "cell_type": "code",
   "execution_count": 20,
   "id": "cde46312",
   "metadata": {},
   "outputs": [],
   "source": [
    "dsk.insert_cols(df, ['consid', 'consid', 'consid'], ['cash_term', 'stock_term', 'payment_type'], cash_stock_terms)"
   ]
  },
  {
   "cell_type": "code",
   "execution_count": 21,
   "id": "56ecce66",
   "metadata": {},
   "outputs": [
    {
     "data": {
      "text/plain": [
       "Cash                                   4144\n",
       "parse failed                           2062\n",
       "Common Stock                           1998\n",
       "Cash and Common Stock                   426\n",
       "Common Stock, fixed dollar              217\n",
       "Cash and Common Stock, fixed dollar      92\n",
       "Name: payment_type, dtype: int64"
      ]
     },
     "execution_count": 21,
     "metadata": {},
     "output_type": "execute_result"
    }
   ],
   "source": [
    "df.payment_type.value_counts()"
   ]
  },
  {
   "cell_type": "markdown",
   "id": "fc02c060",
   "metadata": {},
   "source": [
    "# Save results"
   ]
  },
  {
   "cell_type": "code",
   "execution_count": 22,
   "id": "ecccf03b",
   "metadata": {},
   "outputs": [
    {
     "name": "stderr",
     "output_type": "stream",
     "text": [
      "/var/folders/l5/gqn1skjd0v366h5y3kbms6lh0000gn/T/ipykernel_98117/2718949586.py:3: PerformanceWarning: \n",
      "your performance may suffer as PyTables will pickle object types that it cannot\n",
      "map directly to c-types [inferred_type->mixed,key->block2_values] [items->Index(['statc', 'one_day', 'aone_day', 'dao', 'da_corrected', 'da', 'de',\n",
      "       'dateeffexp', 'dw', 'dr', 'definitive_agt', 'da_date', 'dateval',\n",
      "       'dcom', 'dcomeff', 'last_trade_date', 'delist_date', 'att',\n",
      "       'attitude_change_yn', 'initial_rec', 'tn_CRSP', 'tn', 'ttic_CRSP',\n",
      "       'ttic', 'tcu_CRSP', 'tcu', 'texch', 'an_CRSP', 'an', 'apub',\n",
      "       'atic_CRSP', 'atic', 'acu_CRSP', 'acu', 'anatc', 'aexch', 'cross',\n",
      "       'ttf_macro_desc', 'ttf_mid_desc', 'atf_macro_desc', 'atf_mid_desc',\n",
      "       'valamend', 'consid_struct_desc', 'payment_type', 'consid',\n",
      "       'consido_new', 'consido', 'consids', 'tend', 'term', 'synop', 'hdate',\n",
      "       'hosthprice', 'hval', 'hevent', 'hosthval', 'competecode', 'competeval',\n",
      "       'lbo', 'afinancial', 'alp', 'aspv', 'awk', 'hedge_fund_involv_yn',\n",
      "       'collar', 'lockup', 'dae', 'vest', 'terms'],\n",
      "      dtype='object')]\n",
      "\n",
      "  df.to_hdf(filepath, key = 'df', mode='w')\n"
     ]
    }
   ],
   "source": [
    "filepath = f\"{path}/data/df_variable_transform.h5\"\n",
    "\n",
    "df.to_hdf(filepath, key = 'df', mode='w')"
   ]
  },
  {
   "cell_type": "code",
   "execution_count": null,
   "id": "e8c0b8b4",
   "metadata": {},
   "outputs": [],
   "source": []
  }
 ],
 "metadata": {
  "kernelspec": {
   "display_name": "Python 3 (ipykernel)",
   "language": "python",
   "name": "python3"
  },
  "language_info": {
   "codemirror_mode": {
    "name": "ipython",
    "version": 3
   },
   "file_extension": ".py",
   "mimetype": "text/x-python",
   "name": "python",
   "nbconvert_exporter": "python",
   "pygments_lexer": "ipython3",
   "version": "3.9.10"
  },
  "toc": {
   "base_numbering": 1,
   "nav_menu": {},
   "number_sections": true,
   "sideBar": true,
   "skip_h1_title": false,
   "title_cell": "Table of Contents",
   "title_sidebar": "Contents",
   "toc_cell": false,
   "toc_position": {
    "height": "calc(100% - 180px)",
    "left": "10px",
    "top": "150px",
    "width": "384px"
   },
   "toc_section_display": true,
   "toc_window_display": false
  }
 },
 "nbformat": 4,
 "nbformat_minor": 5
}
