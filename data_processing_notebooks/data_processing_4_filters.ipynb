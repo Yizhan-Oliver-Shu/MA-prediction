{
 "cells": [
  {
   "cell_type": "code",
   "execution_count": 1,
   "id": "bf262bd1",
   "metadata": {
    "scrolled": true
   },
   "outputs": [
    {
     "data": {
      "text/html": [
       "<style>.container { width:92% !important; }</style>"
      ],
      "text/plain": [
       "<IPython.core.display.HTML object>"
      ]
     },
     "metadata": {},
     "output_type": "display_data"
    }
   ],
   "source": [
    "from IPython.display import display, HTML\n",
    "display(HTML(\"<style>.container { width:92% !important; }</style>\"))\n",
    "\n",
    "%load_ext autoreload\n",
    "%autoreload 2\n",
    "import sys, os\n",
    "from os.path import expanduser\n",
    "## actions required!!!!!!!!!!!!!!!!!!!! change your folder path \n",
    "path = \"~/Documents/G3/MA-prediction\"\n",
    "path = expanduser(path)\n",
    "sys.path.append(path)\n",
    "\n",
    "import data_science_MA_kit as dsk\n",
    "import pandas as pd\n",
    "import numpy as np\n",
    "import datetime\n",
    "from tqdm import tqdm\n",
    "import re\n",
    "import wrds\n",
    "\n",
    "pd.options.mode.chained_assignment = None"
   ]
  },
  {
   "cell_type": "markdown",
   "id": "b728909a",
   "metadata": {},
   "source": [
    "# Data preprocessing 3: Data Filters\n",
    "\n",
    "Apply filters:\n",
    "\n",
    "- data error detected manually.\n",
    "- deal price, initial deal price >= \\$1. \n",
    "- target stock price 1 day, 1 week and 4 weeks before >= \\$1.\n",
    "- deal value adjusted by inflation >= \\$200 m.\n",
    "- date announced is not estimated.\n",
    "- deal cash and stock terms parsing successful.\n",
    "- target and acquiror matched in CRSP.\n",
    "- For completed deals, delisting code in CRSP is M&A related.\n",
    "- For completed deals, effective date in SDC and target delisting date in CRSP is close. \n",
    "- duration no fewer than 5 trading days.\n",
    "\n",
    "\n",
    "Results of filtering:\n",
    "\n",
    "- delete 3 deals due to data error. 9854 -> 9851\n",
    "- delete 1503 deals due to deal price smaller than \\$1. 9851 -> 8348\n",
    "- delete 490 deals due to target price smaller than \\$1. 8348 -> 7858\n",
    "- delete 2473 deals due to deal value adjusted by inflation smaller than $200 m. 7858 -> 5385\n",
    "- delete 0 deals due to estimated announcement date. 5385 -> 5385\n",
    "- delete 1117 deals due to failure of extracting cash and stock terms. 5385 -> 4268\n",
    "- delete 31 deals due to failure of matching target in CRSP. 4268 -> 4237\n",
    "- delete 33 deals due to failure of matching acquiror in CRSP for stock deals. 4237 -> 4204\n",
    "- delete 21 deals due to non-M&A-related delisting code for completed deals. 4204 -> 4183\n",
    "- delete 10 deals due to mismatch between delisting date in CRSP and effective date in SDC. 4183 -> 4173\n",
    "- delete 39 deals due to duration shorter than 5 trading days. 4173 -> 4134"
   ]
  },
  {
   "cell_type": "markdown",
   "id": "a0a7fb08",
   "metadata": {},
   "source": [
    "## load data"
   ]
  },
  {
   "cell_type": "code",
   "execution_count": 2,
   "id": "7160327b",
   "metadata": {},
   "outputs": [],
   "source": [
    "pathfile = f\"{path}/data/df_variable_transform.h5\"\n",
    "df = pd.read_hdf(pathfile)"
   ]
  },
  {
   "cell_type": "markdown",
   "id": "e2ec639d",
   "metadata": {},
   "source": [
    "# Filters"
   ]
  },
  {
   "cell_type": "code",
   "execution_count": 3,
   "id": "e6666470",
   "metadata": {},
   "outputs": [],
   "source": [
    "df['retain'] = True"
   ]
  },
  {
   "cell_type": "code",
   "execution_count": 4,
   "id": "8fa7a864",
   "metadata": {
    "scrolled": true
   },
   "outputs": [
    {
     "name": "stdout",
     "output_type": "stream",
     "text": [
      "delete 3 deals due to data error. 9854 -> 9851\n"
     ]
    }
   ],
   "source": [
    "num_orig = df.retain.sum()\n",
    "index_del = dsk.get_delete_index(df)\n",
    "df.retain[index_del] = False\n",
    "num_new = df.retain.sum()\n",
    "print(f\"delete {num_orig-num_new} deals due to data error. {num_orig} -> {num_new}\")"
   ]
  },
  {
   "cell_type": "code",
   "execution_count": 5,
   "id": "45d9b516",
   "metadata": {
    "scrolled": true
   },
   "outputs": [
    {
     "name": "stdout",
     "output_type": "stream",
     "text": [
      "delete 1503 deals due to deal price smaller than $1. 9851 -> 8348\n"
     ]
    }
   ],
   "source": [
    "num_orig = df.retain.sum()\n",
    "df.retain[df.pr.lt(1., fill_value = 0.) | df.pr_initial.lt(1., fill_value = 0.)] = False\n",
    "num_new = df.retain.sum()\n",
    "print(f\"delete {num_orig-num_new} deals due to deal price smaller than $1. {num_orig} -> {num_new}\")"
   ]
  },
  {
   "cell_type": "code",
   "execution_count": 6,
   "id": "a9074164",
   "metadata": {},
   "outputs": [
    {
     "name": "stdout",
     "output_type": "stream",
     "text": [
      "delete 490 deals due to target price smaller than $1. 8348 -> 7858\n"
     ]
    }
   ],
   "source": [
    "num_orig = df.retain.sum()\n",
    "df.retain[df.pr1day.lt(1., fill_value=0.) | df.pr1wk.lt(1., fill_value=0.) | df.pr4wk.lt(1., fill_value=0.)] = False\n",
    "num_new = df.retain.sum()\n",
    "print(f\"delete {num_orig-num_new} deals due to target price smaller than $1. {num_orig} -> {num_new}\")"
   ]
  },
  {
   "cell_type": "code",
   "execution_count": 7,
   "id": "a57aa7a8",
   "metadata": {},
   "outputs": [
    {
     "name": "stdout",
     "output_type": "stream",
     "text": [
      "delete 2473 deals due to deal value adjusted by inflation smaller than $200 m. 7858 -> 5385\n"
     ]
    }
   ],
   "source": [
    "num_orig = df.retain.sum()\n",
    "df.retain[df.val_adj_by_cpi.lt(200., fill_value=0.)] = False\n",
    "num_new = df.retain.sum()\n",
    "print(f\"delete {num_orig-num_new} deals due to deal value adjusted by inflation smaller than $200 m. {num_orig} -> {num_new}\")"
   ]
  },
  {
   "cell_type": "code",
   "execution_count": 8,
   "id": "c63c2486",
   "metadata": {
    "scrolled": true
   },
   "outputs": [
    {
     "name": "stdout",
     "output_type": "stream",
     "text": [
      "delete 0 deals due to estimated announcement date. 5385 -> 5385\n"
     ]
    }
   ],
   "source": [
    "num_orig = df.retain.sum()\n",
    "df.retain[df.da.eq('Yes')] = False\n",
    "num_new = df.retain.sum()\n",
    "print(f\"delete {num_orig-num_new} deals due to estimated announcement date. {num_orig} -> {num_new}\")"
   ]
  },
  {
   "cell_type": "code",
   "execution_count": 9,
   "id": "445247d3",
   "metadata": {},
   "outputs": [
    {
     "name": "stdout",
     "output_type": "stream",
     "text": [
      "delete 1117 deals due to failure of extracting cash and stock terms. 5385 -> 4268\n"
     ]
    }
   ],
   "source": [
    "num_orig = df.retain.sum()\n",
    "\n",
    "payment_types_lst = ['Cash', 'Common Stock', 'Cash and Common Stock', \n",
    "                     'Common Stock, fixed dollar', 'Cash and Common Stock, fixed dollar']\n",
    "df.retain[~df.payment_type.isin(payment_types_lst)]=False\n",
    "\n",
    "num_new = df.retain.sum()\n",
    "print(f\"delete {num_orig-num_new} deals due to failure of extracting cash and stock terms. {num_orig} -> {num_new}\")"
   ]
  },
  {
   "cell_type": "code",
   "execution_count": 10,
   "id": "9ca77375",
   "metadata": {},
   "outputs": [
    {
     "name": "stdout",
     "output_type": "stream",
     "text": [
      "delete 31 deals due to failure of matching target in CRSP. 4268 -> 4237\n"
     ]
    }
   ],
   "source": [
    "num_orig = df.retain.sum()\n",
    "\n",
    "df.retain[df.tpermno.isna()] = False\n",
    "\n",
    "num_new = df.retain.sum()\n",
    "print(f\"delete {num_orig-num_new} deals due to failure of matching target in CRSP. {num_orig} -> {num_new}\")"
   ]
  },
  {
   "cell_type": "code",
   "execution_count": 11,
   "id": "37e0bbd2",
   "metadata": {},
   "outputs": [
    {
     "name": "stdout",
     "output_type": "stream",
     "text": [
      "delete 33 deals due to failure of matching acquiror in CRSP for stock deals. 4237 -> 4204\n"
     ]
    }
   ],
   "source": [
    "num_orig = df.retain.sum()\n",
    "\n",
    "df.retain[df.payment_type.isin(['Common Stock', 'Cash and Common Stock']) & df.apermno.isna()] = False\n",
    "\n",
    "num_new = df.retain.sum()\n",
    "print(f\"delete {num_orig-num_new} deals due to failure of matching acquiror in CRSP for stock deals. {num_orig} -> {num_new}\")"
   ]
  },
  {
   "cell_type": "code",
   "execution_count": 12,
   "id": "dbe3ce02",
   "metadata": {},
   "outputs": [
    {
     "name": "stdout",
     "output_type": "stream",
     "text": [
      "delete 21 deals due to non-M&A-related delisting code for completed deals. 4204 -> 4183\n"
     ]
    }
   ],
   "source": [
    "num_orig = df.retain.sum()\n",
    "\n",
    "df.retain[df.statc.eq('C') & ~df.delist_code.between(200, 300, inclusive='left')] = False\n",
    "\n",
    "num_new = df.retain.sum()\n",
    "print(f\"delete {num_orig-num_new} deals due to non-M&A-related delisting code for completed deals. {num_orig} -> {num_new}\")"
   ]
  },
  {
   "cell_type": "code",
   "execution_count": 13,
   "id": "8a16cdb3",
   "metadata": {},
   "outputs": [
    {
     "name": "stdout",
     "output_type": "stream",
     "text": [
      "delete 10 deals due to mismatch between delisting date in CRSP and effective date in SDC. 4183 -> 4173\n"
     ]
    }
   ],
   "source": [
    "num_orig = df.retain.sum()\n",
    "\n",
    "days_between_de_delist_date = dsk.trading_days_between(df.de, df.delist_date)\n",
    "df.retain[df.statc.eq('C')&abs(days_between_de_delist_date).gt(252)] = False\n",
    "\n",
    "num_new = df.retain.sum()\n",
    "print(f\"delete {num_orig-num_new} deals due to mismatch between delisting date in CRSP and effective date in SDC. {num_orig} -> {num_new}\")"
   ]
  },
  {
   "cell_type": "code",
   "execution_count": 14,
   "id": "c9b82f4b",
   "metadata": {
    "scrolled": false
   },
   "outputs": [
    {
     "name": "stdout",
     "output_type": "stream",
     "text": [
      "delete 39 deals due to duration shorter than 5 trading days. 4173 -> 4134\n"
     ]
    }
   ],
   "source": [
    "num_orig = df.retain.sum()\n",
    "\n",
    "df.retain[df.duration.lt(5, fill_value=0.)] = False\n",
    "\n",
    "num_new = df.retain.sum()\n",
    "print(f\"delete {num_orig-num_new} deals due to duration shorter than 5 trading days. {num_orig} -> {num_new}\")"
   ]
  },
  {
   "cell_type": "code",
   "execution_count": null,
   "id": "a9039253",
   "metadata": {},
   "outputs": [],
   "source": []
  }
 ],
 "metadata": {
  "kernelspec": {
   "display_name": "Python 3 (ipykernel)",
   "language": "python",
   "name": "python3"
  },
  "language_info": {
   "codemirror_mode": {
    "name": "ipython",
    "version": 3
   },
   "file_extension": ".py",
   "mimetype": "text/x-python",
   "name": "python",
   "nbconvert_exporter": "python",
   "pygments_lexer": "ipython3",
   "version": "3.9.10"
  },
  "toc": {
   "base_numbering": 1,
   "nav_menu": {},
   "number_sections": true,
   "sideBar": true,
   "skip_h1_title": false,
   "title_cell": "Table of Contents",
   "title_sidebar": "Contents",
   "toc_cell": false,
   "toc_position": {},
   "toc_section_display": true,
   "toc_window_display": false
  }
 },
 "nbformat": 4,
 "nbformat_minor": 5
}
