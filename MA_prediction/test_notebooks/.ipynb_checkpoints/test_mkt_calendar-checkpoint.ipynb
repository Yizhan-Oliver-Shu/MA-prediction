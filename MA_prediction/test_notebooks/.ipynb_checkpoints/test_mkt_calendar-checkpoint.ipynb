{
 "cells": [
  {
   "cell_type": "code",
   "execution_count": 10,
   "id": "b1a0c3de-ebd4-47b5-b184-6a7e0d73d804",
   "metadata": {},
   "outputs": [
    {
     "name": "stdout",
     "output_type": "stream",
     "text": [
      "The autoreload extension is already loaded. To reload it, use:\n",
      "  %reload_ext autoreload\n"
     ]
    }
   ],
   "source": [
    "%load_ext autoreload\n",
    "%autoreload 2\n",
    "import sys, os\n",
    "from os.path import expanduser\n",
    "## actions required!!!!!!!!!!!!!!!!!!!! change your folder path \n",
    "path = \"~/Documents/G3/MA-prediction\"\n",
    "path = expanduser(path)\n",
    "sys.path.append(path)"
   ]
  },
  {
   "cell_type": "code",
   "execution_count": 11,
   "id": "b0a356f2-7c5c-41a0-a92b-4716608c60e8",
   "metadata": {},
   "outputs": [],
   "source": [
    "from MA_prediction.mkt_calendar import *"
   ]
  },
  {
   "cell_type": "code",
   "execution_count": 2,
   "id": "24a19ca6-6062-4da3-b667-cb6e2d287167",
   "metadata": {},
   "outputs": [],
   "source": [
    "import pandas_market_calendars as mcal\n",
    "import pandas as pd\n",
    "import numpy as np"
   ]
  },
  {
   "cell_type": "code",
   "execution_count": 5,
   "id": "d71fe54b-ad32-4061-a468-a0d4ee32f196",
   "metadata": {},
   "outputs": [],
   "source": [
    "from sklearn.utils import _is_arraylike_not_scalar"
   ]
  },
  {
   "cell_type": "markdown",
   "id": "b312ba09-c6f7-454f-875e-eca4ca16a429",
   "metadata": {
    "tags": []
   },
   "source": [
    "## `get_trading_day_range`"
   ]
  },
  {
   "cell_type": "code",
   "execution_count": 15,
   "id": "16b755a5-e04e-4768-a784-6f05c7fc6f40",
   "metadata": {},
   "outputs": [
    {
     "data": {
      "text/plain": [
       "array([datetime.date(2022, 1, 3), datetime.date(2022, 1, 4),\n",
       "       datetime.date(2022, 1, 5), datetime.date(2022, 1, 6),\n",
       "       datetime.date(2022, 1, 7), datetime.date(2022, 1, 10),\n",
       "       datetime.date(2022, 1, 11), datetime.date(2022, 1, 12),\n",
       "       datetime.date(2022, 1, 13), datetime.date(2022, 1, 14),\n",
       "       datetime.date(2022, 1, 18), datetime.date(2022, 1, 19),\n",
       "       datetime.date(2022, 1, 20), datetime.date(2022, 1, 21),\n",
       "       datetime.date(2022, 1, 24), datetime.date(2022, 1, 25),\n",
       "       datetime.date(2022, 1, 26), datetime.date(2022, 1, 27),\n",
       "       datetime.date(2022, 1, 28), datetime.date(2022, 1, 31),\n",
       "       datetime.date(2022, 2, 1), datetime.date(2022, 2, 2),\n",
       "       datetime.date(2022, 2, 3), datetime.date(2022, 2, 4),\n",
       "       datetime.date(2022, 2, 7), datetime.date(2022, 2, 8),\n",
       "       datetime.date(2022, 2, 9), datetime.date(2022, 2, 10),\n",
       "       datetime.date(2022, 2, 11), datetime.date(2022, 2, 14),\n",
       "       datetime.date(2022, 2, 15), datetime.date(2022, 2, 16),\n",
       "       datetime.date(2022, 2, 17), datetime.date(2022, 2, 18),\n",
       "       datetime.date(2022, 2, 22), datetime.date(2022, 2, 23),\n",
       "       datetime.date(2022, 2, 24), datetime.date(2022, 2, 25),\n",
       "       datetime.date(2022, 2, 28), datetime.date(2022, 3, 1),\n",
       "       datetime.date(2022, 3, 2), datetime.date(2022, 3, 3),\n",
       "       datetime.date(2022, 3, 4), datetime.date(2022, 3, 7),\n",
       "       datetime.date(2022, 3, 8), datetime.date(2022, 3, 9),\n",
       "       datetime.date(2022, 3, 10), datetime.date(2022, 3, 11),\n",
       "       datetime.date(2022, 3, 14), datetime.date(2022, 3, 15),\n",
       "       datetime.date(2022, 3, 16), datetime.date(2022, 3, 17),\n",
       "       datetime.date(2022, 3, 18), datetime.date(2022, 3, 21),\n",
       "       datetime.date(2022, 3, 22), datetime.date(2022, 3, 23),\n",
       "       datetime.date(2022, 3, 24), datetime.date(2022, 3, 25),\n",
       "       datetime.date(2022, 3, 28), datetime.date(2022, 3, 29),\n",
       "       datetime.date(2022, 3, 30), datetime.date(2022, 3, 31)],\n",
       "      dtype=object)"
      ]
     },
     "execution_count": 15,
     "metadata": {},
     "output_type": "execute_result"
    }
   ],
   "source": [
    "get_trading_day_range('2022-01-01', '2022-3-31')"
   ]
  },
  {
   "cell_type": "code",
   "execution_count": 16,
   "id": "f859f27b-e3a7-48a0-abce-ba8dc71d8ae6",
   "metadata": {},
   "outputs": [
    {
     "data": {
      "text/plain": [
       "0     2022-01-03\n",
       "1     2022-01-04\n",
       "2     2022-01-05\n",
       "3     2022-01-06\n",
       "4     2022-01-07\n",
       "         ...    \n",
       "57    2022-03-25\n",
       "58    2022-03-28\n",
       "59    2022-03-29\n",
       "60    2022-03-30\n",
       "61    2022-03-31\n",
       "Length: 62, dtype: object"
      ]
     },
     "execution_count": 16,
     "metadata": {},
     "output_type": "execute_result"
    }
   ],
   "source": [
    "get_trading_day_range('2022-01-01', '2022-3-31', return_as_series=True)"
   ]
  },
  {
   "cell_type": "markdown",
   "id": "201ce4c2-f0bd-4494-aef1-ce41b9ea2249",
   "metadata": {},
   "source": [
    "## `get_trading_day_offset`"
   ]
  },
  {
   "cell_type": "code",
   "execution_count": 20,
   "id": "859fbec4-08b8-4ca4-afb1-31d92f4243c8",
   "metadata": {},
   "outputs": [
    {
     "data": {
      "text/plain": [
       "datetime.date(2021, 12, 30)"
      ]
     },
     "execution_count": 20,
     "metadata": {},
     "output_type": "execute_result"
    }
   ],
   "source": [
    "get_trading_day_offset('2022-01-01', -2)"
   ]
  },
  {
   "cell_type": "code",
   "execution_count": 23,
   "id": "a3044b14-40c2-4acf-a23f-6cde5b857b18",
   "metadata": {},
   "outputs": [
    {
     "data": {
      "text/plain": [
       "0    2021-12-31\n",
       "1    2022-12-30\n",
       "dtype: object"
      ]
     },
     "execution_count": 23,
     "metadata": {},
     "output_type": "execute_result"
    }
   ],
   "source": [
    "ser = pd.Series(['2022-01-01', '2023-01-01'])\n",
    "get_trading_day_offset(ser, -1)"
   ]
  },
  {
   "cell_type": "markdown",
   "id": "4e32be03-acf9-4be8-963c-0e94d6ad6afe",
   "metadata": {},
   "source": [
    "## `get_num_trading_days_between`"
   ]
  },
  {
   "cell_type": "code",
   "execution_count": 27,
   "id": "fe5d1663-bed2-4672-b657-31c82db9c8ec",
   "metadata": {},
   "outputs": [
    {
     "data": {
      "text/plain": [
       "2"
      ]
     },
     "execution_count": 27,
     "metadata": {},
     "output_type": "execute_result"
    }
   ],
   "source": [
    "get_num_trading_days_between('2023-01-03', '2023-01-05')"
   ]
  },
  {
   "cell_type": "code",
   "execution_count": 28,
   "id": "767d72da-a59e-4db1-98dd-5d5589ea298c",
   "metadata": {},
   "outputs": [
    {
     "data": {
      "text/plain": [
       "3"
      ]
     },
     "execution_count": 28,
     "metadata": {},
     "output_type": "execute_result"
    }
   ],
   "source": [
    "get_num_trading_days_between('2022-12-30', '2023-01-05')"
   ]
  },
  {
   "cell_type": "code",
   "execution_count": 31,
   "id": "f3908872-07a4-423b-8f1c-f92af15f13b7",
   "metadata": {},
   "outputs": [],
   "source": [
    "left = pd.Series(['2023-01-03', '2022-12-30', np.nan])\n",
    "right = pd.Series(['2023-01-05', '2023-01-05', '2023-02-05'])"
   ]
  },
  {
   "cell_type": "code",
   "execution_count": 32,
   "id": "9639a823-06c9-4e48-affb-5a1642cda4e7",
   "metadata": {},
   "outputs": [
    {
     "data": {
      "text/plain": [
       "0    2.0\n",
       "1    3.0\n",
       "2    NaN\n",
       "dtype: float64"
      ]
     },
     "execution_count": 32,
     "metadata": {},
     "output_type": "execute_result"
    }
   ],
   "source": [
    "get_num_trading_days_between(left, right)"
   ]
  },
  {
   "cell_type": "code",
   "execution_count": null,
   "id": "81cdeae6-2704-4bf7-933d-2479579d8d97",
   "metadata": {},
   "outputs": [],
   "source": []
  }
 ],
 "metadata": {
  "kernelspec": {
   "display_name": "Python 3 (ipykernel)",
   "language": "python",
   "name": "python3"
  },
  "language_info": {
   "codemirror_mode": {
    "name": "ipython",
    "version": 3
   },
   "file_extension": ".py",
   "mimetype": "text/x-python",
   "name": "python",
   "nbconvert_exporter": "python",
   "pygments_lexer": "ipython3",
   "version": "3.11.0"
  }
 },
 "nbformat": 4,
 "nbformat_minor": 5
}
