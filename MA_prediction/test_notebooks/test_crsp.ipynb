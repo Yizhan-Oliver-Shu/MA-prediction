{
 "cells": [
  {
   "cell_type": "code",
   "execution_count": 1,
   "id": "8638c55d-a9f3-4f5a-9476-f39e12eef833",
   "metadata": {},
   "outputs": [],
   "source": [
    "%load_ext autoreload\n",
    "%autoreload 2\n",
    "import sys, os\n",
    "from os.path import expanduser\n",
    "## actions required!!!!!!!!!!!!!!!!!!!! change your folder path \n",
    "path = \"~/Documents/G3/MA-prediction\"\n",
    "path = expanduser(path)\n",
    "sys.path.append(path)"
   ]
  },
  {
   "cell_type": "code",
   "execution_count": 2,
   "id": "fd2b8ae8-25d3-4ee7-be21-7f21f8cd5e1f",
   "metadata": {},
   "outputs": [],
   "source": [
    "from MA_prediction.crsp import *"
   ]
  },
  {
   "cell_type": "code",
   "execution_count": 3,
   "id": "3800e16c-840f-419b-9182-e1bf56d904d5",
   "metadata": {},
   "outputs": [],
   "source": [
    "# plotting\n",
    "import matplotlib.pyplot as plt\n",
    "import matplotlib as mpl\n",
    "import seaborn as sns\n",
    "mpl.style.use(\"seaborn-v0_8\")\n",
    "plt.rcParams['figure.figsize'] = [9, 9]\n",
    "plt.rcParams['axes.titlesize'] = 20\n",
    "plt.rcParams['axes.labelsize'] = 20\n",
    "plt.rcParams['xtick.labelsize'] = 15\n",
    "plt.rcParams['ytick.labelsize'] = 15\n",
    "plt.rcParams['legend.fontsize'] = 18\n",
    "plt.rcParams['font.size'] = 30"
   ]
  },
  {
   "cell_type": "code",
   "execution_count": 4,
   "id": "b82aab9c-4ea0-428f-9dbe-ceda74d20e7f",
   "metadata": {},
   "outputs": [
    {
     "name": "stdin",
     "output_type": "stream",
     "text": [
      "Enter your WRDS username [yizhan]: olivershu\n",
      "Enter your password: ········\n"
     ]
    },
    {
     "name": "stdout",
     "output_type": "stream",
     "text": [
      "WRDS recommends setting up a .pgpass file.\n"
     ]
    },
    {
     "name": "stdin",
     "output_type": "stream",
     "text": [
      "Create .pgpass file now [y/n]?:  y\n"
     ]
    },
    {
     "name": "stdout",
     "output_type": "stream",
     "text": [
      "Created .pgpass file successfully.\n",
      "Loading library list...\n",
      "Done\n"
     ]
    }
   ],
   "source": [
    "import wrds\n",
    "db = wrds.Connection()"
   ]
  },
  {
   "cell_type": "markdown",
   "id": "3af8dac2-35d9-4a9a-8748-551e2a3c0204",
   "metadata": {
    "tags": []
   },
   "source": [
    "# find names / identifiers\n",
    "## `get_stocknames_CRSP`"
   ]
  },
  {
   "cell_type": "code",
   "execution_count": 7,
   "id": "dab80e1f-3ed9-4cda-8ce6-6acde7a2235a",
   "metadata": {},
   "outputs": [
    {
     "data": {
      "text/html": [
       "<div>\n",
       "<style scoped>\n",
       "    .dataframe tbody tr th:only-of-type {\n",
       "        vertical-align: middle;\n",
       "    }\n",
       "\n",
       "    .dataframe tbody tr th {\n",
       "        vertical-align: top;\n",
       "    }\n",
       "\n",
       "    .dataframe thead th {\n",
       "        text-align: right;\n",
       "    }\n",
       "</style>\n",
       "<table border=\"1\" class=\"dataframe\">\n",
       "  <thead>\n",
       "    <tr style=\"text-align: right;\">\n",
       "      <th></th>\n",
       "      <th>permno</th>\n",
       "      <th>permco</th>\n",
       "      <th>ticker</th>\n",
       "      <th>comnam</th>\n",
       "      <th>namedt</th>\n",
       "      <th>nameenddt</th>\n",
       "      <th>cusip</th>\n",
       "      <th>ncusip</th>\n",
       "    </tr>\n",
       "  </thead>\n",
       "  <tbody>\n",
       "    <tr>\n",
       "      <th>0</th>\n",
       "      <td>85969.0</td>\n",
       "      <td>16063.0</td>\n",
       "      <td>CGII</td>\n",
       "      <td>CUNNINGHAM GRAPHICS INTL INC</td>\n",
       "      <td>1998-04-22</td>\n",
       "      <td>2000-06-16</td>\n",
       "      <td>23115710</td>\n",
       "      <td>23115710</td>\n",
       "    </tr>\n",
       "  </tbody>\n",
       "</table>\n",
       "</div>"
      ],
      "text/plain": [
       "    permno   permco ticker                        comnam      namedt  \\\n",
       "0  85969.0  16063.0   CGII  CUNNINGHAM GRAPHICS INTL INC  1998-04-22   \n",
       "\n",
       "    nameenddt     cusip    ncusip  \n",
       "0  2000-06-16  23115710  23115710  "
      ]
     },
     "execution_count": 7,
     "metadata": {},
     "output_type": "execute_result"
    }
   ],
   "source": [
    "get_stocknames_CRSP('23115', 'cusip', db=db)"
   ]
  },
  {
   "cell_type": "code",
   "execution_count": 8,
   "id": "e9ef747b-dd2d-4cfc-9251-4d1dc8004935",
   "metadata": {},
   "outputs": [
    {
     "data": {
      "text/html": [
       "<div>\n",
       "<style scoped>\n",
       "    .dataframe tbody tr th:only-of-type {\n",
       "        vertical-align: middle;\n",
       "    }\n",
       "\n",
       "    .dataframe tbody tr th {\n",
       "        vertical-align: top;\n",
       "    }\n",
       "\n",
       "    .dataframe thead th {\n",
       "        text-align: right;\n",
       "    }\n",
       "</style>\n",
       "<table border=\"1\" class=\"dataframe\">\n",
       "  <thead>\n",
       "    <tr style=\"text-align: right;\">\n",
       "      <th></th>\n",
       "      <th>permno</th>\n",
       "      <th>permco</th>\n",
       "      <th>ticker</th>\n",
       "      <th>comnam</th>\n",
       "      <th>namedt</th>\n",
       "      <th>nameenddt</th>\n",
       "      <th>cusip</th>\n",
       "      <th>ncusip</th>\n",
       "    </tr>\n",
       "  </thead>\n",
       "  <tbody>\n",
       "    <tr>\n",
       "      <th>0</th>\n",
       "      <td>84788.0</td>\n",
       "      <td>15473.0</td>\n",
       "      <td>AMZN</td>\n",
       "      <td>AMAZON COM INC</td>\n",
       "      <td>1997-05-15</td>\n",
       "      <td>2022-12-30</td>\n",
       "      <td>02313510</td>\n",
       "      <td>02313510</td>\n",
       "    </tr>\n",
       "  </tbody>\n",
       "</table>\n",
       "</div>"
      ],
      "text/plain": [
       "    permno   permco ticker          comnam      namedt   nameenddt     cusip  \\\n",
       "0  84788.0  15473.0   AMZN  AMAZON COM INC  1997-05-15  2022-12-30  02313510   \n",
       "\n",
       "     ncusip  \n",
       "0  02313510  "
      ]
     },
     "execution_count": 8,
     "metadata": {},
     "output_type": "execute_result"
    }
   ],
   "source": [
    "get_stocknames_CRSP('AMZN', 'ticker', db=db)"
   ]
  },
  {
   "cell_type": "code",
   "execution_count": 9,
   "id": "9a83ecff-0b9b-4782-8d48-2c903bdc3fa9",
   "metadata": {},
   "outputs": [
    {
     "data": {
      "text/html": [
       "<div>\n",
       "<style scoped>\n",
       "    .dataframe tbody tr th:only-of-type {\n",
       "        vertical-align: middle;\n",
       "    }\n",
       "\n",
       "    .dataframe tbody tr th {\n",
       "        vertical-align: top;\n",
       "    }\n",
       "\n",
       "    .dataframe thead th {\n",
       "        text-align: right;\n",
       "    }\n",
       "</style>\n",
       "<table border=\"1\" class=\"dataframe\">\n",
       "  <thead>\n",
       "    <tr style=\"text-align: right;\">\n",
       "      <th></th>\n",
       "      <th>permno</th>\n",
       "      <th>permco</th>\n",
       "      <th>ticker</th>\n",
       "      <th>comnam</th>\n",
       "      <th>namedt</th>\n",
       "      <th>nameenddt</th>\n",
       "      <th>cusip</th>\n",
       "      <th>ncusip</th>\n",
       "    </tr>\n",
       "  </thead>\n",
       "  <tbody>\n",
       "    <tr>\n",
       "      <th>0</th>\n",
       "      <td>84788.0</td>\n",
       "      <td>15473.0</td>\n",
       "      <td>AMZN</td>\n",
       "      <td>AMAZON COM INC</td>\n",
       "      <td>1997-05-15</td>\n",
       "      <td>2022-12-30</td>\n",
       "      <td>02313510</td>\n",
       "      <td>02313510</td>\n",
       "    </tr>\n",
       "  </tbody>\n",
       "</table>\n",
       "</div>"
      ],
      "text/plain": [
       "    permno   permco ticker          comnam      namedt   nameenddt     cusip  \\\n",
       "0  84788.0  15473.0   AMZN  AMAZON COM INC  1997-05-15  2022-12-30  02313510   \n",
       "\n",
       "     ncusip  \n",
       "0  02313510  "
      ]
     },
     "execution_count": 9,
     "metadata": {},
     "output_type": "execute_result"
    }
   ],
   "source": [
    "get_stocknames_CRSP(84788., 'permno', db=db)"
   ]
  },
  {
   "cell_type": "code",
   "execution_count": 10,
   "id": "1424d192-5d14-4924-a572-c850ca383815",
   "metadata": {},
   "outputs": [
    {
     "data": {
      "text/html": [
       "<div>\n",
       "<style scoped>\n",
       "    .dataframe tbody tr th:only-of-type {\n",
       "        vertical-align: middle;\n",
       "    }\n",
       "\n",
       "    .dataframe tbody tr th {\n",
       "        vertical-align: top;\n",
       "    }\n",
       "\n",
       "    .dataframe thead th {\n",
       "        text-align: right;\n",
       "    }\n",
       "</style>\n",
       "<table border=\"1\" class=\"dataframe\">\n",
       "  <thead>\n",
       "    <tr style=\"text-align: right;\">\n",
       "      <th></th>\n",
       "      <th>permno</th>\n",
       "      <th>permco</th>\n",
       "      <th>ticker</th>\n",
       "      <th>comnam</th>\n",
       "      <th>namedt</th>\n",
       "      <th>nameenddt</th>\n",
       "      <th>cusip</th>\n",
       "      <th>ncusip</th>\n",
       "    </tr>\n",
       "  </thead>\n",
       "  <tbody>\n",
       "    <tr>\n",
       "      <th>0</th>\n",
       "      <td>84788.0</td>\n",
       "      <td>15473.0</td>\n",
       "      <td>AMZN</td>\n",
       "      <td>AMAZON COM INC</td>\n",
       "      <td>1997-05-15</td>\n",
       "      <td>2022-12-30</td>\n",
       "      <td>02313510</td>\n",
       "      <td>02313510</td>\n",
       "    </tr>\n",
       "  </tbody>\n",
       "</table>\n",
       "</div>"
      ],
      "text/plain": [
       "    permno   permco ticker          comnam      namedt   nameenddt     cusip  \\\n",
       "0  84788.0  15473.0   AMZN  AMAZON COM INC  1997-05-15  2022-12-30  02313510   \n",
       "\n",
       "     ncusip  \n",
       "0  02313510  "
      ]
     },
     "execution_count": 10,
     "metadata": {},
     "output_type": "execute_result"
    }
   ],
   "source": [
    "get_stocknames_CRSP('023135', 'cusip', db=db)"
   ]
  },
  {
   "cell_type": "code",
   "execution_count": 11,
   "id": "acada44e-02c5-419f-b8e6-1738cc655127",
   "metadata": {},
   "outputs": [
    {
     "data": {
      "text/html": [
       "<div>\n",
       "<style scoped>\n",
       "    .dataframe tbody tr th:only-of-type {\n",
       "        vertical-align: middle;\n",
       "    }\n",
       "\n",
       "    .dataframe tbody tr th {\n",
       "        vertical-align: top;\n",
       "    }\n",
       "\n",
       "    .dataframe thead th {\n",
       "        text-align: right;\n",
       "    }\n",
       "</style>\n",
       "<table border=\"1\" class=\"dataframe\">\n",
       "  <thead>\n",
       "    <tr style=\"text-align: right;\">\n",
       "      <th></th>\n",
       "      <th>permno</th>\n",
       "      <th>permco</th>\n",
       "      <th>ticker</th>\n",
       "      <th>comnam</th>\n",
       "      <th>namedt</th>\n",
       "      <th>nameenddt</th>\n",
       "      <th>cusip</th>\n",
       "      <th>ncusip</th>\n",
       "    </tr>\n",
       "  </thead>\n",
       "  <tbody>\n",
       "    <tr>\n",
       "      <th>0</th>\n",
       "      <td>87432.0</td>\n",
       "      <td>36364.0</td>\n",
       "      <td>A</td>\n",
       "      <td>AGILENT TECHNOLOGIES INC</td>\n",
       "      <td>2021-04-01</td>\n",
       "      <td>2022-12-30</td>\n",
       "      <td>00846U10</td>\n",
       "      <td>00846U10</td>\n",
       "    </tr>\n",
       "  </tbody>\n",
       "</table>\n",
       "</div>"
      ],
      "text/plain": [
       "    permno   permco ticker                    comnam      namedt   nameenddt  \\\n",
       "0  87432.0  36364.0      A  AGILENT TECHNOLOGIES INC  2021-04-01  2022-12-30   \n",
       "\n",
       "      cusip    ncusip  \n",
       "0  00846U10  00846U10  "
      ]
     },
     "execution_count": 11,
     "metadata": {},
     "output_type": "execute_result"
    }
   ],
   "source": [
    "get_stocknames_CRSP('A', 'ticker', date = '2022-12-01', db=db)"
   ]
  },
  {
   "cell_type": "markdown",
   "id": "4eb0ba29-374b-480a-b994-d6905863ecd6",
   "metadata": {},
   "source": [
    "## `get_fundnames_CRSP`"
   ]
  },
  {
   "cell_type": "code",
   "execution_count": 19,
   "id": "d2c01eeb-28b3-45e6-847c-8d638f48364b",
   "metadata": {},
   "outputs": [
    {
     "data": {
      "text/html": [
       "<div>\n",
       "<style scoped>\n",
       "    .dataframe tbody tr th:only-of-type {\n",
       "        vertical-align: middle;\n",
       "    }\n",
       "\n",
       "    .dataframe tbody tr th {\n",
       "        vertical-align: top;\n",
       "    }\n",
       "\n",
       "    .dataframe thead th {\n",
       "        text-align: right;\n",
       "    }\n",
       "</style>\n",
       "<table border=\"1\" class=\"dataframe\">\n",
       "  <thead>\n",
       "    <tr style=\"text-align: right;\">\n",
       "      <th></th>\n",
       "      <th>crsp_fundno</th>\n",
       "      <th>ticker</th>\n",
       "      <th>fund_name</th>\n",
       "      <th>et_flag</th>\n",
       "      <th>index_fund_flag</th>\n",
       "      <th>m_fund</th>\n",
       "      <th>first_offer_dt</th>\n",
       "    </tr>\n",
       "  </thead>\n",
       "  <tbody>\n",
       "    <tr>\n",
       "      <th>0</th>\n",
       "      <td>27635.0</td>\n",
       "      <td>SPY</td>\n",
       "      <td>SPDR Trust, Series 1</td>\n",
       "      <td>F</td>\n",
       "      <td>D</td>\n",
       "      <td>N</td>\n",
       "      <td>1993-01-22</td>\n",
       "    </tr>\n",
       "    <tr>\n",
       "      <th>1</th>\n",
       "      <td>27635.0</td>\n",
       "      <td>SPY</td>\n",
       "      <td>SPDR Trust, Series 1</td>\n",
       "      <td>F</td>\n",
       "      <td>D</td>\n",
       "      <td>N</td>\n",
       "      <td>1993-01-22</td>\n",
       "    </tr>\n",
       "    <tr>\n",
       "      <th>2</th>\n",
       "      <td>27635.0</td>\n",
       "      <td>SPY</td>\n",
       "      <td>SPDR Trust, Series 1</td>\n",
       "      <td>F</td>\n",
       "      <td>D</td>\n",
       "      <td>N</td>\n",
       "      <td>1993-01-22</td>\n",
       "    </tr>\n",
       "    <tr>\n",
       "      <th>3</th>\n",
       "      <td>27635.0</td>\n",
       "      <td>SPY</td>\n",
       "      <td>SPDR Trust, Series 1</td>\n",
       "      <td>F</td>\n",
       "      <td>D</td>\n",
       "      <td>N</td>\n",
       "      <td>1993-01-22</td>\n",
       "    </tr>\n",
       "    <tr>\n",
       "      <th>4</th>\n",
       "      <td>27635.0</td>\n",
       "      <td>SPY</td>\n",
       "      <td>SPDR S&amp;P 500 ETF Trust</td>\n",
       "      <td>F</td>\n",
       "      <td>D</td>\n",
       "      <td>N</td>\n",
       "      <td>1993-01-22</td>\n",
       "    </tr>\n",
       "    <tr>\n",
       "      <th>5</th>\n",
       "      <td>27635.0</td>\n",
       "      <td>SPY</td>\n",
       "      <td>SPDR S&amp;P 500 ETF Trust</td>\n",
       "      <td>F</td>\n",
       "      <td>D</td>\n",
       "      <td>N</td>\n",
       "      <td>1993-01-22</td>\n",
       "    </tr>\n",
       "    <tr>\n",
       "      <th>6</th>\n",
       "      <td>27635.0</td>\n",
       "      <td>SPY</td>\n",
       "      <td>SPDR S&amp;P 500 ETF Trust</td>\n",
       "      <td>F</td>\n",
       "      <td>D</td>\n",
       "      <td>N</td>\n",
       "      <td>1993-01-22</td>\n",
       "    </tr>\n",
       "    <tr>\n",
       "      <th>7</th>\n",
       "      <td>27635.0</td>\n",
       "      <td>SPY</td>\n",
       "      <td>SPDR S&amp;P 500 ETF Trust</td>\n",
       "      <td>F</td>\n",
       "      <td>D</td>\n",
       "      <td>N</td>\n",
       "      <td>1993-01-22</td>\n",
       "    </tr>\n",
       "    <tr>\n",
       "      <th>8</th>\n",
       "      <td>27635.0</td>\n",
       "      <td>SPY</td>\n",
       "      <td>SPDR S&amp;P 500 ETF Trust</td>\n",
       "      <td>F</td>\n",
       "      <td>D</td>\n",
       "      <td>N</td>\n",
       "      <td>1993-01-22</td>\n",
       "    </tr>\n",
       "  </tbody>\n",
       "</table>\n",
       "</div>"
      ],
      "text/plain": [
       "   crsp_fundno ticker               fund_name et_flag index_fund_flag m_fund  \\\n",
       "0      27635.0    SPY    SPDR Trust, Series 1       F               D      N   \n",
       "1      27635.0    SPY    SPDR Trust, Series 1       F               D      N   \n",
       "2      27635.0    SPY    SPDR Trust, Series 1       F               D      N   \n",
       "3      27635.0    SPY    SPDR Trust, Series 1       F               D      N   \n",
       "4      27635.0    SPY  SPDR S&P 500 ETF Trust       F               D      N   \n",
       "5      27635.0    SPY  SPDR S&P 500 ETF Trust       F               D      N   \n",
       "6      27635.0    SPY  SPDR S&P 500 ETF Trust       F               D      N   \n",
       "7      27635.0    SPY  SPDR S&P 500 ETF Trust       F               D      N   \n",
       "8      27635.0    SPY  SPDR S&P 500 ETF Trust       F               D      N   \n",
       "\n",
       "  first_offer_dt  \n",
       "0     1993-01-22  \n",
       "1     1993-01-22  \n",
       "2     1993-01-22  \n",
       "3     1993-01-22  \n",
       "4     1993-01-22  \n",
       "5     1993-01-22  \n",
       "6     1993-01-22  \n",
       "7     1993-01-22  \n",
       "8     1993-01-22  "
      ]
     },
     "execution_count": 19,
     "metadata": {},
     "output_type": "execute_result"
    }
   ],
   "source": [
    "get_fundnames_CRSP('SPY', 'ticker', db=db)"
   ]
  },
  {
   "cell_type": "markdown",
   "id": "edbbe27a-19f8-49b5-b641-ed3d84aaf27f",
   "metadata": {},
   "source": [
    "## `get_stock_permno_CRSP`"
   ]
  },
  {
   "cell_type": "code",
   "execution_count": 20,
   "id": "8c562c7b-3955-4050-a25c-4aeae16e5607",
   "metadata": {},
   "outputs": [
    {
     "data": {
      "text/plain": [
       "permno              27633.0\n",
       "ticker                    R\n",
       "cusip              78354910\n",
       "comnam    RYDER SYSTEMS INC\n",
       "dtype: object"
      ]
     },
     "execution_count": 20,
     "metadata": {},
     "output_type": "execute_result"
    }
   ],
   "source": [
    "get_stock_permno_CRSP('R', 'ticker', date='2022-01-01', return_names=True, db=db)"
   ]
  },
  {
   "cell_type": "code",
   "execution_count": 21,
   "id": "a7a24d58-0d15-4907-a8de-4f3df3a05947",
   "metadata": {},
   "outputs": [
    {
     "data": {
      "text/plain": [
       "permno    Multiple permnos\n",
       "ticker                 NaN\n",
       "cusip                  NaN\n",
       "comnam                 NaN\n",
       "dtype: object"
      ]
     },
     "execution_count": 21,
     "metadata": {},
     "output_type": "execute_result"
    }
   ],
   "source": [
    "get_stock_permno_CRSP('R', 'ticker', return_names=True, db=db)"
   ]
  },
  {
   "cell_type": "code",
   "execution_count": 22,
   "id": "af63abcc-6f81-4f97-8e06-ecdb40cb675f",
   "metadata": {},
   "outputs": [
    {
     "data": {
      "text/plain": [
       "'Multiple permnos'"
      ]
     },
     "execution_count": 22,
     "metadata": {},
     "output_type": "execute_result"
    }
   ],
   "source": [
    "get_stock_permno_CRSP('R', 'ticker', return_names=False, db=db)"
   ]
  },
  {
   "cell_type": "code",
   "execution_count": 23,
   "id": "3ef685d7-4be2-41a2-8243-bf589e0bff07",
   "metadata": {},
   "outputs": [
    {
     "data": {
      "text/plain": [
       "permno           84788.0\n",
       "ticker              AMZN\n",
       "cusip           02313510\n",
       "comnam    AMAZON COM INC\n",
       "dtype: object"
      ]
     },
     "execution_count": 23,
     "metadata": {},
     "output_type": "execute_result"
    }
   ],
   "source": [
    "get_stock_permno_CRSP('AMZN', 'ticker', return_names=True, db=db)"
   ]
  },
  {
   "cell_type": "markdown",
   "id": "86ae114d-b92a-4e80-97cb-d711c9098e3d",
   "metadata": {},
   "source": [
    "## `get_fund_crsp_fundno_CRSP`"
   ]
  },
  {
   "cell_type": "code",
   "execution_count": 25,
   "id": "b3a61bb6-93f5-46a8-9ea9-247e5e1cf42d",
   "metadata": {},
   "outputs": [
    {
     "data": {
      "text/plain": [
       "crsp_fundno                       27635.0\n",
       "ticker                                SPY\n",
       "fund_name          SPDR S&P 500 ETF Trust\n",
       "et_flag                                 F\n",
       "index_fund_flag                         D\n",
       "m_fund                                  N\n",
       "first_offer_dt                 1993-01-22\n",
       "dtype: object"
      ]
     },
     "execution_count": 25,
     "metadata": {},
     "output_type": "execute_result"
    }
   ],
   "source": [
    "get_fund_crsp_fundno_CRSP('SPY', return_names=True, db=db)"
   ]
  },
  {
   "cell_type": "code",
   "execution_count": 28,
   "id": "9ca2433a-4086-42cc-adc4-d4a4f3aaeafd",
   "metadata": {},
   "outputs": [
    {
     "data": {
      "text/plain": [
       "crsp_fundno                                                  19469.0\n",
       "ticker                                                         ARIFX\n",
       "fund_name          Wilmington Funds: Wilmington Intermediate-Term...\n",
       "et_flag                                                         None\n",
       "index_fund_flag                                                 None\n",
       "m_fund                                                             N\n",
       "first_offer_dt                                            1996-11-18\n",
       "dtype: object"
      ]
     },
     "execution_count": 28,
     "metadata": {},
     "output_type": "execute_result"
    }
   ],
   "source": [
    "get_fund_crsp_fundno_CRSP('ARIFX', return_names=True, db=db)"
   ]
  },
  {
   "cell_type": "markdown",
   "id": "9c58eb69-70ee-4579-8c88-c391cdb051f0",
   "metadata": {
    "tags": []
   },
   "source": [
    "## `get_stock_permno_by_ticker_and_cusip_CRSP`"
   ]
  },
  {
   "cell_type": "code",
   "execution_count": 29,
   "id": "e5434468-891f-4d96-9d73-7a3855f1b7f9",
   "metadata": {},
   "outputs": [
    {
     "data": {
      "text/plain": [
       "permno           84788.0\n",
       "ticker              AMZN\n",
       "cusip           02313510\n",
       "comnam    AMAZON COM INC\n",
       "dtype: object"
      ]
     },
     "execution_count": 29,
     "metadata": {},
     "output_type": "execute_result"
    }
   ],
   "source": [
    "get_stock_permno_by_ticker_and_cusip_CRSP('AMZN', np.nan, return_names=True, db=db)"
   ]
  },
  {
   "cell_type": "code",
   "execution_count": 30,
   "id": "92d4bd04-d209-4ede-8dec-d3954340c946",
   "metadata": {},
   "outputs": [
    {
     "data": {
      "text/plain": [
       "permno    NaN\n",
       "ticker    NaN\n",
       "cusip     NaN\n",
       "comnam    NaN\n",
       "dtype: object"
      ]
     },
     "execution_count": 30,
     "metadata": {},
     "output_type": "execute_result"
    }
   ],
   "source": [
    "get_stock_permno_by_ticker_and_cusip_CRSP('A', np.nan, return_names=True, db=db)"
   ]
  },
  {
   "cell_type": "code",
   "execution_count": 31,
   "id": "7b67bc08-19e1-4dd3-84c9-869dceb2be11",
   "metadata": {},
   "outputs": [
    {
     "data": {
      "text/plain": [
       "permno                     87432.0\n",
       "ticker                           A\n",
       "cusip                     00846U10\n",
       "comnam    AGILENT TECHNOLOGIES INC\n",
       "dtype: object"
      ]
     },
     "execution_count": 31,
     "metadata": {},
     "output_type": "execute_result"
    }
   ],
   "source": [
    "get_stock_permno_by_ticker_and_cusip_CRSP('A', np.nan, date='2022-01-01', return_names=True, db=db)"
   ]
  },
  {
   "cell_type": "code",
   "execution_count": 32,
   "id": "0454cb2d-afff-4297-b077-e43ab25c1bd3",
   "metadata": {},
   "outputs": [
    {
     "data": {
      "text/plain": [
       "permno           84788.0\n",
       "ticker              AMZN\n",
       "cusip           02313510\n",
       "comnam    AMAZON COM INC\n",
       "dtype: object"
      ]
     },
     "execution_count": 32,
     "metadata": {},
     "output_type": "execute_result"
    }
   ],
   "source": [
    "get_stock_permno_by_ticker_and_cusip_CRSP('AMZZN', '023135', return_names=True, db=db)"
   ]
  },
  {
   "cell_type": "code",
   "execution_count": 49,
   "id": "894c1459-9e07-482e-a083-c2a2bb5c5024",
   "metadata": {},
   "outputs": [
    {
     "data": {
      "text/plain": [
       "permno    NaN\n",
       "ticker    NaN\n",
       "cusip     NaN\n",
       "comnam    NaN\n",
       "dtype: object"
      ]
     },
     "execution_count": 49,
     "metadata": {},
     "output_type": "execute_result"
    }
   ],
   "source": [
    "get_stock_permno_by_ticker_and_cusip_CRSP('AMZZN', '023139', return_names=True, db=db)"
   ]
  },
  {
   "cell_type": "code",
   "execution_count": 50,
   "id": "3e7e9d11-0f07-446c-ae2e-177ba67ac978",
   "metadata": {},
   "outputs": [
    {
     "data": {
      "text/html": [
       "<div>\n",
       "<style scoped>\n",
       "    .dataframe tbody tr th:only-of-type {\n",
       "        vertical-align: middle;\n",
       "    }\n",
       "\n",
       "    .dataframe tbody tr th {\n",
       "        vertical-align: top;\n",
       "    }\n",
       "\n",
       "    .dataframe thead th {\n",
       "        text-align: right;\n",
       "    }\n",
       "</style>\n",
       "<table border=\"1\" class=\"dataframe\">\n",
       "  <thead>\n",
       "    <tr style=\"text-align: right;\">\n",
       "      <th></th>\n",
       "      <th>permno</th>\n",
       "      <th>permco</th>\n",
       "      <th>ticker</th>\n",
       "      <th>comnam</th>\n",
       "      <th>namedt</th>\n",
       "      <th>nameenddt</th>\n",
       "      <th>cusip</th>\n",
       "      <th>ncusip</th>\n",
       "    </tr>\n",
       "  </thead>\n",
       "  <tbody>\n",
       "    <tr>\n",
       "      <th>0</th>\n",
       "      <td>13919.0</td>\n",
       "      <td>29052.0</td>\n",
       "      <td>AMBC</td>\n",
       "      <td>AMBAC FINANCIAL GROUP INC</td>\n",
       "      <td>2013-05-01</td>\n",
       "      <td>2020-02-02</td>\n",
       "      <td>02313988</td>\n",
       "      <td>02313988</td>\n",
       "    </tr>\n",
       "    <tr>\n",
       "      <th>1</th>\n",
       "      <td>13919.0</td>\n",
       "      <td>29052.0</td>\n",
       "      <td>AMBC</td>\n",
       "      <td>AMBAC FINANCIAL GROUP INC</td>\n",
       "      <td>2020-02-03</td>\n",
       "      <td>2021-01-26</td>\n",
       "      <td>02313988</td>\n",
       "      <td>02313988</td>\n",
       "    </tr>\n",
       "    <tr>\n",
       "      <th>2</th>\n",
       "      <td>13919.0</td>\n",
       "      <td>29052.0</td>\n",
       "      <td>AMBC</td>\n",
       "      <td>AMBAC FINANCIAL GROUP INC</td>\n",
       "      <td>2021-01-27</td>\n",
       "      <td>2022-12-30</td>\n",
       "      <td>02313988</td>\n",
       "      <td>02313988</td>\n",
       "    </tr>\n",
       "    <tr>\n",
       "      <th>3</th>\n",
       "      <td>76757.0</td>\n",
       "      <td>29052.0</td>\n",
       "      <td>ABK</td>\n",
       "      <td>AMBAC INC</td>\n",
       "      <td>1991-07-11</td>\n",
       "      <td>1997-07-13</td>\n",
       "      <td>02313910</td>\n",
       "      <td>02313910</td>\n",
       "    </tr>\n",
       "    <tr>\n",
       "      <th>4</th>\n",
       "      <td>76757.0</td>\n",
       "      <td>29052.0</td>\n",
       "      <td>ABK</td>\n",
       "      <td>AMBAC FINANCIAL GROUP INC</td>\n",
       "      <td>1997-07-14</td>\n",
       "      <td>1998-08-31</td>\n",
       "      <td>02313910</td>\n",
       "      <td>02313910</td>\n",
       "    </tr>\n",
       "    <tr>\n",
       "      <th>5</th>\n",
       "      <td>76757.0</td>\n",
       "      <td>29052.0</td>\n",
       "      <td>ABK</td>\n",
       "      <td>AMBAC FINANCIAL GROUP INC</td>\n",
       "      <td>1998-09-01</td>\n",
       "      <td>2006-06-29</td>\n",
       "      <td>02313910</td>\n",
       "      <td>02313910</td>\n",
       "    </tr>\n",
       "    <tr>\n",
       "      <th>6</th>\n",
       "      <td>76757.0</td>\n",
       "      <td>29052.0</td>\n",
       "      <td>ABK</td>\n",
       "      <td>AMBAC FINANCIAL GROUP INC</td>\n",
       "      <td>2006-06-30</td>\n",
       "      <td>2010-11-08</td>\n",
       "      <td>02313910</td>\n",
       "      <td>02313910</td>\n",
       "    </tr>\n",
       "    <tr>\n",
       "      <th>7</th>\n",
       "      <td>84788.0</td>\n",
       "      <td>15473.0</td>\n",
       "      <td>AMZN</td>\n",
       "      <td>AMAZON COM INC</td>\n",
       "      <td>1997-05-15</td>\n",
       "      <td>2022-12-30</td>\n",
       "      <td>02313510</td>\n",
       "      <td>02313510</td>\n",
       "    </tr>\n",
       "  </tbody>\n",
       "</table>\n",
       "</div>"
      ],
      "text/plain": [
       "    permno   permco ticker                     comnam      namedt   nameenddt  \\\n",
       "0  13919.0  29052.0   AMBC  AMBAC FINANCIAL GROUP INC  2013-05-01  2020-02-02   \n",
       "1  13919.0  29052.0   AMBC  AMBAC FINANCIAL GROUP INC  2020-02-03  2021-01-26   \n",
       "2  13919.0  29052.0   AMBC  AMBAC FINANCIAL GROUP INC  2021-01-27  2022-12-30   \n",
       "3  76757.0  29052.0    ABK                  AMBAC INC  1991-07-11  1997-07-13   \n",
       "4  76757.0  29052.0    ABK  AMBAC FINANCIAL GROUP INC  1997-07-14  1998-08-31   \n",
       "5  76757.0  29052.0    ABK  AMBAC FINANCIAL GROUP INC  1998-09-01  2006-06-29   \n",
       "6  76757.0  29052.0    ABK  AMBAC FINANCIAL GROUP INC  2006-06-30  2010-11-08   \n",
       "7  84788.0  15473.0   AMZN             AMAZON COM INC  1997-05-15  2022-12-30   \n",
       "\n",
       "      cusip    ncusip  \n",
       "0  02313988  02313988  \n",
       "1  02313988  02313988  \n",
       "2  02313988  02313988  \n",
       "3  02313910  02313910  \n",
       "4  02313910  02313910  \n",
       "5  02313910  02313910  \n",
       "6  02313910  02313910  \n",
       "7  02313510  02313510  "
      ]
     },
     "execution_count": 50,
     "metadata": {},
     "output_type": "execute_result"
    }
   ],
   "source": [
    "get_stocknames_CRSP('02313', 'cusip', db=db)"
   ]
  },
  {
   "cell_type": "code",
   "execution_count": 51,
   "id": "c9fcb9e0-1489-4b38-90af-b9cb5d3bfb40",
   "metadata": {},
   "outputs": [
    {
     "data": {
      "text/plain": [
       "nan"
      ]
     },
     "execution_count": 51,
     "metadata": {},
     "output_type": "execute_result"
    }
   ],
   "source": [
    "get_stock_permno_by_ticker_and_cusip_CRSP('A', np.nan, return_names=False, db=db)"
   ]
  },
  {
   "cell_type": "markdown",
   "id": "ee334a8d-6ce7-4f37-9fc5-7f362a32fabc",
   "metadata": {},
   "source": [
    "# Market Data\n",
    "## `get_total_mkt_return_daily_CRSP`"
   ]
  },
  {
   "cell_type": "code",
   "execution_count": 48,
   "id": "2aefe78e-bbd1-4e85-9c5e-3897b35c85a2",
   "metadata": {},
   "outputs": [
    {
     "data": {
      "text/plain": [
       "date\n",
       "1926-01-02    0.005689\n",
       "1926-01-04    0.000706\n",
       "1926-01-05   -0.004821\n",
       "1926-01-06   -0.000423\n",
       "1926-01-07    0.004988\n",
       "                ...   \n",
       "2022-12-23    0.005466\n",
       "2022-12-27   -0.003928\n",
       "2022-12-28   -0.012366\n",
       "2022-12-29    0.018337\n",
       "2022-12-30   -0.002453\n",
       "Name: vwretd, Length: 25548, dtype: float64"
      ]
     },
     "execution_count": 48,
     "metadata": {},
     "output_type": "execute_result"
    }
   ],
   "source": [
    "get_total_mkt_return_daily_CRSP(db=db)"
   ]
  },
  {
   "cell_type": "code",
   "execution_count": 49,
   "id": "df76bd8f-b342-4c82-aead-6a9418023fc1",
   "metadata": {},
   "outputs": [
    {
     "data": {
      "text/plain": [
       "date\n",
       "2022-01-03    0.006154\n",
       "2022-01-04   -0.002351\n",
       "2022-01-05   -0.021879\n",
       "2022-01-06    0.000161\n",
       "2022-01-07   -0.004164\n",
       "                ...   \n",
       "2022-12-23    0.005466\n",
       "2022-12-27   -0.003928\n",
       "2022-12-28   -0.012366\n",
       "2022-12-29    0.018337\n",
       "2022-12-30   -0.002453\n",
       "Name: vwretd, Length: 251, dtype: float64"
      ]
     },
     "execution_count": 49,
     "metadata": {},
     "output_type": "execute_result"
    }
   ],
   "source": [
    "get_total_mkt_return_daily_CRSP(start_date='2022-01-01', end_date='2022-12-31', db=db)"
   ]
  },
  {
   "cell_type": "code",
   "execution_count": 78,
   "id": "4a7fea25-feff-4fd4-9fea-fc44a3690596",
   "metadata": {},
   "outputs": [
    {
     "data": {
      "text/plain": [
       "date\n",
       "2022-01-01/2022-01-07   -0.022104\n",
       "2022-01-08/2022-01-14   -0.003525\n",
       "2022-01-15/2022-01-21   -0.058359\n",
       "2022-01-22/2022-01-28    0.002171\n",
       "2022-01-29/2022-02-04    0.019221\n",
       "2022-02-05/2022-02-11   -0.010781\n",
       "2022-02-12/2022-02-18   -0.016029\n",
       "2022-02-19/2022-02-25    0.008331\n",
       "2022-02-26/2022-03-04   -0.016090\n",
       "2022-03-05/2022-03-11   -0.025723\n",
       "2022-03-12/2022-03-18    0.061315\n",
       "2022-03-19/2022-03-25    0.014226\n",
       "2022-03-26/2022-04-01    0.002858\n",
       "2022-04-02/2022-04-08   -0.018521\n",
       "2022-04-09/2022-04-15   -0.015582\n",
       "2022-04-16/2022-04-22   -0.030087\n",
       "2022-04-23/2022-04-29   -0.032985\n",
       "2022-04-30/2022-05-06   -0.006720\n",
       "2022-05-07/2022-05-13   -0.023721\n",
       "2022-05-14/2022-05-20   -0.024565\n",
       "2022-05-21/2022-05-27    0.062379\n",
       "2022-05-28/2022-06-03   -0.009346\n",
       "2022-06-04/2022-06-10   -0.049024\n",
       "2022-06-11/2022-06-17   -0.059155\n",
       "2022-06-18/2022-06-24    0.060295\n",
       "2022-06-25/2022-07-01   -0.021505\n",
       "2022-07-02/2022-07-08    0.018819\n",
       "2022-07-09/2022-07-15   -0.011893\n",
       "2022-07-16/2022-07-22    0.028494\n",
       "2022-07-23/2022-07-29    0.041602\n",
       "2022-07-30/2022-08-05    0.006619\n",
       "2022-08-06/2022-08-12    0.034265\n",
       "2022-08-13/2022-08-19   -0.016433\n",
       "2022-08-20/2022-08-26   -0.034922\n",
       "2022-08-27/2022-09-02   -0.034340\n",
       "2022-09-03/2022-09-09    0.037766\n",
       "2022-09-10/2022-09-16   -0.045506\n",
       "2022-09-17/2022-09-23   -0.050870\n",
       "2022-09-24/2022-09-30   -0.024119\n",
       "2022-10-01/2022-10-07    0.016804\n",
       "2022-10-08/2022-10-14   -0.018244\n",
       "2022-10-15/2022-10-21    0.044225\n",
       "2022-10-22/2022-10-28    0.039892\n",
       "2022-10-29/2022-11-04   -0.028944\n",
       "2022-11-05/2022-11-11    0.057876\n",
       "2022-11-12/2022-11-18   -0.009095\n",
       "2022-11-19/2022-11-25    0.014974\n",
       "2022-11-26/2022-12-02    0.012196\n",
       "2022-12-03/2022-12-09   -0.035247\n",
       "2022-12-10/2022-12-16   -0.019847\n",
       "2022-12-17/2022-12-23   -0.001894\n",
       "2022-12-24/2022-12-30   -0.000664\n",
       "Freq: W-FRI, Name: vwretd, dtype: float64"
      ]
     },
     "execution_count": 78,
     "metadata": {},
     "output_type": "execute_result"
    }
   ],
   "source": [
    "get_total_mkt_return_weekly_CRSP(start_date='2022-01-01', end_date='2022-12-31', db=db)"
   ]
  },
  {
   "cell_type": "code",
   "execution_count": 86,
   "id": "d9a5d188-14c9-4082-885a-8044e9724403",
   "metadata": {},
   "outputs": [
    {
     "data": {
      "text/plain": [
       "month\n",
       "1926-01    0.000561\n",
       "1926-02   -0.033046\n",
       "1926-03   -0.064002\n",
       "1926-04    0.037029\n",
       "1926-05    0.012095\n",
       "             ...   \n",
       "2022-08   -0.036240\n",
       "2022-09   -0.091324\n",
       "2022-10    0.077403\n",
       "2022-11    0.052365\n",
       "2022-12   -0.057116\n",
       "Freq: M, Name: vwretd, Length: 1164, dtype: float64"
      ]
     },
     "execution_count": 86,
     "metadata": {},
     "output_type": "execute_result"
    }
   ],
   "source": [
    "get_total_mkt_return_monthly_CRSP(db=db)"
   ]
  },
  {
   "cell_type": "markdown",
   "id": "74fc39fc-b203-4380-af1f-033d197bef35",
   "metadata": {},
   "source": [
    "## `get_fund_daily_return_CRSP`"
   ]
  },
  {
   "cell_type": "code",
   "execution_count": 62,
   "id": "c2a9f57d-4187-4d9a-9ac1-0bb519dc3dfa",
   "metadata": {},
   "outputs": [
    {
     "data": {
      "text/plain": [
       "date\n",
       "1998-09-01    0.038522\n",
       "1998-09-02   -0.003609\n",
       "1998-09-03   -0.008250\n",
       "1998-09-04   -0.008420\n",
       "1998-09-08    0.050747\n",
       "                ...   \n",
       "2022-09-26   -0.010334\n",
       "2022-09-27   -0.002053\n",
       "2022-09-28    0.019721\n",
       "2022-09-29   -0.020978\n",
       "2022-09-30   -0.015018\n",
       "Name: dret, Length: 6061, dtype: float64"
      ]
     },
     "execution_count": 62,
     "metadata": {},
     "output_type": "execute_result"
    }
   ],
   "source": [
    "get_fund_daily_return_CRSP('SPY', 'ticker', db=db)"
   ]
  },
  {
   "cell_type": "code",
   "execution_count": 63,
   "id": "bc8ad587-f3c5-4e5e-af63-97c8ee80b079",
   "metadata": {},
   "outputs": [
    {
     "data": {
      "text/plain": [
       "month\n",
       "1993-01         NaN\n",
       "1993-02    0.013446\n",
       "1993-03    0.021005\n",
       "1993-04   -0.024342\n",
       "1993-05    0.026310\n",
       "             ...   \n",
       "2022-05    0.001713\n",
       "2022-06   -0.082241\n",
       "2022-07    0.092054\n",
       "2022-08   -0.040741\n",
       "2022-09   -0.095805\n",
       "Freq: M, Name: mret, Length: 357, dtype: float64"
      ]
     },
     "execution_count": 63,
     "metadata": {},
     "output_type": "execute_result"
    }
   ],
   "source": [
    "get_fund_monthly_return_CRSP('SPY', 'ticker', db=db)"
   ]
  },
  {
   "cell_type": "code",
   "execution_count": null,
   "id": "7cbc272b-7c25-4bc6-898d-a1370a0d9003",
   "metadata": {},
   "outputs": [],
   "source": []
  }
 ],
 "metadata": {
  "kernelspec": {
   "display_name": "Python 3 (ipykernel)",
   "language": "python",
   "name": "python3"
  },
  "language_info": {
   "codemirror_mode": {
    "name": "ipython",
    "version": 3
   },
   "file_extension": ".py",
   "mimetype": "text/x-python",
   "name": "python",
   "nbconvert_exporter": "python",
   "pygments_lexer": "ipython3",
   "version": "3.11.0"
  }
 },
 "nbformat": 4,
 "nbformat_minor": 5
}
