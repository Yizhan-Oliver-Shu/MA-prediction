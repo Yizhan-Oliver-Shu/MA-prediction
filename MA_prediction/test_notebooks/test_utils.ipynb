{
 "cells": [
  {
   "cell_type": "code",
   "execution_count": 3,
   "id": "1d3a5031-959f-46c7-a7ea-acb79c501876",
   "metadata": {},
   "outputs": [
    {
     "name": "stdout",
     "output_type": "stream",
     "text": [
      "The autoreload extension is already loaded. To reload it, use:\n",
      "  %reload_ext autoreload\n"
     ]
    }
   ],
   "source": [
    "%load_ext autoreload\n",
    "%autoreload 2\n",
    "import sys, os\n",
    "from os.path import expanduser\n",
    "## actions required!!!!!!!!!!!!!!!!!!!! change your folder path \n",
    "path = \"~/Documents/G3/MA-prediction\"\n",
    "path = expanduser(path)\n",
    "sys.path.append(path)"
   ]
  },
  {
   "cell_type": "code",
   "execution_count": 4,
   "id": "c527d178-be72-4fd2-8c61-25ecaa631d3e",
   "metadata": {},
   "outputs": [],
   "source": [
    "from MA_prediction.utils import *"
   ]
  },
  {
   "cell_type": "markdown",
   "id": "a0869e21-947c-45a6-b91e-628af5fe86a3",
   "metadata": {},
   "source": [
    "## `to_monthly_period_index`"
   ]
  },
  {
   "cell_type": "code",
   "execution_count": null,
   "id": "95575893-3f3c-422d-a13a-383736f93afe",
   "metadata": {},
   "outputs": [],
   "source": []
  },
  {
   "cell_type": "markdown",
   "id": "4e2bb611-ca52-4b9d-97f5-d94adbf0c928",
   "metadata": {},
   "source": [
    "## `compound_daily_return_to_other_freq`"
   ]
  },
  {
   "cell_type": "code",
   "execution_count": null,
   "id": "6a4e0252-1d3b-4abf-b623-541811ea3419",
   "metadata": {},
   "outputs": [],
   "source": [
    "compound_daily_return_to_other_freq()"
   ]
  }
 ],
 "metadata": {
  "kernelspec": {
   "display_name": "Python 3 (ipykernel)",
   "language": "python",
   "name": "python3"
  },
  "language_info": {
   "codemirror_mode": {
    "name": "ipython",
    "version": 3
   },
   "file_extension": ".py",
   "mimetype": "text/x-python",
   "name": "python",
   "nbconvert_exporter": "python",
   "pygments_lexer": "ipython3",
   "version": "3.11.0"
  }
 },
 "nbformat": 4,
 "nbformat_minor": 5
}
