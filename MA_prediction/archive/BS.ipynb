{
 "cells": [
  {
   "cell_type": "markdown",
   "id": "a96c1a92-8818-424b-a25f-e25d17bc0f22",
   "metadata": {},
   "source": [
    "$\\frac{dS_t}{S_t} = \\mu dt+\\sigma dW_t$\n",
    "\n",
    "$E[S_T]$?\n",
    "\n",
    "$S_T=S_0\\exp((\\mu-\\frac12\\sigma^2)T+\\sigma W_T)\n",
    "=S_0\\exp(N((\\mu-\\frac12\\sigma^2)T, \\sigma^2T))$\n",
    "\n",
    "$E[S_T]=S_0\\exp((\\mu-\\frac12\\sigma^2)T)\\exp(\\frac12\\sigma^2T)=S_0\\exp(\\mu T)$"
   ]
  },
  {
   "cell_type": "code",
   "execution_count": null,
   "id": "bb1b0ad9-2965-45fa-9842-a538b7b3a919",
   "metadata": {},
   "outputs": [],
   "source": []
  },
  {
   "cell_type": "markdown",
   "id": "f32b584b-d9c3-4517-ab28-7726545d7f30",
   "metadata": {},
   "source": [
    "$\\frac{dS_t}{S_t} = e dt+f dW_t$\n",
    "\n",
    "$S_T=S_0\\exp((e-\\frac12 f^2)T+f\\sqrt{T}Z)$\n"
   ]
  },
  {
   "cell_type": "markdown",
   "id": "59a7fcd4-d5aa-4881-99da-2c163bab393e",
   "metadata": {},
   "source": [
    "$(e-\\frac12 f^2)=(r-\\frac12\\sigma^2)a$\n",
    "\n",
    "$f=\\sigma b$"
   ]
  },
  {
   "cell_type": "markdown",
   "id": "2433f14e-82f7-47cc-b4db-044f29c36b6f",
   "metadata": {},
   "source": [
    "$e=\\frac12\\sigma^2b^2+(r-\\frac12\\sigma^2)a$\n",
    "\n",
    "$f=\\sigma b$"
   ]
  },
  {
   "cell_type": "code",
   "execution_count": null,
   "id": "61d733cc-a334-493b-bd02-e8489fb724ea",
   "metadata": {},
   "outputs": [],
   "source": []
  },
  {
   "cell_type": "code",
   "execution_count": null,
   "id": "778e6dd1-9a2b-4b80-842d-5c01b0ffe1ff",
   "metadata": {},
   "outputs": [],
   "source": []
  },
  {
   "cell_type": "markdown",
   "id": "e143f0a7-77c4-4609-90e5-15cf4c3681a1",
   "metadata": {},
   "source": [
    "$F=S_0\\exp(eT)=S_0\\exp((\\frac12\\sigma^2b^2+(r-\\frac12\\sigma^2)a)T)$"
   ]
  },
  {
   "cell_type": "markdown",
   "id": "a51ede52-2b48-4a28-80bb-c4dd0eb9680c",
   "metadata": {},
   "source": [
    "$d_-=\\frac{\\log\\frac FK-\\frac12f^2T}{f\\sqrt{T}}$"
   ]
  },
  {
   "cell_type": "markdown",
   "id": "2b054070-323f-43e2-bcdf-9e483eb67ce2",
   "metadata": {},
   "source": [
    "$-d_1=d_-$"
   ]
  },
  {
   "cell_type": "markdown",
   "id": "5c53efbf-fc3b-4721-9bb3-9c0d91d46885",
   "metadata": {},
   "source": [
    "$denominator=\\log\\frac FK-\\frac12f^2T=\\log\\frac{S_0}K+(r-\\frac12\\sigma^2)aT$"
   ]
  },
  {
   "cell_type": "code",
   "execution_count": null,
   "id": "16572ae2-fad0-4f1d-b95f-006affd6816c",
   "metadata": {},
   "outputs": [],
   "source": []
  },
  {
   "cell_type": "code",
   "execution_count": null,
   "id": "43bb0f8c-21b5-4fb2-b685-e7303512ed88",
   "metadata": {},
   "outputs": [],
   "source": []
  },
  {
   "cell_type": "code",
   "execution_count": null,
   "id": "8055b1fe-9d24-4424-92ee-307fffb610b0",
   "metadata": {},
   "outputs": [],
   "source": []
  },
  {
   "cell_type": "markdown",
   "id": "dd3074c5-25bb-492d-8c3c-6d52e6d75a3e",
   "metadata": {},
   "source": [
    "\\begin{align}\n",
    "&  FN(d_+)-KN(d_-)\\\\\n",
    "=&  \n",
    "\\end{align}"
   ]
  }
 ],
 "metadata": {
  "kernelspec": {
   "display_name": "Python 3 (ipykernel)",
   "language": "python",
   "name": "python3"
  },
  "language_info": {
   "codemirror_mode": {
    "name": "ipython",
    "version": 3
   },
   "file_extension": ".py",
   "mimetype": "text/x-python",
   "name": "python",
   "nbconvert_exporter": "python",
   "pygments_lexer": "ipython3",
   "version": "3.11.0"
  }
 },
 "nbformat": 4,
 "nbformat_minor": 5
}
