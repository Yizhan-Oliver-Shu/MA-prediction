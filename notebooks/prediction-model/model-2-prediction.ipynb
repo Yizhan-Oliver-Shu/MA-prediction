{
 "cells": [
  {
   "cell_type": "code",
   "execution_count": 1,
   "id": "5b420250",
   "metadata": {},
   "outputs": [],
   "source": [
    "%load_ext autoreload\n",
    "%autoreload 2\n",
    "import sys, os\n",
    "from os.path import expanduser\n",
    "## actions required!!!!!!!!!!!!!!!!!!!! change your folder path \n",
    "path = \"~/Documents/G3/MA-prediction\"\n",
    "path = expanduser(path)\n",
    "sys.path.append(path)\n",
    "\n",
    "import pandas as pd\n",
    "import numpy as np\n",
    "\n",
    "pd.options.mode.chained_assignment = None\n",
    "import warnings\n",
    "warnings.simplefilter(action='ignore', category=pd.errors.PerformanceWarning)\n",
    "warnings.simplefilter(action='ignore', category=FutureWarning)\n",
    "\n",
    "import datetime\n",
    "from tqdm import tqdm\n",
    "\n",
    "import seaborn as sns\n",
    "import matplotlib.pyplot as plt\n",
    "import matplotlib as mpl\n",
    "mpl.style.use(\"seaborn-v0_8\")\n",
    "plt.rcParams['figure.figsize'] = [9, 9]\n",
    "plt.rcParams['axes.titlesize'] = 20\n",
    "plt.rcParams['axes.labelsize'] = 20\n",
    "plt.rcParams['xtick.labelsize'] = 15\n",
    "plt.rcParams['ytick.labelsize'] = 15\n",
    "plt.rcParams['legend.fontsize'] = 18\n",
    "plt.rcParams['font.size'] = 30\n",
    "\n",
    "from numpy.random import RandomState\n",
    "RANDOM_STATE = 0\n",
    "random_state = RandomState(RANDOM_STATE)\n",
    "\n",
    "\n",
    "import sklearn\n",
    "# preprocessing:\n",
    "# missing values\n",
    "from sklearn.impute import SimpleImputer\n",
    "# categorical\n",
    "from sklearn.preprocessing import OneHotEncoder, OrdinalEncoder\n",
    "# scaler\n",
    "from sklearn.preprocessing import StandardScaler, RobustScaler, QuantileTransformer\n",
    "\n",
    "# pipeline\n",
    "from sklearn.pipeline import Pipeline, make_pipeline\n",
    "from sklearn.compose import ColumnTransformer\n",
    "\n",
    "# model\n",
    "from sklearn.linear_model import LinearRegression, LogisticRegression, ElasticNet, ElasticNetCV\n",
    "\n",
    "\n",
    "\n",
    "from sklearn import set_config\n",
    "set_config(display='diagram')   \n",
    "\n",
    "\n",
    "from sklearn import clone\n",
    "from sklearn.metrics import average_precision_score, roc_auc_score\n",
    "from sklearn.model_selection import ParameterGrid\n",
    "\n",
    "scorer_dict = {\"average_precision\": average_precision_score, \"roc_auc\": roc_auc_score}\n",
    "scoring = ['average_precision', 'roc_auc']"
   ]
  },
  {
   "cell_type": "code",
   "execution_count": 2,
   "id": "15f9e5f6-7083-4a64-be30-04c36f1b34d5",
   "metadata": {},
   "outputs": [],
   "source": [
    "from MA_prediction.utils import *\n",
    "from MA_prediction.preprocessing import *\n",
    "from MA_prediction.prediction_model import *"
   ]
  },
  {
   "cell_type": "markdown",
   "id": "1e69be17-70f8-4c46-ae5e-c17f816caa7f",
   "metadata": {},
   "source": [
    "# model-2: Prediction Model\n",
    "\n",
    "In this notebook we build a prediction model to estimate the probability of MA outcomes.\n",
    "\n",
    "\n",
    "## load data"
   ]
  },
  {
   "cell_type": "code",
   "execution_count": 3,
   "id": "7c628ee2",
   "metadata": {},
   "outputs": [],
   "source": [
    "filepath = f\"{path}/data/prediction-model/df_feature_engineer.h5\"\n",
    "df = pd.read_hdf(filepath)"
   ]
  },
  {
   "cell_type": "code",
   "execution_count": 4,
   "id": "c229eb8f-df8a-4934-a0e2-1694b2cdaca0",
   "metadata": {},
   "outputs": [],
   "source": [
    "# predictors we use\n",
    "col_cat = ['att_new', 'apub_new', 'tend', 'lbo', 'cross', 'term']\n",
    "col_num = ['phda', 'psought', 'val_adj_by_cpi', 'premium1day', 'premium2wk', 'premium4wk',\n",
    "            'arb_spread_4daya']\n",
    "col_num_na = ['mv_ratio', 'amv']\n",
    "\n",
    "\n",
    "df.retain[df[col_num].isna().any(axis=1)]=False\n",
    "\n",
    "# extract y\n",
    "dict_statc = {'W':1, 'C':0, 'P':99}\n",
    "y = df.statc[df.retain].replace(dict_statc)"
   ]
  },
  {
   "cell_type": "code",
   "execution_count": 5,
   "id": "a7df2739-f3f9-4192-bad4-a305b97462ec",
   "metadata": {},
   "outputs": [],
   "source": [
    "X_raw = df.loc[df.retain, col_cat+col_num+col_num_na].copy()\n",
    "# get indicator variables for categorical variables\n",
    "X_lr = pd.get_dummies(X_raw, columns=col_cat)"
   ]
  },
  {
   "cell_type": "code",
   "execution_count": 6,
   "id": "8744970f-1f1d-4089-9b5f-2837bf3dfbac",
   "metadata": {},
   "outputs": [],
   "source": [
    "lr = LogisticRegression(penalty='elasticnet', solver='saga', random_state=RANDOM_STATE, max_iter=10000)\n",
    "model_lr = Pipeline(\n",
    "    [('impute', SimpleImputer(strategy=\"median\")),\n",
    "     ('scaler', StandardScaler()),\n",
    "     ('lr', lr)\n",
    "    ])\n",
    "\n",
    "param_grid_lr = {'lr__C':[.01, .02, .05],\n",
    "                 'lr__l1_ratio':[.3,  .75, 1],\n",
    "                 'lr__class_weight':[None]}"
   ]
  },
  {
   "cell_type": "code",
   "execution_count": 7,
   "id": "3b2cf8a9-8265-4db0-8abf-2e0449b01dd9",
   "metadata": {},
   "outputs": [
    {
     "name": "stderr",
     "output_type": "stream",
     "text": [
      "100%|███████████████████████████████████████████| 21/21 [00:06<00:00,  3.36it/s]\n"
     ]
    }
   ],
   "source": [
    "grid_search = GridSearch_TS_CV(model_lr, \n",
    "                               param_grid_lr, \n",
    "                               scoring=[\"average_precision\", \"roc_auc\"], \n",
    "                               criterion=\"roc_auc\").fit(X_lr, y, df.da, df.dr.fillna(datetime.date(2022, 12, 31)))"
   ]
  },
  {
   "cell_type": "code",
   "execution_count": 8,
   "id": "49e110de-6587-4381-83e4-1f318b0290fb",
   "metadata": {},
   "outputs": [
    {
     "name": "stdout",
     "output_type": "stream",
     "text": [
      "Time series split, by year:\n",
      "fold 0: train on 1990-2001, test on 2002-2002\n",
      "fold 1: train on 1990-2002, test on 2003-2003\n",
      "fold 2: train on 1990-2003, test on 2004-2004\n",
      "fold 3: train on 1990-2004, test on 2005-2005\n",
      "fold 4: train on 1990-2005, test on 2006-2006\n",
      "fold 5: train on 1990-2006, test on 2007-2007\n",
      "fold 6: train on 1990-2007, test on 2008-2008\n",
      "fold 7: train on 1990-2008, test on 2009-2009\n",
      "fold 8: train on 1990-2009, test on 2010-2010\n",
      "fold 9: train on 1990-2010, test on 2011-2011\n",
      "fold 10: train on 1990-2011, test on 2012-2012\n",
      "fold 11: train on 1990-2012, test on 2013-2013\n",
      "fold 12: train on 1990-2013, test on 2014-2014\n",
      "fold 13: train on 1990-2014, test on 2015-2015\n",
      "fold 14: train on 1990-2015, test on 2016-2016\n",
      "fold 15: train on 1990-2016, test on 2017-2017\n",
      "fold 16: train on 1990-2017, test on 2018-2018\n",
      "fold 17: train on 1990-2018, test on 2019-2019\n",
      "fold 18: train on 1990-2019, test on 2020-2020\n",
      "fold 19: train on 1990-2020, test on 2021-2021\n",
      "fold 20: train on 1990-2021, test on 2022-2022\n"
     ]
    }
   ],
   "source": [
    "# cv split\n",
    "print(\"Time series split, by year:\")\n",
    "for n_fold, ((train_start, train_end), (test_start, test_end)) in enumerate(grid_search.yr_split):\n",
    "    print(f\"fold {n_fold}: train on {train_start}-{train_end}, test on {test_start}-{test_end}\")"
   ]
  },
  {
   "cell_type": "code",
   "execution_count": 9,
   "id": "8efb6798-7058-4bee-b40f-8e5d89de809e",
   "metadata": {},
   "outputs": [
    {
     "name": "stdout",
     "output_type": "stream",
     "text": [
      "scores on the whole test set:\n",
      "{'average_precision': 0.6656432698486535, 'roc_auc': 0.8402830510718042}\n"
     ]
    }
   ],
   "source": [
    "print(\"scores on the whole test set:\")\n",
    "print(grid_search.test_scores)"
   ]
  },
  {
   "cell_type": "code",
   "execution_count": 10,
   "id": "4cefb388-6250-4580-bce6-15333d3dd4c4",
   "metadata": {},
   "outputs": [
    {
     "name": "stdout",
     "output_type": "stream",
     "text": [
      "Average train scores on the selected best hyperparam:\n",
      "{'average_precision': 0.6038178137425588, 'roc_auc': 0.8420427915931987}\n",
      "Average validation scores on the selected best hyperparam:\n",
      "{'average_precision': 0.7012004559275227, 'roc_auc': 0.8773394901029424}\n"
     ]
    }
   ],
   "source": [
    "print(\"Average train scores on the selected best hyperparam:\")\n",
    "print(compute_dict_mean(grid_search.best_train_scores_))\n",
    "print(\"Average validation scores on the selected best hyperparam:\")\n",
    "print(compute_dict_mean(grid_search.best_val_scores_))"
   ]
  }
 ],
 "metadata": {
  "kernelspec": {
   "display_name": "Python 3 (ipykernel)",
   "language": "python",
   "name": "python3"
  },
  "language_info": {
   "codemirror_mode": {
    "name": "ipython",
    "version": 3
   },
   "file_extension": ".py",
   "mimetype": "text/x-python",
   "name": "python",
   "nbconvert_exporter": "python",
   "pygments_lexer": "ipython3",
   "version": "3.11.0"
  },
  "toc": {
   "base_numbering": 1,
   "nav_menu": {},
   "number_sections": true,
   "sideBar": true,
   "skip_h1_title": false,
   "title_cell": "Table of Contents",
   "title_sidebar": "Contents",
   "toc_cell": false,
   "toc_position": {},
   "toc_section_display": true,
   "toc_window_display": false
  }
 },
 "nbformat": 4,
 "nbformat_minor": 5
}
