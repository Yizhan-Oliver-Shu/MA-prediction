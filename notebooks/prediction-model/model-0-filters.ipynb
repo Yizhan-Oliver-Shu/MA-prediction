{
 "cells": [
  {
   "cell_type": "code",
   "execution_count": 1,
   "id": "0ecc5a8d-3545-496e-b51c-0646ade36c66",
   "metadata": {},
   "outputs": [],
   "source": [
    "%load_ext autoreload\n",
    "%autoreload 2\n",
    "import sys, os\n",
    "from os.path import expanduser\n",
    "## actions required!!!!!!!!!!!!!!!!!!!! change your folder path \n",
    "path = \"~/Documents/G3/MA-prediction\"\n",
    "path = expanduser(path)\n",
    "sys.path.append(path)\n",
    "\n",
    "import pandas as pd\n",
    "import numpy as np\n",
    "\n",
    "pd.options.mode.chained_assignment = None\n",
    "import warnings\n",
    "warnings.simplefilter(action='ignore', category=pd.errors.PerformanceWarning)\n",
    "warnings.simplefilter(action='ignore', category=FutureWarning)"
   ]
  },
  {
   "cell_type": "code",
   "execution_count": 2,
   "id": "901f5929-46d5-42ca-93c2-0f683e64ced7",
   "metadata": {},
   "outputs": [],
   "source": [
    "from MA_prediction.utils import *\n",
    "from MA_prediction.preprocessing import *\n",
    "from MA_prediction.crsp import *\n",
    "from MA_prediction.mkt_calendar import *"
   ]
  },
  {
   "cell_type": "markdown",
   "id": "75edc311-6ae0-442d-984b-40775efa290c",
   "metadata": {
    "tags": []
   },
   "source": [
    "# Data Filters\n",
    "Previously we deleted the following deals\n",
    "\n",
    "- not applicable to our research (detected manually).\n",
    "- Price is missing.\n",
    "- Deal consideration is missing. \n",
    "\n",
    "\n",
    "Now we delete the following deals:\n",
    "\n",
    "- lack of accurate information:\n",
    "    - unsuccessful permno match for the tgt, and the acq in a stock deal. \n",
    "    - completed:\n",
    "        - delisting code not due to MA.\n",
    "        - delisting return is missing (complex payment)\n",
    "        - difference between effective date and delisting date is too large (> 40 trading days)\n",
    "    - `dae` is Yes, or announcement data is estimated.\n",
    "\n",
    "- inapplicable to our research:\n",
    "    - small deals: deal value adjusted by inflation <= 200m.\n",
    "    - duration too short/long: fewer than 5 days, and longer than 2 yrs.\n",
    "    <!-- - low price -->\n",
    "- too complex for the model to handle:\n",
    "    - unsuccessfull parsing of deal terms\n",
    "    - amendment\n",
    "    - competition\n",
    "    - `dateval` too far away from `da` (>5 trading days)\n",
    "\n",
    "## I/O\n",
    "\n",
    "- input:\n",
    "    - `/data/prediction-model/df_feature_engineer.h5`.\n",
    "    - `/data/reference/filters_basic.txt`\n",
    "\n",
    "- output:\n",
    "    - `/data/prediction-model/df_filtered.h5` and `csv`.\n",
    "    - `/data/reference/filters.txt`"
   ]
  },
  {
   "cell_type": "markdown",
   "id": "a0a7fb08",
   "metadata": {
    "tags": []
   },
   "source": [
    "## load data"
   ]
  },
  {
   "cell_type": "code",
   "execution_count": 3,
   "id": "7160327b",
   "metadata": {},
   "outputs": [],
   "source": [
    "# dataset\n",
    "filepath = f\"{path}/data/processed/df_processed.h5\"\n",
    "df = pd.read_hdf(filepath)"
   ]
  },
  {
   "cell_type": "code",
   "execution_count": 4,
   "id": "3d816514-051a-4d2b-aec8-77461af1c5d0",
   "metadata": {},
   "outputs": [
    {
     "name": "stdout",
     "output_type": "stream",
     "text": [
      "delete 1633 deals due to missing pricing information. 12082 -> 10449\n",
      "delete 3 deals due to missing consideration. 10449 -> 10446\n",
      "\n"
     ]
    }
   ],
   "source": [
    "# already applied filters\n",
    "textpath_old = f\"{path}/data/reference/filters_basic.txt\"\n",
    "prev_filters = open(textpath_old, \"r\").read()\n",
    "print(prev_filters)\n",
    "# \n",
    "textpath = f\"{path}/data/reference/filters.txt\"\n",
    "textfile = open(textpath, \"w\")\n",
    "_=textfile.write(prev_filters)"
   ]
  },
  {
   "cell_type": "markdown",
   "id": "07bd5b20-4c37-4e0c-9510-834e6abb9005",
   "metadata": {},
   "source": [
    "# Filtering"
   ]
  },
  {
   "cell_type": "code",
   "execution_count": 5,
   "id": "76a63bb0-ee53-451d-95da-36303346a4d7",
   "metadata": {},
   "outputs": [],
   "source": [
    "df['retain'] = True\n",
    "num = len(df)"
   ]
  },
  {
   "cell_type": "markdown",
   "id": "30a6d4bc-2f35-44ea-b34a-8b73dbd14ea7",
   "metadata": {},
   "source": [
    "## tgt permno is matched successfully"
   ]
  },
  {
   "cell_type": "code",
   "execution_count": 6,
   "id": "6aa09c38-f756-4bcc-b2f5-111ec8d57cdb",
   "metadata": {},
   "outputs": [
    {
     "name": "stdout",
     "output_type": "stream",
     "text": [
      "delete 832 deals due to failure of matching target in CRSP. 10446 -> 9614\n"
     ]
    }
   ],
   "source": [
    "# no tgt permno\n",
    "num_old = num\n",
    "\n",
    "df.retain[df.tpermno.isna()] = False\n",
    "\n",
    "num = df.retain.sum()\n",
    "\n",
    "string = f\"delete {num_old-num} deals due to failure of matching target in CRSP. {num_old} -> {num}\"\n",
    "print_and_save_string(string, textfile)"
   ]
  },
  {
   "cell_type": "markdown",
   "id": "7ab6033d-9ccd-4929-904a-a16237f9c8be",
   "metadata": {},
   "source": [
    "## acq permno is matched successfully, for stock deals"
   ]
  },
  {
   "cell_type": "code",
   "execution_count": 7,
   "id": "4ee92049-57b5-4060-9df4-0e39c99aabe1",
   "metadata": {},
   "outputs": [
    {
     "name": "stdout",
     "output_type": "stream",
     "text": [
      "delete 236 stock deals due to failure of matching acquiror in CRSP. 9614 -> 9378\n"
     ]
    }
   ],
   "source": [
    "# no acq permno\n",
    "num_old = num\n",
    "\n",
    "df.retain[df.apermno.isna()&df.stock] = False\n",
    "\n",
    "num = df.retain.sum()\n",
    "\n",
    "string = f\"delete {num_old-num} stock deals due to failure of matching acquiror in CRSP. {num_old} -> {num}\"\n",
    "print_and_save_string(string, textfile)"
   ]
  },
  {
   "cell_type": "markdown",
   "id": "248933a1-09c5-4c54-af9e-0b37ab0ed4d6",
   "metadata": {},
   "source": [
    "## delisting"
   ]
  },
  {
   "cell_type": "markdown",
   "id": "7d99c0c8-c71a-4613-8cb3-46d2a5477bfb",
   "metadata": {},
   "source": [
    "### delisting reason is MA"
   ]
  },
  {
   "cell_type": "code",
   "execution_count": 8,
   "id": "003a3186-2aeb-4ce1-a205-16bb8466fb11",
   "metadata": {},
   "outputs": [
    {
     "name": "stdout",
     "output_type": "stream",
     "text": [
      "delete 213 deals due to non-M&A-related delisting code for completed deals. 9378 -> 9165\n"
     ]
    }
   ],
   "source": [
    "# delisted not due to MA\n",
    "num_old = num\n",
    "\n",
    "complete = df.statc.eq('C')\n",
    "\n",
    "df.retain[complete & ~df.delist_code.between(200, 300, inclusive='left')] = False\n",
    "\n",
    "num = df.retain.sum()\n",
    "\n",
    "string = f\"delete {num_old-num} deals due to non-M&A-related delisting code for completed deals. {num_old} -> {num}\"\n",
    "print_and_save_string(string, textfile)"
   ]
  },
  {
   "cell_type": "markdown",
   "id": "dd36bafa-b3e5-4cb2-8576-0c9fd2931916",
   "metadata": {},
   "source": [
    "### delisting return is not missing"
   ]
  },
  {
   "cell_type": "code",
   "execution_count": 9,
   "id": "c1d021b6-47a2-44b9-a6d4-226758f46ba9",
   "metadata": {},
   "outputs": [
    {
     "name": "stdout",
     "output_type": "stream",
     "text": [
      "delete 46 deals due to missing delist price/return (complex payment) for completed deals. 9165 -> 9119\n"
     ]
    }
   ],
   "source": [
    "# from CRSP, the deal involves payment that is difficult to price\n",
    "num_old = num\n",
    "\n",
    "df.retain[complete & df.delist_return.isna()] = False\n",
    "\n",
    "num = df.retain.sum()\n",
    "\n",
    "string = f\"delete {num_old-num} deals due to missing delist price/return (complex payment) for completed deals. {num_old} -> {num}\"\n",
    "print_and_save_string(string, textfile)"
   ]
  },
  {
   "cell_type": "markdown",
   "id": "36f1e2f8-9f44-4d09-88ea-ead420453ac2",
   "metadata": {},
   "source": [
    "### delisting date and effective date don't differ too much"
   ]
  },
  {
   "cell_type": "code",
   "execution_count": 10,
   "id": "fd744975-f191-47ea-beda-a1d4ad0847c0",
   "metadata": {},
   "outputs": [
    {
     "name": "stdout",
     "output_type": "stream",
     "text": [
      "delete 129 deals due to mismatch between delisting date in CRSP and effective date in SDC. 9119 -> 8990\n"
     ]
    }
   ],
   "source": [
    "# delisted date differs too much with effective date\n",
    "num_old = num\n",
    "\n",
    "days_between_de_delist_date = get_num_trading_days_between(df.de, df.delist_date)\n",
    "df.retain[complete & abs(days_between_de_delist_date).gt(40)] = False\n",
    "\n",
    "num = df.retain.sum()\n",
    "\n",
    "string = f\"delete {num_old-num} deals due to mismatch between delisting date in CRSP and effective date in SDC. {num_old} -> {num}\"\n",
    "print_and_save_string(string, textfile)"
   ]
  },
  {
   "cell_type": "markdown",
   "id": "e55a5c39-2a27-4cd8-b26a-6cd958bcf558",
   "metadata": {},
   "source": [
    "## announcement date is estimated"
   ]
  },
  {
   "cell_type": "code",
   "execution_count": 11,
   "id": "640cb748-db66-4a84-8455-9ab7523b06a4",
   "metadata": {},
   "outputs": [
    {
     "name": "stdout",
     "output_type": "stream",
     "text": [
      "delete 50 deals due to estimated announcement date. 8990 -> 8940\n"
     ]
    }
   ],
   "source": [
    "# estimated announcement date\n",
    "num_old = num\n",
    "\n",
    "df.retain[df.dae.eq('Yes')] = False\n",
    "\n",
    "num = df.retain.sum()\n",
    "\n",
    "string = f\"delete {num_old-num} deals due to estimated announcement date. {num_old} -> {num}\"\n",
    "print_and_save_string(string, textfile)"
   ]
  },
  {
   "cell_type": "markdown",
   "id": "3d6a8af9-bb14-40c9-9aab-d2a24ea8898d",
   "metadata": {},
   "source": [
    "## deals inapplicable to our research"
   ]
  },
  {
   "cell_type": "code",
   "execution_count": 12,
   "id": "e738dd0d-bba7-490c-839f-178b7ad4034c",
   "metadata": {},
   "outputs": [
    {
     "name": "stdout",
     "output_type": "stream",
     "text": [
      "delete 3 deals inapplicable to our research. 8940 -> 8937\n"
     ]
    }
   ],
   "source": [
    "num_old = num\n",
    "\n",
    "df.retain[get_delete_index(df)] = False\n",
    "\n",
    "num = df.retain.sum()\n",
    "\n",
    "string = f\"delete {num_old-num} deals inapplicable to our research. {num_old} -> {num}\"\n",
    "print_and_save_string(string, textfile)"
   ]
  },
  {
   "cell_type": "markdown",
   "id": "32e024ed-f5af-4cb1-9728-503e462e5ce8",
   "metadata": {},
   "source": [
    "## failure of extracting deal consideration"
   ]
  },
  {
   "cell_type": "code",
   "execution_count": 13,
   "id": "7edd3e3e-ac29-409d-9b4d-c3edc1ec4835",
   "metadata": {},
   "outputs": [
    {
     "name": "stdout",
     "output_type": "stream",
     "text": [
      "delete 1830 deals due to the failure of extracting deal terms from consideration string. 8937 -> 7107\n"
     ]
    }
   ],
   "source": [
    "# cannot extract deal consideration\n",
    "num_old = num\n",
    "\n",
    "payment_type_lst = ['Cash', 'Common Stock', 'Cash and Common Stock', \n",
    "                     'Common Stock, fixed dollar', 'Cash and Common Stock, fixed dollar']\n",
    "df.retain[~df.payment_type.isin(payment_type_lst)]=False\n",
    "\n",
    "num = df.retain.sum()\n",
    "\n",
    "string = f\"delete {num_old-num} deals due to the failure of extracting deal terms from consideration string. {num_old} -> {num}\"\n",
    "print_and_save_string(string, textfile)"
   ]
  },
  {
   "cell_type": "markdown",
   "id": "fce89a9d-091d-409a-b8a6-29d16fc624ee",
   "metadata": {},
   "source": [
    "## deal value (adjusted by CPI) smaller than \\$200m"
   ]
  },
  {
   "cell_type": "code",
   "execution_count": 14,
   "id": "0f25021e-13ba-4b3e-8489-1746ad3ed623",
   "metadata": {},
   "outputs": [
    {
     "name": "stdout",
     "output_type": "stream",
     "text": [
      "delete 2160 deals due to deal value adjusted by inflation smaller than $200m. 7107 -> 4947\n"
     ]
    }
   ],
   "source": [
    "# small deals\n",
    "num_old = num\n",
    "\n",
    "df.retain[df.val_adj_by_cpi.lt(200.)] = False\n",
    "\n",
    "num = df.retain.sum()\n",
    "\n",
    "string = f\"delete {num_old-num} deals due to deal value adjusted by inflation smaller than $200m. {num_old} -> {num}\"\n",
    "print_and_save_string(string, textfile)"
   ]
  },
  {
   "cell_type": "markdown",
   "id": "8786011e-7107-4725-bf05-fef757e0ef19",
   "metadata": {},
   "source": [
    "## duration"
   ]
  },
  {
   "cell_type": "code",
   "execution_count": 15,
   "id": "4df2c1f8-742b-42e3-8c9a-5be2de09e4e9",
   "metadata": {},
   "outputs": [
    {
     "name": "stdout",
     "output_type": "stream",
     "text": [
      "delete 89 deals due to duration shorter than 10 trading days. 4947 -> 4858\n",
      "delete 9 deals due to duration longer than 2 years. 4858 -> 4849\n"
     ]
    }
   ],
   "source": [
    "num_old = num\n",
    "\n",
    "df.retain[df.duration.lt(10)] = False\n",
    "\n",
    "num = df.retain.sum()\n",
    "\n",
    "string = f\"delete {num_old-num} deals due to duration shorter than 10 trading days. {num_old} -> {num}\"\n",
    "print_and_save_string(string, textfile)\n",
    "\n",
    "num_old = num\n",
    "\n",
    "df.retain[df.duration.gt(504)] = False\n",
    "\n",
    "num = df.retain.sum()\n",
    "\n",
    "string = f\"delete {num_old-num} deals due to duration longer than 2 years. {num_old} -> {num}\"\n",
    "print_and_save_string(string, textfile)"
   ]
  },
  {
   "cell_type": "markdown",
   "id": "c8fb64cc-cdef-4b41-b69f-6595c0b7a3c2",
   "metadata": {},
   "source": [
    "## deal amendment"
   ]
  },
  {
   "cell_type": "code",
   "execution_count": 16,
   "id": "cbc0e22d-f5aa-4ae1-a9bb-65de9faa023b",
   "metadata": {},
   "outputs": [
    {
     "name": "stdout",
     "output_type": "stream",
     "text": [
      "delete 316 deals due to deal amendment. 4849 -> 4533\n"
     ]
    }
   ],
   "source": [
    "# amended deals\n",
    "num_old = num\n",
    "\n",
    "df.retain[df.amend.eq(1)] = False\n",
    "\n",
    "num = df.retain.sum()\n",
    "\n",
    "string = f\"delete {num_old-num} deals due to deal amendment. {num_old} -> {num}\"\n",
    "print_and_save_string(string, textfile)"
   ]
  },
  {
   "cell_type": "markdown",
   "id": "79289f3d-994d-435b-8790-9d83837b3d11",
   "metadata": {},
   "source": [
    "## deal competition"
   ]
  },
  {
   "cell_type": "code",
   "execution_count": 17,
   "id": "5021ad74-0984-4442-b65a-8cc80c0667db",
   "metadata": {},
   "outputs": [
    {
     "name": "stdout",
     "output_type": "stream",
     "text": [
      "delete 314 deals due to deal competition. 4533 -> 4219\n"
     ]
    }
   ],
   "source": [
    "# involved in deal competition\n",
    "num_old = num\n",
    "\n",
    "df.retain[df.compete_group_no.notna()] = False\n",
    "\n",
    "num = df.retain.sum()\n",
    "\n",
    "string = f\"delete {num_old-num} deals due to deal competition. {num_old} -> {num}\"\n",
    "print_and_save_string(string, textfile)"
   ]
  },
  {
   "cell_type": "markdown",
   "id": "91a0ad19-e103-4df3-99ad-c81bed271526",
   "metadata": {},
   "source": [
    "## small target price"
   ]
  },
  {
   "cell_type": "code",
   "execution_count": 18,
   "id": "abbadb27-3920-4d8c-8385-04b4f61c11c0",
   "metadata": {},
   "outputs": [
    {
     "name": "stdout",
     "output_type": "stream",
     "text": [
      "delete 54 deals due to deal price less than $3. 4219 -> 4165\n"
     ]
    }
   ],
   "source": [
    "# small price\n",
    "num_old = num\n",
    "\n",
    "df.retain[df.pr.lt(3.)] = False\n",
    "\n",
    "num = df.retain.sum()\n",
    "\n",
    "string = f\"delete {num_old-num} deals due to deal price less than $3. {num_old} -> {num}\"\n",
    "print_and_save_string(string, textfile)"
   ]
  },
  {
   "cell_type": "markdown",
   "id": "0799f510-2821-42b4-b35c-81de1c1b3743",
   "metadata": {},
   "source": [
    "## `da` and `dateval`"
   ]
  },
  {
   "cell_type": "code",
   "execution_count": 19,
   "id": "3b561d2d-7c9c-4e3a-8f83-507ceb2e5a29",
   "metadata": {},
   "outputs": [
    {
     "name": "stdout",
     "output_type": "stream",
     "text": [
      "delete 124 deals due to valuation date too far from announcement date. 4165 -> 4041\n"
     ]
    }
   ],
   "source": [
    "# small price\n",
    "num_old = num\n",
    "\n",
    "num_days = get_num_trading_days_between(df.da, df.dateval)\n",
    "df.retain[abs(num_days).gt(6.)] = False\n",
    "\n",
    "num = df.retain.sum()\n",
    "\n",
    "string = f\"delete {num_old-num} deals due to valuation date too far from announcement date. {num_old} -> {num}\"\n",
    "print_and_save_string(string, textfile)"
   ]
  },
  {
   "cell_type": "markdown",
   "id": "78c3fed6-d75f-4f5e-b2bd-6d8a9759f5e5",
   "metadata": {},
   "source": [
    "# save"
   ]
  },
  {
   "cell_type": "code",
   "execution_count": 20,
   "id": "5a831b1e-9128-4e28-b463-67aa2cb4bf33",
   "metadata": {},
   "outputs": [],
   "source": [
    "textfile.close()"
   ]
  },
  {
   "cell_type": "code",
   "execution_count": 21,
   "id": "b7485461-beb0-4740-8998-d0c1e27d20fe",
   "metadata": {},
   "outputs": [],
   "source": [
    "filepath = f\"{path}/data/prediction-model/df_filtered.h5\"\n",
    "df.to_hdf(filepath, key='df', mode='w')"
   ]
  }
 ],
 "metadata": {
  "kernelspec": {
   "display_name": "Python 3 (ipykernel)",
   "language": "python",
   "name": "python3"
  },
  "language_info": {
   "codemirror_mode": {
    "name": "ipython",
    "version": 3
   },
   "file_extension": ".py",
   "mimetype": "text/x-python",
   "name": "python",
   "nbconvert_exporter": "python",
   "pygments_lexer": "ipython3",
   "version": "3.11.0"
  },
  "toc": {
   "base_numbering": 1,
   "nav_menu": {},
   "number_sections": true,
   "sideBar": true,
   "skip_h1_title": false,
   "title_cell": "Table of Contents",
   "title_sidebar": "Contents",
   "toc_cell": false,
   "toc_position": {},
   "toc_section_display": true,
   "toc_window_display": false
  },
  "toc-autonumbering": true
 },
 "nbformat": 4,
 "nbformat_minor": 5
}
