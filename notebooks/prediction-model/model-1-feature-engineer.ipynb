{
 "cells": [
  {
   "cell_type": "code",
   "execution_count": 1,
   "id": "0d8d1fff",
   "metadata": {},
   "outputs": [],
   "source": [
    "%load_ext autoreload\n",
    "%autoreload 2\n",
    "import sys, os\n",
    "from os.path import expanduser\n",
    "## actions required!!!!!!!!!!!!!!!!!!!! change your folder path \n",
    "path = \"~/Documents/G3/MA-prediction\"\n",
    "path = expanduser(path)\n",
    "sys.path.append(path)\n",
    "\n",
    "import pandas as pd\n",
    "import numpy as np\n",
    "import datetime as dt\n",
    "\n",
    "pd.options.mode.chained_assignment = None\n",
    "import warnings\n",
    "warnings.simplefilter(action='ignore', category=pd.errors.PerformanceWarning)\n",
    "warnings.simplefilter(action='ignore', category=FutureWarning)"
   ]
  },
  {
   "cell_type": "code",
   "execution_count": 2,
   "id": "03f84129-622f-49d3-a44c-9f74e2a5bb56",
   "metadata": {},
   "outputs": [],
   "source": [
    "from MA_prediction.utils import *\n",
    "from MA_prediction.preprocessing import *\n",
    "from MA_prediction.crsp import *\n",
    "from MA_prediction.mkt_calendar import *"
   ]
  },
  {
   "cell_type": "markdown",
   "id": "e46f73ba-4e58-49f7-9c05-95913869273d",
   "metadata": {
    "tags": []
   },
   "source": [
    "# model-1: Feature engineering\n",
    "\n",
    "In this notebook we perform the following feature engineering:\n",
    "\n",
    "- extract the acq price at date `aone_day`, and use it to compute the deal price `pr_extracted`, from the deal terms that we extracted from the consideration string. \n",
    "    - Then we check it with the deal price from SDC, and delete those deals with larger than 10% difference.\n",
    "- modify dates:\n",
    "    - `da_new`: later of `da` and `dateval` for retained deals.\n",
    "    - `dao_new`: no earlier than 63 days before `da_new`.\n",
    "- Extract market price (pre/post):\n",
    "    - pre-ann/unaffected tgt mkt prices: trailing 20 days average for 1day, 2wk and 4wk before `dao_new`.\n",
    "    - pre-ann deal price (unaffected acq price): acq prices at 1 day before `da_new`. Used to calculate premiums.\n",
    "    - post-ann mkt and deal prices: 5days after `da_new`. Used to calculate arbitrage spread and mkt implied probability.\n",
    "\n",
    "\n",
    "- create new `dao`, `pr1day`, `mv_ratio`\n",
    "- Change attitude/apub names.\n",
    "- `psought`\n",
    "- Premium and spread.\n",
    "- Change attitude/apub names.\n",
    "\n",
    "\n",
    "## I/O\n",
    "\n",
    "- Input:\n",
    "    - `data/prediction-model/df_filtered.h5`\n",
    "    - `mkt_data_tgt_processed.pickle`\n",
    "    - `mkt_data_acq_processed.pickle`\n",
    "\n",
    "- Output:\n",
    "    - `df_final.h5`\n",
    "    \n",
    "    \n",
    "## load data"
   ]
  },
  {
   "cell_type": "code",
   "execution_count": 3,
   "id": "50d32821",
   "metadata": {},
   "outputs": [],
   "source": [
    "filepath = f\"{path}/data/prediction-model/df_filtered.h5\"\n",
    "df = pd.read_hdf(filepath)\n",
    "\n",
    "mkt_data_tgt_processed, mkt_data_acq_processed = load_mkt_data(path, \"processed\")"
   ]
  },
  {
   "cell_type": "markdown",
   "id": "b83a4fc1-ce36-4f31-af85-f118f5b283f2",
   "metadata": {},
   "source": [
    "# Deal price extracted from consideration\n",
    "\n",
    "We extract acq price at `aone_day`, to calculate deal price (for stock deals). Then we check this price with the deal price already given by SDC. Later we would delete the deals with more than 10% difference between the two prices."
   ]
  },
  {
   "cell_type": "code",
   "execution_count": 4,
   "id": "eec5dc09-7b2e-4bf3-844e-b9be7b27a88f",
   "metadata": {},
   "outputs": [],
   "source": [
    "ac1day = extract_col_at_date_from_mkt_data_ser(mkt_data_acq_processed, df.aone_day, \"prc_adj\")"
   ]
  },
  {
   "cell_type": "code",
   "execution_count": 5,
   "id": "b3181b50-3be1-4b9c-81dd-a25b9946835d",
   "metadata": {},
   "outputs": [],
   "source": [
    "pr_extracted = calculate_deal_price_for_ser(df.cash_term, df.stock_term, df.payment_type, ac1day)\n",
    "insert_cols(df, \"pr\", \"pr_extracted\", pr_extracted)\n",
    "_, diff_percent = compute_abs_percent_diff(df.pr, df.pr_extracted)"
   ]
  },
  {
   "cell_type": "code",
   "execution_count": 6,
   "id": "4b27e25a-7e1c-4b87-921e-1ac6392c6ed3",
   "metadata": {},
   "outputs": [
    {
     "name": "stdout",
     "output_type": "stream",
     "text": [
      "delete 66 deals due to different deal prices (calculated by us vs from SDC). 4041 -> 3975\n"
     ]
    }
   ],
   "source": [
    "# deal pr differs\n",
    "num_old = df.retain.sum()\n",
    "\n",
    "df.retain[diff_percent.gt(.1)] = False\n",
    "\n",
    "num = df.retain.sum()\n",
    "\n",
    "string = f\"delete {num_old-num} deals due to different deal prices (calculated by us vs from SDC). {num_old} -> {num}\"\n",
    "print(string)"
   ]
  },
  {
   "cell_type": "markdown",
   "id": "05d9c58a-3e3b-4708-bee5-ca27c892685f",
   "metadata": {},
   "source": [
    "# Correct dates"
   ]
  },
  {
   "cell_type": "code",
   "execution_count": 7,
   "id": "73418be6-156f-4ebc-bf8f-6b30f0b1167b",
   "metadata": {},
   "outputs": [],
   "source": [
    "# correct `da`\n",
    "insert_cols(df, \"da\", \"da_new\", df.da)\n",
    "# idx where update of da is needed\n",
    "idx = df.retain & df.dateval.gt(df.da, fill_value = dt.date(1900, 1, 1))\n",
    "df.da_new[idx] = df.dateval[idx]"
   ]
  },
  {
   "cell_type": "code",
   "execution_count": 8,
   "id": "3b7d4eb2-bc7f-4066-8448-283dfca2016d",
   "metadata": {},
   "outputs": [],
   "source": [
    "# correct `dao`\n",
    "insert_cols(df, \"dao\", \"dao_new\", df.dao)\n",
    "df.dao_new = np.maximum(df.dao_new, get_trading_day_offset(df.da_new, -63))"
   ]
  },
  {
   "cell_type": "markdown",
   "id": "82073cf2-5b3a-4fa8-9708-45250ce93068",
   "metadata": {},
   "source": [
    "# Mkt prices\n",
    "## tgt unaffected prices"
   ]
  },
  {
   "cell_type": "code",
   "execution_count": 9,
   "id": "5555ce84-fc5f-41fc-9e4f-020a208f39a6",
   "metadata": {},
   "outputs": [],
   "source": [
    "dict_days = {\"4wk\": -21, \"2wk\": -11, '1day': -1}\n",
    "for name in dict_days:\n",
    "    dates = get_trading_day_offset(df.dao_new, dict_days[name])\n",
    "    insert_cols(df, \"tprday\", f\"pr{name}_20_ave\", extract_col_at_date_from_mkt_data_ser(mkt_data_tgt_processed, dates, \"prc_adj_trail_20_ave\"))"
   ]
  },
  {
   "cell_type": "code",
   "execution_count": 10,
   "id": "6ddb9ad5-5d17-4629-94d0-0d15e44ba85d",
   "metadata": {},
   "outputs": [
    {
     "data": {
      "text/html": [
       "<div>\n",
       "<style scoped>\n",
       "    .dataframe tbody tr th:only-of-type {\n",
       "        vertical-align: middle;\n",
       "    }\n",
       "\n",
       "    .dataframe tbody tr th {\n",
       "        vertical-align: top;\n",
       "    }\n",
       "\n",
       "    .dataframe thead th {\n",
       "        text-align: right;\n",
       "    }\n",
       "</style>\n",
       "<table border=\"1\" class=\"dataframe\">\n",
       "  <thead>\n",
       "    <tr style=\"text-align: right;\">\n",
       "      <th></th>\n",
       "      <th>pr1day_20_ave</th>\n",
       "      <th>pr2wk_20_ave</th>\n",
       "      <th>pr4wk_20_ave</th>\n",
       "    </tr>\n",
       "    <tr>\n",
       "      <th>master_deal_no</th>\n",
       "      <th></th>\n",
       "      <th></th>\n",
       "      <th></th>\n",
       "    </tr>\n",
       "  </thead>\n",
       "  <tbody>\n",
       "    <tr>\n",
       "      <th>95523020</th>\n",
       "      <td>35.325000</td>\n",
       "      <td>34.650000</td>\n",
       "      <td>34.168750</td>\n",
       "    </tr>\n",
       "    <tr>\n",
       "      <th>109787020</th>\n",
       "      <td>61.000000</td>\n",
       "      <td>59.818750</td>\n",
       "      <td>58.475000</td>\n",
       "    </tr>\n",
       "    <tr>\n",
       "      <th>23184020</th>\n",
       "      <td>12.634375</td>\n",
       "      <td>12.362500</td>\n",
       "      <td>12.278125</td>\n",
       "    </tr>\n",
       "    <tr>\n",
       "      <th>15161020</th>\n",
       "      <td>28.668750</td>\n",
       "      <td>28.000000</td>\n",
       "      <td>26.900000</td>\n",
       "    </tr>\n",
       "    <tr>\n",
       "      <th>109800020</th>\n",
       "      <td>48.037500</td>\n",
       "      <td>47.675000</td>\n",
       "      <td>46.343750</td>\n",
       "    </tr>\n",
       "    <tr>\n",
       "      <th>...</th>\n",
       "      <td>...</td>\n",
       "      <td>...</td>\n",
       "      <td>...</td>\n",
       "    </tr>\n",
       "    <tr>\n",
       "      <th>4016122020</th>\n",
       "      <td>2.754000</td>\n",
       "      <td>2.583500</td>\n",
       "      <td>3.011000</td>\n",
       "    </tr>\n",
       "    <tr>\n",
       "      <th>3992461020</th>\n",
       "      <td>41.692000</td>\n",
       "      <td>41.889500</td>\n",
       "      <td>43.308500</td>\n",
       "    </tr>\n",
       "    <tr>\n",
       "      <th>4015877020</th>\n",
       "      <td>0.523808</td>\n",
       "      <td>0.702213</td>\n",
       "      <td>0.874915</td>\n",
       "    </tr>\n",
       "    <tr>\n",
       "      <th>4017224020</th>\n",
       "      <td>1.109815</td>\n",
       "      <td>1.454565</td>\n",
       "      <td>1.664080</td>\n",
       "    </tr>\n",
       "    <tr>\n",
       "      <th>4019588020</th>\n",
       "      <td>0.314815</td>\n",
       "      <td>0.484340</td>\n",
       "      <td>0.623500</td>\n",
       "    </tr>\n",
       "  </tbody>\n",
       "</table>\n",
       "<p>9611 rows × 3 columns</p>\n",
       "</div>"
      ],
      "text/plain": [
       "                pr1day_20_ave  pr2wk_20_ave  pr4wk_20_ave\n",
       "master_deal_no                                           \n",
       "95523020            35.325000     34.650000     34.168750\n",
       "109787020           61.000000     59.818750     58.475000\n",
       "23184020            12.634375     12.362500     12.278125\n",
       "15161020            28.668750     28.000000     26.900000\n",
       "109800020           48.037500     47.675000     46.343750\n",
       "...                       ...           ...           ...\n",
       "4016122020           2.754000      2.583500      3.011000\n",
       "3992461020          41.692000     41.889500     43.308500\n",
       "4015877020           0.523808      0.702213      0.874915\n",
       "4017224020           1.109815      1.454565      1.664080\n",
       "4019588020           0.314815      0.484340      0.623500\n",
       "\n",
       "[9611 rows x 3 columns]"
      ]
     },
     "execution_count": 10,
     "metadata": {},
     "output_type": "execute_result"
    }
   ],
   "source": [
    "df[['pr1day_20_ave', \"pr2wk_20_ave\", \"pr4wk_20_ave\"]].dropna()"
   ]
  },
  {
   "cell_type": "markdown",
   "id": "397e2557-8a47-4bf2-b269-3304550be6b2",
   "metadata": {},
   "source": [
    "## acq unaffected prices"
   ]
  },
  {
   "cell_type": "code",
   "execution_count": 11,
   "id": "cb24785a-4a24-4502-b07e-1f23b90558d2",
   "metadata": {},
   "outputs": [],
   "source": [
    "ac1day_new = extract_col_at_date_from_mkt_data_ser(mkt_data_acq_processed, get_trading_day_offset(df.da_new, -1), \"prc_adj\")"
   ]
  },
  {
   "cell_type": "code",
   "execution_count": 12,
   "id": "0bcda25a-eda0-4f86-b449-8277a949d942",
   "metadata": {},
   "outputs": [],
   "source": [
    "deal_pr_1day = calculate_deal_price_for_ser(df.cash_term, df.stock_term, df.payment_type, ac1day_new)\n",
    "insert_cols(df, \"pr\", \"deal_pr_1day\", deal_pr_1day)"
   ]
  },
  {
   "cell_type": "markdown",
   "id": "2aca8ae7-6124-4428-8af4-d0295c718a2a",
   "metadata": {},
   "source": [
    "## premiums"
   ]
  },
  {
   "cell_type": "code",
   "execution_count": 13,
   "id": "44c900f2-eac9-456c-bf7d-0510406cd8c8",
   "metadata": {},
   "outputs": [],
   "source": [
    "for name in dict_days:\n",
    "    # pre-ann price\n",
    "    pre_prc = df[f\"pr{name}_20_ave\"]\n",
    "    premium = round(100*df.deal_pr_1day.sub(pre_prc).div(pre_prc), 2)\n",
    "    insert_cols(df, \"ppmday\", f\"premium{name}\", premium)"
   ]
  },
  {
   "cell_type": "code",
   "execution_count": 14,
   "id": "69e6b887-bbd5-4b55-a422-deefca915b45",
   "metadata": {},
   "outputs": [
    {
     "data": {
      "text/html": [
       "<div>\n",
       "<style scoped>\n",
       "    .dataframe tbody tr th:only-of-type {\n",
       "        vertical-align: middle;\n",
       "    }\n",
       "\n",
       "    .dataframe tbody tr th {\n",
       "        vertical-align: top;\n",
       "    }\n",
       "\n",
       "    .dataframe thead th {\n",
       "        text-align: right;\n",
       "    }\n",
       "</style>\n",
       "<table border=\"1\" class=\"dataframe\">\n",
       "  <thead>\n",
       "    <tr style=\"text-align: right;\">\n",
       "      <th></th>\n",
       "      <th>premium1day</th>\n",
       "      <th>premium2wk</th>\n",
       "      <th>premium4wk</th>\n",
       "    </tr>\n",
       "    <tr>\n",
       "      <th>master_deal_no</th>\n",
       "      <th></th>\n",
       "      <th></th>\n",
       "      <th></th>\n",
       "    </tr>\n",
       "  </thead>\n",
       "  <tbody>\n",
       "    <tr>\n",
       "      <th>109800020</th>\n",
       "      <td>38.43</td>\n",
       "      <td>39.49</td>\n",
       "      <td>43.49</td>\n",
       "    </tr>\n",
       "    <tr>\n",
       "      <th>115481020</th>\n",
       "      <td>13.19</td>\n",
       "      <td>10.62</td>\n",
       "      <td>15.34</td>\n",
       "    </tr>\n",
       "    <tr>\n",
       "      <th>19411020</th>\n",
       "      <td>39.63</td>\n",
       "      <td>51.53</td>\n",
       "      <td>64.15</td>\n",
       "    </tr>\n",
       "    <tr>\n",
       "      <th>23185020</th>\n",
       "      <td>49.97</td>\n",
       "      <td>54.23</td>\n",
       "      <td>50.30</td>\n",
       "    </tr>\n",
       "    <tr>\n",
       "      <th>19699020</th>\n",
       "      <td>20.47</td>\n",
       "      <td>32.07</td>\n",
       "      <td>27.67</td>\n",
       "    </tr>\n",
       "    <tr>\n",
       "      <th>...</th>\n",
       "      <td>...</td>\n",
       "      <td>...</td>\n",
       "      <td>...</td>\n",
       "    </tr>\n",
       "    <tr>\n",
       "      <th>4009077020</th>\n",
       "      <td>18.69</td>\n",
       "      <td>27.48</td>\n",
       "      <td>37.21</td>\n",
       "    </tr>\n",
       "    <tr>\n",
       "      <th>4009317020</th>\n",
       "      <td>35.05</td>\n",
       "      <td>47.40</td>\n",
       "      <td>69.29</td>\n",
       "    </tr>\n",
       "    <tr>\n",
       "      <th>4012016020</th>\n",
       "      <td>41.47</td>\n",
       "      <td>62.25</td>\n",
       "      <td>61.60</td>\n",
       "    </tr>\n",
       "    <tr>\n",
       "      <th>4014370020</th>\n",
       "      <td>116.23</td>\n",
       "      <td>115.50</td>\n",
       "      <td>130.92</td>\n",
       "    </tr>\n",
       "    <tr>\n",
       "      <th>3992461020</th>\n",
       "      <td>39.12</td>\n",
       "      <td>38.46</td>\n",
       "      <td>33.92</td>\n",
       "    </tr>\n",
       "  </tbody>\n",
       "</table>\n",
       "<p>3975 rows × 3 columns</p>\n",
       "</div>"
      ],
      "text/plain": [
       "                premium1day  premium2wk  premium4wk\n",
       "master_deal_no                                     \n",
       "109800020             38.43       39.49       43.49\n",
       "115481020             13.19       10.62       15.34\n",
       "19411020              39.63       51.53       64.15\n",
       "23185020              49.97       54.23       50.30\n",
       "19699020              20.47       32.07       27.67\n",
       "...                     ...         ...         ...\n",
       "4009077020            18.69       27.48       37.21\n",
       "4009317020            35.05       47.40       69.29\n",
       "4012016020            41.47       62.25       61.60\n",
       "4014370020           116.23      115.50      130.92\n",
       "3992461020            39.12       38.46       33.92\n",
       "\n",
       "[3975 rows x 3 columns]"
      ]
     },
     "execution_count": 14,
     "metadata": {},
     "output_type": "execute_result"
    }
   ],
   "source": [
    "df[['premium1day', 'premium2wk', 'premium4wk']][df.retain]"
   ]
  },
  {
   "cell_type": "markdown",
   "id": "9a142cd2-9a8b-4af7-954b-983efa0dffc8",
   "metadata": {},
   "source": [
    "## post prices"
   ]
  },
  {
   "cell_type": "code",
   "execution_count": 15,
   "id": "05b3f62f-a6ea-46b4-90e1-8035634fd272",
   "metadata": {},
   "outputs": [],
   "source": [
    "dict_post_days = {'day':0, \"1daya\":1, \"4daya\":4}\n",
    "for name in dict_post_days:\n",
    "    dates = get_trading_day_offset(df.da_new, dict_post_days[name])\n",
    "    tpr = extract_col_at_date_from_mkt_data_ser(mkt_data_tgt_processed, dates, \"prc_adj\")\n",
    "    apr = extract_col_at_date_from_mkt_data_ser(mkt_data_acq_processed, dates, \"prc_adj\")\n",
    "    insert_cols(df, f\"tprday\", f\"tpr{name}_new\", tpr)\n",
    "    insert_cols(df, f\"aprday\", f\"apr{name}_new\", apr)"
   ]
  },
  {
   "cell_type": "code",
   "execution_count": 16,
   "id": "4decc19a-46b7-4379-a89b-ea5a35e8eec2",
   "metadata": {},
   "outputs": [],
   "source": [
    "deal_pr_4daya = calculate_deal_price_for_ser(df.cash_term, df.stock_term, df.payment_type, df.apr4daya_new)\n",
    "insert_cols(df, \"pr_initial\", \"deal_pr_4daya\", deal_pr_4daya)"
   ]
  },
  {
   "cell_type": "code",
   "execution_count": 17,
   "id": "135c10f2-1b44-4cb4-abc4-3f3e876ef996",
   "metadata": {},
   "outputs": [],
   "source": [
    "arb_spread_4daya = round(100*df.deal_pr_4daya.sub(df.tpr4daya_new).div(df.tpr4daya_new), 2)\n",
    "insert_cols(df, \"ac4wk\", \"arb_spread_4daya\", arb_spread_4daya)"
   ]
  },
  {
   "cell_type": "markdown",
   "id": "c23c66aa-54e1-49cf-a868-ac1fa784fa67",
   "metadata": {},
   "source": [
    "## implied prob"
   ]
  },
  {
   "cell_type": "code",
   "execution_count": 18,
   "id": "465e8c4c-b6f8-4454-b87a-a75074e8282e",
   "metadata": {},
   "outputs": [],
   "source": [
    "# for name in dict_days:\n",
    "#     implied_prob = "
   ]
  },
  {
   "cell_type": "markdown",
   "id": "da43cda8",
   "metadata": {},
   "source": [
    "# Variable transformation\n",
    "\n",
    "## `mv_ratio`"
   ]
  },
  {
   "cell_type": "code",
   "execution_count": 19,
   "id": "f9514df9-fadb-437b-a00c-efcc700a061c",
   "metadata": {},
   "outputs": [],
   "source": [
    "insert_cols(df, \"amv\", \"mv_ratio\", df.amv.div(df.mv))"
   ]
  },
  {
   "cell_type": "markdown",
   "id": "d9e3a718",
   "metadata": {},
   "source": [
    "## `phda, psought` missing"
   ]
  },
  {
   "cell_type": "code",
   "execution_count": 20,
   "id": "c298188d",
   "metadata": {},
   "outputs": [],
   "source": [
    "df.phda = df.phda.fillna(0.)"
   ]
  },
  {
   "cell_type": "code",
   "execution_count": 21,
   "id": "b176354f-07b2-4498-89ca-db4b84ee0aea",
   "metadata": {},
   "outputs": [],
   "source": [
    "idx = df.psought.isna()\n",
    "df.psought[idx] = 100 - df.phda[idx]"
   ]
  },
  {
   "cell_type": "markdown",
   "id": "7d1b08e3",
   "metadata": {},
   "source": [
    "## change attitude names"
   ]
  },
  {
   "cell_type": "code",
   "execution_count": 22,
   "id": "5e6ee552",
   "metadata": {},
   "outputs": [
    {
     "data": {
      "text/plain": [
       "Friendly      3765\n",
       "Unfriendly     208\n",
       "Name: initial_rec_new, dtype: int64"
      ]
     },
     "execution_count": 22,
     "metadata": {},
     "output_type": "execute_result"
    }
   ],
   "source": [
    "dict_initial_rec = {\"Agreed\": \"Friendly\",\n",
    "                    \"Solicited\": \"Friendly\",\n",
    "                    \"Not Appl.\": \"Friendly\",\n",
    "                    \"Neutral\": \"Friendly\",\n",
    "                    \"Unsolic.\": \"Unfriendly\",\n",
    "                    \"Hostile\": \"Unfriendly\"}\n",
    "insert_cols(df, \"initial_rec\", \"initial_rec_new\", df.initial_rec.replace(dict_initial_rec))\n",
    "df.initial_rec_new[df.retain].value_counts()"
   ]
  },
  {
   "cell_type": "code",
   "execution_count": 23,
   "id": "593d6aaa",
   "metadata": {},
   "outputs": [
    {
     "data": {
      "text/plain": [
       "Friendly      3783\n",
       "Unfriendly     192\n",
       "Name: att_new, dtype: int64"
      ]
     },
     "execution_count": 23,
     "metadata": {},
     "output_type": "execute_result"
    }
   ],
   "source": [
    "dict_att = {'Neutral': 'Friendly', \n",
    "            'Not Appl.':'Friendly', \n",
    "            'Unsolic.': 'Unfriendly', \n",
    "            'Hostile':'Unfriendly'}\n",
    "insert_cols(df, \"att\", \"att_new\", df.att.replace(dict_att))\n",
    "df.att_new[df.retain].value_counts()\n",
    "\n",
    "idx = df.initial_rec_new.isna()\n",
    "df.initial_rec_new[idx] = df.att_new[idx]"
   ]
  },
  {
   "cell_type": "markdown",
   "id": "5d0a19dd",
   "metadata": {},
   "source": [
    "## `apub`"
   ]
  },
  {
   "cell_type": "code",
   "execution_count": 24,
   "id": "7c7b1854-7503-4c29-b6d0-3317daeed30e",
   "metadata": {},
   "outputs": [
    {
     "data": {
      "text/plain": [
       "Public    2845\n",
       "Priv.      551\n",
       "Sub.       540\n",
       "J.V.        24\n",
       "Inv.        10\n",
       "Mutual       3\n",
       "Govt.        2\n",
       "Name: apub, dtype: int64"
      ]
     },
     "execution_count": 24,
     "metadata": {},
     "output_type": "execute_result"
    }
   ],
   "source": [
    "df.apub[df.retain].value_counts()"
   ]
  },
  {
   "cell_type": "code",
   "execution_count": 25,
   "id": "03c80c6c",
   "metadata": {},
   "outputs": [
    {
     "data": {
      "text/plain": [
       "Public     2845\n",
       "Private    1130\n",
       "Name: apub_new, dtype: int64"
      ]
     },
     "execution_count": 25,
     "metadata": {},
     "output_type": "execute_result"
    }
   ],
   "source": [
    "dict_apub = {\n",
    "    \"Priv.\": 'Private',\n",
    "    'Sub.': 'Private', \n",
    "    'J.V.': 'Private', \n",
    "    'Inv.': 'Private', \n",
    "    'Mutual': 'Private', \n",
    "    'Govt.': 'Private',\n",
    "}\n",
    "insert_cols(df, \"apub\", 'apub_new', df.apub.replace(dict_apub))\n",
    "df.apub_new[df.retain].value_counts()"
   ]
  },
  {
   "cell_type": "markdown",
   "id": "08c97ec9",
   "metadata": {
    "tags": []
   },
   "source": [
    "## financials"
   ]
  },
  {
   "cell_type": "code",
   "execution_count": 26,
   "id": "dc8e9801",
   "metadata": {},
   "outputs": [],
   "source": [
    "df['curr_ratio'] = df.clia.div(df.cass)\n",
    "df['leverage'] = df.tlia.div(df.eqval)"
   ]
  },
  {
   "cell_type": "markdown",
   "id": "394e96c6-1b76-4560-be75-9b3d04b99582",
   "metadata": {
    "tags": []
   },
   "source": [
    "# Save"
   ]
  },
  {
   "cell_type": "code",
   "execution_count": 27,
   "id": "bc6362ca",
   "metadata": {},
   "outputs": [],
   "source": [
    "filepath = f\"{path}/data/prediction-model/df_feature_engineer.h5\"\n",
    "df.to_hdf(filepath, key='df', mode='w')"
   ]
  },
  {
   "cell_type": "code",
   "execution_count": 39,
   "id": "df555f19-2877-4183-90fa-a07fd3585a01",
   "metadata": {},
   "outputs": [],
   "source": [
    "df[df.retain].to_csv(filepath.replace(\"h5\", \"csv\"))"
   ]
  },
  {
   "cell_type": "markdown",
   "id": "a7feaf99",
   "metadata": {},
   "source": [
    "## Create market variables"
   ]
  },
  {
   "cell_type": "code",
   "execution_count": 28,
   "id": "b2c3ef2e-9de4-49f7-acdc-c34047da772e",
   "metadata": {},
   "outputs": [],
   "source": [
    "# def calculate_deal_price(cash_term, stock_term, stock, acq_prc):\n",
    "#     \"\"\"\n",
    "#     calculate the deal price from terms\n",
    "#     \"\"\"\n",
    "#     if stock:\n",
    "#         return cash_term + stock_term * acq_prc\n",
    "#     return cash_term + stock_term\n",
    "\n",
    "# def calculate_deal_price_ser(ser):\n",
    "#     return calculate_deal_price(*ser)\n",
    "\n",
    "# df['pr_4days_after_da'] = apply_func_to_ser_df(df[['cash_term', 'stock_term', 'stock', 'apr4days_after_da']], calculate_deal_price_ser)"
   ]
  },
  {
   "cell_type": "code",
   "execution_count": 29,
   "id": "b60dd782",
   "metadata": {
    "scrolled": true
   },
   "outputs": [],
   "source": [
    "# import wrds\n",
    "# db = wrds.Connection()"
   ]
  },
  {
   "cell_type": "code",
   "execution_count": 30,
   "id": "da3d5246",
   "metadata": {},
   "outputs": [],
   "source": [
    "# market_returns = db.raw_sql(\"\"\"select caldt, vwretd from crsp_m_indexes.msix\"\"\")\n",
    "# market_returns = dsk.to_monthly_period_index(market_returns, 'caldt')\n",
    "# market_returns = market_returns.rolling(12).sum().shift()"
   ]
  },
  {
   "cell_type": "code",
   "execution_count": 31,
   "id": "d5cbbb26",
   "metadata": {},
   "outputs": [],
   "source": [
    "# ann_yr_month_period = df.da_corrected.map(lambda x: pd.Period(f\"{x.year}-{x.month}\", 'M'))"
   ]
  },
  {
   "cell_type": "code",
   "execution_count": 32,
   "id": "64b89d46",
   "metadata": {},
   "outputs": [],
   "source": [
    "# df['mkt_ret_prev_yr'] = market_returns.loc[list(ann_yr_month_period)].values"
   ]
  },
  {
   "cell_type": "markdown",
   "id": "1356a844",
   "metadata": {},
   "source": [
    "## Industries"
   ]
  },
  {
   "cell_type": "code",
   "execution_count": 33,
   "id": "0d6392aa",
   "metadata": {},
   "outputs": [],
   "source": [
    "# df.ttf_macro_desc = df.ttf_macro_desc.str.replace(' ', '_')\n",
    "# df.atf_macro_desc = df.atf_macro_desc.str.replace(' ', '_')"
   ]
  },
  {
   "cell_type": "code",
   "execution_count": 34,
   "id": "70bd3189",
   "metadata": {},
   "outputs": [],
   "source": [
    "# industries = pd.get_dummies(df.ttf_macro_desc)\n",
    "# industries.columns = list(map(lambda x: 'industry_' + x, industries.columns))"
   ]
  },
  {
   "cell_type": "code",
   "execution_count": 35,
   "id": "19790d6f",
   "metadata": {},
   "outputs": [],
   "source": [
    "# hist_fail_rate = pd.DataFrame(np.nan, columns=['fail_rate'],\n",
    "#                               index=pd.period_range('1993-01', '2020-12', freq='M'))\n",
    "# df_c = df[~df['compete_statc_code'].isin([2, 3, 4])].copy()\n",
    "# df_c['statc'].replace({'P':1, 'W':1, 'C':0}, inplace=True)\n",
    "# for i in hist_fail_rate.index:\n",
    "#     sub = np.logical_and(df['ann_yr_mon']>=i-24, df['ann_yr_mon']<i)\n",
    "#     hist_fail_rate.loc[i] = df_c.loc[sub, 'statc'].mean()\n",
    "# hist_fail_rate"
   ]
  },
  {
   "cell_type": "code",
   "execution_count": 36,
   "id": "639ca776",
   "metadata": {
    "scrolled": true
   },
   "outputs": [],
   "source": [
    "# hist_industry_fail_rate = pd.DataFrame(np.nan, columns=df['ttf_macro_desc'].unique(),\n",
    "#                               index=pd.period_range('1993-01', '2020-12', freq='M'))\n",
    "# for i in hist_industry_fail_rate.index:\n",
    "#     for industry in hist_industry_fail_rate.columns:\n",
    "#         sub = np.logical_and(df['ann_yr_mon']>=i-24, df['ann_yr_mon']<i)\n",
    "#         sub = np.logical_and(sub, df['ttf_macro_desc']==industry)\n",
    "#         if sub.sum() == 0:\n",
    "#             hist_industry_fail_rate.loc[i, industry] = 0#hist_fail_rate.loc[i].values[0]\n",
    "#         else:\n",
    "#             hist_industry_fail_rate.loc[i, industry] = df_c.loc[sub, 'statc'].mean()\n",
    "# hist_industry_fail_rate"
   ]
  },
  {
   "cell_type": "code",
   "execution_count": 37,
   "id": "eedc0d7b",
   "metadata": {},
   "outputs": [],
   "source": [
    "# df.loc[index, 'fail_rate_2y'] = round(hist_fail_rate.loc[df.loc[index, 'ann_yr_mon']]*100, 2).squeeze().values"
   ]
  },
  {
   "cell_type": "code",
   "execution_count": 38,
   "id": "38fa8719",
   "metadata": {},
   "outputs": [],
   "source": [
    "# for i in index:\n",
    "#     df.loc[i, 'fail_rate_ind_2y'] = \\\n",
    "#     round(hist_industry_fail_rate.loc[df.loc[i, 'ann_yr_mon'], df.loc[i, 'ttf_macro_desc']]*100, 2)\n",
    "\n",
    "# #df.loc[index, 'fail_rate_ind_2y'] = round(hist_fail_rate.loc[df.loc[index, 'ann_yr_mon']]*100, 2).squeeze().values"
   ]
  }
 ],
 "metadata": {
  "kernelspec": {
   "display_name": "Python 3 (ipykernel)",
   "language": "python",
   "name": "python3"
  },
  "language_info": {
   "codemirror_mode": {
    "name": "ipython",
    "version": 3
   },
   "file_extension": ".py",
   "mimetype": "text/x-python",
   "name": "python",
   "nbconvert_exporter": "python",
   "pygments_lexer": "ipython3",
   "version": "3.11.0"
  },
  "toc": {
   "base_numbering": 1,
   "nav_menu": {},
   "number_sections": true,
   "sideBar": true,
   "skip_h1_title": false,
   "title_cell": "Table of Contents",
   "title_sidebar": "Contents",
   "toc_cell": false,
   "toc_position": {},
   "toc_section_display": true,
   "toc_window_display": false
  }
 },
 "nbformat": 4,
 "nbformat_minor": 5
}
