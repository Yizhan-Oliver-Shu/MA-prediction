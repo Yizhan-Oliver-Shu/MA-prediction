{
 "cells": [
  {
   "cell_type": "code",
   "execution_count": 1,
   "id": "79cabda9",
   "metadata": {
    "tags": []
   },
   "outputs": [],
   "source": [
    "%load_ext autoreload\n",
    "%autoreload 2\n",
    "import sys, os\n",
    "from os.path import expanduser\n",
    "## actions required!!!!!!!!!!!!!!!!!!!! change your folder path \n",
    "path = \"~/Documents/G3/MA-prediction\"\n",
    "path = expanduser(path)\n",
    "sys.path.append(path)\n",
    "\n",
    "import pandas as pd\n",
    "import numpy as np\n",
    "\n",
    "pd.options.mode.chained_assignment = None\n",
    "import warnings\n",
    "warnings.simplefilter(action='ignore', category=pd.errors.PerformanceWarning)\n",
    "warnings.simplefilter(action='ignore', category=FutureWarning)"
   ]
  },
  {
   "cell_type": "code",
   "execution_count": 2,
   "id": "76b5dc13-fd51-421c-9c2d-8e827d1d7f82",
   "metadata": {},
   "outputs": [],
   "source": [
    "from MA_prediction.utils import *\n",
    "from MA_prediction.mkt_calendar import *\n",
    "from MA_prediction.preprocessing import *\n",
    "from MA_prediction.crsp import *"
   ]
  },
  {
   "cell_type": "code",
   "execution_count": 3,
   "id": "1bd0d4cd",
   "metadata": {
    "scrolled": true
   },
   "outputs": [
    {
     "name": "stdin",
     "output_type": "stream",
     "text": [
      "Enter your WRDS username [yizhan]: olivershu\n",
      "Enter your password: ········\n"
     ]
    },
    {
     "name": "stdout",
     "output_type": "stream",
     "text": [
      "WRDS recommends setting up a .pgpass file.\n"
     ]
    },
    {
     "name": "stdin",
     "output_type": "stream",
     "text": [
      "Create .pgpass file now [y/n]?:  y\n"
     ]
    },
    {
     "name": "stdout",
     "output_type": "stream",
     "text": [
      "Created .pgpass file successfully.\n",
      "Loading library list...\n",
      "Done\n"
     ]
    }
   ],
   "source": [
    "import wrds\n",
    "db = wrds.Connection()"
   ]
  },
  {
   "cell_type": "markdown",
   "id": "fa227bd8",
   "metadata": {
    "tags": []
   },
   "source": [
    "# data-3: CRSP, pull delist and market data\n",
    "\n",
    "In this notebook we pull the delisting information and market data from CRSP. \n",
    "\n",
    "\n",
    "- Look for delisting information (delisting code, last trade date, delisting date and delisting returns) in CRSP database, for all the targets.\n",
    "- pull raw market data for all the targets and acquirors, from 40 (trading) days prior to `dao`, to 40 days after `dr`.\n",
    "\n",
    "\n",
    "## I/O\n",
    "\n",
    "- Input: \n",
    "    - `data/intermediate/df_basic_processing.h5`\n",
    "    - `data/intermediate/CRSP/apermno.h5`, `data/intermediate/CRSP/tpermno.h5`.\n",
    "\n",
    "- Output:\n",
    "\n",
    "    - `data/intermediate/CRSP/delist.h5`\n",
    "    - `data/mkt-data/mkt_data_tgt_raw.pickle`, `data/mkt-data/mkt_data_acq_raw.pickle`"
   ]
  },
  {
   "cell_type": "markdown",
   "id": "f3319a82",
   "metadata": {
    "tags": []
   },
   "source": [
    "## Load data"
   ]
  },
  {
   "cell_type": "code",
   "execution_count": 4,
   "id": "6316c479",
   "metadata": {},
   "outputs": [
    {
     "name": "stdout",
     "output_type": "stream",
     "text": [
      "The dataset is of size (10446, 95).\n"
     ]
    }
   ],
   "source": [
    "# read hdf file\n",
    "filepath = f\"{path}/data/intermediate/df_basic_processing.h5\"\n",
    "df = pd.read_hdf(filepath)\n",
    "print_shape(df)\n",
    "\n",
    "# load permno results\n",
    "tpermno, apermno = load_permno_data(path)\n",
    "# merge permno information with df, df won't be saved\n",
    "loc_names = ['atic', 'atic', 'acu', 'an']\n",
    "insert_cols(df, loc_names, None, apermno)\n",
    "\n",
    "loc_names = ['ttic', 'ttic', 'tcu', 'tn'] \n",
    "insert_cols(df, loc_names, None, tpermno)"
   ]
  },
  {
   "cell_type": "markdown",
   "id": "4f3f7248-d753-4d0e-b33a-105cc37cc271",
   "metadata": {
    "tags": []
   },
   "source": [
    "# Get target delisting information"
   ]
  },
  {
   "cell_type": "code",
   "execution_count": 5,
   "id": "9d28baa8",
   "metadata": {},
   "outputs": [
    {
     "name": "stderr",
     "output_type": "stream",
     "text": [
      "100%|███████████████████████████████████████| 9614/9614 [02:14<00:00, 71.34it/s]\n"
     ]
    },
    {
     "name": "stdout",
     "output_type": "stream",
     "text": [
      "652 out of 8097 completed deals cannot find delisting returns.\n"
     ]
    }
   ],
   "source": [
    "# columns = ['delist_code', 'last_trade_date', 'delist_date', 'delist_amount', 'delist_return']\n",
    "delist_CRSP = apply_func_to_ser_df(df.tpermno, get_delisting_information, return_as_df=True, db=db)\n",
    "complete = df.statc.eq('C')\n",
    "print(f\"{(complete & delist_CRSP.delist_return.isnull()).sum()} out of {complete.sum()} completed deals cannot find delisting returns.\")"
   ]
  },
  {
   "cell_type": "code",
   "execution_count": 6,
   "id": "d60a7931-e8c8-45d5-962f-10dd448f0465",
   "metadata": {},
   "outputs": [],
   "source": [
    "## Save intermediate results\n",
    "pathfile = f\"{path}/data/intermediate/CRSP/delist.h5\"\n",
    "delist_CRSP.to_hdf(pathfile, key = 'delist', mode='w')"
   ]
  },
  {
   "cell_type": "markdown",
   "id": "74baedf3-7e5f-40ec-85d5-e4a586e02b2c",
   "metadata": {
    "tags": []
   },
   "source": [
    "# pull raw market data"
   ]
  },
  {
   "cell_type": "code",
   "execution_count": 7,
   "id": "772eb4d1-b09b-41e5-aefc-b53b3cef862b",
   "metadata": {},
   "outputs": [],
   "source": [
    "# concat into the dataset\n",
    "loc_names = ['att'] * 5\n",
    "insert_cols(df, loc_names, None, delist_CRSP)\n",
    "\n",
    "# update delist date before pulling market data\n",
    "idx = df.statc.eq('C') & df.delist_code.between(200, 300, inclusive=\"left\") & df.delist_return.notna() & abs(get_num_trading_days_between(df.de, df.delist_date)).le(40)\n",
    "df.dr.loc[idx] = df.delist_date.loc[idx]"
   ]
  },
  {
   "cell_type": "code",
   "execution_count": 8,
   "id": "3659e55f-c342-4cc9-bd4f-d31960bdf53b",
   "metadata": {},
   "outputs": [],
   "source": [
    "df['dao_40days_prior'] = get_trading_day_offset(df.dao, -40)\n",
    "last_date = max(df.da.max(), df.dr.dropna().max())\n",
    "df['dr_40days_after'] = get_trading_day_offset(df.dr.fillna(last_date), 40)"
   ]
  },
  {
   "cell_type": "code",
   "execution_count": 9,
   "id": "fa2ae6e1-a21a-401c-b6b2-5f1c90841714",
   "metadata": {},
   "outputs": [],
   "source": [
    "def get_stock_market_data_daily_from_ser_CRSP(ser, db=db):\n",
    "    \"\"\"\n",
    "    get daily market data from a series of (permno, start_date, end_date)\n",
    "    \"\"\"\n",
    "    return get_stock_market_data_daily_CRSP(ser.iloc[0], start_date=ser.iloc[1], end_date=ser.iloc[2], db=db)"
   ]
  },
  {
   "cell_type": "code",
   "execution_count": 10,
   "id": "aaad370b-a7bc-4ae6-ac0c-ad69b060f3f5",
   "metadata": {},
   "outputs": [
    {
     "name": "stderr",
     "output_type": "stream",
     "text": [
      "100%|█████████████████████████████████████| 10446/10446 [03:49<00:00, 45.52it/s]\n"
     ]
    },
    {
     "name": "stdout",
     "output_type": "stream",
     "text": [
      "832 out of 10446 deals cannot find target market data.\n"
     ]
    }
   ],
   "source": [
    "mkt_data_tgt = apply_func_to_ser_df(df[['tpermno', 'dao_40days_prior', 'dr_40days_after']], \n",
    "                                    get_stock_market_data_daily_from_ser_CRSP, \n",
    "                                    return_as_df=False, \n",
    "                                    db=db)\n",
    "print(f\"{mkt_data_tgt.isna().sum()} out of {len(df)} deals cannot find target market data.\")"
   ]
  },
  {
   "cell_type": "code",
   "execution_count": 11,
   "id": "1104b827-ddf4-480c-8263-6d19e2d2113a",
   "metadata": {},
   "outputs": [
    {
     "name": "stderr",
     "output_type": "stream",
     "text": [
      "100%|█████████████████████████████████████| 10446/10446 [02:12<00:00, 78.57it/s]\n"
     ]
    },
    {
     "name": "stdout",
     "output_type": "stream",
     "text": [
      "4991 out of 10446 deals cannot find acquiror market data.\n"
     ]
    }
   ],
   "source": [
    "mkt_data_acq = apply_func_to_ser_df(df[['apermno', 'dao_40days_prior', 'dr_40days_after']],\n",
    "                                       get_stock_market_data_daily_from_ser_CRSP,\n",
    "                                       return_as_df=False,\n",
    "                                       db=db)\n",
    "print(f\"{mkt_data_acq.isna().sum()} out of {len(df)} deals cannot find acquiror market data.\")"
   ]
  },
  {
   "cell_type": "markdown",
   "id": "18be57e7-84ec-4432-a034-7f5dc83524ad",
   "metadata": {
    "tags": []
   },
   "source": [
    "## save raw market data"
   ]
  },
  {
   "cell_type": "code",
   "execution_count": 12,
   "id": "c5033346-da23-4ef6-a16c-f13ae8fc5b69",
   "metadata": {},
   "outputs": [],
   "source": [
    "import pickle\n",
    "\n",
    "filepath_tgt = f\"{path}/data/mkt-data/mkt_data_tgt_raw.pickle\"\n",
    "with open(filepath_tgt, 'wb') as handle:\n",
    "    pickle.dump(mkt_data_tgt, handle, protocol=pickle.HIGHEST_PROTOCOL)\n",
    "    \n",
    "    \n",
    "filepath_acq = f\"{path}/data/mkt-data/mkt_data_acq_raw.pickle\"\n",
    "with open(filepath_acq, 'wb') as handle:\n",
    "    pickle.dump(mkt_data_acq, handle, protocol=pickle.HIGHEST_PROTOCOL)"
   ]
  },
  {
   "cell_type": "code",
   "execution_count": null,
   "id": "c92b461e-d790-42aa-8abb-b57ae2698d2c",
   "metadata": {},
   "outputs": [],
   "source": []
  }
 ],
 "metadata": {
  "kernelspec": {
   "display_name": "Python 3 (ipykernel)",
   "language": "python",
   "name": "python3"
  },
  "language_info": {
   "codemirror_mode": {
    "name": "ipython",
    "version": 3
   },
   "file_extension": ".py",
   "mimetype": "text/x-python",
   "name": "python",
   "nbconvert_exporter": "python",
   "pygments_lexer": "ipython3",
   "version": "3.11.0"
  },
  "toc": {
   "base_numbering": 1,
   "nav_menu": {},
   "number_sections": true,
   "sideBar": true,
   "skip_h1_title": false,
   "title_cell": "Table of Contents",
   "title_sidebar": "Contents",
   "toc_cell": false,
   "toc_position": {},
   "toc_section_display": true,
   "toc_window_display": false
  }
 },
 "nbformat": 4,
 "nbformat_minor": 5
}
