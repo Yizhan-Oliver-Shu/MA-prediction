{
 "cells": [
  {
   "cell_type": "code",
   "execution_count": 1,
   "id": "79cabda9",
   "metadata": {
    "tags": []
   },
   "outputs": [],
   "source": [
    "%load_ext autoreload\n",
    "%autoreload 2\n",
    "import sys, os\n",
    "from os.path import expanduser\n",
    "## actions required!!!!!!!!!!!!!!!!!!!! change your folder path \n",
    "path = \"~/Documents/G3/MA-prediction\"\n",
    "path = expanduser(path)\n",
    "sys.path.append(path)\n",
    "\n",
    "import pandas as pd\n",
    "import numpy as np\n",
    "\n",
    "pd.options.mode.chained_assignment = None\n",
    "import warnings\n",
    "warnings.simplefilter(action='ignore', category=pd.errors.PerformanceWarning)\n",
    "warnings.simplefilter(action='ignore', category=FutureWarning)"
   ]
  },
  {
   "cell_type": "code",
   "execution_count": 2,
   "id": "76b5dc13-fd51-421c-9c2d-8e827d1d7f82",
   "metadata": {},
   "outputs": [],
   "source": [
    "from MA_prediction.utils import *\n",
    "from MA_prediction.preprocessing import *\n",
    "from MA_prediction.crsp import *\n",
    "from MA_prediction.mkt_calendar import *"
   ]
  },
  {
   "cell_type": "code",
   "execution_count": 3,
   "id": "1bd0d4cd",
   "metadata": {
    "scrolled": true
   },
   "outputs": [
    {
     "name": "stdin",
     "output_type": "stream",
     "text": [
      "Enter your WRDS username [yizhan]: olivershu\n",
      "Enter your password: ········\n"
     ]
    },
    {
     "name": "stdout",
     "output_type": "stream",
     "text": [
      "WRDS recommends setting up a .pgpass file.\n"
     ]
    },
    {
     "name": "stdin",
     "output_type": "stream",
     "text": [
      "Create .pgpass file now [y/n]?:  y\n"
     ]
    },
    {
     "name": "stdout",
     "output_type": "stream",
     "text": [
      "Created .pgpass file successfully.\n",
      "Loading library list...\n",
      "Done\n"
     ]
    }
   ],
   "source": [
    "import wrds\n",
    "db = wrds.Connection()"
   ]
  },
  {
   "cell_type": "markdown",
   "id": "fa227bd8",
   "metadata": {
    "tags": []
   },
   "source": [
    "# Data Cleaning 2:  CRSP - delisting information and market data\n",
    "\n",
    "In this notebook we look for delisting information and market data from CRSP. \n",
    "\n",
    "\n",
    "- Look for delisting information (delisting code, last trade date, delisting date and delisting returns) in CRSP database, for all the targets.\n",
    "- pull raw market data for all the targets and acquirors, from 40 (trading) days prior to `dao`, to 40 days after `dr`.\n",
    "\n",
    "\n",
    "## I/O\n",
    "\n",
    "- Input: \n",
    "    - `data/intermediate/df_basic_cleaning.h5`\n",
    "\n",
    "- Output:\n",
    "    - `data/intermediate/permno/apermno.h5`, `data/intermediate/permno/tpermno.h5`.\n",
    "    - `data/intermediate/df_permno_delist_CRSP.h5`\n",
    "    - `data/raw/market_data_tgt_raw.pickle`, `data/raw/market_data_acq_raw.pickle`"
   ]
  },
  {
   "cell_type": "markdown",
   "id": "f3319a82",
   "metadata": {
    "tags": []
   },
   "source": [
    "## Load data"
   ]
  },
  {
   "cell_type": "code",
   "execution_count": 4,
   "id": "6316c479",
   "metadata": {},
   "outputs": [
    {
     "name": "stdout",
     "output_type": "stream",
     "text": [
      "The dataset is of size (10445, 95).\n"
     ]
    },
    {
     "data": {
      "text/html": [
       "<div>\n",
       "<style scoped>\n",
       "    .dataframe tbody tr th:only-of-type {\n",
       "        vertical-align: middle;\n",
       "    }\n",
       "\n",
       "    .dataframe tbody tr th {\n",
       "        vertical-align: top;\n",
       "    }\n",
       "\n",
       "    .dataframe thead th {\n",
       "        text-align: right;\n",
       "    }\n",
       "</style>\n",
       "<table border=\"1\" class=\"dataframe\">\n",
       "  <thead>\n",
       "    <tr style=\"text-align: right;\">\n",
       "      <th></th>\n",
       "      <th>statc</th>\n",
       "      <th>one_day</th>\n",
       "      <th>aone_day</th>\n",
       "      <th>dao</th>\n",
       "      <th>da</th>\n",
       "      <th>dateannorig_days</th>\n",
       "      <th>de</th>\n",
       "      <th>dateeffexp</th>\n",
       "      <th>dw</th>\n",
       "      <th>dr</th>\n",
       "      <th>...</th>\n",
       "      <th>pricebook</th>\n",
       "      <th>eqvalcf</th>\n",
       "      <th>eqvalsales</th>\n",
       "      <th>eqval</th>\n",
       "      <th>tlia</th>\n",
       "      <th>cass</th>\n",
       "      <th>clia</th>\n",
       "      <th>lockup</th>\n",
       "      <th>dae</th>\n",
       "      <th>vest</th>\n",
       "    </tr>\n",
       "    <tr>\n",
       "      <th>master_deal_no</th>\n",
       "      <th></th>\n",
       "      <th></th>\n",
       "      <th></th>\n",
       "      <th></th>\n",
       "      <th></th>\n",
       "      <th></th>\n",
       "      <th></th>\n",
       "      <th></th>\n",
       "      <th></th>\n",
       "      <th></th>\n",
       "      <th></th>\n",
       "      <th></th>\n",
       "      <th></th>\n",
       "      <th></th>\n",
       "      <th></th>\n",
       "      <th></th>\n",
       "      <th></th>\n",
       "      <th></th>\n",
       "      <th></th>\n",
       "      <th></th>\n",
       "      <th></th>\n",
       "    </tr>\n",
       "  </thead>\n",
       "  <tbody>\n",
       "    <tr>\n",
       "      <th>3992461020</th>\n",
       "      <td>P</td>\n",
       "      <td>2022-10-24</td>\n",
       "      <td>2022-12-16</td>\n",
       "      <td>2022-10-25</td>\n",
       "      <td>2022-12-19</td>\n",
       "      <td>54</td>\n",
       "      <td>NaN</td>\n",
       "      <td>2023-12-31</td>\n",
       "      <td>NaN</td>\n",
       "      <td>NaN</td>\n",
       "      <td>...</td>\n",
       "      <td>8.659</td>\n",
       "      <td>16.011</td>\n",
       "      <td>2.087</td>\n",
       "      <td>4547.200</td>\n",
       "      <td>1748.5</td>\n",
       "      <td>1001.7</td>\n",
       "      <td>802.9</td>\n",
       "      <td>No</td>\n",
       "      <td>No</td>\n",
       "      <td>No</td>\n",
       "    </tr>\n",
       "    <tr>\n",
       "      <th>4015877020</th>\n",
       "      <td>P</td>\n",
       "      <td>2022-12-16</td>\n",
       "      <td>2022-12-16</td>\n",
       "      <td>2022-12-19</td>\n",
       "      <td>2022-12-19</td>\n",
       "      <td>0</td>\n",
       "      <td>NaN</td>\n",
       "      <td>2023-02-28</td>\n",
       "      <td>NaN</td>\n",
       "      <td>NaN</td>\n",
       "      <td>...</td>\n",
       "      <td>4.839</td>\n",
       "      <td>NaN</td>\n",
       "      <td>0.752</td>\n",
       "      <td>16.141</td>\n",
       "      <td>18.3</td>\n",
       "      <td>14.2</td>\n",
       "      <td>16.4</td>\n",
       "      <td>No</td>\n",
       "      <td>No</td>\n",
       "      <td>No</td>\n",
       "    </tr>\n",
       "    <tr>\n",
       "      <th>4016515020</th>\n",
       "      <td>P</td>\n",
       "      <td>2022-12-19</td>\n",
       "      <td>2022-12-19</td>\n",
       "      <td>2022-12-20</td>\n",
       "      <td>2022-12-20</td>\n",
       "      <td>0</td>\n",
       "      <td>NaN</td>\n",
       "      <td>2023-06-30</td>\n",
       "      <td>NaN</td>\n",
       "      <td>NaN</td>\n",
       "      <td>...</td>\n",
       "      <td>NaN</td>\n",
       "      <td>NaN</td>\n",
       "      <td>NaN</td>\n",
       "      <td>52.581</td>\n",
       "      <td>NaN</td>\n",
       "      <td>NaN</td>\n",
       "      <td>NaN</td>\n",
       "      <td>No</td>\n",
       "      <td>No</td>\n",
       "      <td>No</td>\n",
       "    </tr>\n",
       "    <tr>\n",
       "      <th>4017224020</th>\n",
       "      <td>P</td>\n",
       "      <td>2022-12-20</td>\n",
       "      <td>2022-12-20</td>\n",
       "      <td>2022-12-21</td>\n",
       "      <td>2022-12-21</td>\n",
       "      <td>0</td>\n",
       "      <td>NaN</td>\n",
       "      <td>2023-03-31</td>\n",
       "      <td>NaN</td>\n",
       "      <td>NaN</td>\n",
       "      <td>...</td>\n",
       "      <td>0.750</td>\n",
       "      <td>NaN</td>\n",
       "      <td>2.912</td>\n",
       "      <td>55.152</td>\n",
       "      <td>61.3</td>\n",
       "      <td>97.6</td>\n",
       "      <td>11.2</td>\n",
       "      <td>No</td>\n",
       "      <td>No</td>\n",
       "      <td>No</td>\n",
       "    </tr>\n",
       "    <tr>\n",
       "      <th>4019588020</th>\n",
       "      <td>P</td>\n",
       "      <td>2022-12-23</td>\n",
       "      <td>2022-12-23</td>\n",
       "      <td>2022-12-27</td>\n",
       "      <td>2022-12-27</td>\n",
       "      <td>0</td>\n",
       "      <td>NaN</td>\n",
       "      <td>NaT</td>\n",
       "      <td>NaN</td>\n",
       "      <td>NaN</td>\n",
       "      <td>...</td>\n",
       "      <td>NaN</td>\n",
       "      <td>NaN</td>\n",
       "      <td>0.895</td>\n",
       "      <td>25.412</td>\n",
       "      <td>52.4</td>\n",
       "      <td>34.1</td>\n",
       "      <td>36.4</td>\n",
       "      <td>No</td>\n",
       "      <td>No</td>\n",
       "      <td>No</td>\n",
       "    </tr>\n",
       "  </tbody>\n",
       "</table>\n",
       "<p>5 rows × 95 columns</p>\n",
       "</div>"
      ],
      "text/plain": [
       "               statc     one_day    aone_day         dao          da  \\\n",
       "master_deal_no                                                         \n",
       "3992461020         P  2022-10-24  2022-12-16  2022-10-25  2022-12-19   \n",
       "4015877020         P  2022-12-16  2022-12-16  2022-12-19  2022-12-19   \n",
       "4016515020         P  2022-12-19  2022-12-19  2022-12-20  2022-12-20   \n",
       "4017224020         P  2022-12-20  2022-12-20  2022-12-21  2022-12-21   \n",
       "4019588020         P  2022-12-23  2022-12-23  2022-12-27  2022-12-27   \n",
       "\n",
       "                dateannorig_days   de  dateeffexp   dw   dr  ... pricebook  \\\n",
       "master_deal_no                                               ...             \n",
       "3992461020                    54  NaN  2023-12-31  NaN  NaN  ...     8.659   \n",
       "4015877020                     0  NaN  2023-02-28  NaN  NaN  ...     4.839   \n",
       "4016515020                     0  NaN  2023-06-30  NaN  NaN  ...       NaN   \n",
       "4017224020                     0  NaN  2023-03-31  NaN  NaN  ...     0.750   \n",
       "4019588020                     0  NaN         NaT  NaN  NaN  ...       NaN   \n",
       "\n",
       "               eqvalcf eqvalsales     eqval    tlia    cass   clia lockup dae  \\\n",
       "master_deal_no                                                                  \n",
       "3992461020      16.011      2.087  4547.200  1748.5  1001.7  802.9     No  No   \n",
       "4015877020         NaN      0.752    16.141    18.3    14.2   16.4     No  No   \n",
       "4016515020         NaN        NaN    52.581     NaN     NaN    NaN     No  No   \n",
       "4017224020         NaN      2.912    55.152    61.3    97.6   11.2     No  No   \n",
       "4019588020         NaN      0.895    25.412    52.4    34.1   36.4     No  No   \n",
       "\n",
       "               vest  \n",
       "master_deal_no       \n",
       "3992461020       No  \n",
       "4015877020       No  \n",
       "4016515020       No  \n",
       "4017224020       No  \n",
       "4019588020       No  \n",
       "\n",
       "[5 rows x 95 columns]"
      ]
     },
     "execution_count": 4,
     "metadata": {},
     "output_type": "execute_result"
    }
   ],
   "source": [
    "# read hdf file\n",
    "filepath = f\"{path}/data/intermediate/df_basic_cleaning.h5\"\n",
    "df = pd.read_hdf(filepath)\n",
    "\n",
    "print_shape(df)\n",
    "df.tail()"
   ]
  },
  {
   "cell_type": "code",
   "execution_count": 5,
   "id": "fed260d8-4478-46f6-ace1-b843063367be",
   "metadata": {},
   "outputs": [],
   "source": [
    "#\n",
    "path_p = f\"{path}/data/intermediate/permno\" \n",
    "tpermno, apermno = pd.read_hdf(f\"{path_p}/tpermno.h5\"), pd.read_hdf(f\"{path_p}/apermno.h5\")"
   ]
  },
  {
   "cell_type": "code",
   "execution_count": 6,
   "id": "bf356106-a60c-44ce-bf6e-d010ee0d430f",
   "metadata": {},
   "outputs": [],
   "source": [
    "# merge permno information with df\n",
    "loc_names = ['atic', 'atic', 'acu', 'an']\n",
    "insert_cols(df, loc_names, None, apermno)\n",
    "\n",
    "loc_names = ['ttic', 'ttic', 'tcu', 'tn'] \n",
    "insert_cols(df, loc_names, None, tpermno)"
   ]
  },
  {
   "cell_type": "markdown",
   "id": "4f3f7248-d753-4d0e-b33a-105cc37cc271",
   "metadata": {
    "tags": []
   },
   "source": [
    "# Get target delisting information"
   ]
  },
  {
   "cell_type": "code",
   "execution_count": 7,
   "id": "9d28baa8",
   "metadata": {},
   "outputs": [
    {
     "name": "stderr",
     "output_type": "stream",
     "text": [
      "100%|███████████████████████████████████████| 9612/9612 [04:21<00:00, 36.71it/s]\n"
     ]
    },
    {
     "name": "stdout",
     "output_type": "stream",
     "text": [
      "657 out of 8096 completed deals cannot find delisting returns.\n"
     ]
    }
   ],
   "source": [
    "# columns = ['delist_code', 'last_trade_date', 'delist_date', 'delist_amount', 'delist_return']\n",
    "delist_CRSP = apply_func_to_ser_df(df.tpermno, get_delisting_information, return_as_df=True, db=db)\n",
    "complete = df.statc.eq('C')\n",
    "print(f\"{(complete & delist_CRSP.delist_return.isnull()).sum()} out of {complete.sum()} completed deals cannot find delisting returns.\")"
   ]
  },
  {
   "cell_type": "code",
   "execution_count": 8,
   "id": "d60a7931-e8c8-45d5-962f-10dd448f0465",
   "metadata": {},
   "outputs": [],
   "source": [
    "## Save intermediate results\n",
    "pathfile = f\"{path}/data/intermediate/delist_CRSP.h5\"\n",
    "delist_CRSP.to_hdf(pathfile, key = 'delist_CRSP', mode='w')\n",
    "# concat into the dataset\n",
    "loc_names = ['att'] * 5\n",
    "insert_cols(df, loc_names, None, delist_CRSP)"
   ]
  },
  {
   "cell_type": "code",
   "execution_count": 17,
   "id": "22dbf144-0df2-429c-a45e-826ee7dd1ae1",
   "metadata": {},
   "outputs": [],
   "source": [
    "# replace resolution date with delist date for cretain deals\n",
    "ind = df.statc.eq('C') & df.delist_code.between(200, 300, inclusive=\"left\") & df.delist_return.notna() \n",
    "df.dr.loc[ind] = df.delist_date.loc[ind]"
   ]
  },
  {
   "cell_type": "code",
   "execution_count": 18,
   "id": "de7136f5-e101-4e79-ae0d-0bfcecee00cd",
   "metadata": {},
   "outputs": [],
   "source": [
    "# save\n",
    "filepath = f\"{path}/data/intermediate/df_permno_delist_CRSP.h5\"\n",
    "df.to_hdf(filepath, key = 'df', mode='w')"
   ]
  },
  {
   "cell_type": "markdown",
   "id": "74baedf3-7e5f-40ec-85d5-e4a586e02b2c",
   "metadata": {
    "tags": []
   },
   "source": [
    "# pull raw market data"
   ]
  },
  {
   "cell_type": "code",
   "execution_count": 19,
   "id": "3659e55f-c342-4cc9-bd4f-d31960bdf53b",
   "metadata": {},
   "outputs": [],
   "source": [
    "df['dao_40days_prior'] = get_trading_day_offset(df.dao, -40)\n",
    "last_date = max(df.da.max(), df.dr.dropna().max())\n",
    "df['dr_40days_after'] = get_trading_day_offset(df.dr.fillna(last_date), 40)"
   ]
  },
  {
   "cell_type": "code",
   "execution_count": 20,
   "id": "fa2ae6e1-a21a-401c-b6b2-5f1c90841714",
   "metadata": {},
   "outputs": [],
   "source": [
    "def get_stock_market_data_daily_from_ser_CRSP(ser, db=db):\n",
    "    \"\"\"\n",
    "    get daily market data from a series of (permno, start_date, end_date)\n",
    "    \"\"\"\n",
    "    return get_stock_market_data_daily_CRSP(ser.iloc[0], start_date=ser.iloc[1], end_date=ser.iloc[2], db=db)"
   ]
  },
  {
   "cell_type": "code",
   "execution_count": 21,
   "id": "aaad370b-a7bc-4ae6-ac0c-ad69b060f3f5",
   "metadata": {},
   "outputs": [
    {
     "name": "stderr",
     "output_type": "stream",
     "text": [
      "100%|█████████████████████████████████████| 10445/10445 [10:08<00:00, 17.15it/s]\n"
     ]
    },
    {
     "name": "stdout",
     "output_type": "stream",
     "text": [
      "833 out of 10445 deals cannot find target market data.\n"
     ]
    }
   ],
   "source": [
    "mkt_data_tgt = apply_func_to_ser_df(df[['tpermno', 'dao_40days_prior', 'dr_40days_after']], \n",
    "                                    get_stock_market_data_daily_from_ser_CRSP, \n",
    "                                    return_as_df=False, \n",
    "                                    db=db)\n",
    "print(f\"{mkt_data_tgt.isna().sum()} out of {len(df)} deals cannot find target market data.\")"
   ]
  },
  {
   "cell_type": "code",
   "execution_count": 22,
   "id": "1104b827-ddf4-480c-8263-6d19e2d2113a",
   "metadata": {},
   "outputs": [
    {
     "name": "stderr",
     "output_type": "stream",
     "text": [
      "100%|█████████████████████████████████████| 10445/10445 [05:27<00:00, 31.89it/s]\n"
     ]
    },
    {
     "name": "stdout",
     "output_type": "stream",
     "text": [
      "4991 out of 10445 deals cannot find acquiror market data.\n"
     ]
    }
   ],
   "source": [
    "mkt_data_acq = apply_func_to_ser_df(df[['apermno', 'dao_40days_prior', 'dr_40days_after']],\n",
    "                                       get_stock_market_data_daily_from_ser_CRSP,\n",
    "                                       return_as_df=False,\n",
    "                                       db=db)\n",
    "print(f\"{mkt_data_acq.isna().sum()} out of {len(df)} deals cannot find acquiror market data.\")"
   ]
  },
  {
   "cell_type": "markdown",
   "id": "18be57e7-84ec-4432-a034-7f5dc83524ad",
   "metadata": {},
   "source": [
    "## save raw market data"
   ]
  },
  {
   "cell_type": "code",
   "execution_count": 23,
   "id": "c5033346-da23-4ef6-a16c-f13ae8fc5b69",
   "metadata": {},
   "outputs": [],
   "source": [
    "import pickle\n",
    "\n",
    "filepath_tgt = f\"{path}/data/raw/mkt_data_tgt_raw.pickle\"\n",
    "with open(filepath_tgt, 'wb') as handle:\n",
    "    pickle.dump(mkt_data_tgt, handle, protocol=pickle.HIGHEST_PROTOCOL)\n",
    "    \n",
    "    \n",
    "filepath_acq = f\"{path}/data/raw/mkt_data_acq_raw.pickle\"\n",
    "with open(filepath_acq, 'wb') as handle:\n",
    "    pickle.dump(mkt_data_acq, handle, protocol=pickle.HIGHEST_PROTOCOL)"
   ]
  },
  {
   "cell_type": "code",
   "execution_count": null,
   "id": "c92b461e-d790-42aa-8abb-b57ae2698d2c",
   "metadata": {},
   "outputs": [],
   "source": []
  }
 ],
 "metadata": {
  "kernelspec": {
   "display_name": "Python 3 (ipykernel)",
   "language": "python",
   "name": "python3"
  },
  "language_info": {
   "codemirror_mode": {
    "name": "ipython",
    "version": 3
   },
   "file_extension": ".py",
   "mimetype": "text/x-python",
   "name": "python",
   "nbconvert_exporter": "python",
   "pygments_lexer": "ipython3",
   "version": "3.11.0"
  },
  "toc": {
   "base_numbering": 1,
   "nav_menu": {},
   "number_sections": true,
   "sideBar": true,
   "skip_h1_title": false,
   "title_cell": "Table of Contents",
   "title_sidebar": "Contents",
   "toc_cell": false,
   "toc_position": {},
   "toc_section_display": true,
   "toc_window_display": false
  }
 },
 "nbformat": 4,
 "nbformat_minor": 5
}
