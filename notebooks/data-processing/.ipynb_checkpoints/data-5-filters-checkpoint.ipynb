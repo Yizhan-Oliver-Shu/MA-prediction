{
 "cells": [
  {
   "cell_type": "code",
   "execution_count": 1,
   "id": "0ecc5a8d-3545-496e-b51c-0646ade36c66",
   "metadata": {},
   "outputs": [],
   "source": [
    "%load_ext autoreload\n",
    "%autoreload 2\n",
    "import sys, os\n",
    "from os.path import expanduser\n",
    "## actions required!!!!!!!!!!!!!!!!!!!! change your folder path \n",
    "path = \"~/Documents/G3/MA-prediction\"\n",
    "path = expanduser(path)\n",
    "sys.path.append(path)\n",
    "\n",
    "import pandas as pd\n",
    "import numpy as np\n",
    "\n",
    "pd.options.mode.chained_assignment = None\n",
    "import warnings\n",
    "warnings.simplefilter(action='ignore', category=pd.errors.PerformanceWarning)\n",
    "warnings.simplefilter(action='ignore', category=FutureWarning)"
   ]
  },
  {
   "cell_type": "code",
   "execution_count": 2,
   "id": "901f5929-46d5-42ca-93c2-0f683e64ced7",
   "metadata": {},
   "outputs": [],
   "source": [
    "from MA_prediction.utils import *\n",
    "from MA_prediction.crsp import *\n",
    "from MA_prediction.mkt_calendar import *"
   ]
  },
  {
   "cell_type": "markdown",
   "id": "75edc311-6ae0-442d-984b-40775efa290c",
   "metadata": {
    "tags": []
   },
   "source": [
    "# Data Filters\n",
    "Previously we deleted the following deals:\n",
    "\n",
    "- database errors.\n",
    "- deal price is missing (mostly debt restructuring).\n",
    "- deal consideration is missing.\n",
    "\n",
    "\n",
    "Now we apply the following filters:\n",
    "\n",
    "\n",
    "- able to match a `permno` for the tgt.\n",
    "- for completed deals\n",
    "    - delisting reason from CRSP should be due to MA.\n",
    "    - delisting return is not missing (no complex payment that are hard to price).\n",
    "    - delisting date from CRSP and effective date from SDC are not too far away (<=40 days difference).\n",
    "- acquiror matched in CRSP for stock deals.\n",
    "\n",
    "\n",
    "## I/O\n",
    "\n",
    "- input:\n",
    "    - `/data/intermediate/df_permno_delist_CRSP.h5`\n",
    "    - `/data/reference/filters_basic.txt`\n",
    "\n",
    "- output:\n",
    "    - `/data/reference/filters.txt`"
   ]
  },
  {
   "cell_type": "markdown",
   "id": "dfb0369e-088b-4e0e-ac4c-802de38d5914",
   "metadata": {},
   "source": [
    "## old\n",
    "- deal price, initial deal price >= \\$1. \n",
    "- target stock price 1 day, 1 week and 4 weeks before >= \\$1.\n",
    "- deal value adjusted by inflation >= \\$200 m.\n",
    "- date announced is not estimated.\n",
    "- deal cash and stock terms parsing successful.\n",
    "\n",
    "- duration no fewer than 5 trading days.\n",
    "\n",
    "\n",
    "Results of filtering:\n",
    "\n",
    "- delete 3 deals due to data error. 9854 -> 9851\n",
    "- delete 1503 deals due to deal price smaller than \\$1. 9851 -> 8348\n",
    "- delete 490 deals due to target price smaller than \\$1. 8348 -> 7858\n",
    "- delete 2473 deals due to deal value adjusted by inflation smaller than $200 m. 7858 -> 5385\n",
    "- delete 0 deals due to estimated announcement date. 5385 -> 5385\n",
    "- delete 1117 deals due to failure of extracting cash and stock terms. 5385 -> 4268\n",
    "- delete 31 deals due to failure of matching target in CRSP. 4268 -> 4237\n",
    "- delete 33 deals due to failure of matching acquiror in CRSP for stock deals. 4237 -> 4204\n",
    "- delete 21 deals due to non-M&A-related delisting code for completed deals. 4204 -> 4183\n",
    "- delete 10 deals due to mismatch between delisting date in CRSP and effective date in SDC. 4183 -> 4173\n",
    "- delete 39 deals due to duration shorter than 5 trading days. 4173 -> 4134"
   ]
  },
  {
   "cell_type": "markdown",
   "id": "a0a7fb08",
   "metadata": {
    "tags": []
   },
   "source": [
    "## load data"
   ]
  },
  {
   "cell_type": "code",
   "execution_count": 12,
   "id": "7160327b",
   "metadata": {},
   "outputs": [],
   "source": [
    "# dataset\n",
    "filepath = f\"{path}/data/intermediate/df_permno_delist_CRSP.h5\"\n",
    "df = pd.read_hdf(filepath)"
   ]
  },
  {
   "cell_type": "code",
   "execution_count": 13,
   "id": "3d816514-051a-4d2b-aec8-77461af1c5d0",
   "metadata": {},
   "outputs": [
    {
     "name": "stdout",
     "output_type": "stream",
     "text": [
      "delete 3 deals due to database errors. 12082 -> 12079\n",
      "delete 1631 deals due to missing pricing information. 12079 -> 10448\n",
      "delete 3 deals due to missing consideration. 10448 -> 10445\n",
      "\n"
     ]
    }
   ],
   "source": [
    "# already applied filters\n",
    "textpath_old = f\"{path}/data/reference/filters_basic.txt\"\n",
    "prev_filters = open(textpath_old, \"r\").read()\n",
    "print(prev_filters)\n",
    "# \n",
    "textpath = f\"{path}/data/reference/filters.txt\"\n",
    "textfile = open(textpath, \"w\")\n",
    "_=textfile.write(prev_filters)"
   ]
  },
  {
   "cell_type": "markdown",
   "id": "07bd5b20-4c37-4e0c-9510-834e6abb9005",
   "metadata": {},
   "source": [
    "# Filtering"
   ]
  },
  {
   "cell_type": "code",
   "execution_count": 14,
   "id": "76a63bb0-ee53-451d-95da-36303346a4d7",
   "metadata": {},
   "outputs": [],
   "source": [
    "df['retain'] = True\n",
    "num = len(df)"
   ]
  },
  {
   "cell_type": "markdown",
   "id": "30a6d4bc-2f35-44ea-b34a-8b73dbd14ea7",
   "metadata": {},
   "source": [
    "## tgt permno is matched successfully"
   ]
  },
  {
   "cell_type": "code",
   "execution_count": 15,
   "id": "6aa09c38-f756-4bcc-b2f5-111ec8d57cdb",
   "metadata": {},
   "outputs": [
    {
     "name": "stdout",
     "output_type": "stream",
     "text": [
      "delete 833 deals due to failure of matching target in CRSP. 10445 -> 9612\n"
     ]
    }
   ],
   "source": [
    "# no tgt permno\n",
    "num_old = num\n",
    "\n",
    "df.retain[df.tpermno.isna()] = False\n",
    "\n",
    "num = df.retain.sum()\n",
    "\n",
    "string = f\"delete {num_old-num} deals due to failure of matching target in CRSP. {num_old} -> {num}\"\n",
    "print_and_save_string(string, textfile)"
   ]
  },
  {
   "cell_type": "markdown",
   "id": "248933a1-09c5-4c54-af9e-0b37ab0ed4d6",
   "metadata": {},
   "source": [
    "## delisting"
   ]
  },
  {
   "cell_type": "markdown",
   "id": "7d99c0c8-c71a-4613-8cb3-46d2a5477bfb",
   "metadata": {},
   "source": [
    "### delisting reason is MA"
   ]
  },
  {
   "cell_type": "code",
   "execution_count": 16,
   "id": "003a3186-2aeb-4ce1-a205-16bb8466fb11",
   "metadata": {},
   "outputs": [
    {
     "name": "stdout",
     "output_type": "stream",
     "text": [
      "delete 223 deals due to non-M&A-related delisting code for completed deals. 9612 -> 9389\n"
     ]
    }
   ],
   "source": [
    "# delisted not due to MA\n",
    "num_old = num\n",
    "\n",
    "df.retain[df.statc.eq('C') & ~df.delist_code.between(200, 300, inclusive='left')] = False\n",
    "\n",
    "num = df.retain.sum()\n",
    "\n",
    "string = f\"delete {num_old-num} deals due to non-M&A-related delisting code for completed deals. {num_old} -> {num}\"\n",
    "print_and_save_string(string, textfile)"
   ]
  },
  {
   "cell_type": "markdown",
   "id": "dd36bafa-b3e5-4cb2-8576-0c9fd2931916",
   "metadata": {},
   "source": [
    "### delisting return is not missing"
   ]
  },
  {
   "cell_type": "code",
   "execution_count": 17,
   "id": "c1d021b6-47a2-44b9-a6d4-226758f46ba9",
   "metadata": {},
   "outputs": [
    {
     "name": "stdout",
     "output_type": "stream",
     "text": [
      "delete 45 deals due to missing delist price/return (complex payment) for completed deals. 9389 -> 9344\n"
     ]
    }
   ],
   "source": [
    "# from CRSP, the deal involves payment that is difficult to price\n",
    "num_old = num\n",
    "\n",
    "df.retain[df.statc.eq('C') & df.delist_return.isna()] = False\n",
    "\n",
    "num = df.retain.sum()\n",
    "\n",
    "string = f\"delete {num_old-num} deals due to missing delist price/return (complex payment) for completed deals. {num_old} -> {num}\"\n",
    "print_and_save_string(string, textfile)"
   ]
  },
  {
   "cell_type": "markdown",
   "id": "36f1e2f8-9f44-4d09-88ea-ead420453ac2",
   "metadata": {},
   "source": [
    "### delisting date and effective date don't differ too much"
   ]
  },
  {
   "cell_type": "code",
   "execution_count": 10,
   "id": "fd744975-f191-47ea-beda-a1d4ad0847c0",
   "metadata": {},
   "outputs": [
    {
     "name": "stdout",
     "output_type": "stream",
     "text": [
      "delete 133 deals due to mismatch between delisting date in CRSP and effective date in SDC. 9344 -> 9211\n"
     ]
    }
   ],
   "source": [
    "# delisted date differs too much with effective date\n",
    "num_old = num\n",
    "\n",
    "days_between_de_delist_date = get_num_trading_days_between(df.de, df.delist_date)\n",
    "df.retain[df.statc.eq('C') & abs(days_between_de_delist_date).gt(40)] = False\n",
    "\n",
    "num = df.retain.sum()\n",
    "\n",
    "string = f\"delete {num_old-num} deals due to mismatch between delisting date in CRSP and effective date in SDC. {num_old} -> {num}\"\n",
    "print_and_save_string(string, textfile)"
   ]
  },
  {
   "cell_type": "code",
   "execution_count": null,
   "id": "5a831b1e-9128-4e28-b463-67aa2cb4bf33",
   "metadata": {},
   "outputs": [],
   "source": [
    "textfile.close()"
   ]
  },
  {
   "cell_type": "code",
   "execution_count": null,
   "id": "b7485461-beb0-4740-8998-d0c1e27d20fe",
   "metadata": {},
   "outputs": [],
   "source": []
  },
  {
   "cell_type": "code",
   "execution_count": null,
   "id": "56da472b-717c-42f6-856f-23330d72b278",
   "metadata": {},
   "outputs": [],
   "source": []
  },
  {
   "cell_type": "code",
   "execution_count": null,
   "id": "d43dcc6c-87c8-441d-8937-c013729d96bc",
   "metadata": {},
   "outputs": [],
   "source": []
  },
  {
   "cell_type": "code",
   "execution_count": null,
   "id": "b8a9528c-f354-4959-8a50-398e19530ef7",
   "metadata": {},
   "outputs": [],
   "source": []
  },
  {
   "cell_type": "code",
   "execution_count": null,
   "id": "86e02ea8-8d88-4da6-ab0a-bb2be1b65195",
   "metadata": {},
   "outputs": [],
   "source": []
  },
  {
   "cell_type": "code",
   "execution_count": null,
   "id": "ef4ad1f8-7112-40b9-954b-facdbddc9698",
   "metadata": {},
   "outputs": [],
   "source": []
  },
  {
   "cell_type": "code",
   "execution_count": null,
   "id": "4f67ee47-393c-4446-bdce-90f5f7171de4",
   "metadata": {},
   "outputs": [],
   "source": []
  },
  {
   "cell_type": "code",
   "execution_count": null,
   "id": "0d1d8195-fa2f-453b-885d-34baf2077c84",
   "metadata": {},
   "outputs": [],
   "source": []
  },
  {
   "cell_type": "code",
   "execution_count": null,
   "id": "beeb3687-7500-4c2f-baa8-6d02779f1565",
   "metadata": {},
   "outputs": [],
   "source": []
  },
  {
   "cell_type": "code",
   "execution_count": null,
   "id": "813d4123-755b-4920-9b93-89af3fb3d397",
   "metadata": {},
   "outputs": [],
   "source": []
  },
  {
   "cell_type": "code",
   "execution_count": null,
   "id": "b62f4675-f465-4731-9827-81e9988ccf06",
   "metadata": {},
   "outputs": [],
   "source": []
  },
  {
   "cell_type": "code",
   "execution_count": null,
   "id": "1076e2e5-d367-4d1b-8e3b-dbcce3716000",
   "metadata": {},
   "outputs": [],
   "source": []
  },
  {
   "cell_type": "markdown",
   "id": "1bf7e4bc-dd48-4388-8d7b-70c3f2d117cb",
   "metadata": {
    "jp-MarkdownHeadingCollapsed": true,
    "tags": []
   },
   "source": [
    "# Data preprocessing final: Data Filters\n",
    "\n",
    "Apply filters:\n",
    "\n",
    "- data error detected manually.\n",
    "- deal price, initial deal price >= \\$1. \n",
    "- target stock price 1 day, 1 week and 4 weeks before >= \\$1.\n",
    "- deal value adjusted by inflation >= \\$200 m.\n",
    "- date announced is not estimated.\n",
    "- deal cash and stock terms parsing successful.\n",
    "- target and acquiror matched in CRSP.\n",
    "- For completed deals, delisting code in CRSP is M&A related.\n",
    "- For completed deals, effective date in SDC and target delisting date in CRSP is close. \n",
    "- duration no fewer than 5 trading days.\n",
    "\n",
    "\n",
    "Results of filtering:\n",
    "\n",
    "- delete 3 deals due to data error. 9854 -> 9851\n",
    "- delete 1503 deals due to deal price smaller than \\$1. 9851 -> 8348\n",
    "- delete 490 deals due to target price smaller than \\$1. 8348 -> 7858\n",
    "- delete 2473 deals due to deal value adjusted by inflation smaller than $200 m. 7858 -> 5385\n",
    "- delete 0 deals due to estimated announcement date. 5385 -> 5385\n",
    "- delete 1117 deals due to failure of extracting cash and stock terms. 5385 -> 4268\n",
    "- delete 31 deals due to failure of matching target in CRSP. 4268 -> 4237\n",
    "- delete 33 deals due to failure of matching acquiror in CRSP for stock deals. 4237 -> 4204\n",
    "- delete 21 deals due to non-M&A-related delisting code for completed deals. 4204 -> 4183\n",
    "- delete 10 deals due to mismatch between delisting date in CRSP and effective date in SDC. 4183 -> 4173\n",
    "- delete 39 deals due to duration shorter than 5 trading days. 4173 -> 4134"
   ]
  },
  {
   "cell_type": "markdown",
   "id": "e2ec639d",
   "metadata": {},
   "source": [
    "# Filters"
   ]
  },
  {
   "cell_type": "code",
   "execution_count": 4,
   "id": "e6666470",
   "metadata": {},
   "outputs": [],
   "source": [
    "df['retain'] = True"
   ]
  },
  {
   "cell_type": "code",
   "execution_count": 5,
   "id": "8fa7a864",
   "metadata": {
    "scrolled": true
   },
   "outputs": [
    {
     "name": "stdout",
     "output_type": "stream",
     "text": [
      "delete 40 deals due to data error. 12031 -> 11991\n"
     ]
    }
   ],
   "source": [
    "num_orig = df.retain.sum()\n",
    "\n",
    "index_del = dsk.get_delete_index(df)\n",
    "df.retain[index_del] = False\n",
    "df.retain[df.ttic.eq(df.atic)] = False\n",
    "\n",
    "num_new = df.retain.sum()\n",
    "\n",
    "string = f\"delete {num_orig-num_new} deals due to data error. {num_orig} -> {num_new}\"\n",
    "txt_file.write(string+\"\\n\")\n",
    "print(string)"
   ]
  },
  {
   "cell_type": "code",
   "execution_count": 6,
   "id": "45d9b516",
   "metadata": {
    "scrolled": true
   },
   "outputs": [
    {
     "name": "stdout",
     "output_type": "stream",
     "text": [
      "delete 1861 deals due to deal price smaller than $1. 11991 -> 10130\n"
     ]
    }
   ],
   "source": [
    "num_orig = df.retain.sum()\n",
    "\n",
    "df.retain[df.pr.lt(1., fill_value = 0.) | df.pr_initial.lt(1., fill_value = 0.)] = False\n",
    "\n",
    "num_new = df.retain.sum()\n",
    "\n",
    "string = f\"delete {num_orig-num_new} deals due to deal price smaller than $1. {num_orig} -> {num_new}\"\n",
    "txt_file.write(string+\"\\n\")\n",
    "print(string)"
   ]
  },
  {
   "cell_type": "code",
   "execution_count": 7,
   "id": "a9074164",
   "metadata": {},
   "outputs": [
    {
     "name": "stdout",
     "output_type": "stream",
     "text": [
      "delete 903 deals due to target price smaller than $1. 10130 -> 9227\n"
     ]
    }
   ],
   "source": [
    "num_orig = df.retain.sum()\n",
    "\n",
    "df.retain[df.pr1day.lt(1., fill_value=0.) | df.pr1wk.lt(1., fill_value=0.) | df.pr4wk.lt(1., fill_value=0.)] = False\n",
    "\n",
    "num_new = df.retain.sum()\n",
    "\n",
    "string = f\"delete {num_orig-num_new} deals due to target price smaller than $1. {num_orig} -> {num_new}\"\n",
    "txt_file.write(string+\"\\n\")\n",
    "print(string)"
   ]
  },
  {
   "cell_type": "code",
   "execution_count": 8,
   "id": "a57aa7a8",
   "metadata": {},
   "outputs": [
    {
     "name": "stdout",
     "output_type": "stream",
     "text": [
      "delete 2986 deals due to deal value adjusted by inflation smaller than $200 m. 9227 -> 6241\n"
     ]
    }
   ],
   "source": [
    "num_orig = df.retain.sum()\n",
    "\n",
    "df.retain[df.val_adj_by_cpi.lt(200., fill_value=0.)] = False\n",
    "\n",
    "num_new = df.retain.sum()\n",
    "\n",
    "string = f\"delete {num_orig-num_new} deals due to deal value adjusted by inflation smaller than $200 m. {num_orig} -> {num_new}\"\n",
    "txt_file.write(string+\"\\n\")\n",
    "print(string)"
   ]
  },
  {
   "cell_type": "code",
   "execution_count": 9,
   "id": "c63c2486",
   "metadata": {
    "scrolled": true
   },
   "outputs": [
    {
     "name": "stdout",
     "output_type": "stream",
     "text": [
      "delete 0 deals due to estimated announcement date. 6241 -> 6241\n"
     ]
    }
   ],
   "source": [
    "num_orig = df.retain.sum()\n",
    "\n",
    "df.retain[df.da.eq('Yes')] = False\n",
    "\n",
    "num_new = df.retain.sum()\n",
    "\n",
    "string = f\"delete {num_orig-num_new} deals due to estimated announcement date. {num_orig} -> {num_new}\"\n",
    "txt_file.write(string+\"\\n\")\n",
    "print(string)"
   ]
  },
  {
   "cell_type": "code",
   "execution_count": 10,
   "id": "445247d3",
   "metadata": {},
   "outputs": [
    {
     "name": "stdout",
     "output_type": "stream",
     "text": [
      "delete 1276 deals due to failure of extracting cash and stock terms. 6241 -> 4965\n"
     ]
    }
   ],
   "source": [
    "num_orig = df.retain.sum()\n",
    "\n",
    "payment_types_lst = ['Cash', 'Common Stock', 'Cash and Common Stock', \n",
    "                     'Common Stock, fixed dollar', 'Cash and Common Stock, fixed dollar']\n",
    "df.retain[~df.payment_type.isin(payment_types_lst)]=False\n",
    "\n",
    "num_new = df.retain.sum()\n",
    "\n",
    "string = f\"delete {num_orig-num_new} deals due to failure of extracting cash and stock terms. {num_orig} -> {num_new}\"\n",
    "txt_file.write(string+\"\\n\")\n",
    "print(string)"
   ]
  },
  {
   "cell_type": "code",
   "execution_count": 11,
   "id": "9ca77375",
   "metadata": {},
   "outputs": [
    {
     "name": "stdout",
     "output_type": "stream",
     "text": [
      "delete 42 deals due to failure of matching target in CRSP. 4965 -> 4923\n"
     ]
    }
   ],
   "source": [
    "num_orig = df.retain.sum()\n",
    "\n",
    "df.retain[df.tpermno.isna()] = False\n",
    "\n",
    "num_new = df.retain.sum()\n",
    "\n",
    "string = f\"delete {num_orig-num_new} deals due to failure of matching target in CRSP. {num_orig} -> {num_new}\"\n",
    "txt_file.write(string+\"\\n\")\n",
    "print(string)"
   ]
  },
  {
   "cell_type": "code",
   "execution_count": 12,
   "id": "37e0bbd2",
   "metadata": {},
   "outputs": [
    {
     "name": "stdout",
     "output_type": "stream",
     "text": [
      "delete 34 deals due to failure of matching acquiror in CRSP for stock deals. 4923 -> 4889\n"
     ]
    }
   ],
   "source": [
    "num_orig = df.retain.sum()\n",
    "\n",
    "df.retain[df.payment_type.isin(['Common Stock', 'Cash and Common Stock']) & df.apermno.isna()] = False\n",
    "\n",
    "num_new = df.retain.sum()\n",
    "\n",
    "string = f\"delete {num_orig-num_new} deals due to failure of matching acquiror in CRSP for stock deals. {num_orig} -> {num_new}\"\n",
    "txt_file.write(string+\"\\n\")\n",
    "print(string)"
   ]
  },
  {
   "cell_type": "code",
   "execution_count": 13,
   "id": "dbe3ce02",
   "metadata": {},
   "outputs": [
    {
     "name": "stdout",
     "output_type": "stream",
     "text": [
      "delete 97 deals due to non-M&A-related delisting code for completed deals. 4889 -> 4792\n"
     ]
    }
   ],
   "source": [
    "num_orig = df.retain.sum()\n",
    "\n",
    "df.retain[df.statc.eq('C') & ~df.delist_code.between(200, 300, inclusive='left')] = False\n",
    "\n",
    "num_new = df.retain.sum()\n",
    "\n",
    "string = f\"delete {num_orig-num_new} deals due to non-M&A-related delisting code for completed deals. {num_orig} -> {num_new}\"\n",
    "txt_file.write(string+\"\\n\")\n",
    "print(string)"
   ]
  },
  {
   "cell_type": "code",
   "execution_count": 14,
   "id": "8a16cdb3",
   "metadata": {},
   "outputs": [
    {
     "name": "stdout",
     "output_type": "stream",
     "text": [
      "delete 11 deals due to mismatch between delisting date in CRSP and effective date in SDC. 4792 -> 4781\n"
     ]
    }
   ],
   "source": [
    "num_orig = df.retain.sum()\n",
    "\n",
    "days_between_de_delist_date = dsk.get_num_trading_days_between(df.de, df.delist_date)\n",
    "df.retain[df.statc.eq('C')&abs(days_between_de_delist_date).gt(252)] = False\n",
    "\n",
    "num_new = df.retain.sum()\n",
    "\n",
    "string = f\"delete {num_orig-num_new} deals due to mismatch between delisting date in CRSP and effective date in SDC. {num_orig} -> {num_new}\"\n",
    "txt_file.write(string+\"\\n\")\n",
    "print(string)"
   ]
  },
  {
   "cell_type": "code",
   "execution_count": 15,
   "id": "c9b82f4b",
   "metadata": {},
   "outputs": [
    {
     "name": "stdout",
     "output_type": "stream",
     "text": [
      "delete 46 deals due to duration shorter than 5 trading days. 4781 -> 4735\n"
     ]
    }
   ],
   "source": [
    "num_orig = df.retain.sum()\n",
    "\n",
    "df.retain[df.duration.lt(5)] = False\n",
    "\n",
    "num_new = df.retain.sum()\n",
    "\n",
    "string = f\"delete {num_orig-num_new} deals due to duration shorter than 5 trading days. {num_orig} -> {num_new}\"\n",
    "txt_file.write(string+\"\\n\")\n",
    "print(string)"
   ]
  },
  {
   "cell_type": "code",
   "execution_count": 16,
   "id": "91231811",
   "metadata": {},
   "outputs": [
    {
     "name": "stdout",
     "output_type": "stream",
     "text": [
      "delete 10 deals due to duration longer than 2 years. 4735 -> 4725\n"
     ]
    }
   ],
   "source": [
    "num_orig = df.retain.sum()\n",
    "\n",
    "df.retain[df.duration.gt(504)] = False\n",
    "\n",
    "num_new = df.retain.sum()\n",
    "\n",
    "string = f\"delete {num_orig-num_new} deals due to duration longer than 2 years. {num_orig} -> {num_new}\"\n",
    "txt_file.write(string+\"\\n\")\n",
    "print(string)"
   ]
  },
  {
   "cell_type": "code",
   "execution_count": 17,
   "id": "f67585be",
   "metadata": {
    "scrolled": true
   },
   "outputs": [
    {
     "name": "stdout",
     "output_type": "stream",
     "text": [
      "delete 0 pending deals announced before 2020. 4725 -> 4725\n"
     ]
    }
   ],
   "source": [
    "num_orig = df.retain.sum()\n",
    "\n",
    "df.retain[df.statc.eq('P') & df.ann_year.lt(2020)] = False\n",
    "\n",
    "num_new = df.retain.sum()\n",
    "\n",
    "string = f\"delete {num_orig-num_new} pending deals announced before 2020. {num_orig} -> {num_new}\"\n",
    "txt_file.write(string+\"\\n\")\n",
    "print(string)"
   ]
  },
  {
   "cell_type": "code",
   "execution_count": 18,
   "id": "72e97911",
   "metadata": {},
   "outputs": [
    {
     "name": "stdout",
     "output_type": "stream",
     "text": [
      "delete 2 deals whose targets or acquirors are not allowed to trade within 5 days after announcement. 4725 -> 4723\n"
     ]
    }
   ],
   "source": [
    "num_orig = df.retain.sum()\n",
    "\n",
    "import pickle\n",
    "index_no_trading = pd.read_pickle(f'{path}/data/index_no_trading.pickle')\n",
    "df.retain[index_no_trading] = False\n",
    "\n",
    "num_new = df.retain.sum()\n",
    "\n",
    "string = f\"delete {num_orig-num_new} deals whose targets or acquirors are not allowed to trade within 5 days after announcement. {num_orig} -> {num_new}\"\n",
    "txt_file.write(string+\"\\n\")\n",
    "print(string)"
   ]
  },
  {
   "cell_type": "markdown",
   "id": "902cdc40",
   "metadata": {},
   "source": [
    "# Save final dataset"
   ]
  },
  {
   "cell_type": "code",
   "execution_count": 19,
   "id": "1315a3fd",
   "metadata": {},
   "outputs": [],
   "source": [
    "txt_file.close()"
   ]
  },
  {
   "cell_type": "code",
   "execution_count": 20,
   "id": "80972b3c",
   "metadata": {},
   "outputs": [],
   "source": [
    "filepath = f\"{path}/data/df_final.h5\"\n",
    "df.to_hdf(filepath, key='df', mode='w')"
   ]
  },
  {
   "cell_type": "code",
   "execution_count": 21,
   "id": "36be2624",
   "metadata": {},
   "outputs": [],
   "source": [
    "filepath = f\"{path}/data/df_final.csv\"\n",
    "df.to_csv(filepath)"
   ]
  }
 ],
 "metadata": {
  "kernelspec": {
   "display_name": "Python 3 (ipykernel)",
   "language": "python",
   "name": "python3"
  },
  "language_info": {
   "codemirror_mode": {
    "name": "ipython",
    "version": 3
   },
   "file_extension": ".py",
   "mimetype": "text/x-python",
   "name": "python",
   "nbconvert_exporter": "python",
   "pygments_lexer": "ipython3",
   "version": "3.11.0"
  },
  "toc": {
   "base_numbering": 1,
   "nav_menu": {},
   "number_sections": true,
   "sideBar": true,
   "skip_h1_title": false,
   "title_cell": "Table of Contents",
   "title_sidebar": "Contents",
   "toc_cell": false,
   "toc_position": {},
   "toc_section_display": true,
   "toc_window_display": false
  }
 },
 "nbformat": 4,
 "nbformat_minor": 5
}
