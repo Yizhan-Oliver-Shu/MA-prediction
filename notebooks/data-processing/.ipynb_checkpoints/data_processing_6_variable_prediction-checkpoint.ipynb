{
 "cells": [
  {
   "cell_type": "code",
   "execution_count": 1,
   "id": "0d8d1fff",
   "metadata": {},
   "outputs": [
    {
     "data": {
      "text/html": [
       "<style>.container { width:92% !important; }</style>"
      ],
      "text/plain": [
       "<IPython.core.display.HTML object>"
      ]
     },
     "metadata": {},
     "output_type": "display_data"
    }
   ],
   "source": [
    "from IPython.display import display, HTML\n",
    "display(HTML(\"<style>.container { width:92% !important; }</style>\"))\n",
    "\n",
    "%load_ext autoreload\n",
    "%autoreload 2\n",
    "import sys, os\n",
    "from os.path import expanduser\n",
    "## actions required!!!!!!!!!!!!!!!!!!!! change your folder path \n",
    "path = \"~/Documents/G3/MA-prediction\"\n",
    "path = expanduser(path)\n",
    "sys.path.append(path)\n",
    "\n",
    "import data_science_MA_kit as dsk\n",
    "import pandas as pd\n",
    "import numpy as np\n",
    "import datetime\n",
    "from tqdm import tqdm\n",
    "import re\n",
    "import wrds\n",
    "\n",
    "pd.options.mode.chained_assignment = None\n",
    "import warnings\n",
    "warnings.simplefilter(action='ignore', category=pd.errors.PerformanceWarning)"
   ]
  },
  {
   "cell_type": "markdown",
   "id": "62a16712",
   "metadata": {},
   "source": [
    "# Data preprocessing 6: Variable transformation for classifiers\n",
    "\n",
    "In this notebook we conduct several variable transformation useful for the prediction model.\n",
    "\n",
    "\n",
    "\n",
    "\n",
    "\n",
    "\n",
    "For prediction. (4557)\n",
    "- create new `dao`, `pr1day`, `mv_ratio`\n",
    "- Change attitude/apub names.\n",
    "- `psought`\n",
    "- Premium and spread.\n",
    "- Delete losers in a competition. Set time span.\n",
    "\n",
    "To be done in later notebooks:\n",
    "\n",
    "- Change attitude/apub names.\n",
    "- Delete wrong amendment information\n",
    "- drop missing `pr_initial`\n",
    "\n",
    "- delete competing deals (hard).\n",
    "- delete too recent deals.\n",
    "\n",
    "\n",
    "\n",
    "## I/O\n",
    "\n",
    "- Input:\n",
    "    - `df_variable_transform.h5`\n",
    "    - `market_data_tgt_corrected.pickle`\n",
    "    - `market_data_acq_corrected.pickle`\n",
    "\n",
    "- Output:\n",
    "    - `df_final.h5`\n",
    "    \n",
    "    \n",
    "## load data"
   ]
  },
  {
   "cell_type": "code",
   "execution_count": 2,
   "id": "50d32821",
   "metadata": {},
   "outputs": [],
   "source": [
    "filepath = f\"{path}/data/df_variable_transform.h5\"\n",
    "df = pd.read_hdf(filepath)\n",
    "\n",
    "# market data of tgts and acqs\n",
    "import pickle\n",
    "filepath_tgt = f\"{path}/data/market_data_tgt_corrected.pickle\"\n",
    "with open(filepath_tgt, 'rb') as handle:\n",
    "    market_data_tgt_corrected = pickle.load(handle)\n",
    "filepath_acq = f\"{path}/data/market_data_acq_corrected.pickle\"\n",
    "with open(filepath_acq, 'rb') as handle:\n",
    "    market_data_acq_corrected = pickle.load(handle)"
   ]
  },
  {
   "cell_type": "markdown",
   "id": "7e4646f4",
   "metadata": {},
   "source": [
    "# Unaffected price, prices, premium, spread, and implied probability"
   ]
  },
  {
   "cell_type": "markdown",
   "id": "539d8e6a",
   "metadata": {},
   "source": [
    "## unaffected price"
   ]
  },
  {
   "cell_type": "code",
   "execution_count": 3,
   "id": "06ad0321",
   "metadata": {},
   "outputs": [],
   "source": [
    "def extract_several_prices_from_market_data(mkt_data_df, one_day, da):\n",
    "    \"\"\"\n",
    "    From market data, compute 20 days trailing average at 1 day, 1 week and 4 weeks before original announcement, and the price after 5 days of announcement\n",
    "    \"\"\"\n",
    "    index = ['tpr1day_before_dao_20ave', 'tpr1wk_before_dao_20ave', 'tpr4wk_before_dao_20ave', 'tpr4days_after_da']\n",
    "    if not isinstance(mkt_data_df, pd.DataFrame) or da not in mkt_data_df.index or one_day not in mkt_data_df.index:\n",
    "        return pd.Series(np.nan, index=index)\n",
    "    i, j = np.searchsorted(mkt_data_df.index, [one_day, da])\n",
    "    prc_ser = mkt_data_df.prc_adj_ann\n",
    "    \n",
    "    # \n",
    "    prc_lst = []\n",
    "    prc_lst.append(prc_ser.iloc[i-19:i].mean() if i >= 19 else np.nan)\n",
    "    prc_lst.append(prc_ser.iloc[i-24:i-5].mean() if i >= 24 else np.nan)\n",
    "    prc_lst.append(prc_ser.iloc[i-39:i-20].mean() if i >= 39 else np.nan)\n",
    "    prc_lst.append(prc_ser.iloc[j+4] if j+4 < len(prc_ser) else np.nan)\n",
    "\n",
    "    return pd.Series(prc_lst, index=index)\n",
    "\n",
    "def extract_several_prices_from_market_data_ser(ser):\n",
    "    \"\"\"\n",
    "    ser contains (mkt_data_df, one_day, da)\n",
    "    \"\"\"\n",
    "    return extract_several_prices_from_market_data(ser.iloc[0], ser.iloc[1], ser.iloc[2])"
   ]
  },
  {
   "cell_type": "code",
   "execution_count": 4,
   "id": "1d14627f",
   "metadata": {
    "scrolled": true
   },
   "outputs": [
    {
     "name": "stderr",
     "output_type": "stream",
     "text": [
      "100%|███████████████████████████████████| 12031/12031 [00:03<00:00, 3906.46it/s]\n"
     ]
    },
    {
     "data": {
      "text/html": [
       "<div>\n",
       "<style scoped>\n",
       "    .dataframe tbody tr th:only-of-type {\n",
       "        vertical-align: middle;\n",
       "    }\n",
       "\n",
       "    .dataframe tbody tr th {\n",
       "        vertical-align: top;\n",
       "    }\n",
       "\n",
       "    .dataframe thead th {\n",
       "        text-align: right;\n",
       "    }\n",
       "</style>\n",
       "<table border=\"1\" class=\"dataframe\">\n",
       "  <thead>\n",
       "    <tr style=\"text-align: right;\">\n",
       "      <th></th>\n",
       "      <th>tpr1day_before_dao_20ave</th>\n",
       "      <th>tpr1wk_before_dao_20ave</th>\n",
       "      <th>tpr4wk_before_dao_20ave</th>\n",
       "      <th>tpr4days_after_da</th>\n",
       "    </tr>\n",
       "    <tr>\n",
       "      <th>master_deal_no</th>\n",
       "      <th></th>\n",
       "      <th></th>\n",
       "      <th></th>\n",
       "      <th></th>\n",
       "    </tr>\n",
       "  </thead>\n",
       "  <tbody>\n",
       "    <tr>\n",
       "      <th>95088020</th>\n",
       "      <td>NaN</td>\n",
       "      <td>NaN</td>\n",
       "      <td>NaN</td>\n",
       "      <td>NaN</td>\n",
       "    </tr>\n",
       "    <tr>\n",
       "      <th>154109043</th>\n",
       "      <td>84.427632</td>\n",
       "      <td>77.519737</td>\n",
       "      <td>72.743421</td>\n",
       "      <td>117.50</td>\n",
       "    </tr>\n",
       "    <tr>\n",
       "      <th>154130043</th>\n",
       "      <td>11.460526</td>\n",
       "      <td>11.144737</td>\n",
       "      <td>11.671053</td>\n",
       "      <td>16.75</td>\n",
       "    </tr>\n",
       "    <tr>\n",
       "      <th>154182043</th>\n",
       "      <td>9.309211</td>\n",
       "      <td>9.296053</td>\n",
       "      <td>8.710526</td>\n",
       "      <td>10.50</td>\n",
       "    </tr>\n",
       "    <tr>\n",
       "      <th>154200043</th>\n",
       "      <td>23.289474</td>\n",
       "      <td>23.335526</td>\n",
       "      <td>23.598684</td>\n",
       "      <td>30.75</td>\n",
       "    </tr>\n",
       "  </tbody>\n",
       "</table>\n",
       "</div>"
      ],
      "text/plain": [
       "                tpr1day_before_dao_20ave  tpr1wk_before_dao_20ave  \\\n",
       "master_deal_no                                                      \n",
       "95088020                             NaN                      NaN   \n",
       "154109043                      84.427632                77.519737   \n",
       "154130043                      11.460526                11.144737   \n",
       "154182043                       9.309211                 9.296053   \n",
       "154200043                      23.289474                23.335526   \n",
       "\n",
       "                tpr4wk_before_dao_20ave  tpr4days_after_da  \n",
       "master_deal_no                                              \n",
       "95088020                            NaN                NaN  \n",
       "154109043                     72.743421             117.50  \n",
       "154130043                     11.671053              16.75  \n",
       "154182043                      8.710526              10.50  \n",
       "154200043                     23.598684              30.75  "
      ]
     },
     "execution_count": 4,
     "metadata": {},
     "output_type": "execute_result"
    }
   ],
   "source": [
    "mkt_data_one_day_da = pd.concat([market_data_tgt_corrected, df.one_day_corrected, df.da_corrected], axis=1)\n",
    "prices_tgt = dsk.apply_func_to_ser_df(mkt_data_one_day_da, extract_several_prices_from_market_data_ser, return_as_df=True)\n",
    "prices_tgt.head()"
   ]
  },
  {
   "cell_type": "code",
   "execution_count": 5,
   "id": "8c9ed177",
   "metadata": {},
   "outputs": [],
   "source": [
    "dsk.insert_cols(df, ['pr1day']*prices_tgt.shape[1], prices_tgt.columns, prices_tgt)"
   ]
  },
  {
   "cell_type": "markdown",
   "id": "201e95da",
   "metadata": {},
   "source": [
    "## premium"
   ]
  },
  {
   "cell_type": "code",
   "execution_count": 6,
   "id": "e2266eb6",
   "metadata": {
    "scrolled": true
   },
   "outputs": [
    {
     "data": {
      "text/html": [
       "<div>\n",
       "<style scoped>\n",
       "    .dataframe tbody tr th:only-of-type {\n",
       "        vertical-align: middle;\n",
       "    }\n",
       "\n",
       "    .dataframe tbody tr th {\n",
       "        vertical-align: top;\n",
       "    }\n",
       "\n",
       "    .dataframe thead th {\n",
       "        text-align: right;\n",
       "    }\n",
       "</style>\n",
       "<table border=\"1\" class=\"dataframe\">\n",
       "  <thead>\n",
       "    <tr style=\"text-align: right;\">\n",
       "      <th></th>\n",
       "      <th>ppm1day_initial</th>\n",
       "      <th>ppm1wk_initial</th>\n",
       "      <th>ppm4wk_initial</th>\n",
       "    </tr>\n",
       "    <tr>\n",
       "      <th>master_deal_no</th>\n",
       "      <th></th>\n",
       "      <th></th>\n",
       "      <th></th>\n",
       "    </tr>\n",
       "  </thead>\n",
       "  <tbody>\n",
       "    <tr>\n",
       "      <th>154109043</th>\n",
       "      <td>51.61</td>\n",
       "      <td>65.12</td>\n",
       "      <td>75.96</td>\n",
       "    </tr>\n",
       "    <tr>\n",
       "      <th>154130043</th>\n",
       "      <td>57.06</td>\n",
       "      <td>61.51</td>\n",
       "      <td>54.23</td>\n",
       "    </tr>\n",
       "    <tr>\n",
       "      <th>154200043</th>\n",
       "      <td>58.87</td>\n",
       "      <td>58.56</td>\n",
       "      <td>56.79</td>\n",
       "    </tr>\n",
       "    <tr>\n",
       "      <th>154227043</th>\n",
       "      <td>8.13</td>\n",
       "      <td>8.30</td>\n",
       "      <td>13.96</td>\n",
       "    </tr>\n",
       "    <tr>\n",
       "      <th>154242043</th>\n",
       "      <td>51.64</td>\n",
       "      <td>55.15</td>\n",
       "      <td>55.38</td>\n",
       "    </tr>\n",
       "  </tbody>\n",
       "</table>\n",
       "</div>"
      ],
      "text/plain": [
       "                ppm1day_initial  ppm1wk_initial  ppm4wk_initial\n",
       "master_deal_no                                                 \n",
       "154109043                 51.61           65.12           75.96\n",
       "154130043                 57.06           61.51           54.23\n",
       "154200043                 58.87           58.56           56.79\n",
       "154227043                  8.13            8.30           13.96\n",
       "154242043                 51.64           55.15           55.38"
      ]
     },
     "execution_count": 6,
     "metadata": {},
     "output_type": "execute_result"
    }
   ],
   "source": [
    "# premium\n",
    "names = ['1day', '1wk', '4wk']\n",
    "for name in names:\n",
    "    premium = df.pr_initial.sub(df[f'tpr{name}_before_dao_20ave']).div(df[f'tpr{name}_before_dao_20ave'])\n",
    "    premium = round(100 * premium, 2)\n",
    "    df[f'ppm{name}_initial'] = premium\n",
    "df[[f'ppm{name}_initial' for name in names]].dropna().head()#.corr()"
   ]
  },
  {
   "cell_type": "markdown",
   "id": "1c65b9e0",
   "metadata": {},
   "source": [
    "## deal price"
   ]
  },
  {
   "cell_type": "code",
   "execution_count": 7,
   "id": "521db0bb",
   "metadata": {},
   "outputs": [],
   "source": [
    "def extract_price_single_date_from_mkt_data(mkt_data_df, date):\n",
    "    \"\"\"\n",
    "    extract the price at a certain date from a market data dataframe.\n",
    "    \"\"\"\n",
    "    if isinstance(mkt_data_df, pd.DataFrame) and date in mkt_data_df.index:\n",
    "        return mkt_data_df.prc_adj_ann[date]\n",
    "    else:\n",
    "        return np.nan\n",
    "    \n",
    "def extract_price_single_date_from_mkt_data_ser(ser): \n",
    "    \"\"\"\n",
    "    mkt_data_df, date\n",
    "    \"\"\"\n",
    "    return extract_price_single_date_from_mkt_data(ser.iloc[0], ser.iloc[1])"
   ]
  },
  {
   "cell_type": "code",
   "execution_count": 8,
   "id": "228adbba",
   "metadata": {},
   "outputs": [],
   "source": [
    "df.aone_day = dsk.get_trading_day_offset(df.da_corrected, -1)\n",
    "df['da_4days_after'] = dsk.get_trading_day_offset(df.da_corrected, 4)"
   ]
  },
  {
   "cell_type": "code",
   "execution_count": 9,
   "id": "9dcabcfb",
   "metadata": {},
   "outputs": [
    {
     "name": "stderr",
     "output_type": "stream",
     "text": [
      "100%|██████████████████████████████████| 12031/12031 [00:00<00:00, 19086.25it/s]\n",
      "100%|██████████████████████████████████| 12031/12031 [00:00<00:00, 43309.98it/s]\n"
     ]
    }
   ],
   "source": [
    "df['apr1day_before_da'] = dsk.apply_func_to_ser_df(pd.concat([market_data_acq_corrected, df.aone_day], axis=1), extract_price_single_date_from_mkt_data_ser)\n",
    "df['apr4days_after_da'] = dsk.apply_func_to_ser_df(pd.concat([market_data_acq_corrected, df.da_4days_after], axis=1), extract_price_single_date_from_mkt_data_ser)"
   ]
  },
  {
   "cell_type": "code",
   "execution_count": 10,
   "id": "d7448dd3",
   "metadata": {},
   "outputs": [
    {
     "name": "stderr",
     "output_type": "stream",
     "text": [
      "100%|██████████████████████████████████| 12031/12031 [00:00<00:00, 45463.67it/s]\n"
     ]
    }
   ],
   "source": [
    "def calculate_deal_price(cash_term, stock_term, stock, acq_prc):\n",
    "    \"\"\"\n",
    "    calculate the deal price from terms\n",
    "    \"\"\"\n",
    "    if stock:\n",
    "        return cash_term + stock_term * acq_prc\n",
    "    return cash_term + stock_term\n",
    "\n",
    "def calculate_deal_price_ser(ser):\n",
    "    return calculate_deal_price(*ser)\n",
    "\n",
    "df['pr_4days_after_da'] = dsk.apply_func_to_ser_df(df[['cash_term', 'stock_term', 'stock', 'apr4days_after_da']], calculate_deal_price_ser)"
   ]
  },
  {
   "cell_type": "markdown",
   "id": "1127c992",
   "metadata": {},
   "source": [
    "## arbitrage spread"
   ]
  },
  {
   "cell_type": "code",
   "execution_count": 11,
   "id": "0baff707",
   "metadata": {},
   "outputs": [
    {
     "data": {
      "text/plain": [
       "master_deal_no\n",
       "96354020     33.33\n",
       "112263020    10.34\n",
       "164182020    -5.21\n",
       "95025020     13.16\n",
       "164180020     5.03\n",
       "Name: spread, dtype: float64"
      ]
     },
     "execution_count": 11,
     "metadata": {},
     "output_type": "execute_result"
    }
   ],
   "source": [
    "# spread\n",
    "df['spread'] = df.pr_4days_after_da.sub(df.tpr4days_after_da).div(df.tpr4days_after_da)\n",
    "df.spread = round(100*df.spread, 2)\n",
    "df.spread.dropna().head()"
   ]
  },
  {
   "cell_type": "markdown",
   "id": "82304bb9",
   "metadata": {},
   "source": [
    "## implied probability"
   ]
  },
  {
   "cell_type": "code",
   "execution_count": 12,
   "id": "4c4041e2",
   "metadata": {
    "scrolled": false
   },
   "outputs": [
    {
     "data": {
      "text/html": [
       "<div>\n",
       "<style scoped>\n",
       "    .dataframe tbody tr th:only-of-type {\n",
       "        vertical-align: middle;\n",
       "    }\n",
       "\n",
       "    .dataframe tbody tr th {\n",
       "        vertical-align: top;\n",
       "    }\n",
       "\n",
       "    .dataframe thead th {\n",
       "        text-align: right;\n",
       "    }\n",
       "</style>\n",
       "<table border=\"1\" class=\"dataframe\">\n",
       "  <thead>\n",
       "    <tr style=\"text-align: right;\">\n",
       "      <th></th>\n",
       "      <th>implied_prob_1day</th>\n",
       "      <th>implied_prob_1wk</th>\n",
       "      <th>implied_prob_4wk</th>\n",
       "    </tr>\n",
       "    <tr>\n",
       "      <th>master_deal_no</th>\n",
       "      <th></th>\n",
       "      <th></th>\n",
       "      <th></th>\n",
       "    </tr>\n",
       "  </thead>\n",
       "  <tbody>\n",
       "    <tr>\n",
       "      <th>96354020</th>\n",
       "      <td>-40.26</td>\n",
       "      <td>-48.82</td>\n",
       "      <td>-66.56</td>\n",
       "    </tr>\n",
       "    <tr>\n",
       "      <th>112263020</th>\n",
       "      <td>68.61</td>\n",
       "      <td>69.94</td>\n",
       "      <td>72.22</td>\n",
       "    </tr>\n",
       "    <tr>\n",
       "      <th>164182020</th>\n",
       "      <td>133.36</td>\n",
       "      <td>131.31</td>\n",
       "      <td>133.10</td>\n",
       "    </tr>\n",
       "    <tr>\n",
       "      <th>95025020</th>\n",
       "      <td>30.28</td>\n",
       "      <td>32.02</td>\n",
       "      <td>46.10</td>\n",
       "    </tr>\n",
       "    <tr>\n",
       "      <th>164180020</th>\n",
       "      <td>84.24</td>\n",
       "      <td>84.69</td>\n",
       "      <td>84.30</td>\n",
       "    </tr>\n",
       "  </tbody>\n",
       "</table>\n",
       "</div>"
      ],
      "text/plain": [
       "                implied_prob_1day  implied_prob_1wk  implied_prob_4wk\n",
       "master_deal_no                                                       \n",
       "96354020                   -40.26            -48.82            -66.56\n",
       "112263020                   68.61             69.94             72.22\n",
       "164182020                  133.36            131.31            133.10\n",
       "95025020                    30.28             32.02             46.10\n",
       "164180020                   84.24             84.69             84.30"
      ]
     },
     "execution_count": 12,
     "metadata": {},
     "output_type": "execute_result"
    }
   ],
   "source": [
    "# implied prob\n",
    "for name in names:\n",
    "    diff_pr_pre_ann_pr = df.pr_4days_after_da.sub(df[f'tpr{name}_before_dao_20ave'])\n",
    "    index = abs(diff_pr_pre_ann_pr).lt(.1)\n",
    "    diff_pr_pre_ann_pr[index] = .1 * np.sign(diff_pr_pre_ann_pr[index])\n",
    "    \n",
    "    \n",
    "#     if abs(diff_pr_pre_ann_pr) < .1:\n",
    "#         diff_pr_pre_ann_pr = .1 * np.sign(diff_pr_pre_ann_pr)\n",
    "    \n",
    "    implied_prob = df.tpr4days_after_da.sub(df[f'tpr{name}_before_dao_20ave']).div(diff_pr_pre_ann_pr)\n",
    "    implied_prob = round(100*implied_prob, 2)\n",
    "    df[f'implied_prob_{name}'] = implied_prob\n",
    "df[[f'implied_prob_{name}' for name in names]].dropna().head()"
   ]
  },
  {
   "cell_type": "markdown",
   "id": "da43cda8",
   "metadata": {},
   "source": [
    "## `mv_ratio`"
   ]
  },
  {
   "cell_type": "code",
   "execution_count": 13,
   "id": "65f87f16",
   "metadata": {},
   "outputs": [],
   "source": [
    "df.insert(df.columns.get_loc('amv'), 'mv_ratio', df['amv']/df['mv'])"
   ]
  },
  {
   "cell_type": "markdown",
   "id": "d9e3a718",
   "metadata": {},
   "source": [
    "## `phda, psought` missing"
   ]
  },
  {
   "cell_type": "code",
   "execution_count": 14,
   "id": "c298188d",
   "metadata": {},
   "outputs": [],
   "source": [
    "df.phda = df.phda.fillna(0.)"
   ]
  },
  {
   "cell_type": "code",
   "execution_count": 15,
   "id": "801caf2e",
   "metadata": {
    "scrolled": true
   },
   "outputs": [],
   "source": [
    "index_psought_na = df.index[df.psought.isna()]\n",
    "df.psought[index_psought_na] = 100. - df.phda[index_psought_na]"
   ]
  },
  {
   "cell_type": "markdown",
   "id": "7d1b08e3",
   "metadata": {},
   "source": [
    "## change attitude names"
   ]
  },
  {
   "cell_type": "code",
   "execution_count": 16,
   "id": "5e6ee552",
   "metadata": {},
   "outputs": [
    {
     "data": {
      "text/plain": [
       "Agreed                 9560\n",
       "Unsolic. or Hostile    1348\n",
       "Neutral                 939\n",
       "Name: initial_rec2, dtype: int64"
      ]
     },
     "execution_count": 16,
     "metadata": {},
     "output_type": "execute_result"
    }
   ],
   "source": [
    "dict_initial_rec = {'Hostile':'Unsolic. or Hostile', 'Unsolic.': 'Unsolic. or Hostile', 'Solicited': 'Agreed', 'Not Appl.':'Neutral'}\n",
    "df['initial_rec2'] = df.initial_rec.replace(dict_initial_rec)\n",
    "df.initial_rec2.value_counts()"
   ]
  },
  {
   "cell_type": "code",
   "execution_count": 17,
   "id": "593d6aaa",
   "metadata": {},
   "outputs": [
    {
     "data": {
      "text/plain": [
       "Friendly      10808\n",
       "Unfriendly     1223\n",
       "Name: att2, dtype: int64"
      ]
     },
     "execution_count": 17,
     "metadata": {},
     "output_type": "execute_result"
    }
   ],
   "source": [
    "dict_att = {'Neutral': 'Friendly', 'Not Appl.':'Friendly', 'Unsolic.': 'Unfriendly', 'Hostile':'Unfriendly'}\n",
    "df['att2'] = df.att.replace(dict_att)\n",
    "df.att2.value_counts()"
   ]
  },
  {
   "cell_type": "markdown",
   "id": "5d0a19dd",
   "metadata": {},
   "source": [
    "## `apub`"
   ]
  },
  {
   "cell_type": "code",
   "execution_count": 18,
   "id": "03c80c6c",
   "metadata": {},
   "outputs": [
    {
     "data": {
      "text/plain": [
       "Public    7690\n",
       "Priv.     2839\n",
       "Sub.      1502\n",
       "Name: apub2, dtype: int64"
      ]
     },
     "execution_count": 18,
     "metadata": {},
     "output_type": "execute_result"
    }
   ],
   "source": [
    "dict_apub = {'Inv.': 'Priv.', 'J.V.': 'Sub.', 'Mutual':'Sub.', 'Govt.':'Sub.'}\n",
    "df['apub2'] = df.apub.replace(dict_apub)\n",
    "df.apub2.value_counts()"
   ]
  },
  {
   "cell_type": "markdown",
   "id": "08c97ec9",
   "metadata": {},
   "source": [
    "## financials"
   ]
  },
  {
   "cell_type": "code",
   "execution_count": 19,
   "id": "dc8e9801",
   "metadata": {},
   "outputs": [],
   "source": [
    "df['curr_ratio'] = df['clia'] / df['cass']\n",
    "df['leverage'] = df['tlia'] / df['eqval']"
   ]
  },
  {
   "cell_type": "markdown",
   "id": "a7feaf99",
   "metadata": {},
   "source": [
    "## Create market variables"
   ]
  },
  {
   "cell_type": "code",
   "execution_count": 20,
   "id": "b60dd782",
   "metadata": {
    "scrolled": true
   },
   "outputs": [
    {
     "name": "stdout",
     "output_type": "stream",
     "text": [
      "Enter your WRDS username [yizhan]:olivershu\n",
      "Enter your password:········\n",
      "WRDS recommends setting up a .pgpass file.\n",
      "Create .pgpass file now [y/n]?: y\n",
      "Created .pgpass file successfully.\n",
      "Loading library list...\n",
      "Done\n"
     ]
    }
   ],
   "source": [
    "import wrds\n",
    "db = wrds.Connection()"
   ]
  },
  {
   "cell_type": "code",
   "execution_count": 21,
   "id": "da3d5246",
   "metadata": {},
   "outputs": [],
   "source": [
    "market_returns = db.raw_sql(\"\"\"select caldt, vwretd from crsp_m_indexes.msix\"\"\")\n",
    "market_returns = dsk.to_monthly_period_index(market_returns, 'caldt')\n",
    "market_returns = market_returns.rolling(12).sum().shift()"
   ]
  },
  {
   "cell_type": "code",
   "execution_count": 22,
   "id": "d5cbbb26",
   "metadata": {},
   "outputs": [],
   "source": [
    "ann_yr_month_period = df.da_corrected.map(lambda x: pd.Period(f\"{x.year}-{x.month}\", 'M'))"
   ]
  },
  {
   "cell_type": "code",
   "execution_count": 23,
   "id": "64b89d46",
   "metadata": {},
   "outputs": [],
   "source": [
    "df['mkt_ret_prev_yr'] = market_returns.loc[list(ann_yr_month_period)].values"
   ]
  },
  {
   "cell_type": "markdown",
   "id": "1356a844",
   "metadata": {},
   "source": [
    "## Industries"
   ]
  },
  {
   "cell_type": "code",
   "execution_count": 24,
   "id": "0d6392aa",
   "metadata": {},
   "outputs": [],
   "source": [
    "df.ttf_macro_desc = df.ttf_macro_desc.str.replace(' ', '_')\n",
    "df.atf_macro_desc = df.atf_macro_desc.str.replace(' ', '_')"
   ]
  },
  {
   "cell_type": "code",
   "execution_count": 25,
   "id": "70bd3189",
   "metadata": {},
   "outputs": [],
   "source": [
    "industries = pd.get_dummies(df.ttf_macro_desc)\n",
    "industries.columns = list(map(lambda x: 'industry_' + x, industries.columns))"
   ]
  },
  {
   "cell_type": "code",
   "execution_count": 26,
   "id": "19790d6f",
   "metadata": {},
   "outputs": [],
   "source": [
    "# hist_fail_rate = pd.DataFrame(np.nan, columns=['fail_rate'],\n",
    "#                               index=pd.period_range('1993-01', '2020-12', freq='M'))\n",
    "# df_c = df[~df['compete_statc_code'].isin([2, 3, 4])].copy()\n",
    "# df_c['statc'].replace({'P':1, 'W':1, 'C':0}, inplace=True)\n",
    "# for i in hist_fail_rate.index:\n",
    "#     sub = np.logical_and(df['ann_yr_mon']>=i-24, df['ann_yr_mon']<i)\n",
    "#     hist_fail_rate.loc[i] = df_c.loc[sub, 'statc'].mean()\n",
    "# hist_fail_rate"
   ]
  },
  {
   "cell_type": "code",
   "execution_count": 27,
   "id": "639ca776",
   "metadata": {
    "scrolled": true
   },
   "outputs": [],
   "source": [
    "# hist_industry_fail_rate = pd.DataFrame(np.nan, columns=df['ttf_macro_desc'].unique(),\n",
    "#                               index=pd.period_range('1993-01', '2020-12', freq='M'))\n",
    "# for i in hist_industry_fail_rate.index:\n",
    "#     for industry in hist_industry_fail_rate.columns:\n",
    "#         sub = np.logical_and(df['ann_yr_mon']>=i-24, df['ann_yr_mon']<i)\n",
    "#         sub = np.logical_and(sub, df['ttf_macro_desc']==industry)\n",
    "#         if sub.sum() == 0:\n",
    "#             hist_industry_fail_rate.loc[i, industry] = 0#hist_fail_rate.loc[i].values[0]\n",
    "#         else:\n",
    "#             hist_industry_fail_rate.loc[i, industry] = df_c.loc[sub, 'statc'].mean()\n",
    "# hist_industry_fail_rate"
   ]
  },
  {
   "cell_type": "code",
   "execution_count": 28,
   "id": "eedc0d7b",
   "metadata": {},
   "outputs": [],
   "source": [
    "# df.loc[index, 'fail_rate_2y'] = round(hist_fail_rate.loc[df.loc[index, 'ann_yr_mon']]*100, 2).squeeze().values"
   ]
  },
  {
   "cell_type": "code",
   "execution_count": 29,
   "id": "38fa8719",
   "metadata": {},
   "outputs": [],
   "source": [
    "# for i in index:\n",
    "#     df.loc[i, 'fail_rate_ind_2y'] = \\\n",
    "#     round(hist_industry_fail_rate.loc[df.loc[i, 'ann_yr_mon'], df.loc[i, 'ttf_macro_desc']]*100, 2)\n",
    "\n",
    "# #df.loc[index, 'fail_rate_ind_2y'] = round(hist_fail_rate.loc[df.loc[index, 'ann_yr_mon']]*100, 2).squeeze().values"
   ]
  },
  {
   "cell_type": "markdown",
   "id": "167246f0",
   "metadata": {},
   "source": [
    "# Save"
   ]
  },
  {
   "cell_type": "code",
   "execution_count": 30,
   "id": "bc6362ca",
   "metadata": {},
   "outputs": [],
   "source": [
    "filepath = f\"{path}/data/df_variable_prediction.h5\"\n",
    "df.to_hdf(filepath, key='df', mode='w')"
   ]
  }
 ],
 "metadata": {
  "kernelspec": {
   "display_name": "Python 3 (ipykernel)",
   "language": "python",
   "name": "python3"
  },
  "language_info": {
   "codemirror_mode": {
    "name": "ipython",
    "version": 3
   },
   "file_extension": ".py",
   "mimetype": "text/x-python",
   "name": "python",
   "nbconvert_exporter": "python",
   "pygments_lexer": "ipython3",
   "version": "3.9.13"
  },
  "toc": {
   "base_numbering": 1,
   "nav_menu": {},
   "number_sections": true,
   "sideBar": true,
   "skip_h1_title": false,
   "title_cell": "Table of Contents",
   "title_sidebar": "Contents",
   "toc_cell": false,
   "toc_position": {},
   "toc_section_display": true,
   "toc_window_display": false
  }
 },
 "nbformat": 4,
 "nbformat_minor": 5
}
