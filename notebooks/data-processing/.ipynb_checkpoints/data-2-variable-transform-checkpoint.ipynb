{
 "cells": [
  {
   "cell_type": "code",
   "execution_count": 1,
   "id": "2cbbeb29",
   "metadata": {},
   "outputs": [
    {
     "data": {
      "text/html": [
       "<style>.container { width:92% !important; }</style>"
      ],
      "text/plain": [
       "<IPython.core.display.HTML object>"
      ]
     },
     "metadata": {},
     "output_type": "display_data"
    }
   ],
   "source": [
    "from IPython.display import display, HTML\n",
    "display(HTML(\"<style>.container { width:92% !important; }</style>\"))\n",
    "\n",
    "%load_ext autoreload\n",
    "%autoreload 2\n",
    "import sys, os\n",
    "from os.path import expanduser\n",
    "## actions required!!!!!!!!!!!!!!!!!!!! change your folder path \n",
    "path = \"~/Documents/G3/MA-prediction\"\n",
    "path = expanduser(path)\n",
    "sys.path.append(path)\n",
    "\n",
    "import data_science_MA_kit as dsk\n",
    "import pandas as pd\n",
    "import numpy as np\n",
    "import datetime\n",
    "from tqdm import tqdm\n",
    "import re\n",
    "# import wrds\n",
    "\n",
    "pd.options.mode.chained_assignment = None\n",
    "import warnings\n",
    "warnings.simplefilter(action='ignore', category=pd.errors.PerformanceWarning)"
   ]
  },
  {
   "cell_type": "markdown",
   "id": "bb080f6a",
   "metadata": {},
   "source": [
    "# Data preprocessing 4: Variable Transformation\n",
    "\n",
    "In this notebook we will do the following:\n",
    "\n",
    "- Create `amend` and `choice` binary variables.\n",
    "- Create competing group number and competing status code.\n",
    "- Create deal value adjusted by CPI index.\n",
    "- Create new payment type.\n",
    "- Extract cash and stock terms from consideration.\n",
    "\n",
    "## I/O\n",
    "\n",
    "- Input:\n",
    "    - `df_dates_corrected.h5`\n",
    "    \n",
    "- Output:\n",
    "    - `df_variable_transform.h5`\n",
    "\n",
    "## Load data"
   ]
  },
  {
   "cell_type": "code",
   "execution_count": 2,
   "id": "6627bc88",
   "metadata": {},
   "outputs": [],
   "source": [
    "filepath = f\"{path}/data/df_dates_corrected.h5\"\n",
    "df = pd.read_hdf(filepath)"
   ]
  },
  {
   "cell_type": "markdown",
   "id": "e59f5c3d",
   "metadata": {},
   "source": [
    "# Create `amend` and `choice` binary variables"
   ]
  },
  {
   "cell_type": "code",
   "execution_count": 3,
   "id": "01351cf6",
   "metadata": {},
   "outputs": [],
   "source": [
    "# create amend\n",
    "dsk.insert_cols(df, 'valamend', 'amend', dsk.create_amend(df))\n",
    "\n",
    "# create consid\n",
    "dsk.insert_cols(df, 'consid', 'choice', dsk.create_choice(df))"
   ]
  },
  {
   "cell_type": "markdown",
   "id": "4d203ea3",
   "metadata": {},
   "source": [
    "# Create competing group number and status code"
   ]
  },
  {
   "cell_type": "markdown",
   "id": "0210a152",
   "metadata": {},
   "source": [
    "## Create competing group number"
   ]
  },
  {
   "cell_type": "code",
   "execution_count": 4,
   "id": "b49ec612",
   "metadata": {},
   "outputs": [],
   "source": [
    "# change to 0/1\n",
    "df.cha = df.cha.replace({'Yes':1, 'No':0})"
   ]
  },
  {
   "cell_type": "code",
   "execution_count": 5,
   "id": "1814c984",
   "metadata": {},
   "outputs": [],
   "source": [
    "# create competing deal group numbers\n",
    "dsk.insert_cols(df, 'lbo', 'compete_group_no', dsk.create_compete_group_no(df))\n",
    "\n",
    "# update cha. Some errors in the database\n",
    "df.cha[~df.compete_group_no.isna()] = 1\n",
    "\n",
    "# check error\n",
    "if df.compete_group_no.eq(-1).any():\n",
    "    print('Different group numbers in one group.')\n",
    "if df.compete_group_no.value_counts().eq(1).any():\n",
    "    print('Group of a single deal.')"
   ]
  },
  {
   "cell_type": "markdown",
   "id": "aaaa9910",
   "metadata": {},
   "source": [
    "## Create competing status code"
   ]
  },
  {
   "cell_type": "code",
   "execution_count": 6,
   "id": "7fc6a666",
   "metadata": {},
   "outputs": [],
   "source": [
    "# create competing status code\n",
    "dsk.insert_cols(df, 'lbo', 'compete_statc_code', dsk.create_compete_status_code(df))"
   ]
  },
  {
   "cell_type": "code",
   "execution_count": 7,
   "id": "900091c6",
   "metadata": {},
   "outputs": [
    {
     "data": {
      "text/plain": [
       "2.0    700\n",
       "0.0    502\n",
       "1.0     85\n",
       "9.0      3\n",
       "3.0      3\n",
       "Name: compete_statc_code, dtype: int64"
      ]
     },
     "execution_count": 7,
     "metadata": {},
     "output_type": "execute_result"
    }
   ],
   "source": [
    "df.compete_statc_code.value_counts()"
   ]
  },
  {
   "cell_type": "markdown",
   "id": "ae9b87d5",
   "metadata": {},
   "source": [
    "# Create announced year and month. Create `val` adjusted by CPI index"
   ]
  },
  {
   "cell_type": "markdown",
   "id": "a00b7d2d",
   "metadata": {},
   "source": [
    "## Create announced year and month.\n",
    "Create announced year and month."
   ]
  },
  {
   "cell_type": "code",
   "execution_count": 8,
   "id": "92c6dbaa",
   "metadata": {
    "scrolled": true
   },
   "outputs": [],
   "source": [
    "# create announced year and month\n",
    "df['ann_year'] = df.da.map(lambda x: x.year)     # useful later\n",
    "df['ann_year_month'] = df.da.map(lambda x: pd.Period(f'{x.year}-{x.month}', 'M'))"
   ]
  },
  {
   "cell_type": "markdown",
   "id": "d97aac9c",
   "metadata": {},
   "source": [
    "## Create deal value adjusted by CPI index. Delete monthly period column.\n",
    "CPI data is downloaded from FRED [website](https://fred.stlouisfed.org/series/CPIAUCSL). We set the value of Dec 2020 as the base, and inflate all the deal values beforehand by the CPI index."
   ]
  },
  {
   "cell_type": "code",
   "execution_count": 9,
   "id": "8e1f6e35",
   "metadata": {},
   "outputs": [],
   "source": [
    "html = \"https://fred.stlouisfed.org/graph/fredgraph.csv?id=CPIAUCSL\"\n",
    "df_cpi = pd.read_csv(html)"
   ]
  },
  {
   "cell_type": "code",
   "execution_count": 10,
   "id": "1b947657",
   "metadata": {},
   "outputs": [
    {
     "data": {
      "text/plain": [
       "month\n",
       "1947-01    21.48\n",
       "1947-02    21.62\n",
       "1947-03    22.00\n",
       "1947-04    22.00\n",
       "1947-05    21.95\n",
       "Freq: M, Name: CPIAUCSL, dtype: float64"
      ]
     },
     "execution_count": 10,
     "metadata": {},
     "output_type": "execute_result"
    }
   ],
   "source": [
    "cpi_ser = dsk.to_monthly_period_index(df_cpi, 'DATE').squeeze()\n",
    "cpi_ser.head()"
   ]
  },
  {
   "cell_type": "code",
   "execution_count": 11,
   "id": "752cc3c6",
   "metadata": {},
   "outputs": [
    {
     "data": {
      "text/plain": [
       "month\n",
       "1947-01     21.480\n",
       "1947-02     21.620\n",
       "1947-03     22.000\n",
       "1947-04     22.000\n",
       "1947-05     21.950\n",
       "            ...   \n",
       "2022-05    291.474\n",
       "2022-06    295.328\n",
       "2022-07    295.271\n",
       "2022-08    295.620\n",
       "2022-09    296.761\n",
       "Freq: M, Name: CPIAUCSL, Length: 909, dtype: float64"
      ]
     },
     "execution_count": 11,
     "metadata": {},
     "output_type": "execute_result"
    }
   ],
   "source": [
    "cpi_ser"
   ]
  },
  {
   "cell_type": "code",
   "execution_count": 12,
   "id": "921c98d0",
   "metadata": {},
   "outputs": [],
   "source": [
    "# if cpi is not latest\n",
    "latest_cpi_month = cpi_ser.index[-1]\n",
    "latest_cpi_month += 1\n",
    "while latest_cpi_month <= df['ann_year_month'].max():\n",
    "    cpi_ser.loc[latest_cpi_month] = cpi_ser.iloc[-1]\n",
    "    latest_cpi_month += 1"
   ]
  },
  {
   "cell_type": "code",
   "execution_count": 13,
   "id": "cb7d8164",
   "metadata": {},
   "outputs": [],
   "source": [
    "# create deal value adjusted by CPI index, base is '2020-12'\n",
    "base = pd.Period('2020-12', 'M')\n",
    "adj_factor = cpi_ser[base] / cpi_ser\n",
    "# adjust deal value by CPI\n",
    "dsk.insert_cols(df, 'val', 'val_adj_by_cpi', df.val.mul(adj_factor[df.ann_year_month].values))"
   ]
  },
  {
   "cell_type": "code",
   "execution_count": 14,
   "id": "ae5cfd3a",
   "metadata": {},
   "outputs": [],
   "source": [
    "# unfortunately period dtype is not supported by hdf\n",
    "df = df.drop(columns=['ann_year_month'])"
   ]
  },
  {
   "cell_type": "markdown",
   "id": "28b2c740",
   "metadata": {},
   "source": [
    "# Create new payment type `consido`"
   ]
  },
  {
   "cell_type": "code",
   "execution_count": 15,
   "id": "059cddab",
   "metadata": {},
   "outputs": [
    {
     "data": {
      "text/plain": [
       "array(['Amer. Depy. Receipt', 'American Depy Share', 'Assets', 'Bond',\n",
       "       'Capital Infusion', 'Capital Stock', 'Cash', 'Cash Dividend',\n",
       "       'Cash Only', 'Common L.P. Unit', 'Common Stock',\n",
       "       'Common Stock Type A', 'Common Stock Type B',\n",
       "       'Common Stock Type C', 'Common Stock Type E',\n",
       "       'Common Stock Type H', 'Conting. Value Right',\n",
       "       'Contingent Val Pref', 'Convert. Debenture', 'Convert. Exch. Pfd.',\n",
       "       'Convert. Preferred', 'Convert. Preferred A',\n",
       "       'Convert. Preferred B', 'Convert. Preferred D',\n",
       "       'Convert. Securities', 'Convert. Senior Pfd.',\n",
       "       'Convert. Sub. Deb.', 'Convert. Sub. Note', 'Convertible Note',\n",
       "       'Cum Cvt Exch Pfd', 'Cum. Convert. Pfd.', 'Cum. Exch. Preferred',\n",
       "       'Cumulative Preferred', 'Cvt Cum Pfd Ser A',\n",
       "       'Cvt. Promissory Note', 'Debenture', 'Debt', 'Debt Reduction',\n",
       "       'Depositary Receipt', 'Depositary Share', 'Earnout',\n",
       "       'Exch Redeemable Pfd', 'Exch. Preferred', 'Exch. Sub. Deb.',\n",
       "       'Jr. Sub. Debentures', 'Junior Preferred Shs', 'L.P. Unit',\n",
       "       'Liabilities', 'Loan', 'Ltd. Vot. Pfd ADR', 'M.L.P. Unit',\n",
       "       'Newly Issued Ord Sh', 'Newly Issued Pfd Sh',\n",
       "       'Non-Voting Common B', 'Non-Voting Cvt. Ord',\n",
       "       'Non-Voting Cvt. Pfd.', 'Non-Voting Preferred', 'Not Applicable',\n",
       "       'Note', 'Notes', 'Operating Part Unit', 'Option', 'Ordinary Share',\n",
       "       'Other Consideration', 'Preference Share', 'Preferred Class A',\n",
       "       'Preferred Class B', 'Preferred Class C', 'Preferred Class D',\n",
       "       'Preferred Class E', 'Preferred Class G', 'Preferred Dividend',\n",
       "       'Preferred L.P. Unit', 'Preferred Stock', 'Promissory Note',\n",
       "       'Receivables', 'Red. Cum. Preferred', 'Redeemable Preferred',\n",
       "       'Restricted Common', 'Returned Cash', 'Returned Debt',\n",
       "       'Returned Equity', 'Rights', 'Royalties', 'Securities',\n",
       "       'Senior Notes', 'Senior Secured Notes', 'Senior Sub. Notes',\n",
       "       'Series 1 Preferred', 'Series 2 Preferred', 'Special Common Stock',\n",
       "       'Stock', 'Sub Voting Shs Cl A', 'Sub. Debenture',\n",
       "       'Sub. Voting Stock', 'Subordinated Common', 'Subordinated Debt',\n",
       "       'Subordinated LP Unit', 'Subordinated Note', 'Subscription Rights',\n",
       "       'Third Party Com Shs.', 'Third Party Ord Shs.', 'Tracking Stock',\n",
       "       'Unit', 'Unregistered Com Shs', 'Unspecified', 'Warrants',\n",
       "       'Warrants Class A', 'Warrants Class B', 'Warrants Class C'],\n",
       "      dtype='<U20')"
      ]
     },
     "execution_count": 15,
     "metadata": {},
     "output_type": "execute_result"
    }
   ],
   "source": [
    "dsk.extract_all_payment_types(df.consido)"
   ]
  },
  {
   "cell_type": "code",
   "execution_count": 16,
   "id": "20c54473",
   "metadata": {},
   "outputs": [],
   "source": [
    "lst_cash = ['Cash', 'Cash Only']\n",
    "lst_stock = ['Common Stock', 'Common Stock Type A', 'Common Stock Type B', 'Common Stock Type C', 'Common Stock Type H', 'Newly Issued Ord Sh', 'Ordinary Share', ]"
   ]
  },
  {
   "cell_type": "code",
   "execution_count": 17,
   "id": "2da1faee",
   "metadata": {},
   "outputs": [],
   "source": [
    "# # to be deal with later\n",
    "# replace_lst_more = ['Amer. Depy. Receipt', \n",
    "#                     'American Depy Share',\n",
    "#                     'Cash Dividend'\n",
    "#                     'Common L.P. Unit',\n",
    "#                    'Depositary Receipt',\n",
    "#                     'Depositary Share',\n",
    "#                    'L.P. Unit',\n",
    "#                    'Unit']"
   ]
  },
  {
   "cell_type": "code",
   "execution_count": 18,
   "id": "bf08ff75",
   "metadata": {
    "scrolled": true
   },
   "outputs": [
    {
     "data": {
      "text/plain": [
       "Cash                     6489\n",
       "Common Stock             2922\n",
       "Cash and Common Stock    1695\n",
       "No Cash or Stock          898\n",
       "Name: consido_new, dtype: int64"
      ]
     },
     "execution_count": 18,
     "metadata": {},
     "output_type": "execute_result"
    }
   ],
   "source": [
    "# new consido\n",
    "dsk.insert_cols(df, 'consido', 'consido_new', df.consido.map(lambda x: dsk.transform_payment_str(x, lst_cash, lst_stock), na_action='ignore'))\n",
    "df.consido_new.value_counts()"
   ]
  },
  {
   "cell_type": "markdown",
   "id": "2aa45eb6",
   "metadata": {},
   "source": [
    "# Extract cash and stock terms from consideration."
   ]
  },
  {
   "cell_type": "code",
   "execution_count": 19,
   "id": "832396fd",
   "metadata": {},
   "outputs": [],
   "source": [
    "# convert `consid` column to a more readable format\n",
    "df.consid = df.consid.map(dsk.convert_consid_to_readable, na_action='ignore')\n",
    "\n",
    "# extract terms from `consid`\n",
    "df['terms'] = dsk.extract_term_from_consid(df.consid)"
   ]
  },
  {
   "cell_type": "code",
   "execution_count": 20,
   "id": "fc3be4cb",
   "metadata": {},
   "outputs": [
    {
     "name": "stderr",
     "output_type": "stream",
     "text": [
      "100%|██████████████████████████████████| 10688/10688 [00:00<00:00, 14726.31it/s]\n"
     ]
    }
   ],
   "source": [
    "# extract cash and stock terms\n",
    "cash_stock_terms = dsk.apply_func_to_ser_df(df.terms, dsk.extract_cash_stock_from_term, return_as_df=True) \n",
    "dsk.insert_cols(df, ['consid']*3, cash_stock_terms.columns, cash_stock_terms)"
   ]
  },
  {
   "cell_type": "code",
   "execution_count": 21,
   "id": "56ecce66",
   "metadata": {
    "scrolled": true
   },
   "outputs": [
    {
     "data": {
      "text/plain": [
       "Cash                                   5346\n",
       "parse failed                           2413\n",
       "Common Stock                           2154\n",
       "Cash and Common Stock                   432\n",
       "Common Stock, fixed dollar              240\n",
       "Cash and Common Stock, fixed dollar     103\n",
       "Name: payment_type, dtype: int64"
      ]
     },
     "execution_count": 21,
     "metadata": {},
     "output_type": "execute_result"
    }
   ],
   "source": [
    "df.payment_type.value_counts()"
   ]
  },
  {
   "cell_type": "code",
   "execution_count": 22,
   "id": "29d6612f",
   "metadata": {},
   "outputs": [],
   "source": [
    "# create stock indicator\n",
    "df['stock'] = df.payment_type.isin(['Common Stock', 'Cash and Common Stock'])"
   ]
  },
  {
   "cell_type": "markdown",
   "id": "fc02c060",
   "metadata": {},
   "source": [
    "# Save results"
   ]
  },
  {
   "cell_type": "code",
   "execution_count": 23,
   "id": "ecccf03b",
   "metadata": {},
   "outputs": [],
   "source": [
    "filepath = f\"{path}/data/df_variable_transform.h5\"\n",
    "\n",
    "df.to_hdf(filepath, key = 'df', mode='w')"
   ]
  },
  {
   "cell_type": "code",
   "execution_count": null,
   "id": "9a3ad2b2",
   "metadata": {},
   "outputs": [],
   "source": []
  }
 ],
 "metadata": {
  "kernelspec": {
   "display_name": "Python 3 (ipykernel)",
   "language": "python",
   "name": "python3"
  },
  "language_info": {
   "codemirror_mode": {
    "name": "ipython",
    "version": 3
   },
   "file_extension": ".py",
   "mimetype": "text/x-python",
   "name": "python",
   "nbconvert_exporter": "python",
   "pygments_lexer": "ipython3",
   "version": "3.11.0"
  },
  "toc": {
   "base_numbering": 1,
   "nav_menu": {},
   "number_sections": true,
   "sideBar": true,
   "skip_h1_title": false,
   "title_cell": "Table of Contents",
   "title_sidebar": "Contents",
   "toc_cell": false,
   "toc_position": {
    "height": "calc(100% - 180px)",
    "left": "10px",
    "top": "150px",
    "width": "384px"
   },
   "toc_section_display": true,
   "toc_window_display": false
  }
 },
 "nbformat": 4,
 "nbformat_minor": 5
}
