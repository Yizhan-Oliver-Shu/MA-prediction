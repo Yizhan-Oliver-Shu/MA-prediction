{
 "cells": [
  {
   "cell_type": "code",
   "execution_count": 1,
   "id": "993fbf77",
   "metadata": {},
   "outputs": [
    {
     "data": {
      "text/html": [
       "<style>.container { width:92% !important; }</style>"
      ],
      "text/plain": [
       "<IPython.core.display.HTML object>"
      ]
     },
     "metadata": {},
     "output_type": "display_data"
    }
   ],
   "source": [
    "from IPython.display import display, HTML\n",
    "display(HTML(\"<style>.container { width:92% !important; }</style>\"))\n",
    "\n",
    "%load_ext autoreload\n",
    "%autoreload 2\n",
    "import sys, os\n",
    "from os.path import expanduser\n",
    "## actions required!!!!!!!!!!!!!!!!!!!! change your folder path \n",
    "path = \"~/Documents/G3/MA-prediction\"\n",
    "path = expanduser(path)\n",
    "sys.path.append(path)\n",
    "\n",
    "import data_science_MA_kit as dsk\n",
    "import pandas as pd\n",
    "import numpy as np\n",
    "import datetime\n",
    "from tqdm import tqdm\n",
    "import re\n",
    "# import wrds\n",
    "\n",
    "pd.options.mode.chained_assignment = None\n",
    "import warnings\n",
    "warnings.simplefilter(action='ignore', category=pd.errors.PerformanceWarning)\n",
    "\n",
    "import seaborn as sns\n",
    "import matplotlib.pyplot as plt\n",
    "import matplotlib as mpl\n",
    "mpl.style.use(\"seaborn-v0_8\")\n",
    "plt.rcParams['figure.figsize'] = [9, 9]\n",
    "plt.rcParams['axes.titlesize'] = 20\n",
    "plt.rcParams['axes.labelsize'] = 20\n",
    "plt.rcParams['xtick.labelsize'] = 15\n",
    "plt.rcParams['ytick.labelsize'] = 15\n",
    "plt.rcParams['legend.fontsize'] = 18\n",
    "plt.rcParams['font.size'] = 30"
   ]
  },
  {
   "cell_type": "code",
   "execution_count": 2,
   "id": "17edb46e",
   "metadata": {
    "scrolled": true
   },
   "outputs": [
    {
     "name": "stdout",
     "output_type": "stream",
     "text": [
      "Enter your WRDS username [yizhan]:olivershu\n",
      "Enter your password:········\n",
      "WRDS recommends setting up a .pgpass file.\n",
      "Create .pgpass file now [y/n]?: y\n",
      "Created .pgpass file successfully.\n",
      "Loading library list...\n",
      "Done\n"
     ]
    }
   ],
   "source": [
    "import wrds\n",
    "db = wrds.Connection()"
   ]
  },
  {
   "cell_type": "markdown",
   "id": "eca730e9",
   "metadata": {},
   "source": [
    "# Data preprocessing 3: Pulling raw market data from CRSP\n",
    "\n",
    "In this notebook we \n",
    "\n",
    "- pull the market data of targets and acquirors during the whole deal process (from 40 days before original announcement date to 40 days after resolution date). \n",
    "\n",
    "These market data will be used for backtesting after processing.\n",
    "\n",
    "For pending deals where `dr_corrected` is not available, we use the latest `de` or `da` in the dataset to indicate the last date.\n",
    "\n",
    "## I/O\n",
    "\n",
    "- Input:\n",
    "    - `df_dates_corrected.h5`\n",
    "\n",
    "- Output:\n",
    "    - `market_data_tgt_raw.pickle`\n",
    "    - `market_data_acq_raw.pickle`\n",
    "\n",
    "## load data"
   ]
  },
  {
   "cell_type": "code",
   "execution_count": 3,
   "id": "d5184ce8",
   "metadata": {},
   "outputs": [],
   "source": [
    "filepath = f\"{path}/data/intermediate/df_dates_corrected.h5\"\n",
    "df = pd.read_hdf(filepath)"
   ]
  },
  {
   "cell_type": "markdown",
   "id": "f9322eab",
   "metadata": {},
   "source": [
    "# CRSP"
   ]
  },
  {
   "cell_type": "code",
   "execution_count": 4,
   "id": "45752f56",
   "metadata": {},
   "outputs": [],
   "source": [
    "df['one_day_39days_prior'] = dsk.get_trading_day_offset(df.one_day_corrected, -39)\n",
    "last_date = max(df.da.max(), df.de.dropna().max())\n",
    "df['dr_40days_after'] = dsk.get_trading_day_offset(df.dr_corrected.fillna(last_date), 40)"
   ]
  },
  {
   "cell_type": "code",
   "execution_count": 5,
   "id": "4291abfc",
   "metadata": {},
   "outputs": [],
   "source": [
    "def get_stock_market_data_daily_from_ser_CRSP(ser, db=db):\n",
    "    \"\"\"\n",
    "    get daily market data from a series of (permno, start_date, end_date)\n",
    "    \"\"\"\n",
    "    return dsk.get_stock_market_data_daily_CRSP(ser.iloc[0], start_date=ser.iloc[1], end_date=ser.iloc[2], db=db)"
   ]
  },
  {
   "cell_type": "code",
   "execution_count": 4,
   "id": "a1d7201c",
   "metadata": {},
   "outputs": [
    {
     "data": {
      "text/html": [
       "<div>\n",
       "<style scoped>\n",
       "    .dataframe tbody tr th:only-of-type {\n",
       "        vertical-align: middle;\n",
       "    }\n",
       "\n",
       "    .dataframe tbody tr th {\n",
       "        vertical-align: top;\n",
       "    }\n",
       "\n",
       "    .dataframe thead th {\n",
       "        text-align: right;\n",
       "    }\n",
       "</style>\n",
       "<table border=\"1\" class=\"dataframe\">\n",
       "  <thead>\n",
       "    <tr style=\"text-align: right;\">\n",
       "      <th></th>\n",
       "      <th>permno</th>\n",
       "      <th>prc</th>\n",
       "      <th>ret</th>\n",
       "      <th>vol</th>\n",
       "      <th>shrout</th>\n",
       "      <th>cfacpr</th>\n",
       "      <th>cfacshr</th>\n",
       "    </tr>\n",
       "    <tr>\n",
       "      <th>date</th>\n",
       "      <th></th>\n",
       "      <th></th>\n",
       "      <th></th>\n",
       "      <th></th>\n",
       "      <th></th>\n",
       "      <th></th>\n",
       "      <th></th>\n",
       "    </tr>\n",
       "  </thead>\n",
       "  <tbody>\n",
       "    <tr>\n",
       "      <th>1997-05-15</th>\n",
       "      <td>84788.0</td>\n",
       "      <td>23.500000</td>\n",
       "      <td>NaN</td>\n",
       "      <td>6029815.0</td>\n",
       "      <td>23859.0</td>\n",
       "      <td>240.0</td>\n",
       "      <td>240.0</td>\n",
       "    </tr>\n",
       "    <tr>\n",
       "      <th>1997-05-16</th>\n",
       "      <td>84788.0</td>\n",
       "      <td>20.750000</td>\n",
       "      <td>-0.117021</td>\n",
       "      <td>1232226.0</td>\n",
       "      <td>23859.0</td>\n",
       "      <td>240.0</td>\n",
       "      <td>240.0</td>\n",
       "    </tr>\n",
       "    <tr>\n",
       "      <th>1997-05-19</th>\n",
       "      <td>84788.0</td>\n",
       "      <td>20.500000</td>\n",
       "      <td>-0.012048</td>\n",
       "      <td>512070.0</td>\n",
       "      <td>23859.0</td>\n",
       "      <td>240.0</td>\n",
       "      <td>240.0</td>\n",
       "    </tr>\n",
       "    <tr>\n",
       "      <th>1997-05-20</th>\n",
       "      <td>84788.0</td>\n",
       "      <td>19.625000</td>\n",
       "      <td>-0.042683</td>\n",
       "      <td>456357.0</td>\n",
       "      <td>23859.0</td>\n",
       "      <td>240.0</td>\n",
       "      <td>240.0</td>\n",
       "    </tr>\n",
       "    <tr>\n",
       "      <th>1997-05-21</th>\n",
       "      <td>84788.0</td>\n",
       "      <td>17.125000</td>\n",
       "      <td>-0.127389</td>\n",
       "      <td>1577414.0</td>\n",
       "      <td>23859.0</td>\n",
       "      <td>240.0</td>\n",
       "      <td>240.0</td>\n",
       "    </tr>\n",
       "    <tr>\n",
       "      <th>...</th>\n",
       "      <td>...</td>\n",
       "      <td>...</td>\n",
       "      <td>...</td>\n",
       "      <td>...</td>\n",
       "      <td>...</td>\n",
       "      <td>...</td>\n",
       "      <td>...</td>\n",
       "    </tr>\n",
       "    <tr>\n",
       "      <th>2022-10-25</th>\n",
       "      <td>84788.0</td>\n",
       "      <td>120.599998</td>\n",
       "      <td>0.006510</td>\n",
       "      <td>50829656.0</td>\n",
       "      <td>10198000.0</td>\n",
       "      <td>1.0</td>\n",
       "      <td>1.0</td>\n",
       "    </tr>\n",
       "    <tr>\n",
       "      <th>2022-10-26</th>\n",
       "      <td>84788.0</td>\n",
       "      <td>115.660004</td>\n",
       "      <td>-0.040962</td>\n",
       "      <td>68897963.0</td>\n",
       "      <td>10198000.0</td>\n",
       "      <td>1.0</td>\n",
       "      <td>1.0</td>\n",
       "    </tr>\n",
       "    <tr>\n",
       "      <th>2022-10-27</th>\n",
       "      <td>84788.0</td>\n",
       "      <td>110.959999</td>\n",
       "      <td>-0.040636</td>\n",
       "      <td>129435731.0</td>\n",
       "      <td>10198000.0</td>\n",
       "      <td>1.0</td>\n",
       "      <td>1.0</td>\n",
       "    </tr>\n",
       "    <tr>\n",
       "      <th>2022-10-28</th>\n",
       "      <td>84788.0</td>\n",
       "      <td>103.410004</td>\n",
       "      <td>-0.068042</td>\n",
       "      <td>223041247.0</td>\n",
       "      <td>10198000.0</td>\n",
       "      <td>1.0</td>\n",
       "      <td>1.0</td>\n",
       "    </tr>\n",
       "    <tr>\n",
       "      <th>2022-10-31</th>\n",
       "      <td>84788.0</td>\n",
       "      <td>102.440002</td>\n",
       "      <td>-0.009380</td>\n",
       "      <td>100116646.0</td>\n",
       "      <td>10198000.0</td>\n",
       "      <td>1.0</td>\n",
       "      <td>1.0</td>\n",
       "    </tr>\n",
       "  </tbody>\n",
       "</table>\n",
       "<p>6409 rows × 7 columns</p>\n",
       "</div>"
      ],
      "text/plain": [
       "             permno         prc       ret          vol      shrout  cfacpr  \\\n",
       "date                                                                         \n",
       "1997-05-15  84788.0   23.500000       NaN    6029815.0     23859.0   240.0   \n",
       "1997-05-16  84788.0   20.750000 -0.117021    1232226.0     23859.0   240.0   \n",
       "1997-05-19  84788.0   20.500000 -0.012048     512070.0     23859.0   240.0   \n",
       "1997-05-20  84788.0   19.625000 -0.042683     456357.0     23859.0   240.0   \n",
       "1997-05-21  84788.0   17.125000 -0.127389    1577414.0     23859.0   240.0   \n",
       "...             ...         ...       ...          ...         ...     ...   \n",
       "2022-10-25  84788.0  120.599998  0.006510   50829656.0  10198000.0     1.0   \n",
       "2022-10-26  84788.0  115.660004 -0.040962   68897963.0  10198000.0     1.0   \n",
       "2022-10-27  84788.0  110.959999 -0.040636  129435731.0  10198000.0     1.0   \n",
       "2022-10-28  84788.0  103.410004 -0.068042  223041247.0  10198000.0     1.0   \n",
       "2022-10-31  84788.0  102.440002 -0.009380  100116646.0  10198000.0     1.0   \n",
       "\n",
       "            cfacshr  \n",
       "date                 \n",
       "1997-05-15    240.0  \n",
       "1997-05-16    240.0  \n",
       "1997-05-19    240.0  \n",
       "1997-05-20    240.0  \n",
       "1997-05-21    240.0  \n",
       "...             ...  \n",
       "2022-10-25      1.0  \n",
       "2022-10-26      1.0  \n",
       "2022-10-27      1.0  \n",
       "2022-10-28      1.0  \n",
       "2022-10-31      1.0  \n",
       "\n",
       "[6409 rows x 7 columns]"
      ]
     },
     "execution_count": 4,
     "metadata": {},
     "output_type": "execute_result"
    }
   ],
   "source": [
    "dsk.get_stock_market_data_daily_CRSP('AMZN', 'ticker', db=db)"
   ]
  },
  {
   "cell_type": "code",
   "execution_count": 6,
   "id": "daf49e44",
   "metadata": {
    "scrolled": true
   },
   "outputs": [
    {
     "name": "stderr",
     "output_type": "stream",
     "text": [
      "100%|█████████████████████████████████████| 12031/12031 [03:20<00:00, 59.98it/s]\n"
     ]
    }
   ],
   "source": [
    "market_data_tgt = dsk.apply_func_to_ser_df(df[['tpermno', 'one_day_39days_prior', 'dr_40days_after']],\n",
    "                                          get_stock_market_data_daily_from_ser_CRSP,\n",
    "                                          db=db)"
   ]
  },
  {
   "cell_type": "code",
   "execution_count": 7,
   "id": "f27b154f",
   "metadata": {},
   "outputs": [
    {
     "name": "stderr",
     "output_type": "stream",
     "text": [
      "100%|█████████████████████████████████████| 12031/12031 [02:10<00:00, 91.98it/s]\n"
     ]
    }
   ],
   "source": [
    "market_data_acq = dsk.apply_func_to_ser_df(df[['apermno', 'one_day_39days_prior', 'dr_40days_after']],\n",
    "                                          get_stock_market_data_daily_from_ser_CRSP,\n",
    "                                          db=db)"
   ]
  },
  {
   "cell_type": "code",
   "execution_count": 8,
   "id": "b712a808",
   "metadata": {},
   "outputs": [],
   "source": [
    "import pickle\n",
    "\n",
    "filepath_tgt = f\"{path}/data/market_data_tgt_raw.pickle\"\n",
    "with open(filepath_tgt, 'wb') as handle:\n",
    "    pickle.dump(market_data_tgt, handle, protocol=pickle.HIGHEST_PROTOCOL)\n",
    "    \n",
    "    \n",
    "filepath_acq = f\"{path}/data/market_data_acq_raw.pickle\"\n",
    "with open(filepath_acq, 'wb') as handle:\n",
    "    pickle.dump(market_data_acq, handle, protocol=pickle.HIGHEST_PROTOCOL)"
   ]
  },
  {
   "cell_type": "code",
   "execution_count": 9,
   "id": "ce39e290",
   "metadata": {},
   "outputs": [
    {
     "data": {
      "text/plain": [
       "893"
      ]
     },
     "execution_count": 9,
     "metadata": {},
     "output_type": "execute_result"
    }
   ],
   "source": [
    "market_data_tgt.isna().sum()"
   ]
  },
  {
   "cell_type": "code",
   "execution_count": 10,
   "id": "47f6e6a2",
   "metadata": {},
   "outputs": [
    {
     "data": {
      "text/plain": [
       "5042"
      ]
     },
     "execution_count": 10,
     "metadata": {},
     "output_type": "execute_result"
    }
   ],
   "source": [
    "market_data_acq.isna().sum()"
   ]
  }
 ],
 "metadata": {
  "kernelspec": {
   "display_name": "Python 3 (ipykernel)",
   "language": "python",
   "name": "python3"
  },
  "language_info": {
   "codemirror_mode": {
    "name": "ipython",
    "version": 3
   },
   "file_extension": ".py",
   "mimetype": "text/x-python",
   "name": "python",
   "nbconvert_exporter": "python",
   "pygments_lexer": "ipython3",
   "version": "3.11.0"
  },
  "toc": {
   "base_numbering": 1,
   "nav_menu": {},
   "number_sections": true,
   "sideBar": true,
   "skip_h1_title": false,
   "title_cell": "Table of Contents",
   "title_sidebar": "Contents",
   "toc_cell": false,
   "toc_position": {},
   "toc_section_display": true,
   "toc_window_display": false
  }
 },
 "nbformat": 4,
 "nbformat_minor": 5
}
