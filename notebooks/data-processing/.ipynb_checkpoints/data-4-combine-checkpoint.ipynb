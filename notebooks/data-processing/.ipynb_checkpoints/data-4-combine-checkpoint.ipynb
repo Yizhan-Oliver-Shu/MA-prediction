{
 "cells": [
  {
   "cell_type": "code",
   "execution_count": 1,
   "id": "1cdf3be4",
   "metadata": {},
   "outputs": [],
   "source": [
    "%load_ext autoreload\n",
    "%autoreload 2\n",
    "import sys, os\n",
    "from os.path import expanduser\n",
    "## actions required!!!!!!!!!!!!!!!!!!!! change your folder path \n",
    "path = \"~/Documents/G3/MA-prediction\"\n",
    "path = expanduser(path)\n",
    "sys.path.append(path)\n",
    "\n",
    "import pandas as pd\n",
    "import numpy as np\n",
    "\n",
    "pd.options.mode.chained_assignment = None\n",
    "import warnings\n",
    "warnings.simplefilter(action='ignore', category=pd.errors.PerformanceWarning)\n",
    "warnings.simplefilter(action='ignore', category=FutureWarning)"
   ]
  },
  {
   "cell_type": "code",
   "execution_count": 2,
   "id": "c22096e0-9eb7-43a8-8f02-c44f1d049634",
   "metadata": {},
   "outputs": [],
   "source": [
    "from MA_prediction.utils import *\n",
    "from MA_prediction.mkt_calendar import *\n",
    "from MA_prediction.preprocessing import *"
   ]
  },
  {
   "cell_type": "markdown",
   "id": "3d09ab02",
   "metadata": {
    "tags": []
   },
   "source": [
    "# data-4: combine processing results\n",
    "\n",
    "In this notebook we \n",
    "\n",
    "- replace `dr` with `delist_date` for certain deals.\n",
    "- create duration.\n",
    "- combine the dataset after advanced processing and CRSP query. \n",
    "\n",
    "\n",
    "## I/O\n",
    "\n",
    "- Input:\n",
    "    - `data/intermediate/df_advanced_processing.h5`\n",
    "    - `data/intermediate/CRSP/apermno.h5`, `data/intermediate/CRSP/tpermno.h5`\n",
    "    - `data/intermediate/CRSP/delist.h5`\n",
    "- Output:\n",
    "    - `data/processed/df_processed.h5` and `csv`."
   ]
  },
  {
   "cell_type": "markdown",
   "id": "9d68aec1-beb0-448b-ab92-2983339d0320",
   "metadata": {},
   "source": [
    "## load data"
   ]
  },
  {
   "cell_type": "code",
   "execution_count": 3,
   "id": "5728899a-6f3f-4c47-b2d5-f7876cbcd406",
   "metadata": {},
   "outputs": [],
   "source": [
    "filepath = f\"{path}/data/intermediate/df_advanced_processing.h5\"\n",
    "df = pd.read_hdf(filepath)\n",
    "\n",
    "# load permno results\n",
    "tpermno, apermno = load_permno_data(path)\n",
    "\n",
    "# load delist results\n",
    "filepath_delist = f\"{path}/data/intermediate/CRSP/delist.h5\"\n",
    "delist_CRSP = pd.read_hdf(filepath_delist)"
   ]
  },
  {
   "cell_type": "code",
   "execution_count": 4,
   "id": "7552cfdb-64e1-4894-bc14-0797eef9c130",
   "metadata": {},
   "outputs": [],
   "source": [
    "# concat permno information with df\n",
    "loc_names = ['atic', 'atic', 'acu', 'an']\n",
    "insert_cols(df, loc_names, None, apermno)\n",
    "\n",
    "loc_names = ['ttic', 'ttic', 'tcu', 'tn'] \n",
    "insert_cols(df, loc_names, None, tpermno)"
   ]
  },
  {
   "cell_type": "code",
   "execution_count": 5,
   "id": "608bc8e0-0344-4a21-aadd-7fc62e8a405b",
   "metadata": {},
   "outputs": [],
   "source": [
    "# concat into the dataset\n",
    "loc_names = ['att'] * 5\n",
    "insert_cols(df, loc_names, None, delist_CRSP)"
   ]
  },
  {
   "cell_type": "code",
   "execution_count": 6,
   "id": "5e0ffb8a-f1b6-458e-9bbe-9f271b27ec78",
   "metadata": {},
   "outputs": [],
   "source": [
    "# replace resolution date with delist date for cretain deals\n",
    "idx = df.statc.eq('C') & df.delist_code.between(200, 300, inclusive=\"left\") & df.delist_return.notna() & abs(get_num_trading_days_between(df.de, df.delist_date)).le(40)\n",
    "df.dr.loc[idx] = df.delist_date.loc[idx]"
   ]
  },
  {
   "cell_type": "code",
   "execution_count": 7,
   "id": "936d4722-293a-4083-906b-886803c322da",
   "metadata": {},
   "outputs": [],
   "source": [
    "# create duration\n",
    "insert_cols(df, 'definitive_agt', 'duration', get_num_trading_days_between(df.da, df.dr))"
   ]
  },
  {
   "cell_type": "markdown",
   "id": "5bea68e9-9829-40c9-92e2-dadcb24f2e57",
   "metadata": {},
   "source": [
    "# save final dataset"
   ]
  },
  {
   "cell_type": "code",
   "execution_count": 8,
   "id": "3a5bdb47-2dc1-42a6-bb9e-23dd54706690",
   "metadata": {},
   "outputs": [],
   "source": [
    "# save\n",
    "filepath = f\"{path}/data/processed/df_processed.h5\"\n",
    "df.to_hdf(filepath, key = 'df', mode='w')\n",
    "df.to_csv(filepath.replace(\"h5\", \"csv\"))"
   ]
  }
 ],
 "metadata": {
  "kernelspec": {
   "display_name": "Python 3 (ipykernel)",
   "language": "python",
   "name": "python3"
  },
  "language_info": {
   "codemirror_mode": {
    "name": "ipython",
    "version": 3
   },
   "file_extension": ".py",
   "mimetype": "text/x-python",
   "name": "python",
   "nbconvert_exporter": "python",
   "pygments_lexer": "ipython3",
   "version": "3.11.0"
  },
  "toc": {
   "base_numbering": 1,
   "nav_menu": {},
   "number_sections": true,
   "sideBar": true,
   "skip_h1_title": false,
   "title_cell": "Table of Contents",
   "title_sidebar": "Contents",
   "toc_cell": false,
   "toc_position": {},
   "toc_section_display": true,
   "toc_window_display": false
  },
  "toc-autonumbering": true
 },
 "nbformat": 4,
 "nbformat_minor": 5
}
