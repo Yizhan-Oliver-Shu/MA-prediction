{
 "cells": [
  {
   "cell_type": "code",
   "execution_count": 1,
   "id": "2cbbeb29",
   "metadata": {},
   "outputs": [],
   "source": [
    "%load_ext autoreload\n",
    "%autoreload 2\n",
    "import sys, os\n",
    "from os.path import expanduser\n",
    "## actions required!!!!!!!!!!!!!!!!!!!! change your folder path \n",
    "path = \"~/Documents/G3/MA-prediction\"\n",
    "path = expanduser(path)\n",
    "sys.path.append(path)\n",
    "\n",
    "import pandas as pd\n",
    "import numpy as np\n",
    "\n",
    "pd.options.mode.chained_assignment = None\n",
    "import warnings\n",
    "warnings.simplefilter(action='ignore', category=pd.errors.PerformanceWarning)\n",
    "warnings.simplefilter(action='ignore', category=FutureWarning)"
   ]
  },
  {
   "cell_type": "code",
   "execution_count": 2,
   "id": "327286b7-4959-46b9-88a1-afbed2653d08",
   "metadata": {},
   "outputs": [],
   "source": [
    "from MA_prediction.utils import *\n",
    "from MA_prediction.preprocessing import *\n",
    "from MA_prediction.mkt_calendar import *"
   ]
  },
  {
   "cell_type": "markdown",
   "id": "bb080f6a",
   "metadata": {},
   "source": [
    "# Data Cleaning 4: Variable Transformation\n",
    "\n",
    "In this notebook we will do the following:\n",
    "\n",
    "- Create `amend` and `choice` binary variables.\n",
    "- Create competing group number and competing status code.\n",
    "- Clean payment type.\n",
    "- Extract cash and stock terms from consideration.\n",
    "\n",
    "## I/O\n",
    "\n",
    "- Input:\n",
    "    - `data/intermediate/df_permno_delist_CRSP.h5`\n",
    "    \n",
    "- Output:\n",
    "    - `data/cleaned/df_cleaned.h5`\n",
    "    - `data/cleaned/df_cleaned.csv`\n"
   ]
  },
  {
   "cell_type": "markdown",
   "id": "9be04647-1495-44ee-a5f5-5a99f55e85cc",
   "metadata": {},
   "source": [
    "## Load data"
   ]
  },
  {
   "cell_type": "code",
   "execution_count": 3,
   "id": "6627bc88",
   "metadata": {},
   "outputs": [],
   "source": [
    "filepath = f\"{path}/data/intermediate/df_permno_delist_CRSP.h5\"\n",
    "df = pd.read_hdf(filepath)"
   ]
  },
  {
   "cell_type": "markdown",
   "id": "e59f5c3d",
   "metadata": {
    "tags": []
   },
   "source": [
    "# Create `amend` and `choice` binary variables"
   ]
  },
  {
   "cell_type": "code",
   "execution_count": 4,
   "id": "90113ea0-cd57-4c32-ad59-425d82b722a7",
   "metadata": {},
   "outputs": [],
   "source": [
    "# create amend\n",
    "insert_cols(df, 'valamend', 'amend', create_amend(df))\n",
    "\n",
    "# create consid\n",
    "insert_cols(df, 'consid', 'choice', create_choice(df))"
   ]
  },
  {
   "cell_type": "markdown",
   "id": "4d203ea3",
   "metadata": {},
   "source": [
    "# Create competing group number and status code"
   ]
  },
  {
   "cell_type": "markdown",
   "id": "0210a152",
   "metadata": {},
   "source": [
    "## Create competing group number"
   ]
  },
  {
   "cell_type": "code",
   "execution_count": 5,
   "id": "b49ec612",
   "metadata": {},
   "outputs": [],
   "source": [
    "# change to 0/1\n",
    "df.cha = df.cha.replace({'Yes':1, 'No':0})"
   ]
  },
  {
   "cell_type": "code",
   "execution_count": 6,
   "id": "1814c984",
   "metadata": {},
   "outputs": [],
   "source": [
    "# create competing deal group numbers\n",
    "insert_cols(df, 'lbo', 'compete_group_no', create_compete_group_no(df))\n",
    "\n",
    "# check error\n",
    "if df.compete_group_no.eq(-1).any():\n",
    "    print('Different group numbers in one group.')\n",
    "if df.compete_group_no.value_counts().eq(1).any():\n",
    "    print('Group of a single deal.')"
   ]
  },
  {
   "cell_type": "markdown",
   "id": "aaaa9910",
   "metadata": {},
   "source": [
    "## Create competing status code"
   ]
  },
  {
   "cell_type": "code",
   "execution_count": 7,
   "id": "7fc6a666",
   "metadata": {},
   "outputs": [],
   "source": [
    "# create competing status code\n",
    "insert_cols(df, 'lbo', 'compete_statc_code', create_compete_status_code(df))"
   ]
  },
  {
   "cell_type": "code",
   "execution_count": 8,
   "id": "900091c6",
   "metadata": {},
   "outputs": [
    {
     "data": {
      "text/plain": [
       "2.0    595\n",
       "0.0    449\n",
       "1.0     63\n",
       "9.0      3\n",
       "3.0      3\n",
       "Name: compete_statc_code, dtype: int64"
      ]
     },
     "execution_count": 8,
     "metadata": {},
     "output_type": "execute_result"
    }
   ],
   "source": [
    "df.compete_statc_code.value_counts()"
   ]
  },
  {
   "cell_type": "markdown",
   "id": "28b2c740",
   "metadata": {},
   "source": [
    "# Create new payment type `consido`"
   ]
  },
  {
   "cell_type": "code",
   "execution_count": 9,
   "id": "059cddab",
   "metadata": {},
   "outputs": [
    {
     "data": {
      "text/plain": [
       "array(['Amer. Depy. Receipt', 'American Depy Share', 'Assets', 'Bond',\n",
       "       'Capital Infusion', 'Capital Stock', 'Cash', 'Cash Dividend',\n",
       "       'Cash Only', 'Common L.P. Unit', 'Common Stock',\n",
       "       'Common Stock Type A', 'Common Stock Type B',\n",
       "       'Common Stock Type C', 'Common Stock Type E',\n",
       "       'Common Stock Type H', 'Conting. Value Right',\n",
       "       'Contingent Val Pref', 'Convert. Debenture', 'Convert. Exch. Pfd.',\n",
       "       'Convert. Preferred', 'Convert. Preferred A',\n",
       "       'Convert. Preferred B', 'Convert. Preferred D',\n",
       "       'Convert. Securities', 'Convert. Senior Pfd.',\n",
       "       'Convert. Sub. Deb.', 'Convert. Sub. Note', 'Convertible Note',\n",
       "       'Cum Cvt Exch Pfd', 'Cum. Convert. Pfd.', 'Cum. Exch. Preferred',\n",
       "       'Cumulative Preferred', 'Cvt Cum Pfd Ser A',\n",
       "       'Cvt. Promissory Note', 'Debenture', 'Debt', 'Debt Reduction',\n",
       "       'Depositary Receipt', 'Depositary Share', 'Earnout',\n",
       "       'Exch Redeemable Pfd', 'Exch. Preferred', 'Exch. Sub. Deb.',\n",
       "       'Jr. Sub. Debentures', 'Junior Preferred Shs', 'L.P. Unit',\n",
       "       'Liabilities', 'Loan', 'Ltd. Vot. Pfd ADR', 'M.L.P. Unit',\n",
       "       'Newly Issued Ord Sh', 'Newly Issued Pfd Sh',\n",
       "       'Non-Voting Common B', 'Non-Voting Cvt. Ord',\n",
       "       'Non-Voting Cvt. Pfd.', 'Non-Voting Preferred', 'Not Applicable',\n",
       "       'Note', 'Notes', 'Operating Part Unit', 'Option', 'Ordinary Share',\n",
       "       'Other Consideration', 'Preference Share', 'Preferred Class A',\n",
       "       'Preferred Class B', 'Preferred Class C', 'Preferred Class D',\n",
       "       'Preferred Class E', 'Preferred Class G', 'Preferred Dividend',\n",
       "       'Preferred L.P. Unit', 'Preferred Stock', 'Promissory Note',\n",
       "       'Redeemable Preferred', 'Restricted Common', 'Returned Debt',\n",
       "       'Rights', 'Royalties', 'Securities', 'Senior Notes',\n",
       "       'Senior Secured Notes', 'Senior Sub. Notes', 'Series 1 Preferred',\n",
       "       'Series 2 Preferred', 'Special Common Stock', 'Stock',\n",
       "       'Sub Voting Shs Cl A', 'Sub. Debenture', 'Sub. Voting Stock',\n",
       "       'Subordinated Common', 'Subordinated Note', 'Third Party Com Shs.',\n",
       "       'Third Party Ord Shs.', 'Tracking Stock', 'Unit', 'Warrants'],\n",
       "      dtype='<U20')"
      ]
     },
     "execution_count": 9,
     "metadata": {},
     "output_type": "execute_result"
    }
   ],
   "source": [
    "extract_all_payment_types(df.consido)"
   ]
  },
  {
   "cell_type": "code",
   "execution_count": 10,
   "id": "20c54473",
   "metadata": {},
   "outputs": [],
   "source": [
    "lst_cash = ['Cash', 'Cash Only']\n",
    "lst_stock = ['Common Stock', 'Common Stock Type A', 'Common Stock Type B', 'Common Stock Type C', 'Common Stock Type E', \n",
    "             'Common Stock Type H', 'Newly Issued Ord Sh', 'Ordinary Share', ]"
   ]
  },
  {
   "cell_type": "code",
   "execution_count": 11,
   "id": "2da1faee",
   "metadata": {},
   "outputs": [],
   "source": [
    "# # to be deal with later\n",
    "# replace_lst_more = ['Amer. Depy. Receipt', \n",
    "#                     'American Depy Share',\n",
    "#                     'Cash Dividend'\n",
    "#                     'Common L.P. Unit',\n",
    "#                    'Depositary Receipt',\n",
    "#                     'Depositary Share',\n",
    "#                    'L.P. Unit',\n",
    "#                    'Unit']"
   ]
  },
  {
   "cell_type": "code",
   "execution_count": 12,
   "id": "bf08ff75",
   "metadata": {
    "scrolled": true
   },
   "outputs": [
    {
     "data": {
      "text/plain": [
       "Cash                     6140\n",
       "Common Stock             2638\n",
       "Cash and Common Stock    1582\n",
       "No Cash or Stock           82\n",
       "Name: consido_new, dtype: int64"
      ]
     },
     "execution_count": 12,
     "metadata": {},
     "output_type": "execute_result"
    }
   ],
   "source": [
    "# new consido\n",
    "insert_cols(df, 'consido', 'consido_new', df.consido.map(lambda x: transform_payment_str(x, lst_cash, lst_stock), na_action='ignore'))\n",
    "df.consido_new.value_counts()"
   ]
  },
  {
   "cell_type": "markdown",
   "id": "2aa45eb6",
   "metadata": {},
   "source": [
    "# Extract cash and stock terms from consideration."
   ]
  },
  {
   "cell_type": "code",
   "execution_count": 13,
   "id": "96b75faf-ae5d-4c5c-8771-1aa7884b542f",
   "metadata": {},
   "outputs": [],
   "source": [
    "# correct consideration\n",
    "cols = ['consid', 'consido']\n",
    "df[cols] = correct_consid(df[cols])"
   ]
  },
  {
   "cell_type": "code",
   "execution_count": 14,
   "id": "832396fd",
   "metadata": {},
   "outputs": [],
   "source": [
    "# convert `consid` column to a more readable format\n",
    "df.consid = df.consid.map(convert_consid_to_readable, na_action='ignore')"
   ]
  },
  {
   "cell_type": "code",
   "execution_count": 15,
   "id": "4f065263-f40c-49fe-9f7f-c2c421bffbc8",
   "metadata": {},
   "outputs": [],
   "source": [
    "# extract terms from `consid`\n",
    "insert_cols(df, \"consid\", \"terms\", extract_term_from_consid(df.consid))"
   ]
  },
  {
   "cell_type": "code",
   "execution_count": 16,
   "id": "60b3acdd-53bb-49a7-b50b-05f31c56219d",
   "metadata": {},
   "outputs": [
    {
     "name": "stderr",
     "output_type": "stream",
     "text": [
      "100%|██████████████████████████████████| 10084/10084 [00:00<00:00, 18557.67it/s]\n"
     ]
    }
   ],
   "source": [
    "# extract cash and stock terms\n",
    "cash_stock_terms = apply_func_to_ser_df(df.terms, extract_cash_stock_from_term, return_as_df=True) "
   ]
  },
  {
   "cell_type": "code",
   "execution_count": 17,
   "id": "74058471-ffa4-48a1-a4d9-47a6ef762177",
   "metadata": {},
   "outputs": [],
   "source": [
    "insert_cols(df, ['consid']*3, None, cash_stock_terms)"
   ]
  },
  {
   "cell_type": "code",
   "execution_count": 18,
   "id": "56ecce66",
   "metadata": {
    "scrolled": true
   },
   "outputs": [
    {
     "data": {
      "text/plain": [
       "Cash                                   5345\n",
       "Common Stock                           2138\n",
       "parse failed                           1838\n",
       "Cash and Common Stock                   428\n",
       "Common Stock, fixed dollar              236\n",
       "Cash and Common Stock, fixed dollar      99\n",
       "Name: payment_type, dtype: int64"
      ]
     },
     "execution_count": 18,
     "metadata": {},
     "output_type": "execute_result"
    }
   ],
   "source": [
    "df.payment_type.value_counts()"
   ]
  },
  {
   "cell_type": "code",
   "execution_count": 19,
   "id": "29d6612f",
   "metadata": {},
   "outputs": [],
   "source": [
    "# create stock indicator\n",
    "insert_cols(df, 'payment_type', \"stock\", df.payment_type.isin(['Common Stock', 'Cash and Common Stock']).astype(int))"
   ]
  },
  {
   "cell_type": "markdown",
   "id": "5fc0da61-2558-4cf1-a497-9fe8dd581801",
   "metadata": {
    "tags": []
   },
   "source": [
    "# add duration"
   ]
  },
  {
   "cell_type": "code",
   "execution_count": 20,
   "id": "7867260a-4d9e-4a76-a029-10389735cccd",
   "metadata": {},
   "outputs": [],
   "source": [
    "insert_cols(df, \"definitive_agt\", \"duration\", get_num_trading_days_between(df.da, df.dr))"
   ]
  },
  {
   "cell_type": "markdown",
   "id": "fc02c060",
   "metadata": {},
   "source": [
    "# Save results"
   ]
  },
  {
   "cell_type": "code",
   "execution_count": 21,
   "id": "ecccf03b",
   "metadata": {},
   "outputs": [],
   "source": [
    "filepath = f\"{path}/data/cleaned/df_cleaned.h5\"\n",
    "\n",
    "df.to_hdf(filepath, key = 'df_cleaned', mode='w')\n",
    "df.to_csv(filepath.replace(\"h5\", \"csv\"))"
   ]
  }
 ],
 "metadata": {
  "kernelspec": {
   "display_name": "Python 3 (ipykernel)",
   "language": "python",
   "name": "python3"
  },
  "language_info": {
   "codemirror_mode": {
    "name": "ipython",
    "version": 3
   },
   "file_extension": ".py",
   "mimetype": "text/x-python",
   "name": "python",
   "nbconvert_exporter": "python",
   "pygments_lexer": "ipython3",
   "version": "3.11.0"
  },
  "toc": {
   "base_numbering": 1,
   "nav_menu": {},
   "number_sections": true,
   "sideBar": true,
   "skip_h1_title": false,
   "title_cell": "Table of Contents",
   "title_sidebar": "Contents",
   "toc_cell": false,
   "toc_position": {
    "height": "calc(100% - 180px)",
    "left": "10px",
    "top": "150px",
    "width": "384px"
   },
   "toc_section_display": true,
   "toc_window_display": false
  },
  "toc-autonumbering": true
 },
 "nbformat": 4,
 "nbformat_minor": 5
}
