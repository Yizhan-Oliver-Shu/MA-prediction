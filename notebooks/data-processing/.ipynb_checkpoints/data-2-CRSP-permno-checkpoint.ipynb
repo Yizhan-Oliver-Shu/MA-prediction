{
 "cells": [
  {
   "cell_type": "code",
   "execution_count": 1,
   "id": "79cabda9",
   "metadata": {
    "tags": []
   },
   "outputs": [],
   "source": [
    "%load_ext autoreload\n",
    "%autoreload 2\n",
    "import sys, os\n",
    "from os.path import expanduser\n",
    "## actions required!!!!!!!!!!!!!!!!!!!! change your folder path \n",
    "path = \"~/Documents/G3/MA-prediction\"\n",
    "path = expanduser(path)\n",
    "sys.path.append(path)\n",
    "\n",
    "import pandas as pd\n",
    "import numpy as np\n",
    "\n",
    "pd.options.mode.chained_assignment = None\n",
    "import warnings\n",
    "warnings.simplefilter(action='ignore', category=pd.errors.PerformanceWarning)\n",
    "warnings.simplefilter(action='ignore', category=FutureWarning)"
   ]
  },
  {
   "cell_type": "code",
   "execution_count": 2,
   "id": "76b5dc13-fd51-421c-9c2d-8e827d1d7f82",
   "metadata": {},
   "outputs": [],
   "source": [
    "from MA_prediction.utils import *\n",
    "from MA_prediction.mkt_calendar import *\n",
    "from MA_prediction.preprocessing import *\n",
    "from MA_prediction.crsp import *\n",
    "from sklearn.utils import _is_arraylike_not_scalar"
   ]
  },
  {
   "cell_type": "code",
   "execution_count": 3,
   "id": "1bd0d4cd",
   "metadata": {
    "scrolled": true
   },
   "outputs": [
    {
     "name": "stdin",
     "output_type": "stream",
     "text": [
      "Enter your WRDS username [yizhan]: olivershu\n",
      "Enter your password: ········\n"
     ]
    },
    {
     "name": "stdout",
     "output_type": "stream",
     "text": [
      "WRDS recommends setting up a .pgpass file.\n"
     ]
    },
    {
     "name": "stdin",
     "output_type": "stream",
     "text": [
      "Create .pgpass file now [y/n]?:  y\n"
     ]
    },
    {
     "name": "stdout",
     "output_type": "stream",
     "text": [
      "Created .pgpass file successfully.\n",
      "Loading library list...\n",
      "Done\n"
     ]
    }
   ],
   "source": [
    "import wrds\n",
    "db = wrds.Connection()"
   ]
  },
  {
   "cell_type": "markdown",
   "id": "fa227bd8",
   "metadata": {
    "tags": []
   },
   "source": [
    "# data-2: CRSP, look for `permno`\n",
    "\n",
    "In this notebook we use tickers and cusips provided by SDC, to find the `permno` of stocks in CRSP. CRSP is the database for historical prices of equities, and its unique identifier for every stock is `permno`. We need to find this identifier as it facilitates pulling market data from CRSP and backtesting. Apart from ticker and cusips, SDC also provides a few market prices (4wk, 1wk, 1day, before/after announcement), which we use to verify that the match is indeed accurate.\n",
    "\n",
    "We do the following for both targets and acquirors.\n",
    "\n",
    "- first look for `permno` by ticker and `da`.\n",
    "- pull out the market prices 5 days before and after `dao`, and match with the columns `['pr1day', 'tprday', 'tpr1daya']` in SDC. If they are close, then the match is successful.\n",
    "- Otherwise look for `permno` by `cusip` and `da`, and then check stock price in the same manner.\n",
    "\n",
    "\n",
    "## I/O\n",
    "\n",
    "- Input: \n",
    "    - `data/intermediate/df_basic_processing.h5`\n",
    "\n",
    "- Output: \n",
    "    - All in `data/intermediate/CRSP/`:\n",
    "        - `tpermno.h5`, `apermno.h5`\n",
    "        - `tpermno_by_ticker.h5`, `apermno_by_ticker.h5`\n",
    "        - `tpermno_by_cusip.h5`, `apermno_by_cusip.h5`"
   ]
  },
  {
   "cell_type": "markdown",
   "id": "f3319a82",
   "metadata": {
    "tags": []
   },
   "source": [
    "## Load data"
   ]
  },
  {
   "cell_type": "code",
   "execution_count": 4,
   "id": "6316c479",
   "metadata": {},
   "outputs": [
    {
     "name": "stdout",
     "output_type": "stream",
     "text": [
      "The dataset is of size (10446, 95).\n"
     ]
    },
    {
     "data": {
      "text/html": [
       "<div>\n",
       "<style scoped>\n",
       "    .dataframe tbody tr th:only-of-type {\n",
       "        vertical-align: middle;\n",
       "    }\n",
       "\n",
       "    .dataframe tbody tr th {\n",
       "        vertical-align: top;\n",
       "    }\n",
       "\n",
       "    .dataframe thead th {\n",
       "        text-align: right;\n",
       "    }\n",
       "</style>\n",
       "<table border=\"1\" class=\"dataframe\">\n",
       "  <thead>\n",
       "    <tr style=\"text-align: right;\">\n",
       "      <th></th>\n",
       "      <th>statc</th>\n",
       "      <th>one_day</th>\n",
       "      <th>aone_day</th>\n",
       "      <th>dao</th>\n",
       "      <th>da</th>\n",
       "      <th>dateannorig_days</th>\n",
       "      <th>de</th>\n",
       "      <th>dateeffexp</th>\n",
       "      <th>dw</th>\n",
       "      <th>dr</th>\n",
       "      <th>...</th>\n",
       "      <th>pricebook</th>\n",
       "      <th>eqvalcf</th>\n",
       "      <th>eqvalsales</th>\n",
       "      <th>eqval</th>\n",
       "      <th>tlia</th>\n",
       "      <th>cass</th>\n",
       "      <th>clia</th>\n",
       "      <th>lockup</th>\n",
       "      <th>dae</th>\n",
       "      <th>vest</th>\n",
       "    </tr>\n",
       "    <tr>\n",
       "      <th>master_deal_no</th>\n",
       "      <th></th>\n",
       "      <th></th>\n",
       "      <th></th>\n",
       "      <th></th>\n",
       "      <th></th>\n",
       "      <th></th>\n",
       "      <th></th>\n",
       "      <th></th>\n",
       "      <th></th>\n",
       "      <th></th>\n",
       "      <th></th>\n",
       "      <th></th>\n",
       "      <th></th>\n",
       "      <th></th>\n",
       "      <th></th>\n",
       "      <th></th>\n",
       "      <th></th>\n",
       "      <th></th>\n",
       "      <th></th>\n",
       "      <th></th>\n",
       "      <th></th>\n",
       "    </tr>\n",
       "  </thead>\n",
       "  <tbody>\n",
       "    <tr>\n",
       "      <th>3992461020</th>\n",
       "      <td>P</td>\n",
       "      <td>2022-10-24</td>\n",
       "      <td>2022-12-16</td>\n",
       "      <td>2022-10-25</td>\n",
       "      <td>2022-12-19</td>\n",
       "      <td>54</td>\n",
       "      <td>NaN</td>\n",
       "      <td>2023-12-31</td>\n",
       "      <td>NaN</td>\n",
       "      <td>NaN</td>\n",
       "      <td>...</td>\n",
       "      <td>8.659</td>\n",
       "      <td>16.011</td>\n",
       "      <td>2.087</td>\n",
       "      <td>4547.200</td>\n",
       "      <td>1748.5</td>\n",
       "      <td>1001.7</td>\n",
       "      <td>802.9</td>\n",
       "      <td>No</td>\n",
       "      <td>No</td>\n",
       "      <td>No</td>\n",
       "    </tr>\n",
       "    <tr>\n",
       "      <th>4015877020</th>\n",
       "      <td>P</td>\n",
       "      <td>2022-12-16</td>\n",
       "      <td>2022-12-16</td>\n",
       "      <td>2022-12-19</td>\n",
       "      <td>2022-12-19</td>\n",
       "      <td>0</td>\n",
       "      <td>NaN</td>\n",
       "      <td>2023-02-28</td>\n",
       "      <td>NaN</td>\n",
       "      <td>NaN</td>\n",
       "      <td>...</td>\n",
       "      <td>4.839</td>\n",
       "      <td>NaN</td>\n",
       "      <td>0.752</td>\n",
       "      <td>16.141</td>\n",
       "      <td>18.3</td>\n",
       "      <td>14.2</td>\n",
       "      <td>16.4</td>\n",
       "      <td>No</td>\n",
       "      <td>No</td>\n",
       "      <td>No</td>\n",
       "    </tr>\n",
       "    <tr>\n",
       "      <th>4016515020</th>\n",
       "      <td>P</td>\n",
       "      <td>2022-12-19</td>\n",
       "      <td>2022-12-19</td>\n",
       "      <td>2022-12-20</td>\n",
       "      <td>2022-12-20</td>\n",
       "      <td>0</td>\n",
       "      <td>NaN</td>\n",
       "      <td>2023-06-30</td>\n",
       "      <td>NaN</td>\n",
       "      <td>NaN</td>\n",
       "      <td>...</td>\n",
       "      <td>NaN</td>\n",
       "      <td>NaN</td>\n",
       "      <td>NaN</td>\n",
       "      <td>52.581</td>\n",
       "      <td>NaN</td>\n",
       "      <td>NaN</td>\n",
       "      <td>NaN</td>\n",
       "      <td>No</td>\n",
       "      <td>No</td>\n",
       "      <td>No</td>\n",
       "    </tr>\n",
       "    <tr>\n",
       "      <th>4017224020</th>\n",
       "      <td>P</td>\n",
       "      <td>2022-12-20</td>\n",
       "      <td>2022-12-20</td>\n",
       "      <td>2022-12-21</td>\n",
       "      <td>2022-12-21</td>\n",
       "      <td>0</td>\n",
       "      <td>NaN</td>\n",
       "      <td>2023-03-31</td>\n",
       "      <td>NaN</td>\n",
       "      <td>NaN</td>\n",
       "      <td>...</td>\n",
       "      <td>0.750</td>\n",
       "      <td>NaN</td>\n",
       "      <td>2.912</td>\n",
       "      <td>55.152</td>\n",
       "      <td>61.3</td>\n",
       "      <td>97.6</td>\n",
       "      <td>11.2</td>\n",
       "      <td>No</td>\n",
       "      <td>No</td>\n",
       "      <td>No</td>\n",
       "    </tr>\n",
       "    <tr>\n",
       "      <th>4019588020</th>\n",
       "      <td>P</td>\n",
       "      <td>2022-12-23</td>\n",
       "      <td>2022-12-23</td>\n",
       "      <td>2022-12-27</td>\n",
       "      <td>2022-12-27</td>\n",
       "      <td>0</td>\n",
       "      <td>NaN</td>\n",
       "      <td>NaT</td>\n",
       "      <td>NaN</td>\n",
       "      <td>NaN</td>\n",
       "      <td>...</td>\n",
       "      <td>NaN</td>\n",
       "      <td>NaN</td>\n",
       "      <td>0.895</td>\n",
       "      <td>25.412</td>\n",
       "      <td>52.4</td>\n",
       "      <td>34.1</td>\n",
       "      <td>36.4</td>\n",
       "      <td>No</td>\n",
       "      <td>No</td>\n",
       "      <td>No</td>\n",
       "    </tr>\n",
       "  </tbody>\n",
       "</table>\n",
       "<p>5 rows × 95 columns</p>\n",
       "</div>"
      ],
      "text/plain": [
       "               statc     one_day    aone_day         dao          da  \\\n",
       "master_deal_no                                                         \n",
       "3992461020         P  2022-10-24  2022-12-16  2022-10-25  2022-12-19   \n",
       "4015877020         P  2022-12-16  2022-12-16  2022-12-19  2022-12-19   \n",
       "4016515020         P  2022-12-19  2022-12-19  2022-12-20  2022-12-20   \n",
       "4017224020         P  2022-12-20  2022-12-20  2022-12-21  2022-12-21   \n",
       "4019588020         P  2022-12-23  2022-12-23  2022-12-27  2022-12-27   \n",
       "\n",
       "                dateannorig_days   de  dateeffexp   dw   dr  ... pricebook  \\\n",
       "master_deal_no                                               ...             \n",
       "3992461020                    54  NaN  2023-12-31  NaN  NaN  ...     8.659   \n",
       "4015877020                     0  NaN  2023-02-28  NaN  NaN  ...     4.839   \n",
       "4016515020                     0  NaN  2023-06-30  NaN  NaN  ...       NaN   \n",
       "4017224020                     0  NaN  2023-03-31  NaN  NaN  ...     0.750   \n",
       "4019588020                     0  NaN         NaT  NaN  NaN  ...       NaN   \n",
       "\n",
       "               eqvalcf eqvalsales     eqval    tlia    cass   clia lockup dae  \\\n",
       "master_deal_no                                                                  \n",
       "3992461020      16.011      2.087  4547.200  1748.5  1001.7  802.9     No  No   \n",
       "4015877020         NaN      0.752    16.141    18.3    14.2   16.4     No  No   \n",
       "4016515020         NaN        NaN    52.581     NaN     NaN    NaN     No  No   \n",
       "4017224020         NaN      2.912    55.152    61.3    97.6   11.2     No  No   \n",
       "4019588020         NaN      0.895    25.412    52.4    34.1   36.4     No  No   \n",
       "\n",
       "               vest  \n",
       "master_deal_no       \n",
       "3992461020       No  \n",
       "4015877020       No  \n",
       "4016515020       No  \n",
       "4017224020       No  \n",
       "4019588020       No  \n",
       "\n",
       "[5 rows x 95 columns]"
      ]
     },
     "execution_count": 4,
     "metadata": {},
     "output_type": "execute_result"
    }
   ],
   "source": [
    "# read hdf file\n",
    "filepath = f\"{path}/data/intermediate/df_basic_processing.h5\"\n",
    "df = pd.read_hdf(filepath)\n",
    "\n",
    "print_shape(df)\n",
    "df.tail()"
   ]
  },
  {
   "cell_type": "markdown",
   "id": "5ed10742",
   "metadata": {},
   "source": [
    "# Get target & acquiror permno\n",
    "`permno` is the unique identifier for each security in CRSP database. We need to match each target and (public) acquiror with CRSP, by its ticker or cusip at the announcement day, to facilitate later use of CRSP."
   ]
  },
  {
   "cell_type": "code",
   "execution_count": 5,
   "id": "7f8056b1-4460-45da-8c72-fdb70a16ed4f",
   "metadata": {},
   "outputs": [],
   "source": [
    "def get_stock_permno_from_ser(ser, id_type='ticker', db=None):\n",
    "    \"\"\"\n",
    "    ser = (id, date)\n",
    "    get the permno and stock information, by a series of (id, date)\n",
    "    \"\"\"\n",
    "    return get_stock_permno_CRSP(ser.iloc[0], id_type=id_type, date=ser.iloc[1], return_names=True, db=db)"
   ]
  },
  {
   "cell_type": "code",
   "execution_count": 6,
   "id": "201db472-c1cd-4fab-b54e-5cd27505144b",
   "metadata": {},
   "outputs": [],
   "source": [
    "def get_stock_market_data_daily_CRSP_from_ser(ser, num_days = 11, db=None):\n",
    "    \"\"\"\n",
    "    ser = (permno, start_date, end_date).\n",
    "    if length isn't 11 (stop trading within 5 days of dao), then return nan (delete the deal)\n",
    "    \"\"\"\n",
    "    prc_ser = get_stock_market_data_daily_CRSP(ser.iloc[0], start_date=ser.iloc[1], end_date=ser.iloc[2], cols=['prc'], db=db)\n",
    "    if _is_arraylike_not_scalar(prc_ser) and len(prc_ser) == num_days:\n",
    "        return prc_ser\n",
    "    return np.nan"
   ]
  },
  {
   "cell_type": "code",
   "execution_count": 7,
   "id": "b2e8a98a-4153-499b-98ee-54c12c8cebc2",
   "metadata": {},
   "outputs": [],
   "source": [
    "def match_permno(dff, price, num_days = 11):\n",
    "    \"\"\"\n",
    "    dff contains 'tic', 'cu', 'date', \n",
    "    \"\"\"\n",
    "    date_mius_5, date_plus_5 = get_trading_day_offset(dff.date, -5), get_trading_day_offset(dff.date, 5)\n",
    "    # results\n",
    "    permno = pd.DataFrame(np.nan, columns=['permno', 'tic_CRSP', 'cu_CRSP', 'n_CRSP'], index=dff.index) \n",
    "\n",
    "    # first look for permno by ticker\n",
    "    permno_by_ticker = apply_func_to_ser_df(dff[['tic', 'date']], get_stock_permno_from_ser, return_as_df=True, id_type=\"ticker\", db=db)\n",
    "    permno_by_ticker.permno = permno_by_ticker.permno.replace({\"Multiple permnos\": np.nan})\n",
    "    print(f\"{permno_by_ticker.permno.notna().sum()} out of {len(dff)} deals find a permno by ticker\")\n",
    "\n",
    "    # concat\n",
    "    df_concat_ticker = pd.concat([permno_by_ticker.permno, date_mius_5, date_plus_5], axis=1)\n",
    "    price_process_ticker = apply_func_to_ser_df(df_concat_ticker, get_stock_market_data_daily_CRSP_from_ser, return_as_df=True, use_new_cols=range(num_days), db=db)\n",
    "\n",
    "    isclose_ticker = isclose_any_col_df_to_df(price_process_ticker, price, thres_percent=.05, thres_abs=1, logic='or')\n",
    "    print(f\"{isclose_ticker.sum()} deals out of {len(dff)} find a permno by ticker.\")\n",
    "    # save results\n",
    "    permno.loc[isclose_ticker] = permno_by_ticker.loc[isclose_ticker].values\n",
    "\n",
    "    # need to match these deals by cusip\n",
    "    ind = dff.index[permno.permno.isna()]\n",
    "\n",
    "    # second look for permno by cusip\n",
    "    permno_by_cusip = apply_func_to_ser_df(dff.loc[ind, ['cu', 'date']], get_stock_permno_from_ser, return_as_df=True, id_type=\"cusip\", db=db)\n",
    "    permno_by_cusip.permno = permno_by_cusip.permno.replace({\"Multiple permnos\": np.nan})\n",
    "    print(f\"{permno_by_cusip.permno.notna().sum()} out of {len(ind)} deals find a permno by cusip\")\n",
    "\n",
    "    # concat\n",
    "    df_concat_cusip = pd.concat([permno_by_cusip.permno, date_mius_5.loc[ind], date_plus_5.loc[ind]], axis=1)\n",
    "    price_process_cusip = apply_func_to_ser_df(df_concat_cusip, get_stock_market_data_daily_CRSP_from_ser, return_as_df=True, use_new_cols=range(num_days), db=db)\n",
    "\n",
    "    isclose_cusip = isclose_any_col_df_to_df(price_process_cusip, price.loc[ind], thres_percent=.05, thres_abs=1, logic='or')\n",
    "    print(f\"{isclose_cusip.sum()} deals out of {len(ind)} find the permno by cusip.\")\n",
    "    # save results\n",
    "    isclose_cusip = isclose_cusip.reindex(dff.index).fillna(False)\n",
    "    permno.loc[isclose_cusip] = permno_by_cusip.loc[isclose_cusip].values\n",
    "\n",
    "    return permno, permno_by_ticker, permno_by_cusip"
   ]
  },
  {
   "cell_type": "code",
   "execution_count": 8,
   "id": "e8c67407-d1e7-4fbc-b0ed-a348ec2b251d",
   "metadata": {},
   "outputs": [
    {
     "name": "stderr",
     "output_type": "stream",
     "text": [
      "100%|█████████████████████████████████████| 10446/10446 [04:45<00:00, 36.53it/s]\n"
     ]
    },
    {
     "name": "stdout",
     "output_type": "stream",
     "text": [
      "9703 out of 10446 deals find a permno by ticker\n"
     ]
    },
    {
     "name": "stderr",
     "output_type": "stream",
     "text": [
      "100%|█████████████████████████████████████| 10446/10446 [02:49<00:00, 61.76it/s]\n"
     ]
    },
    {
     "name": "stdout",
     "output_type": "stream",
     "text": [
      "9258 deals out of 10446 find a permno by ticker.\n"
     ]
    },
    {
     "name": "stderr",
     "output_type": "stream",
     "text": [
      "100%|███████████████████████████████████████| 1188/1188 [00:37<00:00, 31.56it/s]\n"
     ]
    },
    {
     "name": "stdout",
     "output_type": "stream",
     "text": [
      "737 out of 1188 deals find a permno by cusip\n"
     ]
    },
    {
     "name": "stderr",
     "output_type": "stream",
     "text": [
      "100%|██████████████████████████████████████| 1188/1188 [00:10<00:00, 111.85it/s]"
     ]
    },
    {
     "name": "stdout",
     "output_type": "stream",
     "text": [
      "356 deals out of 1188 find the permno by cusip.\n"
     ]
    },
    {
     "name": "stderr",
     "output_type": "stream",
     "text": [
      "\n"
     ]
    }
   ],
   "source": [
    "# tgt\n",
    "df_t_input = df[['ttic', 'tcu', 'dao']]\n",
    "df_t_input.columns = ['tic', 'cu', 'date']\n",
    "tpermno, tpermno_by_ticker, tpermno_by_cusip = match_permno(df_t_input, df[['pr1day', 'tprday', 'tpr1daya']])"
   ]
  },
  {
   "cell_type": "code",
   "execution_count": 9,
   "id": "d9f0bcf6-55f3-4eec-a6e1-2a362e917999",
   "metadata": {},
   "outputs": [
    {
     "name": "stderr",
     "output_type": "stream",
     "text": [
      "100%|███████████████████████████████████████| 5904/5904 [02:29<00:00, 39.53it/s]\n"
     ]
    },
    {
     "name": "stdout",
     "output_type": "stream",
     "text": [
      "5454 out of 5904 deals find a permno by ticker\n"
     ]
    },
    {
     "name": "stderr",
     "output_type": "stream",
     "text": [
      "100%|███████████████████████████████████████| 5904/5904 [01:36<00:00, 61.20it/s]\n"
     ]
    },
    {
     "name": "stdout",
     "output_type": "stream",
     "text": [
      "5152 deals out of 5904 find a permno by ticker.\n"
     ]
    },
    {
     "name": "stderr",
     "output_type": "stream",
     "text": [
      "100%|█████████████████████████████████████████| 752/752 [00:18<00:00, 39.77it/s]\n"
     ]
    },
    {
     "name": "stdout",
     "output_type": "stream",
     "text": [
      "557 out of 752 deals find a permno by cusip\n"
     ]
    },
    {
     "name": "stderr",
     "output_type": "stream",
     "text": [
      "100%|█████████████████████████████████████████| 752/752 [00:07<00:00, 98.25it/s]\n"
     ]
    },
    {
     "name": "stdout",
     "output_type": "stream",
     "text": [
      "303 deals out of 752 find the permno by cusip.\n"
     ]
    }
   ],
   "source": [
    "# acq\n",
    "ind_a = df.aexch.isin(['Nasdaq', 'New York', 'American', 'NYSE Amex'])\n",
    "df_a_input = df.loc[ind_a, ['atic', 'acu', 'da']]\n",
    "df_a_input.columns = ['tic', 'cu', 'date']\n",
    "apermno, apermno_by_ticker, apermno_by_cusip = match_permno(df_a_input, df.loc[ind_a, ['ac1day', 'aprday', 'apr1daya']])"
   ]
  },
  {
   "cell_type": "code",
   "execution_count": 10,
   "id": "ac2979ea-ccef-4c22-8bbd-849e07e08f16",
   "metadata": {},
   "outputs": [],
   "source": [
    "path_p = f\"{path}/data/intermediate/CRSP\"\n",
    "tpermno.columns = tpermno.columns.map(lambda x: \"t\"+x)\n",
    "apermno.columns = apermno.columns.map(lambda x: \"a\"+x)\n",
    "tpermno.to_hdf(f\"{path_p}/tpermno.h5\", key = 'tpermno', mode='w')\n",
    "apermno.to_hdf(f\"{path_p}/apermno.h5\", key = 'apermno', mode='w')"
   ]
  },
  {
   "cell_type": "code",
   "execution_count": 11,
   "id": "9132dcf5-a616-4bd5-8221-fcdcfa69ff8f",
   "metadata": {},
   "outputs": [],
   "source": [
    "tpermno_by_ticker.to_hdf(f\"{path_p}/tpermno_by_ticker.h5\", key = 'tpermno_by_ticker', mode='w')\n",
    "apermno_by_ticker.to_hdf(f\"{path_p}/apermno_by_ticker.h5\", key = 'apermno_by_ticker', mode='w')\n",
    "tpermno_by_cusip.to_hdf(f\"{path_p}/tpermno_by_cusip.h5\", key = 'tpermno_by_cusip', mode='w')\n",
    "apermno_by_cusip.to_hdf(f\"{path_p}/apermno_by_cusip.h5\", key = 'apermno_by_cusip', mode='w')"
   ]
  }
 ],
 "metadata": {
  "kernelspec": {
   "display_name": "Python 3 (ipykernel)",
   "language": "python",
   "name": "python3"
  },
  "language_info": {
   "codemirror_mode": {
    "name": "ipython",
    "version": 3
   },
   "file_extension": ".py",
   "mimetype": "text/x-python",
   "name": "python",
   "nbconvert_exporter": "python",
   "pygments_lexer": "ipython3",
   "version": "3.11.0"
  },
  "toc": {
   "base_numbering": 1,
   "nav_menu": {},
   "number_sections": true,
   "sideBar": true,
   "skip_h1_title": false,
   "title_cell": "Table of Contents",
   "title_sidebar": "Contents",
   "toc_cell": false,
   "toc_position": {},
   "toc_section_display": true,
   "toc_window_display": false
  }
 },
 "nbformat": 4,
 "nbformat_minor": 5
}
