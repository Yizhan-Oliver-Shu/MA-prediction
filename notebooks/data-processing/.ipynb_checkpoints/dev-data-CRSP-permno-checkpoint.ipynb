{
 "cells": [
  {
   "cell_type": "code",
   "execution_count": 25,
   "id": "79cabda9",
   "metadata": {
    "tags": []
   },
   "outputs": [
    {
     "name": "stdout",
     "output_type": "stream",
     "text": [
      "The autoreload extension is already loaded. To reload it, use:\n",
      "  %reload_ext autoreload\n"
     ]
    }
   ],
   "source": [
    "%load_ext autoreload\n",
    "%autoreload 2\n",
    "import sys, os\n",
    "from os.path import expanduser\n",
    "## actions required!!!!!!!!!!!!!!!!!!!! change your folder path \n",
    "path = \"~/Documents/G3/MA-prediction\"\n",
    "path = expanduser(path)\n",
    "sys.path.append(path)\n",
    "\n",
    "import pandas as pd\n",
    "import numpy as np\n",
    "\n",
    "pd.options.mode.chained_assignment = None\n",
    "import warnings\n",
    "warnings.simplefilter(action='ignore', category=pd.errors.PerformanceWarning)\n",
    "warnings.simplefilter(action='ignore', category=FutureWarning)"
   ]
  },
  {
   "cell_type": "code",
   "execution_count": 86,
   "id": "76b5dc13-fd51-421c-9c2d-8e827d1d7f82",
   "metadata": {},
   "outputs": [],
   "source": [
    "from MA_prediction.utils import *\n",
    "from MA_prediction.preprocessing import *\n",
    "from MA_prediction.crsp import *\n",
    "from MA_prediction.mkt_calendar import *\n",
    "from sklearn.utils import _is_arraylike_not_scalar"
   ]
  },
  {
   "cell_type": "code",
   "execution_count": 135,
   "id": "1bd0d4cd",
   "metadata": {
    "scrolled": true
   },
   "outputs": [
    {
     "name": "stdin",
     "output_type": "stream",
     "text": [
      "Enter your WRDS username [yizhan]: olivershu\n",
      "Enter your password: ········\n"
     ]
    },
    {
     "name": "stdout",
     "output_type": "stream",
     "text": [
      "WRDS recommends setting up a .pgpass file.\n"
     ]
    },
    {
     "name": "stdin",
     "output_type": "stream",
     "text": [
      "Create .pgpass file now [y/n]?:  y\n"
     ]
    },
    {
     "name": "stdout",
     "output_type": "stream",
     "text": [
      "Created .pgpass file successfully.\n",
      "Loading library list...\n",
      "Done\n"
     ]
    }
   ],
   "source": [
    "import wrds\n",
    "db = wrds.Connection()"
   ]
  },
  {
   "cell_type": "markdown",
   "id": "fa227bd8",
   "metadata": {
    "jp-MarkdownHeadingCollapsed": true,
    "tags": []
   },
   "source": [
    "# Data processing 1: CRSP:match `permno`\n",
    "\n",
    "In this notebook we merge the dataset from SDC with CRSP database. CRSP is the database for historical prices of equities. Specifically we look for the `permno`, the unique identifier of a stock in CRSP, of every target and acquiror, by their ticker or cusip provided by SDC. Then we match the stock price data to make sure that the match is accurate. \n",
    "\n",
    "- first look for `permno` by ticker and `da`.\n",
    "- pull out the data 5 days within `dao`, and match with the columns `['pr1day', 'tprday', 'tpr1daya']` in SDC. If they are close, then the match is successful.\n",
    "- Otherwise look for `permno` by `cusip` and `da`, and then check stock price in the same manner.\n",
    "\n",
    "We do the above for both target and acquiror.\n",
    "\n",
    "## I/O\n",
    "\n",
    "- Input: \n",
    "    - `df_basic_cleaning.h5`\n",
    "\n",
    "- Output: \n",
    "    - `permno_CRSP.h5`\n",
    "    - `delist_CRSP.h5`\n",
    "    - `df_permno_delist_CRSP.h5`\n",
    "    - `market_data_tgt_raw.pickle`, `market_data_acq_raw.pickle`"
   ]
  },
  {
   "cell_type": "markdown",
   "id": "f3319a82",
   "metadata": {
    "tags": []
   },
   "source": [
    "## Load data"
   ]
  },
  {
   "cell_type": "code",
   "execution_count": 4,
   "id": "6316c479",
   "metadata": {},
   "outputs": [
    {
     "name": "stdout",
     "output_type": "stream",
     "text": [
      "The dataset is of size (10445, 95).\n"
     ]
    },
    {
     "data": {
      "text/html": [
       "<div>\n",
       "<style scoped>\n",
       "    .dataframe tbody tr th:only-of-type {\n",
       "        vertical-align: middle;\n",
       "    }\n",
       "\n",
       "    .dataframe tbody tr th {\n",
       "        vertical-align: top;\n",
       "    }\n",
       "\n",
       "    .dataframe thead th {\n",
       "        text-align: right;\n",
       "    }\n",
       "</style>\n",
       "<table border=\"1\" class=\"dataframe\">\n",
       "  <thead>\n",
       "    <tr style=\"text-align: right;\">\n",
       "      <th></th>\n",
       "      <th>statc</th>\n",
       "      <th>one_day</th>\n",
       "      <th>aone_day</th>\n",
       "      <th>dao</th>\n",
       "      <th>da</th>\n",
       "      <th>dateannorig_days</th>\n",
       "      <th>de</th>\n",
       "      <th>dateeffexp</th>\n",
       "      <th>dw</th>\n",
       "      <th>dr</th>\n",
       "      <th>...</th>\n",
       "      <th>pricebook</th>\n",
       "      <th>eqvalcf</th>\n",
       "      <th>eqvalsales</th>\n",
       "      <th>eqval</th>\n",
       "      <th>tlia</th>\n",
       "      <th>cass</th>\n",
       "      <th>clia</th>\n",
       "      <th>lockup</th>\n",
       "      <th>dae</th>\n",
       "      <th>vest</th>\n",
       "    </tr>\n",
       "    <tr>\n",
       "      <th>master_deal_no</th>\n",
       "      <th></th>\n",
       "      <th></th>\n",
       "      <th></th>\n",
       "      <th></th>\n",
       "      <th></th>\n",
       "      <th></th>\n",
       "      <th></th>\n",
       "      <th></th>\n",
       "      <th></th>\n",
       "      <th></th>\n",
       "      <th></th>\n",
       "      <th></th>\n",
       "      <th></th>\n",
       "      <th></th>\n",
       "      <th></th>\n",
       "      <th></th>\n",
       "      <th></th>\n",
       "      <th></th>\n",
       "      <th></th>\n",
       "      <th></th>\n",
       "      <th></th>\n",
       "    </tr>\n",
       "  </thead>\n",
       "  <tbody>\n",
       "    <tr>\n",
       "      <th>3992461020</th>\n",
       "      <td>P</td>\n",
       "      <td>2022-10-24</td>\n",
       "      <td>2022-12-16</td>\n",
       "      <td>2022-10-25</td>\n",
       "      <td>2022-12-19</td>\n",
       "      <td>54</td>\n",
       "      <td>NaN</td>\n",
       "      <td>2023-12-31</td>\n",
       "      <td>NaN</td>\n",
       "      <td>NaN</td>\n",
       "      <td>...</td>\n",
       "      <td>8.659</td>\n",
       "      <td>16.011</td>\n",
       "      <td>2.087</td>\n",
       "      <td>4547.200</td>\n",
       "      <td>1748.5</td>\n",
       "      <td>1001.7</td>\n",
       "      <td>802.9</td>\n",
       "      <td>No</td>\n",
       "      <td>No</td>\n",
       "      <td>No</td>\n",
       "    </tr>\n",
       "    <tr>\n",
       "      <th>4015877020</th>\n",
       "      <td>P</td>\n",
       "      <td>2022-12-16</td>\n",
       "      <td>2022-12-16</td>\n",
       "      <td>2022-12-19</td>\n",
       "      <td>2022-12-19</td>\n",
       "      <td>0</td>\n",
       "      <td>NaN</td>\n",
       "      <td>2023-02-28</td>\n",
       "      <td>NaN</td>\n",
       "      <td>NaN</td>\n",
       "      <td>...</td>\n",
       "      <td>4.839</td>\n",
       "      <td>NaN</td>\n",
       "      <td>0.752</td>\n",
       "      <td>16.141</td>\n",
       "      <td>18.3</td>\n",
       "      <td>14.2</td>\n",
       "      <td>16.4</td>\n",
       "      <td>No</td>\n",
       "      <td>No</td>\n",
       "      <td>No</td>\n",
       "    </tr>\n",
       "    <tr>\n",
       "      <th>4016515020</th>\n",
       "      <td>P</td>\n",
       "      <td>2022-12-19</td>\n",
       "      <td>2022-12-19</td>\n",
       "      <td>2022-12-20</td>\n",
       "      <td>2022-12-20</td>\n",
       "      <td>0</td>\n",
       "      <td>NaN</td>\n",
       "      <td>2023-06-30</td>\n",
       "      <td>NaN</td>\n",
       "      <td>NaN</td>\n",
       "      <td>...</td>\n",
       "      <td>NaN</td>\n",
       "      <td>NaN</td>\n",
       "      <td>NaN</td>\n",
       "      <td>52.581</td>\n",
       "      <td>NaN</td>\n",
       "      <td>NaN</td>\n",
       "      <td>NaN</td>\n",
       "      <td>No</td>\n",
       "      <td>No</td>\n",
       "      <td>No</td>\n",
       "    </tr>\n",
       "    <tr>\n",
       "      <th>4017224020</th>\n",
       "      <td>P</td>\n",
       "      <td>2022-12-20</td>\n",
       "      <td>2022-12-20</td>\n",
       "      <td>2022-12-21</td>\n",
       "      <td>2022-12-21</td>\n",
       "      <td>0</td>\n",
       "      <td>NaN</td>\n",
       "      <td>2023-03-31</td>\n",
       "      <td>NaN</td>\n",
       "      <td>NaN</td>\n",
       "      <td>...</td>\n",
       "      <td>0.750</td>\n",
       "      <td>NaN</td>\n",
       "      <td>2.912</td>\n",
       "      <td>55.152</td>\n",
       "      <td>61.3</td>\n",
       "      <td>97.6</td>\n",
       "      <td>11.2</td>\n",
       "      <td>No</td>\n",
       "      <td>No</td>\n",
       "      <td>No</td>\n",
       "    </tr>\n",
       "    <tr>\n",
       "      <th>4019588020</th>\n",
       "      <td>P</td>\n",
       "      <td>2022-12-23</td>\n",
       "      <td>2022-12-23</td>\n",
       "      <td>2022-12-27</td>\n",
       "      <td>2022-12-27</td>\n",
       "      <td>0</td>\n",
       "      <td>NaN</td>\n",
       "      <td>NaT</td>\n",
       "      <td>NaN</td>\n",
       "      <td>NaN</td>\n",
       "      <td>...</td>\n",
       "      <td>NaN</td>\n",
       "      <td>NaN</td>\n",
       "      <td>0.895</td>\n",
       "      <td>25.412</td>\n",
       "      <td>52.4</td>\n",
       "      <td>34.1</td>\n",
       "      <td>36.4</td>\n",
       "      <td>No</td>\n",
       "      <td>No</td>\n",
       "      <td>No</td>\n",
       "    </tr>\n",
       "  </tbody>\n",
       "</table>\n",
       "<p>5 rows × 95 columns</p>\n",
       "</div>"
      ],
      "text/plain": [
       "               statc     one_day    aone_day         dao          da  \\\n",
       "master_deal_no                                                         \n",
       "3992461020         P  2022-10-24  2022-12-16  2022-10-25  2022-12-19   \n",
       "4015877020         P  2022-12-16  2022-12-16  2022-12-19  2022-12-19   \n",
       "4016515020         P  2022-12-19  2022-12-19  2022-12-20  2022-12-20   \n",
       "4017224020         P  2022-12-20  2022-12-20  2022-12-21  2022-12-21   \n",
       "4019588020         P  2022-12-23  2022-12-23  2022-12-27  2022-12-27   \n",
       "\n",
       "                dateannorig_days   de  dateeffexp   dw   dr  ... pricebook  \\\n",
       "master_deal_no                                               ...             \n",
       "3992461020                    54  NaN  2023-12-31  NaN  NaN  ...     8.659   \n",
       "4015877020                     0  NaN  2023-02-28  NaN  NaN  ...     4.839   \n",
       "4016515020                     0  NaN  2023-06-30  NaN  NaN  ...       NaN   \n",
       "4017224020                     0  NaN  2023-03-31  NaN  NaN  ...     0.750   \n",
       "4019588020                     0  NaN         NaT  NaN  NaN  ...       NaN   \n",
       "\n",
       "               eqvalcf eqvalsales     eqval    tlia    cass   clia lockup dae  \\\n",
       "master_deal_no                                                                  \n",
       "3992461020      16.011      2.087  4547.200  1748.5  1001.7  802.9     No  No   \n",
       "4015877020         NaN      0.752    16.141    18.3    14.2   16.4     No  No   \n",
       "4016515020         NaN        NaN    52.581     NaN     NaN    NaN     No  No   \n",
       "4017224020         NaN      2.912    55.152    61.3    97.6   11.2     No  No   \n",
       "4019588020         NaN      0.895    25.412    52.4    34.1   36.4     No  No   \n",
       "\n",
       "               vest  \n",
       "master_deal_no       \n",
       "3992461020       No  \n",
       "4015877020       No  \n",
       "4016515020       No  \n",
       "4017224020       No  \n",
       "4019588020       No  \n",
       "\n",
       "[5 rows x 95 columns]"
      ]
     },
     "execution_count": 4,
     "metadata": {},
     "output_type": "execute_result"
    }
   ],
   "source": [
    "# read hdf file\n",
    "filepath = f\"{path}/data/intermediate/df_basic_cleaning.h5\"\n",
    "df = pd.read_hdf(filepath)\n",
    "\n",
    "print_shape(df)\n",
    "df.tail()"
   ]
  },
  {
   "cell_type": "markdown",
   "id": "5ed10742",
   "metadata": {},
   "source": [
    "# Get target & acquiror permno\n",
    "`permno` is the unique identifier for each security in CRSP database. We need to match each target and (public) acquiror with CRSP, by its ticker or cusip at the announcement day, to facilitate later use of CRSP."
   ]
  },
  {
   "cell_type": "code",
   "execution_count": 5,
   "id": "5d0013be",
   "metadata": {},
   "outputs": [],
   "source": [
    "# clean ticker and cusip\n",
    "df.ttic = df.ttic.str.replace(\"'\", \"\")\n",
    "df.atic = df.atic.str.replace(\"'\", \"\")\n",
    "df.tcu = df.tcu.str.upper()\n",
    "df.acu = df.acu.str.upper()"
   ]
  },
  {
   "cell_type": "code",
   "execution_count": 6,
   "id": "7f8056b1-4460-45da-8c72-fdb70a16ed4f",
   "metadata": {},
   "outputs": [],
   "source": [
    "def get_stock_permno_from_ser(ser, id_type='ticker', db=None):\n",
    "    \"\"\"\n",
    "    get the permno and stock information, by a series of (ticker, cusip, date)\n",
    "    \"\"\"\n",
    "    return get_stock_permno_CRSP(ser.iloc[0], id_type=id_type, date=ser.iloc[1], return_names=True, db=db)"
   ]
  },
  {
   "cell_type": "code",
   "execution_count": 45,
   "id": "201db472-c1cd-4fab-b54e-5cd27505144b",
   "metadata": {},
   "outputs": [],
   "source": [
    "def get_stock_market_data_daily_CRSP_from_ser(ser, db=None):\n",
    "    \"\"\"\n",
    "    ser = (permno, start_date, end_date).\n",
    "    if length isn't 11 (stop trading within 5 days of dao), then return nan (delete the deal)\n",
    "    \"\"\"\n",
    "    prc_ser = get_stock_market_data_daily_CRSP(ser.iloc[0], start_date=ser.iloc[1], end_date=ser.iloc[2], cols=['prc'], db=db)\n",
    "    if _is_arraylike_not_scalar(prc_ser) and len(prc_ser) == 11:\n",
    "        return prc_ser\n",
    "    return np.nan"
   ]
  },
  {
   "cell_type": "code",
   "execution_count": 152,
   "id": "b2e8a98a-4153-499b-98ee-54c12c8cebc2",
   "metadata": {},
   "outputs": [],
   "source": [
    "def match_permno(dff, price):\n",
    "    \"\"\"\n",
    "    dff contains 'tic', 'cu', 'dao', \n",
    "    \"\"\"\n",
    "    dao_mius_5, dao_plus_5 = get_trading_day_offset(dff.dao, -5), get_trading_day_offset(dff.dao, 5)\n",
    "    # results\n",
    "    permno = pd.DataFrame(np.nan, columns=['permno', 'tic_CRSP', 'cu_CRSP', 'n_CRSP'], index=dff.index) \n",
    "\n",
    "    # first look for permno by ticker\n",
    "    permno_by_ticker = apply_func_to_ser_df(dff[['tic', 'dao']], get_stock_permno_from_ser, return_as_df=True, id_type=\"ticker\", db=db)\n",
    "    permno_by_ticker.permno = permno_by_ticker.permno.replace({\"Multiple permnos\": np.nan})\n",
    "    print(f\"{permno_by_ticker.permno.notna().sum()} out of {len(dff)} deals find a permno by ticker\")\n",
    "\n",
    "    # concat\n",
    "    df_concat_ticker = pd.concat([permno_by_ticker.permno, dao_mius_5, dao_plus_5], axis=1)\n",
    "    price_process_ticker = apply_func_to_ser_df(df_concat_ticker, get_stock_market_data_daily_CRSP_from_ser, return_as_df=True, use_new_cols=range(11), db=db)\n",
    "\n",
    "    isclose_ticker = isclose_any_col_df_to_df(price_process_ticker, price, thres_percent=.05, thres_abs=2, logic='or')\n",
    "    print(f\"{isclose_ticker.sum()} deals out of {len(dff)} find the permno by ticker.\")\n",
    "    # save results\n",
    "    permno.loc[isclose_ticker] = permno_by_ticker.loc[isclose_ticker].values\n",
    "\n",
    "    # need to match these deals by cusip\n",
    "    ind = dff.index[permno.permno.isna()]\n",
    "\n",
    "    # second look for permno by cusip\n",
    "    permno_by_cusip = apply_func_to_ser_df(dff.loc[ind, ['cu', 'dao']], get_stock_permno_from_ser, return_as_df=True, id_type=\"cusip\", db=db)\n",
    "    permno_by_cusip.permno = permno_by_cusip.permno.replace({\"Multiple permnos\": np.nan})\n",
    "    print(f\"{permno_by_cusip.permno.notna().sum()} out of {len(ind)} deals find a permno by cusip\")\n",
    "\n",
    "    # concat\n",
    "    df_concat_cusip = pd.concat([permno_by_cusip.permno, dao_mius_5.loc[ind], dao_plus_5.loc[ind]], axis=1)\n",
    "    price_process_cusip = apply_func_to_ser_df(df_concat_cusip, get_stock_market_data_daily_CRSP_from_ser, return_as_df=True, use_new_cols=range(11), db=db)\n",
    "\n",
    "    isclose_cusip = isclose_any_col_df_to_df(price_process_cusip, price.loc[ind], thres_percent=.05, thres_abs=2, logic='or')\n",
    "    print(f\"{isclose_cusip.sum()} deals out of {len(ind)} find the permno by cusip.\")\n",
    "    # save results\n",
    "    isclose_cusip = isclose_cusip.reindex(dff.index).fillna(False)\n",
    "    permno.loc[isclose_cusip] = permno_by_cusip.loc[isclose_cusip].values\n",
    "\n",
    "    return permno, permno_by_ticker, permno_by_cusip"
   ]
  },
  {
   "cell_type": "code",
   "execution_count": 176,
   "id": "d9f0bcf6-55f3-4eec-a6e1-2a362e917999",
   "metadata": {},
   "outputs": [
    {
     "name": "stderr",
     "output_type": "stream",
     "text": [
      "100%|█████████████████████████████████████████| 500/500 [00:11<00:00, 41.89it/s]\n"
     ]
    },
    {
     "name": "stdout",
     "output_type": "stream",
     "text": [
      "478 out of 500 deals find a permno by ticker\n"
     ]
    },
    {
     "name": "stderr",
     "output_type": "stream",
     "text": [
      "100%|█████████████████████████████████████████| 500/500 [00:06<00:00, 72.32it/s]\n"
     ]
    },
    {
     "name": "stdout",
     "output_type": "stream",
     "text": [
      "452 deals out of 500 find the permno by ticker.\n"
     ]
    },
    {
     "name": "stderr",
     "output_type": "stream",
     "text": [
      "100%|███████████████████████████████████████████| 48/48 [00:01<00:00, 38.18it/s]\n"
     ]
    },
    {
     "name": "stdout",
     "output_type": "stream",
     "text": [
      "34 out of 48 deals find a permno by cusip\n"
     ]
    },
    {
     "name": "stderr",
     "output_type": "stream",
     "text": [
      "100%|██████████████████████████████████████████| 48/48 [00:00<00:00, 102.52it/s]"
     ]
    },
    {
     "name": "stdout",
     "output_type": "stream",
     "text": [
      "14 deals out of 48 find the permno by cusip.\n"
     ]
    },
    {
     "name": "stderr",
     "output_type": "stream",
     "text": [
      "\n"
     ]
    }
   ],
   "source": [
    "ind_a = df.aexch.isin(['Nasdaq', 'New York', 'American', 'NYSE Amex'])\n",
    "df_a_input = df.loc[ind_a, ['atic', 'acu', 'dao']]\n",
    "df_a_input.columns = ['tic', 'cu', 'dao']\n",
    "apermno, apermno_by_ticker, apermno_by_cusip = match_permno(df_a_input.iloc[-500:], df.loc[ind_a, ['ac1day', 'aprday', 'apr1daya']].iloc[-500:])"
   ]
  },
  {
   "cell_type": "code",
   "execution_count": 189,
   "id": "b9c35b1b-83ca-4307-976e-c8741bb63454",
   "metadata": {},
   "outputs": [],
   "source": [
    "apermno.columns = apermno.columns.map(lambda x: \"a\"+x)\n",
    "loc_names = ['atic', 'atic', 'acu', 'an']\n",
    "insert_cols(df, loc_names, None, apermno)"
   ]
  },
  {
   "cell_type": "code",
   "execution_count": 191,
   "id": "1a0a37da-98d1-4a41-9ac0-2a21ba923ac0",
   "metadata": {},
   "outputs": [],
   "source": [
    "apermno.columns = apermno.columns.map(lambda x: \"a\"+x)\n",
    "loc_names = ['atic', 'atic', 'acu', 'an']\n",
    "insert_cols(df, loc_names, None, apermno)\n",
    "\n",
    "apermno.columns = apermno.columns.map(lambda x: \"a\"+x)\n",
    "loc_names = ['ttic', 'ttic', 'tcu', 'tn'] \n",
    "insert_cols(df, loc_names, None, tpermno)"
   ]
  },
  {
   "cell_type": "code",
   "execution_count": null,
   "id": "2d231add-bbfb-497b-ab9c-463ca82dc934",
   "metadata": {},
   "outputs": [],
   "source": []
  },
  {
   "cell_type": "code",
   "execution_count": 147,
   "id": "ee6fbfe0-e417-4d38-a58f-71cf91f4e08a",
   "metadata": {},
   "outputs": [
    {
     "data": {
      "text/html": [
       "<div>\n",
       "<style scoped>\n",
       "    .dataframe tbody tr th:only-of-type {\n",
       "        vertical-align: middle;\n",
       "    }\n",
       "\n",
       "    .dataframe tbody tr th {\n",
       "        vertical-align: top;\n",
       "    }\n",
       "\n",
       "    .dataframe thead th {\n",
       "        text-align: right;\n",
       "    }\n",
       "</style>\n",
       "<table border=\"1\" class=\"dataframe\">\n",
       "  <thead>\n",
       "    <tr style=\"text-align: right;\">\n",
       "      <th></th>\n",
       "      <th>permno</th>\n",
       "      <th>ticker</th>\n",
       "      <th>cusip</th>\n",
       "      <th>comnam</th>\n",
       "    </tr>\n",
       "    <tr>\n",
       "      <th>master_deal_no</th>\n",
       "      <th></th>\n",
       "      <th></th>\n",
       "      <th></th>\n",
       "      <th></th>\n",
       "    </tr>\n",
       "  </thead>\n",
       "  <tbody>\n",
       "    <tr>\n",
       "      <th>3492916020</th>\n",
       "      <td>78840.0</td>\n",
       "      <td>IAC</td>\n",
       "      <td>44891N20</td>\n",
       "      <td>IAC INTERACTIVECORP</td>\n",
       "    </tr>\n",
       "    <tr>\n",
       "      <th>3493668020</th>\n",
       "      <td>92550.0</td>\n",
       "      <td>BIP</td>\n",
       "      <td>G1625210</td>\n",
       "      <td>BROOKFIELD INFRASTRUC PARTNER LP</td>\n",
       "    </tr>\n",
       "    <tr>\n",
       "      <th>3496072020</th>\n",
       "      <td>92443.0</td>\n",
       "      <td>NFBK</td>\n",
       "      <td>66611T10</td>\n",
       "      <td>NORTHFIELD BANCORP INC DE</td>\n",
       "    </tr>\n",
       "    <tr>\n",
       "      <th>3493696020</th>\n",
       "      <td>NaN</td>\n",
       "      <td>NaN</td>\n",
       "      <td>NaN</td>\n",
       "      <td>NaN</td>\n",
       "    </tr>\n",
       "    <tr>\n",
       "      <th>3494334020</th>\n",
       "      <td>86876.0</td>\n",
       "      <td>WCC</td>\n",
       "      <td>95082P10</td>\n",
       "      <td>WESCO INTERNATIONAL INC</td>\n",
       "    </tr>\n",
       "    <tr>\n",
       "      <th>...</th>\n",
       "      <td>...</td>\n",
       "      <td>...</td>\n",
       "      <td>...</td>\n",
       "      <td>...</td>\n",
       "    </tr>\n",
       "    <tr>\n",
       "      <th>3992461020</th>\n",
       "      <td>25582.0</td>\n",
       "      <td>LHX</td>\n",
       "      <td>50243110</td>\n",
       "      <td>L3HARRIS TECHNOLOGIES INC</td>\n",
       "    </tr>\n",
       "    <tr>\n",
       "      <th>4015877020</th>\n",
       "      <td>NaN</td>\n",
       "      <td>NaN</td>\n",
       "      <td>NaN</td>\n",
       "      <td>NaN</td>\n",
       "    </tr>\n",
       "    <tr>\n",
       "      <th>4016515020</th>\n",
       "      <td>85656.0</td>\n",
       "      <td>MPB</td>\n",
       "      <td>59540G10</td>\n",
       "      <td>MID PENN BANCORP INC</td>\n",
       "    </tr>\n",
       "    <tr>\n",
       "      <th>4017224020</th>\n",
       "      <td>19504.0</td>\n",
       "      <td>BLI</td>\n",
       "      <td>08431010</td>\n",
       "      <td>BERKELEY LIGHTS INC</td>\n",
       "    </tr>\n",
       "    <tr>\n",
       "      <th>4019588020</th>\n",
       "      <td>NaN</td>\n",
       "      <td>NaN</td>\n",
       "      <td>NaN</td>\n",
       "      <td>NaN</td>\n",
       "    </tr>\n",
       "  </tbody>\n",
       "</table>\n",
       "<p>500 rows × 4 columns</p>\n",
       "</div>"
      ],
      "text/plain": [
       "                 permno ticker     cusip                            comnam\n",
       "master_deal_no                                                            \n",
       "3492916020      78840.0    IAC  44891N20               IAC INTERACTIVECORP\n",
       "3493668020      92550.0    BIP  G1625210  BROOKFIELD INFRASTRUC PARTNER LP\n",
       "3496072020      92443.0   NFBK  66611T10         NORTHFIELD BANCORP INC DE\n",
       "3493696020          NaN    NaN       NaN                               NaN\n",
       "3494334020      86876.0    WCC  95082P10           WESCO INTERNATIONAL INC\n",
       "...                 ...    ...       ...                               ...\n",
       "3992461020      25582.0    LHX  50243110         L3HARRIS TECHNOLOGIES INC\n",
       "4015877020          NaN    NaN       NaN                               NaN\n",
       "4016515020      85656.0    MPB  59540G10              MID PENN BANCORP INC\n",
       "4017224020      19504.0    BLI  08431010               BERKELEY LIGHTS INC\n",
       "4019588020          NaN    NaN       NaN                               NaN\n",
       "\n",
       "[500 rows x 4 columns]"
      ]
     },
     "execution_count": 147,
     "metadata": {},
     "output_type": "execute_result"
    }
   ],
   "source": [
    "apermno_by_ticker"
   ]
  },
  {
   "cell_type": "code",
   "execution_count": 141,
   "id": "8619832c-c578-4fb9-b8f0-cbd60f0ecbd1",
   "metadata": {},
   "outputs": [
    {
     "data": {
      "text/plain": [
       "273"
      ]
     },
     "execution_count": 141,
     "metadata": {},
     "output_type": "execute_result"
    }
   ],
   "source": [
    "500-227"
   ]
  },
  {
   "cell_type": "code",
   "execution_count": 144,
   "id": "28ab1eb1-20db-4714-a9ec-ce7eed6d5bcc",
   "metadata": {},
   "outputs": [
    {
     "data": {
      "text/plain": [
       "252"
      ]
     },
     "execution_count": 144,
     "metadata": {},
     "output_type": "execute_result"
    }
   ],
   "source": [
    "apermno_by_ticker.permno.notna().sum()"
   ]
  },
  {
   "cell_type": "code",
   "execution_count": 143,
   "id": "f0d638a5-82bf-4982-9b42-227cdae8697b",
   "metadata": {},
   "outputs": [
    {
     "data": {
      "text/plain": [
       "248"
      ]
     },
     "execution_count": 143,
     "metadata": {},
     "output_type": "execute_result"
    }
   ],
   "source": [
    "apermno_by_ticker.permno.isna().sum()"
   ]
  },
  {
   "cell_type": "code",
   "execution_count": null,
   "id": "2bddce57-61aa-4a3b-bbfa-cc6eb9e00805",
   "metadata": {},
   "outputs": [],
   "source": []
  },
  {
   "cell_type": "code",
   "execution_count": null,
   "id": "5b21a744-8f0f-41f7-8b86-8244d29f0cc5",
   "metadata": {},
   "outputs": [],
   "source": []
  },
  {
   "cell_type": "code",
   "execution_count": null,
   "id": "2b0ac55a-7b1f-4a4d-9b4c-1029ac12b27f",
   "metadata": {},
   "outputs": [],
   "source": []
  },
  {
   "cell_type": "code",
   "execution_count": 107,
   "id": "f7f3c061-20dd-4248-bd01-556a0d3d3579",
   "metadata": {},
   "outputs": [],
   "source": [
    "# results\n",
    "tpermno = pd.DataFrame(np.nan, columns=['tpermno', 'ttic_CRSP', 'tcu_CRSP', 'tn_CRSP'], index=df.index)"
   ]
  },
  {
   "cell_type": "code",
   "execution_count": 7,
   "id": "efa44eef-5813-41cc-b589-90b51d7d072c",
   "metadata": {},
   "outputs": [
    {
     "name": "stderr",
     "output_type": "stream",
     "text": [
      "100%|█████████████████████████████████████| 10445/10445 [08:38<00:00, 20.13it/s]\n"
     ]
    }
   ],
   "source": [
    "# first look for permno by ticker\n",
    "tpermno_by_ticker = apply_func_to_ser_df(df[['ttic', 'da']], get_stock_permno_from_ser, return_as_df=True, id_type=\"ticker\", db=db)\n",
    "tpermno_by_ticker.permno = tpermno_by_ticker.permno.replace({\"Multiple permnos\": np.nan})\n",
    "print(f\"{tpermno_by_ticker.permno.notna().sum()} out of {len(df)} deals find a permno by ticker\")"
   ]
  },
  {
   "cell_type": "code",
   "execution_count": 42,
   "id": "d9e92cb0-1551-4094-8b8d-c89525ad1e5c",
   "metadata": {},
   "outputs": [],
   "source": [
    "dao_mius_5, dao_plus_5 = get_trading_day_offset(df.dao, -5), get_trading_day_offset(df.dao, 5)\n",
    "df_concat_ticker = pd.concat([tpermno_by_ticker.permno, dao_mius_5, dao_plus_5], axis=1)"
   ]
  },
  {
   "cell_type": "code",
   "execution_count": 46,
   "id": "78fe7158-cb29-4b89-9d99-dae861743d34",
   "metadata": {},
   "outputs": [
    {
     "name": "stderr",
     "output_type": "stream",
     "text": [
      "100%|█████████████████████████████████████| 10445/10445 [05:40<00:00, 30.65it/s]\n"
     ]
    }
   ],
   "source": [
    "price_process_ticker = apply_func_to_ser_df(df_concat_ticker, get_stock_market_data_daily_CRSP_from_ser, return_as_df=True, use_new_cols=range(11), db=db)"
   ]
  },
  {
   "cell_type": "code",
   "execution_count": 99,
   "id": "17761cb3-d5ec-480b-a5f4-7d36497b75f9",
   "metadata": {},
   "outputs": [],
   "source": [
    "isclose_ticker = isclose_any_col_df_to_df(price_process_ticker, df[['pr1day', 'tprday', 'tpr1daya']], thres_percent=.05, thres_abs=2, logic='or')\n",
    "print(f\"{isclose_ticker.sum()} deals out of {len(df)} find the permno by ticker.\")\n",
    "# save results\n",
    "tpermno.loc[isclose_ticker] = tpermno_by_ticker.loc[isclose_ticker].values"
   ]
  },
  {
   "cell_type": "code",
   "execution_count": 111,
   "id": "b959b544-c859-4555-8f46-578031ae5623",
   "metadata": {},
   "outputs": [],
   "source": [
    "# need to match these deals by cusip\n",
    "ind = df.index[tpermno.tpermno.isna()]"
   ]
  },
  {
   "cell_type": "code",
   "execution_count": 116,
   "id": "35381582-b453-4cf0-8e0b-c53c71ea41da",
   "metadata": {},
   "outputs": [
    {
     "name": "stderr",
     "output_type": "stream",
     "text": [
      "100%|███████████████████████████████████████| 1178/1178 [00:34<00:00, 33.82it/s]\n"
     ]
    }
   ],
   "source": [
    "# second look for permno by cusip\n",
    "tpermno_by_cusip = apply_func_to_ser_df(df.loc[ind, ['tcu', 'da']], get_stock_permno_from_ser, return_as_df=True, id_type=\"cusip\", db=db)\n",
    "print(f\"{tpermno_by_cusip.permno.notna().sum()} out of {len(tpermno_by_cusip)} deals find a permno by cusip\")"
   ]
  },
  {
   "cell_type": "code",
   "execution_count": 123,
   "id": "7ba69ba5-5946-41d6-a105-9acebc3f0da8",
   "metadata": {},
   "outputs": [],
   "source": [
    "tpermno_by_cusip.permno = tpermno_by_cusip.permno.replace({\"Multiple permnos\": np.nan})"
   ]
  },
  {
   "cell_type": "code",
   "execution_count": 124,
   "id": "d5f1ddff-7bca-4abd-a1f0-d848d854bde8",
   "metadata": {},
   "outputs": [
    {
     "name": "stderr",
     "output_type": "stream",
     "text": [
      "100%|███████████████████████████████████████| 1178/1178 [00:16<00:00, 71.70it/s]\n"
     ]
    }
   ],
   "source": [
    "df_concat_cusip = pd.concat([tpermno_by_cusip.permno, dao_mius_5.loc[ind], dao_plus_5.loc[ind]], axis=1)\n",
    "price_process_cusip = apply_func_to_ser_df(df_concat_cusip, get_stock_market_data_daily_CRSP_from_ser, return_as_df=True, use_new_cols=range(11), db=db)"
   ]
  },
  {
   "cell_type": "code",
   "execution_count": 132,
   "id": "cf0dbecd-47e9-4a23-a584-06c0cf52618d",
   "metadata": {},
   "outputs": [
    {
     "name": "stdout",
     "output_type": "stream",
     "text": [
      "352 deals out of 1178 find the permno by ticker.\n"
     ]
    }
   ],
   "source": [
    "isclose_cusip = isclose_any_col_df_to_df(price_process_cusip, df.loc[ind, ['pr1day', 'tprday', 'tpr1daya']], thres_percent=.05, thres_abs=2, logic='or')\n",
    "print(f\"{isclose_cusip.sum()} deals out of {len(isclose_cusip)} find the permno by ticker.\")\n",
    "# save results\n",
    "isclose_cusip = isclose_cusip.reindex(df.index).fillna(False)\n",
    "tpermno.loc[isclose_cusip] = tpermno_by_ticker.loc[isclose_cusip].values"
   ]
  },
  {
   "cell_type": "code",
   "execution_count": null,
   "id": "a082b453-e014-47f7-9352-af66e6b56cea",
   "metadata": {},
   "outputs": [],
   "source": []
  },
  {
   "cell_type": "code",
   "execution_count": null,
   "id": "1b0e6006-6499-405f-94ba-abff873b02d5",
   "metadata": {},
   "outputs": [],
   "source": []
  },
  {
   "cell_type": "code",
   "execution_count": null,
   "id": "6e965e22-121c-447c-8fa0-3ca79c041180",
   "metadata": {},
   "outputs": [],
   "source": [
    "get_stock_market_data_daily_CRSP()"
   ]
  },
  {
   "cell_type": "code",
   "execution_count": null,
   "id": "4526d537-f48e-471e-8949-5cfae72158cb",
   "metadata": {},
   "outputs": [],
   "source": []
  },
  {
   "cell_type": "code",
   "execution_count": null,
   "id": "7bd1fdfc-2ef9-4d33-b3de-62b47d1d6952",
   "metadata": {},
   "outputs": [],
   "source": []
  },
  {
   "cell_type": "code",
   "execution_count": 6,
   "id": "cde05596",
   "metadata": {},
   "outputs": [],
   "source": [
    "def get_stock_permno_from_ser(ser, db=None):\n",
    "    \"\"\"\n",
    "    get the permno and stock information, by a series of (ticker, cusip, date)\n",
    "    \"\"\"\n",
    "    return get_stock_permno_by_ticker_and_cusip_CRSP(ser.iloc[0], ser.iloc[1], date=ser.iloc[2], return_names=True, db=db)"
   ]
  },
  {
   "cell_type": "code",
   "execution_count": 7,
   "id": "73155926",
   "metadata": {
    "scrolled": true
   },
   "outputs": [
    {
     "name": "stderr",
     "output_type": "stream",
     "text": [
      "100%|█████████████████████████████████████| 10445/10445 [08:41<00:00, 20.01it/s]\n"
     ]
    },
    {
     "name": "stdout",
     "output_type": "stream",
     "text": [
      "368 targets out of 10445 cannot find a permno.\n"
     ]
    }
   ],
   "source": [
    "# get target permno, by its ticker, cusip and the announcement date\n",
    "tpermno_match = apply_func_to_ser_df(df[['ttic', 'tcu', 'da']], get_stock_permno_from_ser, return_as_df=True, db=db)\n",
    "tpermno_match.columns = ['tpermno', 'ttic_CRSP', 'tcu_CRSP', 'tn_CRSP']\n",
    "print(f\"{tpermno_match.tpermno.isnull().sum()} targets out of {len(df)} cannot find a permno.\")"
   ]
  },
  {
   "cell_type": "code",
   "execution_count": 8,
   "id": "4f11d794",
   "metadata": {
    "scrolled": true
   },
   "outputs": [
    {
     "name": "stderr",
     "output_type": "stream",
     "text": [
      "100%|█████████████████████████████████████| 10445/10445 [08:46<00:00, 19.85it/s]\n"
     ]
    },
    {
     "name": "stdout",
     "output_type": "stream",
     "text": [
      "4060 acquirors out of 10445 cannot find a permno.\n"
     ]
    }
   ],
   "source": [
    "# get acquiror permno, by its ticker, cusip and the announcement date\n",
    "apermno_match = apply_func_to_ser_df(df[['atic', 'acu', 'da']], get_stock_permno_from_ser, return_as_df=True, db=db)\n",
    "apermno_match.columns = ['apermno', 'atic_CRSP', 'acu_CRSP', 'an_CRSP']\n",
    "print(f\"{apermno_match.apermno.isnull().sum()} acquirors out of {len(df)} cannot find a permno.\")"
   ]
  },
  {
   "cell_type": "markdown",
   "id": "3049527c-6e32-43c7-81ee-44e5210b9fa1",
   "metadata": {
    "tags": []
   },
   "source": [
    "## Save intermediate results"
   ]
  },
  {
   "cell_type": "markdown",
   "id": "726cc503-bcb8-47ee-b999-f12d503c4c09",
   "metadata": {
    "tags": []
   },
   "source": [
    "We combine the permno search results and save it as a file."
   ]
  },
  {
   "cell_type": "code",
   "execution_count": 9,
   "id": "58f09478-c4e8-4f25-b3b9-165f33f01fa8",
   "metadata": {},
   "outputs": [],
   "source": [
    "# concat permno search results, and save it\n",
    "permno_CRSP = pd.concat([tpermno_match, apermno_match], axis=1)\n",
    "# save\n",
    "pathfile = f\"{path}/data/intermediate/permno_CRSP.h5\"\n",
    "permno_CRSP.to_hdf(pathfile, key = 'permno_CRSP', mode='w')\n",
    "\n",
    "# concat into the dataset\n",
    "loc_names = ['ttic', 'ttic', 'tcu', 'tn'] + ['atic', 'atic', 'acu', 'an']\n",
    "insert_cols(df, loc_names, None, permno_CRSP)"
   ]
  },
  {
   "cell_type": "markdown",
   "id": "d9097170",
   "metadata": {
    "tags": []
   },
   "source": [
    "# Get target delisting information"
   ]
  },
  {
   "cell_type": "code",
   "execution_count": 10,
   "id": "9d28baa8",
   "metadata": {},
   "outputs": [
    {
     "name": "stderr",
     "output_type": "stream",
     "text": [
      "100%|█████████████████████████████████████| 10077/10077 [04:37<00:00, 36.38it/s]\n"
     ]
    },
    {
     "name": "stdout",
     "output_type": "stream",
     "text": [
      "392 out of 8096 completed deals cannot find delisting returns.\n"
     ]
    }
   ],
   "source": [
    "# columns = ['delist_code', 'last_trade_date', 'delist_date', 'delist_amount', 'delist_return']\n",
    "delist_CRSP = apply_func_to_ser_df(df.tpermno, get_delisting_information, return_as_df=True, db=db)\n",
    "complete = df.statc.eq('C')\n",
    "print(f\"{(complete & delist_CRSP.delist_return.isnull()).sum()} out of {complete.sum()} completed deals cannot find delisting returns.\")"
   ]
  },
  {
   "cell_type": "code",
   "execution_count": 11,
   "id": "d60a7931-e8c8-45d5-962f-10dd448f0465",
   "metadata": {},
   "outputs": [],
   "source": [
    "## Save intermediate results\n",
    "pathfile = f\"{path}/data/intermediate/delist_CRSP.h5\"\n",
    "delist_CRSP.to_hdf(pathfile, key = 'delist_CRSP', mode='w')\n",
    "# concat into the dataset\n",
    "loc_names = ['att'] * 5\n",
    "insert_cols(df, loc_names, None, delist_CRSP)"
   ]
  },
  {
   "cell_type": "code",
   "execution_count": 12,
   "id": "de7136f5-e101-4e79-ae0d-0bfcecee00cd",
   "metadata": {},
   "outputs": [],
   "source": [
    "# save\n",
    "filepath = f\"{path}/data/intermediate/df_permno_delist_CRSP.h5\"\n",
    "df.to_hdf(filepath, key = 'df', mode='w')"
   ]
  },
  {
   "cell_type": "markdown",
   "id": "74baedf3-7e5f-40ec-85d5-e4a586e02b2c",
   "metadata": {
    "tags": []
   },
   "source": [
    "# pull raw market data"
   ]
  },
  {
   "cell_type": "code",
   "execution_count": 13,
   "id": "3659e55f-c342-4cc9-bd4f-d31960bdf53b",
   "metadata": {},
   "outputs": [],
   "source": [
    "df['dao_40days_prior'] = get_trading_day_offset(df.dao, -40)\n",
    "last_date = max(df.da.max(), df.dr.dropna().max())\n",
    "df['dr_40days_after'] = get_trading_day_offset(df.dr.fillna(last_date), 40)"
   ]
  },
  {
   "cell_type": "code",
   "execution_count": 14,
   "id": "fa2ae6e1-a21a-401c-b6b2-5f1c90841714",
   "metadata": {},
   "outputs": [],
   "source": [
    "def get_stock_market_data_daily_from_ser_CRSP(ser, db=db):\n",
    "    \"\"\"\n",
    "    get daily market data from a series of (permno, start_date, end_date)\n",
    "    \"\"\"\n",
    "    return get_stock_market_data_daily_CRSP(ser.iloc[0], start_date=ser.iloc[1], end_date=ser.iloc[2], db=db)"
   ]
  },
  {
   "cell_type": "code",
   "execution_count": 15,
   "id": "aaad370b-a7bc-4ae6-ac0c-ad69b060f3f5",
   "metadata": {},
   "outputs": [
    {
     "name": "stderr",
     "output_type": "stream",
     "text": [
      "100%|█████████████████████████████████████| 10445/10445 [08:03<00:00, 21.61it/s]\n"
     ]
    },
    {
     "name": "stdout",
     "output_type": "stream",
     "text": [
      "368 out of 10445 deals cannot find target market data.\n"
     ]
    }
   ],
   "source": [
    "mkt_data_tgt = apply_func_to_ser_df(df[['tpermno', 'dao_40days_prior', 'dr_40days_after']], \n",
    "                                    get_stock_market_data_daily_from_ser_CRSP, \n",
    "                                    return_as_df=False, \n",
    "                                    db=db)\n",
    "print(f\"{mkt_data_tgt.isna().sum()} out of {len(df)} deals cannot find target market data.\")"
   ]
  },
  {
   "cell_type": "code",
   "execution_count": 16,
   "id": "1104b827-ddf4-480c-8263-6d19e2d2113a",
   "metadata": {},
   "outputs": [
    {
     "name": "stderr",
     "output_type": "stream",
     "text": [
      "100%|█████████████████████████████████████| 10445/10445 [04:48<00:00, 36.23it/s]\n"
     ]
    },
    {
     "name": "stdout",
     "output_type": "stream",
     "text": [
      "4060 out of 10445 deals cannot find acquiror market data.\n"
     ]
    }
   ],
   "source": [
    "mkt_data_acq = apply_func_to_ser_df(df[['apermno', 'dao_40days_prior', 'dr_40days_after']],\n",
    "                                       get_stock_market_data_daily_from_ser_CRSP,\n",
    "                                       return_as_df=False,\n",
    "                                       db=db)\n",
    "print(f\"{mkt_data_acq.isna().sum()} out of {len(df)} deals cannot find acquiror market data.\")"
   ]
  },
  {
   "cell_type": "markdown",
   "id": "18be57e7-84ec-4432-a034-7f5dc83524ad",
   "metadata": {},
   "source": [
    "## save raw market data"
   ]
  },
  {
   "cell_type": "code",
   "execution_count": 17,
   "id": "c5033346-da23-4ef6-a16c-f13ae8fc5b69",
   "metadata": {},
   "outputs": [],
   "source": [
    "import pickle\n",
    "\n",
    "filepath_tgt = f\"{path}/data/raw/mkt_data_tgt_raw.pickle\"\n",
    "with open(filepath_tgt, 'wb') as handle:\n",
    "    pickle.dump(mkt_data_tgt, handle, protocol=pickle.HIGHEST_PROTOCOL)\n",
    "    \n",
    "    \n",
    "filepath_acq = f\"{path}/data/raw/mkt_data_acq_raw.pickle\"\n",
    "with open(filepath_acq, 'wb') as handle:\n",
    "    pickle.dump(mkt_data_acq, handle, protocol=pickle.HIGHEST_PROTOCOL)"
   ]
  }
 ],
 "metadata": {
  "kernelspec": {
   "display_name": "Python 3 (ipykernel)",
   "language": "python",
   "name": "python3"
  },
  "language_info": {
   "codemirror_mode": {
    "name": "ipython",
    "version": 3
   },
   "file_extension": ".py",
   "mimetype": "text/x-python",
   "name": "python",
   "nbconvert_exporter": "python",
   "pygments_lexer": "ipython3",
   "version": "3.11.0"
  },
  "toc": {
   "base_numbering": 1,
   "nav_menu": {},
   "number_sections": true,
   "sideBar": true,
   "skip_h1_title": false,
   "title_cell": "Table of Contents",
   "title_sidebar": "Contents",
   "toc_cell": false,
   "toc_position": {},
   "toc_section_display": true,
   "toc_window_display": false
  }
 },
 "nbformat": 4,
 "nbformat_minor": 5
}
