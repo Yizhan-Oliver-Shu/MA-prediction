{
 "cells": [
  {
   "cell_type": "code",
   "execution_count": 1,
   "id": "1cdf3be4",
   "metadata": {},
   "outputs": [],
   "source": [
    "%load_ext autoreload\n",
    "%autoreload 2\n",
    "import sys, os\n",
    "from os.path import expanduser\n",
    "## actions required!!!!!!!!!!!!!!!!!!!! change your folder path \n",
    "path = \"~/Documents/G3/MA-prediction\"\n",
    "path = expanduser(path)\n",
    "sys.path.append(path)\n",
    "\n",
    "import pandas as pd\n",
    "import numpy as np\n",
    "\n",
    "pd.options.mode.chained_assignment = None\n",
    "import warnings\n",
    "warnings.simplefilter(action='ignore', category=pd.errors.PerformanceWarning)\n",
    "warnings.simplefilter(action='ignore', category=FutureWarning)"
   ]
  },
  {
   "cell_type": "code",
   "execution_count": 2,
   "id": "c22096e0-9eb7-43a8-8f02-c44f1d049634",
   "metadata": {},
   "outputs": [],
   "source": [
    "from MA_prediction.utils import *\n",
    "from MA_prediction.preprocessing import *"
   ]
  },
  {
   "cell_type": "markdown",
   "id": "3d09ab02",
   "metadata": {
    "tags": []
   },
   "source": [
    "# Data cleaning 3: Process market data\n",
    "\n",
    "In this notebook we process the market data pulled from CRSP. We have already done the following when pulling the raw data:\n",
    "\n",
    "- Replace the all `None`-type price and return into all `np.nan`.\n",
    "- take absolute value of negative prices.\n",
    "\n",
    "We will address the following:\n",
    "\n",
    "- For completed deals, add the delisting return.\n",
    "- Fill misssing price / return. It happens when the trading of a certain stock is not allowed during some days.\n",
    "    - fill missing price by previous prices (considering adjust factors) and fill missing return from the filled prices.\n",
    "- calculate mktcap.\n",
    "- Adjust raw price by the cumulative factor, based on the factor on the announcement day.\n",
    "\n",
    "    \n",
    "    \n",
    "## I/O\n",
    "\n",
    "- Input:\n",
    "    - `df_permno_delist_CRSP.h5`\n",
    "    - `market_data_tgt_raw.pickle`\n",
    "    - `market_data_acq_raw.pickle`\n",
    "- Output:\n",
    "    - `market_data_tgt_processed.pickle`\n",
    "    - `market_data_acq_processed.pickle`"
   ]
  },
  {
   "cell_type": "markdown",
   "id": "9d68aec1-beb0-448b-ab92-2983339d0320",
   "metadata": {},
   "source": [
    "## load data"
   ]
  },
  {
   "cell_type": "code",
   "execution_count": 3,
   "id": "5728899a-6f3f-4c47-b2d5-f7876cbcd406",
   "metadata": {},
   "outputs": [],
   "source": [
    "filepath = f\"{path}/data/intermediate/df_permno_delist_CRSP.h5\"\n",
    "df = pd.read_hdf(filepath)\n",
    "\n",
    "mkt_data_tgt_raw, mkt_data_acq_raw = load_mkt_data(path, \"raw\")"
   ]
  },
  {
   "cell_type": "markdown",
   "id": "2dd155a9-9938-4e0a-8e50-f9cc94ab477e",
   "metadata": {},
   "source": [
    "# Add delisting return for completed deals"
   ]
  },
  {
   "cell_type": "code",
   "execution_count": 4,
   "id": "2fc310fc-3ea8-4cf9-8687-5f00832bea67",
   "metadata": {},
   "outputs": [
    {
     "name": "stderr",
     "output_type": "stream",
     "text": [
      "100%|█████████████████████████████████████| 7255/7255 [00:04<00:00, 1640.72it/s]\n"
     ]
    }
   ],
   "source": [
    "mkt_data_tgt_processed = add_delisting_prc_ret(mkt_data_tgt_raw, df)"
   ]
  },
  {
   "cell_type": "markdown",
   "id": "b285b516-f000-4ab6-9b79-998cb0370a9a",
   "metadata": {},
   "source": [
    "# fill missing price/return"
   ]
  },
  {
   "cell_type": "code",
   "execution_count": 5,
   "id": "1180de36-2a1c-41a7-8e8f-7d2bdb2dbdf3",
   "metadata": {},
   "outputs": [],
   "source": [
    "mkt_data_tgt_processed = mkt_data_tgt_processed.map(fill_na_prc_ret, na_action=\"ignore\")\n",
    "mkt_data_acq_processed = mkt_data_acq_raw.map(fill_na_prc_ret, na_action=\"ignore\")"
   ]
  },
  {
   "cell_type": "markdown",
   "id": "d0b0ffb2-140b-49b0-a19a-f9faae0cede0",
   "metadata": {},
   "source": [
    "# calculate mktcap"
   ]
  },
  {
   "cell_type": "code",
   "execution_count": 6,
   "id": "aa5ffc3b-ee7f-4293-abbd-7e1e1a2eb508",
   "metadata": {},
   "outputs": [],
   "source": [
    "mkt_data_tgt_processed = mkt_data_tgt_processed.map(calculate_mktcap, na_action=\"ignore\")\n",
    "mkt_data_acq_processed = mkt_data_acq_processed.map(calculate_mktcap, na_action=\"ignore\")"
   ]
  },
  {
   "cell_type": "markdown",
   "id": "b7180d77-1bcd-4add-bba2-9dc79442f99a",
   "metadata": {},
   "source": [
    "# adjust price by factors"
   ]
  },
  {
   "cell_type": "code",
   "execution_count": 7,
   "id": "f06d4d94-869b-4b4c-bb04-502838c7f44a",
   "metadata": {},
   "outputs": [
    {
     "name": "stderr",
     "output_type": "stream",
     "text": [
      "100%|█████████████████████████████████████| 9612/9612 [00:02<00:00, 3537.32it/s]\n",
      "100%|█████████████████████████████████████| 5454/5454 [00:01<00:00, 3316.42it/s]\n"
     ]
    }
   ],
   "source": [
    "mkt_data_tgt_processed = adjust_price_for_mkt_data_ser(mkt_data_tgt_processed, df.da)\n",
    "mkt_data_acq_processed = adjust_price_for_mkt_data_ser(mkt_data_acq_processed, df.da)"
   ]
  },
  {
   "cell_type": "code",
   "execution_count": 8,
   "id": "7271c138-baed-4f1a-9a43-59821d5ae85e",
   "metadata": {},
   "outputs": [],
   "source": [
    "import pickle\n",
    "\n",
    "filepath_tgt = f\"{path}/data/raw/mkt_data_tgt_processed.pickle\"\n",
    "with open(filepath_tgt, 'wb') as handle:\n",
    "    pickle.dump(mkt_data_tgt_processed, handle, protocol=pickle.HIGHEST_PROTOCOL)\n",
    "    \n",
    "    \n",
    "filepath_acq = f\"{path}/data/raw/mkt_data_acq_processed.pickle\"\n",
    "with open(filepath_acq, 'wb') as handle:\n",
    "    pickle.dump(mkt_data_acq_processed, handle, protocol=pickle.HIGHEST_PROTOCOL)"
   ]
  },
  {
   "cell_type": "code",
   "execution_count": null,
   "id": "3df36b01-0571-481c-9321-67deaab26387",
   "metadata": {},
   "outputs": [],
   "source": []
  }
 ],
 "metadata": {
  "kernelspec": {
   "display_name": "Python 3 (ipykernel)",
   "language": "python",
   "name": "python3"
  },
  "language_info": {
   "codemirror_mode": {
    "name": "ipython",
    "version": 3
   },
   "file_extension": ".py",
   "mimetype": "text/x-python",
   "name": "python",
   "nbconvert_exporter": "python",
   "pygments_lexer": "ipython3",
   "version": "3.11.0"
  },
  "toc": {
   "base_numbering": 1,
   "nav_menu": {},
   "number_sections": true,
   "sideBar": true,
   "skip_h1_title": false,
   "title_cell": "Table of Contents",
   "title_sidebar": "Contents",
   "toc_cell": false,
   "toc_position": {},
   "toc_section_display": true,
   "toc_window_display": false
  },
  "toc-autonumbering": true
 },
 "nbformat": 4,
 "nbformat_minor": 5
}
