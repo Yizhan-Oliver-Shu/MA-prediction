{
 "cells": [
  {
   "cell_type": "code",
   "execution_count": 1,
   "id": "bf262bd1",
   "metadata": {
    "scrolled": true
   },
   "outputs": [
    {
     "data": {
      "text/html": [
       "<style>.container { width:92% !important; }</style>"
      ],
      "text/plain": [
       "<IPython.core.display.HTML object>"
      ]
     },
     "metadata": {},
     "output_type": "display_data"
    }
   ],
   "source": [
    "from IPython.display import display, HTML\n",
    "display(HTML(\"<style>.container { width:92% !important; }</style>\"))\n",
    "\n",
    "%load_ext autoreload\n",
    "%autoreload 2\n",
    "import sys, os\n",
    "from os.path import expanduser\n",
    "## actions required!!!!!!!!!!!!!!!!!!!! change your folder path \n",
    "path = \"~/Documents/G3/MA-prediction\"\n",
    "path = expanduser(path)\n",
    "sys.path.append(path)\n",
    "\n",
    "import data_science_MA_kit as dsk\n",
    "import pandas as pd\n",
    "import numpy as np\n",
    "import datetime\n",
    "from tqdm import tqdm\n",
    "import re\n",
    "import wrds\n",
    "\n",
    "pd.options.mode.chained_assignment = None\n",
    "import warnings\n",
    "warnings.simplefilter(action='ignore', category=pd.errors.PerformanceWarning)"
   ]
  },
  {
   "cell_type": "markdown",
   "id": "b728909a",
   "metadata": {},
   "source": [
    "# Data preprocessing final: Data Filters\n",
    "\n",
    "Apply filters:\n",
    "\n",
    "- data error detected manually.\n",
    "- deal price, initial deal price >= \\$1. \n",
    "- target stock price 1 day, 1 week and 4 weeks before >= \\$1.\n",
    "- deal value adjusted by inflation >= \\$200 m.\n",
    "- date announced is not estimated.\n",
    "- deal cash and stock terms parsing successful.\n",
    "- target and acquiror matched in CRSP.\n",
    "- For completed deals, delisting code in CRSP is M&A related.\n",
    "- For completed deals, effective date in SDC and target delisting date in CRSP is close. \n",
    "- duration no fewer than 5 trading days.\n",
    "\n",
    "\n",
    "Results of filtering:\n",
    "\n",
    "- delete 3 deals due to data error. 9854 -> 9851\n",
    "- delete 1503 deals due to deal price smaller than \\$1. 9851 -> 8348\n",
    "- delete 490 deals due to target price smaller than \\$1. 8348 -> 7858\n",
    "- delete 2473 deals due to deal value adjusted by inflation smaller than $200 m. 7858 -> 5385\n",
    "- delete 0 deals due to estimated announcement date. 5385 -> 5385\n",
    "- delete 1117 deals due to failure of extracting cash and stock terms. 5385 -> 4268\n",
    "- delete 31 deals due to failure of matching target in CRSP. 4268 -> 4237\n",
    "- delete 33 deals due to failure of matching acquiror in CRSP for stock deals. 4237 -> 4204\n",
    "- delete 21 deals due to non-M&A-related delisting code for completed deals. 4204 -> 4183\n",
    "- delete 10 deals due to mismatch between delisting date in CRSP and effective date in SDC. 4183 -> 4173\n",
    "- delete 39 deals due to duration shorter than 5 trading days. 4173 -> 4134"
   ]
  },
  {
   "cell_type": "markdown",
   "id": "a0a7fb08",
   "metadata": {},
   "source": [
    "## load data"
   ]
  },
  {
   "cell_type": "code",
   "execution_count": 2,
   "id": "7160327b",
   "metadata": {},
   "outputs": [],
   "source": [
    "filepath = f\"{path}/data/df_variable_prediction.h5\"\n",
    "df = pd.read_hdf(filepath)"
   ]
  },
  {
   "cell_type": "code",
   "execution_count": 3,
   "id": "56cdf1cb",
   "metadata": {},
   "outputs": [],
   "source": [
    "txt_filepath = f\"{path}/data/filters.txt\"\n",
    "txt_file = open(txt_filepath, \"w\")"
   ]
  },
  {
   "cell_type": "markdown",
   "id": "e2ec639d",
   "metadata": {},
   "source": [
    "# Filters"
   ]
  },
  {
   "cell_type": "code",
   "execution_count": 4,
   "id": "e6666470",
   "metadata": {},
   "outputs": [],
   "source": [
    "df['retain'] = True"
   ]
  },
  {
   "cell_type": "code",
   "execution_count": 5,
   "id": "8fa7a864",
   "metadata": {
    "scrolled": true
   },
   "outputs": [
    {
     "name": "stdout",
     "output_type": "stream",
     "text": [
      "delete 40 deals due to data error. 12031 -> 11991\n"
     ]
    }
   ],
   "source": [
    "num_orig = df.retain.sum()\n",
    "\n",
    "index_del = dsk.get_delete_index(df)\n",
    "df.retain[index_del] = False\n",
    "df.retain[df.ttic.eq(df.atic)] = False\n",
    "\n",
    "num_new = df.retain.sum()\n",
    "\n",
    "string = f\"delete {num_orig-num_new} deals due to data error. {num_orig} -> {num_new}\"\n",
    "txt_file.write(string+\"\\n\")\n",
    "print(string)"
   ]
  },
  {
   "cell_type": "code",
   "execution_count": 6,
   "id": "45d9b516",
   "metadata": {
    "scrolled": true
   },
   "outputs": [
    {
     "name": "stdout",
     "output_type": "stream",
     "text": [
      "delete 1861 deals due to deal price smaller than $1. 11991 -> 10130\n"
     ]
    }
   ],
   "source": [
    "num_orig = df.retain.sum()\n",
    "\n",
    "df.retain[df.pr.lt(1., fill_value = 0.) | df.pr_initial.lt(1., fill_value = 0.)] = False\n",
    "\n",
    "num_new = df.retain.sum()\n",
    "\n",
    "string = f\"delete {num_orig-num_new} deals due to deal price smaller than $1. {num_orig} -> {num_new}\"\n",
    "txt_file.write(string+\"\\n\")\n",
    "print(string)"
   ]
  },
  {
   "cell_type": "code",
   "execution_count": 7,
   "id": "a9074164",
   "metadata": {},
   "outputs": [
    {
     "name": "stdout",
     "output_type": "stream",
     "text": [
      "delete 903 deals due to target price smaller than $1. 10130 -> 9227\n"
     ]
    }
   ],
   "source": [
    "num_orig = df.retain.sum()\n",
    "\n",
    "df.retain[df.pr1day.lt(1., fill_value=0.) | df.pr1wk.lt(1., fill_value=0.) | df.pr4wk.lt(1., fill_value=0.)] = False\n",
    "\n",
    "num_new = df.retain.sum()\n",
    "\n",
    "string = f\"delete {num_orig-num_new} deals due to target price smaller than $1. {num_orig} -> {num_new}\"\n",
    "txt_file.write(string+\"\\n\")\n",
    "print(string)"
   ]
  },
  {
   "cell_type": "code",
   "execution_count": 8,
   "id": "a57aa7a8",
   "metadata": {},
   "outputs": [
    {
     "name": "stdout",
     "output_type": "stream",
     "text": [
      "delete 2986 deals due to deal value adjusted by inflation smaller than $200 m. 9227 -> 6241\n"
     ]
    }
   ],
   "source": [
    "num_orig = df.retain.sum()\n",
    "\n",
    "df.retain[df.val_adj_by_cpi.lt(200., fill_value=0.)] = False\n",
    "\n",
    "num_new = df.retain.sum()\n",
    "\n",
    "string = f\"delete {num_orig-num_new} deals due to deal value adjusted by inflation smaller than $200 m. {num_orig} -> {num_new}\"\n",
    "txt_file.write(string+\"\\n\")\n",
    "print(string)"
   ]
  },
  {
   "cell_type": "code",
   "execution_count": 9,
   "id": "c63c2486",
   "metadata": {
    "scrolled": true
   },
   "outputs": [
    {
     "name": "stdout",
     "output_type": "stream",
     "text": [
      "delete 0 deals due to estimated announcement date. 6241 -> 6241\n"
     ]
    }
   ],
   "source": [
    "num_orig = df.retain.sum()\n",
    "\n",
    "df.retain[df.da.eq('Yes')] = False\n",
    "\n",
    "num_new = df.retain.sum()\n",
    "\n",
    "string = f\"delete {num_orig-num_new} deals due to estimated announcement date. {num_orig} -> {num_new}\"\n",
    "txt_file.write(string+\"\\n\")\n",
    "print(string)"
   ]
  },
  {
   "cell_type": "code",
   "execution_count": 10,
   "id": "445247d3",
   "metadata": {},
   "outputs": [
    {
     "name": "stdout",
     "output_type": "stream",
     "text": [
      "delete 1276 deals due to failure of extracting cash and stock terms. 6241 -> 4965\n"
     ]
    }
   ],
   "source": [
    "num_orig = df.retain.sum()\n",
    "\n",
    "payment_types_lst = ['Cash', 'Common Stock', 'Cash and Common Stock', \n",
    "                     'Common Stock, fixed dollar', 'Cash and Common Stock, fixed dollar']\n",
    "df.retain[~df.payment_type.isin(payment_types_lst)]=False\n",
    "\n",
    "num_new = df.retain.sum()\n",
    "\n",
    "string = f\"delete {num_orig-num_new} deals due to failure of extracting cash and stock terms. {num_orig} -> {num_new}\"\n",
    "txt_file.write(string+\"\\n\")\n",
    "print(string)"
   ]
  },
  {
   "cell_type": "code",
   "execution_count": 11,
   "id": "9ca77375",
   "metadata": {},
   "outputs": [
    {
     "name": "stdout",
     "output_type": "stream",
     "text": [
      "delete 42 deals due to failure of matching target in CRSP. 4965 -> 4923\n"
     ]
    }
   ],
   "source": [
    "num_orig = df.retain.sum()\n",
    "\n",
    "df.retain[df.tpermno.isna()] = False\n",
    "\n",
    "num_new = df.retain.sum()\n",
    "\n",
    "string = f\"delete {num_orig-num_new} deals due to failure of matching target in CRSP. {num_orig} -> {num_new}\"\n",
    "txt_file.write(string+\"\\n\")\n",
    "print(string)"
   ]
  },
  {
   "cell_type": "code",
   "execution_count": 12,
   "id": "37e0bbd2",
   "metadata": {},
   "outputs": [
    {
     "name": "stdout",
     "output_type": "stream",
     "text": [
      "delete 34 deals due to failure of matching acquiror in CRSP for stock deals. 4923 -> 4889\n"
     ]
    }
   ],
   "source": [
    "num_orig = df.retain.sum()\n",
    "\n",
    "df.retain[df.payment_type.isin(['Common Stock', 'Cash and Common Stock']) & df.apermno.isna()] = False\n",
    "\n",
    "num_new = df.retain.sum()\n",
    "\n",
    "string = f\"delete {num_orig-num_new} deals due to failure of matching acquiror in CRSP for stock deals. {num_orig} -> {num_new}\"\n",
    "txt_file.write(string+\"\\n\")\n",
    "print(string)"
   ]
  },
  {
   "cell_type": "code",
   "execution_count": 13,
   "id": "dbe3ce02",
   "metadata": {},
   "outputs": [
    {
     "name": "stdout",
     "output_type": "stream",
     "text": [
      "delete 97 deals due to non-M&A-related delisting code for completed deals. 4889 -> 4792\n"
     ]
    }
   ],
   "source": [
    "num_orig = df.retain.sum()\n",
    "\n",
    "df.retain[df.statc.eq('C') & ~df.delist_code.between(200, 300, inclusive='left')] = False\n",
    "\n",
    "num_new = df.retain.sum()\n",
    "\n",
    "string = f\"delete {num_orig-num_new} deals due to non-M&A-related delisting code for completed deals. {num_orig} -> {num_new}\"\n",
    "txt_file.write(string+\"\\n\")\n",
    "print(string)"
   ]
  },
  {
   "cell_type": "code",
   "execution_count": 14,
   "id": "8a16cdb3",
   "metadata": {},
   "outputs": [
    {
     "name": "stdout",
     "output_type": "stream",
     "text": [
      "delete 11 deals due to mismatch between delisting date in CRSP and effective date in SDC. 4792 -> 4781\n"
     ]
    }
   ],
   "source": [
    "num_orig = df.retain.sum()\n",
    "\n",
    "days_between_de_delist_date = dsk.get_num_trading_days_between(df.de, df.delist_date)\n",
    "df.retain[df.statc.eq('C')&abs(days_between_de_delist_date).gt(252)] = False\n",
    "\n",
    "num_new = df.retain.sum()\n",
    "\n",
    "string = f\"delete {num_orig-num_new} deals due to mismatch between delisting date in CRSP and effective date in SDC. {num_orig} -> {num_new}\"\n",
    "txt_file.write(string+\"\\n\")\n",
    "print(string)"
   ]
  },
  {
   "cell_type": "code",
   "execution_count": 15,
   "id": "c9b82f4b",
   "metadata": {
    "scrolled": false
   },
   "outputs": [
    {
     "name": "stdout",
     "output_type": "stream",
     "text": [
      "delete 46 deals due to duration shorter than 5 trading days. 4781 -> 4735\n"
     ]
    }
   ],
   "source": [
    "num_orig = df.retain.sum()\n",
    "\n",
    "df.retain[df.duration.lt(5)] = False\n",
    "\n",
    "num_new = df.retain.sum()\n",
    "\n",
    "string = f\"delete {num_orig-num_new} deals due to duration shorter than 5 trading days. {num_orig} -> {num_new}\"\n",
    "txt_file.write(string+\"\\n\")\n",
    "print(string)"
   ]
  },
  {
   "cell_type": "code",
   "execution_count": 16,
   "id": "91231811",
   "metadata": {},
   "outputs": [
    {
     "name": "stdout",
     "output_type": "stream",
     "text": [
      "delete 10 deals due to duration longer than 2 years. 4735 -> 4725\n"
     ]
    }
   ],
   "source": [
    "num_orig = df.retain.sum()\n",
    "\n",
    "df.retain[df.duration.gt(504)] = False\n",
    "\n",
    "num_new = df.retain.sum()\n",
    "\n",
    "string = f\"delete {num_orig-num_new} deals due to duration longer than 2 years. {num_orig} -> {num_new}\"\n",
    "txt_file.write(string+\"\\n\")\n",
    "print(string)"
   ]
  },
  {
   "cell_type": "code",
   "execution_count": 17,
   "id": "f67585be",
   "metadata": {
    "scrolled": true
   },
   "outputs": [
    {
     "name": "stdout",
     "output_type": "stream",
     "text": [
      "delete 0 pending deals announced before 2020. 4725 -> 4725\n"
     ]
    }
   ],
   "source": [
    "num_orig = df.retain.sum()\n",
    "\n",
    "df.retain[df.statc.eq('P') & df.ann_year.lt(2020)] = False\n",
    "\n",
    "num_new = df.retain.sum()\n",
    "\n",
    "string = f\"delete {num_orig-num_new} pending deals announced before 2020. {num_orig} -> {num_new}\"\n",
    "txt_file.write(string+\"\\n\")\n",
    "print(string)"
   ]
  },
  {
   "cell_type": "code",
   "execution_count": 18,
   "id": "72e97911",
   "metadata": {},
   "outputs": [
    {
     "name": "stdout",
     "output_type": "stream",
     "text": [
      "delete 2 deals whose targets or acquirors are not allowed to trade within 5 days after announcement. 4725 -> 4723\n"
     ]
    }
   ],
   "source": [
    "num_orig = df.retain.sum()\n",
    "\n",
    "import pickle\n",
    "index_no_trading = pd.read_pickle(f'{path}/data/index_no_trading.pickle')\n",
    "df.retain[index_no_trading] = False\n",
    "\n",
    "num_new = df.retain.sum()\n",
    "\n",
    "string = f\"delete {num_orig-num_new} deals whose targets or acquirors are not allowed to trade within 5 days after announcement. {num_orig} -> {num_new}\"\n",
    "txt_file.write(string+\"\\n\")\n",
    "print(string)"
   ]
  },
  {
   "cell_type": "markdown",
   "id": "902cdc40",
   "metadata": {},
   "source": [
    "# Save final dataset"
   ]
  },
  {
   "cell_type": "code",
   "execution_count": 19,
   "id": "1315a3fd",
   "metadata": {},
   "outputs": [],
   "source": [
    "txt_file.close()"
   ]
  },
  {
   "cell_type": "code",
   "execution_count": 20,
   "id": "80972b3c",
   "metadata": {},
   "outputs": [],
   "source": [
    "filepath = f\"{path}/data/df_final.h5\"\n",
    "df.to_hdf(filepath, key='df', mode='w')"
   ]
  },
  {
   "cell_type": "code",
   "execution_count": 21,
   "id": "36be2624",
   "metadata": {},
   "outputs": [],
   "source": [
    "filepath = f\"{path}/data/df_final.csv\"\n",
    "df.to_csv(filepath)"
   ]
  }
 ],
 "metadata": {
  "kernelspec": {
   "display_name": "Python 3 (ipykernel)",
   "language": "python",
   "name": "python3"
  },
  "language_info": {
   "codemirror_mode": {
    "name": "ipython",
    "version": 3
   },
   "file_extension": ".py",
   "mimetype": "text/x-python",
   "name": "python",
   "nbconvert_exporter": "python",
   "pygments_lexer": "ipython3",
   "version": "3.9.13"
  },
  "toc": {
   "base_numbering": 1,
   "nav_menu": {},
   "number_sections": true,
   "sideBar": true,
   "skip_h1_title": false,
   "title_cell": "Table of Contents",
   "title_sidebar": "Contents",
   "toc_cell": false,
   "toc_position": {},
   "toc_section_display": true,
   "toc_window_display": false
  }
 },
 "nbformat": 4,
 "nbformat_minor": 5
}
