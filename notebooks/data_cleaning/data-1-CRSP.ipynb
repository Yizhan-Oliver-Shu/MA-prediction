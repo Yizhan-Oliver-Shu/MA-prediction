{
 "cells": [
  {
   "cell_type": "code",
   "execution_count": 1,
   "id": "79cabda9",
   "metadata": {},
   "outputs": [],
   "source": [
    "%load_ext autoreload\n",
    "%autoreload 2\n",
    "import sys, os\n",
    "from os.path import expanduser\n",
    "## actions required!!!!!!!!!!!!!!!!!!!! change your folder path \n",
    "path = \"~/Documents/G3/MA-prediction\"\n",
    "path = expanduser(path)\n",
    "sys.path.append(path)\n",
    "\n",
    "import pandas as pd\n",
    "import numpy as np\n",
    "import datetime\n",
    "from tqdm import tqdm\n",
    "\n",
    "pd.options.mode.chained_assignment = None\n",
    "import warnings\n",
    "warnings.simplefilter(action='ignore', category=pd.errors.PerformanceWarning)\n",
    "warnings.simplefilter(action='ignore', category=FutureWarning)"
   ]
  },
  {
   "cell_type": "code",
   "execution_count": 2,
   "id": "76b5dc13-fd51-421c-9c2d-8e827d1d7f82",
   "metadata": {},
   "outputs": [],
   "source": [
    "from MA_prediction.utils import *\n",
    "from MA_prediction.preprocessing import *\n",
    "from MA_prediction.crsp import *\n",
    "from MA_prediction.mkt_calendar import *"
   ]
  },
  {
   "cell_type": "code",
   "execution_count": 3,
   "id": "1bd0d4cd",
   "metadata": {
    "scrolled": true
   },
   "outputs": [
    {
     "name": "stdin",
     "output_type": "stream",
     "text": [
      "Enter your WRDS username [yizhan]: olivershu\n",
      "Enter your password: ········\n"
     ]
    },
    {
     "name": "stdout",
     "output_type": "stream",
     "text": [
      "WRDS recommends setting up a .pgpass file.\n"
     ]
    },
    {
     "name": "stdin",
     "output_type": "stream",
     "text": [
      "Create .pgpass file now [y/n]?:  y\n"
     ]
    },
    {
     "name": "stdout",
     "output_type": "stream",
     "text": [
      "Created .pgpass file successfully.\n",
      "Loading library list...\n",
      "Done\n"
     ]
    }
   ],
   "source": [
    "import wrds\n",
    "db = wrds.Connection()"
   ]
  },
  {
   "cell_type": "markdown",
   "id": "fa227bd8",
   "metadata": {
    "tags": []
   },
   "source": [
    "# Data processing 1: CRSP\n",
    "\n",
    "In this notebook we merge the dataset from SDC with CRSP database. CRSP is the database for historical prices of equities. \n",
    "\n",
    "Specifically we will do the following:\n",
    "\n",
    "- Look for the `permno` of all the targets and acquirors. `permno` is CRSP's own unique identifier for every stock.\n",
    "- Look for delisting information (delisting code, last trade date, delisting date and delisting returns) in CRSP database, for all the targets.\n",
    "- pull raw market data for all the targets and acquirors, from 40 (trading) days prior to `dao`, to 40 days after `dr`.\n",
    "\n",
    "These market data will be used for backtesting after cleaning. For pending deals where `dr` is not available, we use the latest `de` or `da` in the dataset to indicate the last date.\n",
    "\n",
    "## I/O\n",
    "\n",
    "- Input: \n",
    "    - `df_basic_cleaning.h5`\n",
    "\n",
    "- Output: \n",
    "    - `permno_CRSP.h5`\n",
    "    - `delist_CRSP.h5`\n",
    "    - `df_permno_delist_CRSP.h5`\n",
    "    - `market_data_tgt_raw.pickle`, `market_data_acq_raw.pickle`"
   ]
  },
  {
   "cell_type": "markdown",
   "id": "f3319a82",
   "metadata": {
    "tags": []
   },
   "source": [
    "## Load data"
   ]
  },
  {
   "cell_type": "code",
   "execution_count": 4,
   "id": "6316c479",
   "metadata": {},
   "outputs": [
    {
     "name": "stdout",
     "output_type": "stream",
     "text": [
      "The dataset is of size (12079, 95).\n"
     ]
    },
    {
     "data": {
      "text/html": [
       "<div>\n",
       "<style scoped>\n",
       "    .dataframe tbody tr th:only-of-type {\n",
       "        vertical-align: middle;\n",
       "    }\n",
       "\n",
       "    .dataframe tbody tr th {\n",
       "        vertical-align: top;\n",
       "    }\n",
       "\n",
       "    .dataframe thead th {\n",
       "        text-align: right;\n",
       "    }\n",
       "</style>\n",
       "<table border=\"1\" class=\"dataframe\">\n",
       "  <thead>\n",
       "    <tr style=\"text-align: right;\">\n",
       "      <th></th>\n",
       "      <th>statc</th>\n",
       "      <th>one_day</th>\n",
       "      <th>aone_day</th>\n",
       "      <th>dao</th>\n",
       "      <th>da</th>\n",
       "      <th>dateannorig_days</th>\n",
       "      <th>de</th>\n",
       "      <th>dateeffexp</th>\n",
       "      <th>dw</th>\n",
       "      <th>dr</th>\n",
       "      <th>...</th>\n",
       "      <th>pricebook</th>\n",
       "      <th>eqvalcf</th>\n",
       "      <th>eqvalsales</th>\n",
       "      <th>eqval</th>\n",
       "      <th>tlia</th>\n",
       "      <th>cass</th>\n",
       "      <th>clia</th>\n",
       "      <th>lockup</th>\n",
       "      <th>dae</th>\n",
       "      <th>vest</th>\n",
       "    </tr>\n",
       "    <tr>\n",
       "      <th>master_deal_no</th>\n",
       "      <th></th>\n",
       "      <th></th>\n",
       "      <th></th>\n",
       "      <th></th>\n",
       "      <th></th>\n",
       "      <th></th>\n",
       "      <th></th>\n",
       "      <th></th>\n",
       "      <th></th>\n",
       "      <th></th>\n",
       "      <th></th>\n",
       "      <th></th>\n",
       "      <th></th>\n",
       "      <th></th>\n",
       "      <th></th>\n",
       "      <th></th>\n",
       "      <th></th>\n",
       "      <th></th>\n",
       "      <th></th>\n",
       "      <th></th>\n",
       "      <th></th>\n",
       "    </tr>\n",
       "  </thead>\n",
       "  <tbody>\n",
       "    <tr>\n",
       "      <th>3992461020</th>\n",
       "      <td>P</td>\n",
       "      <td>2022-10-24</td>\n",
       "      <td>2022-12-16</td>\n",
       "      <td>2022-10-25</td>\n",
       "      <td>2022-12-19</td>\n",
       "      <td>54</td>\n",
       "      <td>NaN</td>\n",
       "      <td>2023-12-31</td>\n",
       "      <td>NaN</td>\n",
       "      <td>NaN</td>\n",
       "      <td>...</td>\n",
       "      <td>8.659</td>\n",
       "      <td>16.011</td>\n",
       "      <td>2.087</td>\n",
       "      <td>4547.200</td>\n",
       "      <td>1748.5</td>\n",
       "      <td>1001.7</td>\n",
       "      <td>802.9</td>\n",
       "      <td>No</td>\n",
       "      <td>No</td>\n",
       "      <td>No</td>\n",
       "    </tr>\n",
       "    <tr>\n",
       "      <th>4015877020</th>\n",
       "      <td>P</td>\n",
       "      <td>2022-12-16</td>\n",
       "      <td>2022-12-16</td>\n",
       "      <td>2022-12-19</td>\n",
       "      <td>2022-12-19</td>\n",
       "      <td>0</td>\n",
       "      <td>NaN</td>\n",
       "      <td>2023-02-28</td>\n",
       "      <td>NaN</td>\n",
       "      <td>NaN</td>\n",
       "      <td>...</td>\n",
       "      <td>4.839</td>\n",
       "      <td>NaN</td>\n",
       "      <td>0.752</td>\n",
       "      <td>16.141</td>\n",
       "      <td>18.3</td>\n",
       "      <td>14.2</td>\n",
       "      <td>16.4</td>\n",
       "      <td>No</td>\n",
       "      <td>No</td>\n",
       "      <td>No</td>\n",
       "    </tr>\n",
       "    <tr>\n",
       "      <th>4016515020</th>\n",
       "      <td>P</td>\n",
       "      <td>2022-12-19</td>\n",
       "      <td>2022-12-19</td>\n",
       "      <td>2022-12-20</td>\n",
       "      <td>2022-12-20</td>\n",
       "      <td>0</td>\n",
       "      <td>NaN</td>\n",
       "      <td>2023-06-30</td>\n",
       "      <td>NaN</td>\n",
       "      <td>NaN</td>\n",
       "      <td>...</td>\n",
       "      <td>NaN</td>\n",
       "      <td>NaN</td>\n",
       "      <td>NaN</td>\n",
       "      <td>52.581</td>\n",
       "      <td>NaN</td>\n",
       "      <td>NaN</td>\n",
       "      <td>NaN</td>\n",
       "      <td>No</td>\n",
       "      <td>No</td>\n",
       "      <td>No</td>\n",
       "    </tr>\n",
       "    <tr>\n",
       "      <th>4017224020</th>\n",
       "      <td>P</td>\n",
       "      <td>2022-12-20</td>\n",
       "      <td>2022-12-20</td>\n",
       "      <td>2022-12-21</td>\n",
       "      <td>2022-12-21</td>\n",
       "      <td>0</td>\n",
       "      <td>NaN</td>\n",
       "      <td>2023-03-31</td>\n",
       "      <td>NaN</td>\n",
       "      <td>NaN</td>\n",
       "      <td>...</td>\n",
       "      <td>0.750</td>\n",
       "      <td>NaN</td>\n",
       "      <td>2.912</td>\n",
       "      <td>55.152</td>\n",
       "      <td>61.3</td>\n",
       "      <td>97.6</td>\n",
       "      <td>11.2</td>\n",
       "      <td>No</td>\n",
       "      <td>No</td>\n",
       "      <td>No</td>\n",
       "    </tr>\n",
       "    <tr>\n",
       "      <th>4019588020</th>\n",
       "      <td>P</td>\n",
       "      <td>2022-12-23</td>\n",
       "      <td>2022-12-23</td>\n",
       "      <td>2022-12-27</td>\n",
       "      <td>2022-12-27</td>\n",
       "      <td>0</td>\n",
       "      <td>NaN</td>\n",
       "      <td>NaT</td>\n",
       "      <td>NaN</td>\n",
       "      <td>NaN</td>\n",
       "      <td>...</td>\n",
       "      <td>NaN</td>\n",
       "      <td>NaN</td>\n",
       "      <td>0.895</td>\n",
       "      <td>25.412</td>\n",
       "      <td>52.4</td>\n",
       "      <td>34.1</td>\n",
       "      <td>36.4</td>\n",
       "      <td>No</td>\n",
       "      <td>No</td>\n",
       "      <td>No</td>\n",
       "    </tr>\n",
       "  </tbody>\n",
       "</table>\n",
       "<p>5 rows × 95 columns</p>\n",
       "</div>"
      ],
      "text/plain": [
       "               statc     one_day    aone_day         dao          da  \\\n",
       "master_deal_no                                                         \n",
       "3992461020         P  2022-10-24  2022-12-16  2022-10-25  2022-12-19   \n",
       "4015877020         P  2022-12-16  2022-12-16  2022-12-19  2022-12-19   \n",
       "4016515020         P  2022-12-19  2022-12-19  2022-12-20  2022-12-20   \n",
       "4017224020         P  2022-12-20  2022-12-20  2022-12-21  2022-12-21   \n",
       "4019588020         P  2022-12-23  2022-12-23  2022-12-27  2022-12-27   \n",
       "\n",
       "                dateannorig_days   de  dateeffexp   dw   dr  ... pricebook  \\\n",
       "master_deal_no                                               ...             \n",
       "3992461020                    54  NaN  2023-12-31  NaN  NaN  ...     8.659   \n",
       "4015877020                     0  NaN  2023-02-28  NaN  NaN  ...     4.839   \n",
       "4016515020                     0  NaN  2023-06-30  NaN  NaN  ...       NaN   \n",
       "4017224020                     0  NaN  2023-03-31  NaN  NaN  ...     0.750   \n",
       "4019588020                     0  NaN         NaT  NaN  NaN  ...       NaN   \n",
       "\n",
       "               eqvalcf eqvalsales     eqval    tlia    cass   clia lockup dae  \\\n",
       "master_deal_no                                                                  \n",
       "3992461020      16.011      2.087  4547.200  1748.5  1001.7  802.9     No  No   \n",
       "4015877020         NaN      0.752    16.141    18.3    14.2   16.4     No  No   \n",
       "4016515020         NaN        NaN    52.581     NaN     NaN    NaN     No  No   \n",
       "4017224020         NaN      2.912    55.152    61.3    97.6   11.2     No  No   \n",
       "4019588020         NaN      0.895    25.412    52.4    34.1   36.4     No  No   \n",
       "\n",
       "               vest  \n",
       "master_deal_no       \n",
       "3992461020       No  \n",
       "4015877020       No  \n",
       "4016515020       No  \n",
       "4017224020       No  \n",
       "4019588020       No  \n",
       "\n",
       "[5 rows x 95 columns]"
      ]
     },
     "execution_count": 4,
     "metadata": {},
     "output_type": "execute_result"
    }
   ],
   "source": [
    "# read hdf file\n",
    "filepath = f\"{path}/data/intermediate/df_basic_cleaning.h5\"\n",
    "df = pd.read_hdf(filepath)\n",
    "\n",
    "print_shape(df)\n",
    "df.tail()"
   ]
  },
  {
   "cell_type": "markdown",
   "id": "5ed10742",
   "metadata": {},
   "source": [
    "# Get target & acquiror permno\n",
    "`permno` is the unique identifier for each security in CRSP database. We need to match each target and (public) acquiror with CRSP, by its ticker or cusip at the announcement day, to facilitate later use of CRSP."
   ]
  },
  {
   "cell_type": "code",
   "execution_count": 5,
   "id": "5d0013be",
   "metadata": {},
   "outputs": [],
   "source": [
    "# clean ticker and cusip\n",
    "df.ttic = df.ttic.str.replace(\"'\", \"\")\n",
    "df.atic = df.atic.str.replace(\"'\", \"\")\n",
    "df.tcu = df.tcu.str.upper()\n",
    "df.acu = df.acu.str.upper()"
   ]
  },
  {
   "cell_type": "code",
   "execution_count": 6,
   "id": "cde05596",
   "metadata": {},
   "outputs": [],
   "source": [
    "def get_stock_permno_from_ser(ser, db=None):\n",
    "    \"\"\"\n",
    "    get the permno and stock information, by a series of (ticker, cusip, date)\n",
    "    \"\"\"\n",
    "    return get_stock_permno_by_ticker_and_cusip_CRSP(ser.iloc[0], ser.iloc[1], date=ser.iloc[2], return_names=True, db=db)"
   ]
  },
  {
   "cell_type": "code",
   "execution_count": 7,
   "id": "73155926",
   "metadata": {
    "scrolled": true
   },
   "outputs": [
    {
     "name": "stderr",
     "output_type": "stream",
     "text": [
      "100%|█████████████████████████████████████| 12079/12079 [05:45<00:00, 34.92it/s]\n"
     ]
    },
    {
     "name": "stdout",
     "output_type": "stream",
     "text": [
      "893 targets out of 12079 cannot find a permno.\n"
     ]
    }
   ],
   "source": [
    "# get target permno, by its ticker, cusip and the announcement date\n",
    "tpermno_match = apply_func_to_ser_df(df[['ttic', 'tcu', 'da']], get_stock_permno_from_ser, return_as_df=True, db=db)\n",
    "tpermno_match.columns = ['tpermno', 'ttic_CRSP', 'tcu_CRSP', 'tn_CRSP']\n",
    "print(f\"{tpermno_match.tpermno.isnull().sum()} targets out of {len(df)} cannot find a permno.\")"
   ]
  },
  {
   "cell_type": "code",
   "execution_count": 8,
   "id": "4f11d794",
   "metadata": {
    "scrolled": true
   },
   "outputs": [
    {
     "name": "stderr",
     "output_type": "stream",
     "text": [
      "100%|█████████████████████████████████████| 12079/12079 [06:14<00:00, 32.25it/s]\n"
     ]
    },
    {
     "name": "stdout",
     "output_type": "stream",
     "text": [
      "5068 acquirors out of 12079 cannot find a permno.\n"
     ]
    }
   ],
   "source": [
    "# get acquiror permno, by its ticker, cusip and the announcement date\n",
    "apermno_match = apply_func_to_ser_df(df[['atic', 'acu', 'da']], get_stock_permno_from_ser, return_as_df=True, db=db)\n",
    "apermno_match.columns = ['apermno', 'atic_CRSP', 'acu_CRSP', 'an_CRSP']\n",
    "print(f\"{apermno_match.apermno.isnull().sum()} acquirors out of {len(df)} cannot find a permno.\")"
   ]
  },
  {
   "cell_type": "markdown",
   "id": "3049527c-6e32-43c7-81ee-44e5210b9fa1",
   "metadata": {
    "tags": []
   },
   "source": [
    "## Save intermediate results"
   ]
  },
  {
   "cell_type": "markdown",
   "id": "726cc503-bcb8-47ee-b999-f12d503c4c09",
   "metadata": {
    "tags": []
   },
   "source": [
    "We combine the permno search results and save it as a file."
   ]
  },
  {
   "cell_type": "code",
   "execution_count": 9,
   "id": "58f09478-c4e8-4f25-b3b9-165f33f01fa8",
   "metadata": {},
   "outputs": [],
   "source": [
    "# concat permno search results, and save it\n",
    "permno_CRSP = pd.concat([tpermno_match, apermno_match], axis=1)\n",
    "# save\n",
    "pathfile = f\"{path}/data/intermediate/permno_CRSP.h5\"\n",
    "permno_CRSP.to_hdf(pathfile, key = 'permno_CRSP', mode='w')\n",
    "\n",
    "# concat into the dataset\n",
    "loc_names = ['ttic', 'ttic', 'tcu', 'tn'] + ['atic', 'atic', 'acu', 'an']\n",
    "insert_cols(df, loc_names, None, permno_CRSP)"
   ]
  },
  {
   "cell_type": "markdown",
   "id": "d9097170",
   "metadata": {
    "tags": []
   },
   "source": [
    "# Get target delisting information"
   ]
  },
  {
   "cell_type": "code",
   "execution_count": 10,
   "id": "9d28baa8",
   "metadata": {},
   "outputs": [
    {
     "name": "stderr",
     "output_type": "stream",
     "text": [
      "100%|█████████████████████████████████████| 11186/11186 [02:40<00:00, 69.90it/s]\n"
     ]
    },
    {
     "name": "stdout",
     "output_type": "stream",
     "text": [
      "865 out of 8967 completed deals cannot find delisting returns.\n"
     ]
    }
   ],
   "source": [
    "# columns = ['delist_code', 'last_trade_date', 'delist_date', 'delist_amount', 'delist_return']\n",
    "delist_CRSP = apply_func_to_ser_df(df.tpermno, get_delisting_information, return_as_df=True, db=db)\n",
    "complete = df.statc.eq('C')\n",
    "print(f\"{(complete & delist_CRSP.delist_return.isnull()).sum()} out of {complete.sum()} completed deals cannot find delisting returns.\")"
   ]
  },
  {
   "cell_type": "code",
   "execution_count": 11,
   "id": "d60a7931-e8c8-45d5-962f-10dd448f0465",
   "metadata": {},
   "outputs": [],
   "source": [
    "## Save intermediate results\n",
    "pathfile = f\"{path}/data/intermediate/delist_CRSP.h5\"\n",
    "delist_CRSP.to_hdf(pathfile, key = 'delist_CRSP', mode='w')\n",
    "# concat into the dataset\n",
    "loc_names = ['att'] * 5\n",
    "insert_cols(df, loc_names, None, delist_CRSP)"
   ]
  },
  {
   "cell_type": "code",
   "execution_count": 12,
   "id": "de7136f5-e101-4e79-ae0d-0bfcecee00cd",
   "metadata": {},
   "outputs": [],
   "source": [
    "# save\n",
    "filepath = f\"{path}/data/intermediate/df_permno_delist_CRSP.h5\"\n",
    "df.to_hdf(filepath, key = 'df', mode='w')"
   ]
  },
  {
   "cell_type": "markdown",
   "id": "74baedf3-7e5f-40ec-85d5-e4a586e02b2c",
   "metadata": {
    "tags": []
   },
   "source": [
    "# pull raw market data"
   ]
  },
  {
   "cell_type": "code",
   "execution_count": 13,
   "id": "3659e55f-c342-4cc9-bd4f-d31960bdf53b",
   "metadata": {},
   "outputs": [],
   "source": [
    "df['dao_40days_prior'] = get_trading_day_offset(df.dao, -40)\n",
    "last_date = max(df.da.max(), df.dr.dropna().max())\n",
    "df['dr_40days_after'] = get_trading_day_offset(df.dr.fillna(last_date), 40)"
   ]
  },
  {
   "cell_type": "code",
   "execution_count": 14,
   "id": "fa2ae6e1-a21a-401c-b6b2-5f1c90841714",
   "metadata": {},
   "outputs": [],
   "source": [
    "def get_stock_market_data_daily_from_ser_CRSP(ser, db=db):\n",
    "    \"\"\"\n",
    "    get daily market data from a series of (permno, start_date, end_date)\n",
    "    \"\"\"\n",
    "    return get_stock_market_data_daily_CRSP(ser.iloc[0], start_date=ser.iloc[1], end_date=ser.iloc[2], db=db)"
   ]
  },
  {
   "cell_type": "code",
   "execution_count": 15,
   "id": "aaad370b-a7bc-4ae6-ac0c-ad69b060f3f5",
   "metadata": {},
   "outputs": [
    {
     "name": "stderr",
     "output_type": "stream",
     "text": [
      "100%|█████████████████████████████████████| 12079/12079 [03:56<00:00, 51.13it/s]\n"
     ]
    },
    {
     "name": "stdout",
     "output_type": "stream",
     "text": [
      "893 out of 12079 deals cannot find target market data.\n"
     ]
    }
   ],
   "source": [
    "mkt_data_tgt = apply_func_to_ser_df(df[['tpermno', 'dao_40days_prior', 'dr_40days_after']], \n",
    "                                    get_stock_market_data_daily_from_ser_CRSP, \n",
    "                                    return_as_df=False, \n",
    "                                    db=db)\n",
    "print(f\"{mkt_data_tgt.isna().sum()} out of {len(df)} deals cannot find target market data.\")"
   ]
  },
  {
   "cell_type": "code",
   "execution_count": 16,
   "id": "1104b827-ddf4-480c-8263-6d19e2d2113a",
   "metadata": {},
   "outputs": [
    {
     "name": "stderr",
     "output_type": "stream",
     "text": [
      "100%|█████████████████████████████████████| 12079/12079 [02:07<00:00, 94.88it/s]\n"
     ]
    },
    {
     "name": "stdout",
     "output_type": "stream",
     "text": [
      "5068 out of 12079 deals cannot find acquiror market data.\n"
     ]
    }
   ],
   "source": [
    "mkt_data_acq = apply_func_to_ser_df(df[['apermno', 'dao_40days_prior', 'dr_40days_after']],\n",
    "                                       get_stock_market_data_daily_from_ser_CRSP,\n",
    "                                       return_as_df=False,\n",
    "                                       db=db)\n",
    "print(f\"{mkt_data_acq.isna().sum()} out of {len(df)} deals cannot find acquiror market data.\")"
   ]
  },
  {
   "cell_type": "markdown",
   "id": "18be57e7-84ec-4432-a034-7f5dc83524ad",
   "metadata": {},
   "source": [
    "## save raw market data"
   ]
  },
  {
   "cell_type": "code",
   "execution_count": 17,
   "id": "c5033346-da23-4ef6-a16c-f13ae8fc5b69",
   "metadata": {},
   "outputs": [],
   "source": [
    "import pickle\n",
    "\n",
    "filepath_tgt = f\"{path}/data/raw/mkt_data_tgt_raw.pickle\"\n",
    "with open(filepath_tgt, 'wb') as handle:\n",
    "    pickle.dump(mkt_data_tgt, handle, protocol=pickle.HIGHEST_PROTOCOL)\n",
    "    \n",
    "    \n",
    "filepath_acq = f\"{path}/data/raw/mkt_data_acq_raw.pickle\"\n",
    "with open(filepath_acq, 'wb') as handle:\n",
    "    pickle.dump(mkt_data_acq, handle, protocol=pickle.HIGHEST_PROTOCOL)"
   ]
  }
 ],
 "metadata": {
  "kernelspec": {
   "display_name": "Python 3 (ipykernel)",
   "language": "python",
   "name": "python3"
  },
  "language_info": {
   "codemirror_mode": {
    "name": "ipython",
    "version": 3
   },
   "file_extension": ".py",
   "mimetype": "text/x-python",
   "name": "python",
   "nbconvert_exporter": "python",
   "pygments_lexer": "ipython3",
   "version": "3.11.0"
  },
  "toc": {
   "base_numbering": 1,
   "nav_menu": {},
   "number_sections": true,
   "sideBar": true,
   "skip_h1_title": false,
   "title_cell": "Table of Contents",
   "title_sidebar": "Contents",
   "toc_cell": false,
   "toc_position": {},
   "toc_section_display": true,
   "toc_window_display": false
  }
 },
 "nbformat": 4,
 "nbformat_minor": 5
}
